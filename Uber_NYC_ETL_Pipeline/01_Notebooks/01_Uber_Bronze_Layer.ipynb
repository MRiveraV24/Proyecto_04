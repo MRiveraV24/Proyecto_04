{
 "cells": [
  {
   "cell_type": "code",
   "execution_count": 0,
   "metadata": {
    "application/vnd.databricks.v1+cell": {
     "cellMetadata": {
      "byteLimit": 2048000,
      "rowLimit": 10000
     },
     "inputWidgets": {},
     "nuid": "b6d836f1-e86c-42d9-ab0b-cf5d0b92b7f9",
     "showTitle": false,
     "tableResultSettingsMap": {},
     "title": ""
    }
   },
   "outputs": [],
   "source": [
    "# Databricks notebook source\n",
    "# MAGIC %md\n",
    "# MAGIC # Capa Bronce - Uber NYC Data Pipeline\n",
    "# MAGIC \n",
    "# MAGIC ## Objetivo\n",
    "# MAGIC Ingesta de datos crudos desde archivos CSV y almacenamiento en formato Delta Lake con metadatos de auditoría.\n",
    "# MAGIC \n",
    "# MAGIC ## Responsabilidades\n",
    "# MAGIC - Leer todos los archivos CSV de Uber NYC (abril-septiembre 2014)\n",
    "# MAGIC - Preservar los datos en su formato original\n",
    "# MAGIC - Añadir metadatos de auditoría (timestamp, archivo fuente)\n",
    "# MAGIC - Guardar en formato Delta Lake\n",
    "# MAGIC \n",
    "# MAGIC ## Entrada\n",
    "# MAGIC - Archivos CSV en: `/Volumes/workspace/default/uber_etl_azure/`\n",
    "# MAGIC \n",
    "# MAGIC ## Salida\n",
    "# MAGIC - Tabla Delta: `uber_bronze` en `/Volumes/workspace/default/uber_etl_azure/bronze/`\n",
    "\n"
   ]
  },
  {
   "cell_type": "code",
   "execution_count": 0,
   "metadata": {
    "application/vnd.databricks.v1+cell": {
     "cellMetadata": {
      "byteLimit": 2048000,
      "rowLimit": 10000
     },
     "inputWidgets": {},
     "nuid": "7f1223d4-5a66-4527-ba71-36db2856c8b6",
     "showTitle": false,
     "tableResultSettingsMap": {},
     "title": ""
    }
   },
   "outputs": [],
   "source": [
    "# COMMAND ----------\n",
    "\n",
    "# MAGIC %md\n",
    "# MAGIC ## 1. Configuración e Imports\n",
    "\n",
    "# COMMAND ----------"
   ]
  },
  {
   "cell_type": "code",
   "execution_count": 0,
   "metadata": {
    "application/vnd.databricks.v1+cell": {
     "cellMetadata": {
      "byteLimit": 2048000,
      "rowLimit": 10000
     },
     "inputWidgets": {},
     "nuid": "7d14e3c9-4517-4c6c-ad3c-e5f25b54ed19",
     "showTitle": false,
     "tableResultSettingsMap": {},
     "title": ""
    }
   },
   "outputs": [],
   "source": [
    "# Importar librerías necesarias\n",
    "from pyspark.sql import SparkSession\n",
    "from pyspark.sql.functions import *\n",
    "from pyspark.sql.types import *\n",
    "import os"
   ]
  },
  {
   "cell_type": "code",
   "execution_count": 0,
   "metadata": {
    "application/vnd.databricks.v1+cell": {
     "cellMetadata": {
      "byteLimit": 2048000,
      "rowLimit": 10000
     },
     "inputWidgets": {},
     "nuid": "f91572e8-aab2-4988-bf66-0eecb5bfa2ff",
     "showTitle": false,
     "tableResultSettingsMap": {},
     "title": ""
    }
   },
   "outputs": [],
   "source": [
    "# Configurar rutas\n",
    "source_path = \"/Volumes/workspace/default/uber_etl_azure/\"\n",
    "bronze_path = \"/Volumes/workspace/default/uber_etl_azure/bronze/\""
   ]
  },
  {
   "cell_type": "code",
   "execution_count": 0,
   "metadata": {
    "application/vnd.databricks.v1+cell": {
     "cellMetadata": {
      "byteLimit": 2048000,
      "rowLimit": 10000
     },
     "inputWidgets": {},
     "nuid": "4b7125b5-2f37-4c6e-9852-9b570e734bfa",
     "showTitle": false,
     "tableResultSettingsMap": {},
     "title": ""
    }
   },
   "outputs": [
    {
     "output_type": "execute_result",
     "data": {
      "text/plain": [
       "True"
      ]
     },
     "execution_count": 6,
     "metadata": {},
     "output_type": "execute_result"
    }
   ],
   "source": [
    "# Crear directorio si no existe\n",
    "dbutils.fs.mkdirs(bronze_path)"
   ]
  },
  {
   "cell_type": "code",
   "execution_count": 0,
   "metadata": {
    "application/vnd.databricks.v1+cell": {
     "cellMetadata": {
      "byteLimit": 2048000,
      "rowLimit": 10000
     },
     "inputWidgets": {},
     "nuid": "8a246d08-d12f-41d5-9b2f-88ee0d9cf255",
     "showTitle": false,
     "tableResultSettingsMap": {},
     "title": ""
    }
   },
   "outputs": [
    {
     "output_type": "stream",
     "name": "stdout",
     "output_type": "stream",
     "text": [
      "✅ Configuración de Capa Bronce inicializada\n\uD83D\uDCC1 Datos fuente: /Volumes/workspace/default/uber_etl_azure/\n\uD83E\uDD49 Destino Bronce: /Volumes/workspace/default/uber_etl_azure/bronze/\n"
     ]
    }
   ],
   "source": [
    "print(\"✅ Configuración de Capa Bronce inicializada\")\n",
    "print(f\"\uD83D\uDCC1 Datos fuente: {source_path}\")\n",
    "print(f\"\uD83E\uDD49 Destino Bronce: {bronze_path}\")"
   ]
  },
  {
   "cell_type": "code",
   "execution_count": 0,
   "metadata": {
    "application/vnd.databricks.v1+cell": {
     "cellMetadata": {
      "byteLimit": 2048000,
      "rowLimit": 10000
     },
     "inputWidgets": {},
     "nuid": "c83c648c-958f-4afc-be84-aba7ac90912c",
     "showTitle": false,
     "tableResultSettingsMap": {},
     "title": ""
    }
   },
   "outputs": [],
   "source": [
    "# COMMAND ----------\n",
    "\n",
    "# MAGIC %md\n",
    "# MAGIC ## 2. Validación de Archivos Fuente\n",
    "\n",
    "# COMMAND ----------"
   ]
  },
  {
   "cell_type": "code",
   "execution_count": 0,
   "metadata": {
    "application/vnd.databricks.v1+cell": {
     "cellMetadata": {
      "byteLimit": 2048000,
      "rowLimit": 10000
     },
     "inputWidgets": {},
     "nuid": "48219cae-e742-4300-93ad-3b146cfa31f3",
     "showTitle": false,
     "tableResultSettingsMap": {},
     "title": ""
    }
   },
   "outputs": [
    {
     "output_type": "stream",
     "name": "stdout",
     "output_type": "stream",
     "text": [
      "\uD83D\uDCCB Archivos CSV encontrados:\n   \uD83D\uDCC4 uber-raw-data-apr14.csv - 26110064 bytes\n   \uD83D\uDCC4 uber-raw-data-aug14.csv - 38324585 bytes\n   \uD83D\uDCC4 uber-raw-data-jul14.csv - 36870544 bytes\n   \uD83D\uDCC4 uber-raw-data-jun14.csv - 30695600 bytes\n   \uD83D\uDCC4 uber-raw-data-may14.csv - 30174084 bytes\n   \uD83D\uDCC4 uber-raw-data-sep14.csv - 47540750 bytes\n\n\uD83D\uDCCA Total archivos CSV: 6\n"
     ]
    }
   ],
   "source": [
    "# Listar archivos en el directorio fuente\n",
    "try:\n",
    "    files = dbutils.fs.ls(source_path)\n",
    "    csv_files = [f for f in files if f.name.endswith('.csv')]\n",
    "    \n",
    "    print(\"\uD83D\uDCCB Archivos CSV encontrados:\")\n",
    "    for file in csv_files:\n",
    "        print(f\"   \uD83D\uDCC4 {file.name} - {file.size} bytes\")\n",
    "    \n",
    "    print(f\"\\n\uD83D\uDCCA Total archivos CSV: {len(csv_files)}\")\n",
    "    \n",
    "    if len(csv_files) == 0:\n",
    "        raise Exception(\"❌ No se encontraron archivos CSV en el directorio fuente\")\n",
    "        \n",
    "except Exception as e:\n",
    "    print(f\"❌ Error al acceder al directorio fuente: {str(e)}\")\n",
    "    raise"
   ]
  },
  {
   "cell_type": "code",
   "execution_count": 0,
   "metadata": {
    "application/vnd.databricks.v1+cell": {
     "cellMetadata": {
      "byteLimit": 2048000,
      "rowLimit": 10000
     },
     "inputWidgets": {},
     "nuid": "834d2d5e-b6e2-403f-a4ab-390c4221b17c",
     "showTitle": false,
     "tableResultSettingsMap": {},
     "title": ""
    }
   },
   "outputs": [],
   "source": [
    "# COMMAND ----------\n",
    "\n",
    "# MAGIC %md\n",
    "# MAGIC ## 3. Definición de Esquema\n",
    "\n",
    "# COMMAND ----------"
   ]
  },
  {
   "cell_type": "code",
   "execution_count": 0,
   "metadata": {
    "application/vnd.databricks.v1+cell": {
     "cellMetadata": {
      "byteLimit": 2048000,
      "rowLimit": 10000
     },
     "inputWidgets": {},
     "nuid": "b67152f9-e22b-40bd-b0fd-aff6a5f2fe4f",
     "showTitle": false,
     "tableResultSettingsMap": {},
     "title": ""
    }
   },
   "outputs": [
    {
     "output_type": "stream",
     "name": "stdout",
     "output_type": "stream",
     "text": [
      "\uD83D\uDCCB Esquema esperado definido:\nStructType([StructField('Date/Time', StringType(), True), StructField('Lat', DoubleType(), True), StructField('Lon', DoubleType(), True), StructField('Base', StringType(), True)])\n"
     ]
    }
   ],
   "source": [
    "from pyspark.sql.types import StructType, StructField, StringType, DoubleType\n",
    "\n",
    "# Definir esquema esperado para los archivos CSV\n",
    "expected_schema = StructType([\n",
    "    StructField(\"Date/Time\", StringType(), True),\n",
    "    StructField(\"Lat\", DoubleType(), True),\n",
    "    StructField(\"Lon\", DoubleType(), True),\n",
    "    StructField(\"Base\", StringType(), True)\n",
    "])\n",
    "\n",
    "print(\"\uD83D\uDCCB Esquema esperado definido:\")\n",
    "print(expected_schema)"
   ]
  },
  {
   "cell_type": "code",
   "execution_count": 0,
   "metadata": {
    "application/vnd.databricks.v1+cell": {
     "cellMetadata": {
      "byteLimit": 2048000,
      "rowLimit": 10000
     },
     "inputWidgets": {},
     "nuid": "9f59d1a4-db4f-4169-a587-46c96dbee628",
     "showTitle": false,
     "tableResultSettingsMap": {},
     "title": ""
    }
   },
   "outputs": [],
   "source": [
    "# COMMAND ----------\n",
    "\n",
    "# MAGIC %md\n",
    "# MAGIC ## 4. Ingesta de Datos\n",
    "\n",
    "# COMMAND ----------"
   ]
  },
  {
   "cell_type": "code",
   "execution_count": 0,
   "metadata": {
    "application/vnd.databricks.v1+cell": {
     "cellMetadata": {
      "byteLimit": 2048000,
      "rowLimit": 10000
     },
     "inputWidgets": {},
     "nuid": "249ca5f5-a4e9-4921-8959-66b16a5faa2d",
     "showTitle": false,
     "tableResultSettingsMap": {},
     "title": ""
    }
   },
   "outputs": [
    {
     "output_type": "stream",
     "name": "stdout",
     "output_type": "stream",
     "text": [
      "\uD83D\uDCE5 Iniciando ingesta de datos crudos...\n✅ Archivos CSV leídos exitosamente\n"
     ]
    }
   ],
   "source": [
    "# Leer todos los archivos CSV del directorio fuente\n",
    "print(\"\uD83D\uDCE5 Iniciando ingesta de datos crudos...\")\n",
    "\n",
    "try:\n",
    "    # Leer archivos CSV con metadatos\n",
    "    df_bronze = spark.read \\\n",
    "        .format(\"csv\") \\\n",
    "        .option(\"header\", \"true\") \\\n",
    "        .option(\"inferSchema\", \"true\") \\\n",
    "        .option(\"pathGlobFilter\", \"*.csv\") \\\n",
    "        .load(source_path)\n",
    "    \n",
    "    # Verificar que se leyeron datos\n",
    "    if df_bronze.count() == 0:\n",
    "        raise Exception(\"❌ No se encontraron datos en los archivos CSV\")\n",
    "    \n",
    "    print(\"✅ Archivos CSV leídos exitosamente\")\n",
    "    \n",
    "except Exception as e:\n",
    "    print(f\"❌ Error durante la lectura de archivos: {str(e)}\")\n",
    "    raise"
   ]
  },
  {
   "cell_type": "code",
   "execution_count": 0,
   "metadata": {
    "application/vnd.databricks.v1+cell": {
     "cellMetadata": {
      "byteLimit": 2048000,
      "rowLimit": 10000
     },
     "inputWidgets": {},
     "nuid": "2e351a66-0fe8-43f5-b487-8f3d66f9b8d9",
     "showTitle": false,
     "tableResultSettingsMap": {},
     "title": ""
    }
   },
   "outputs": [],
   "source": [
    "# COMMAND ----------\n",
    "\n",
    "# MAGIC %md\n",
    "# MAGIC ## 5. Añadir Metadatos de Auditoría\n",
    "\n",
    "# COMMAND ----------"
   ]
  },
  {
   "cell_type": "code",
   "execution_count": 0,
   "metadata": {
    "application/vnd.databricks.v1+cell": {
     "cellMetadata": {
      "byteLimit": 2048000,
      "rowLimit": 10000
     },
     "inputWidgets": {},
     "nuid": "70a69407-206f-4673-b742-4a788c57e95b",
     "showTitle": false,
     "tableResultSettingsMap": {},
     "title": ""
    }
   },
   "outputs": [
    {
     "output_type": "stream",
     "name": "stdout",
     "output_type": "stream",
     "text": [
      "\uD83C\uDFF7️ Añadiendo metadatos de auditoría...\n✅ Metadatos de auditoría añadidos\n"
     ]
    }
   ],
   "source": [
    "# Añadir metadatos de auditoría\n",
    "print(\"\uD83C\uDFF7️ Añadiendo metadatos de auditoría...\")\n",
    "\n",
    "df_bronze = df_bronze \\\n",
    "    .withColumn(\"ingestion_timestamp\", current_timestamp()) \\\n",
    "    .withColumn(\"source_file\", regexp_extract(col(\"_metadata.file_path\"), \"([^/]+\\\\.csv)$\", 1)) \\\n",
    "    .withColumn(\"bronze_layer_version\", lit(\"1.0\"))\n",
    "\n",
    "print(\"✅ Metadatos de auditoría añadidos\")"
   ]
  },
  {
   "cell_type": "code",
   "execution_count": 0,
   "metadata": {
    "application/vnd.databricks.v1+cell": {
     "cellMetadata": {
      "byteLimit": 2048000,
      "rowLimit": 10000
     },
     "inputWidgets": {},
     "nuid": "4e593691-ad05-4b33-af72-f44efe0b6a7f",
     "showTitle": false,
     "tableResultSettingsMap": {},
     "title": ""
    }
   },
   "outputs": [],
   "source": [
    "# COMMAND ----------\n",
    "\n",
    "# MAGIC %md\n",
    "# MAGIC ## 6. Validación de Datos\n",
    "\n",
    "# COMMAND ----------"
   ]
  },
  {
   "cell_type": "code",
   "execution_count": 0,
   "metadata": {
    "application/vnd.databricks.v1+cell": {
     "cellMetadata": {
      "byteLimit": 2048000,
      "rowLimit": 10000
     },
     "inputWidgets": {},
     "nuid": "0eaebb03-1683-4f55-8717-c1bb2fbe6bb7",
     "showTitle": false,
     "tableResultSettingsMap": {},
     "title": ""
    }
   },
   "outputs": [
    {
     "output_type": "stream",
     "name": "stdout",
     "output_type": "stream",
     "text": [
      "\uD83D\uDCCA ESTADÍSTICAS DE INGESTA:\n========================================\n\uD83D\uDCCA Total de registros ingestados: 4,534,327\n\n\uD83D\uDCCB Esquema de datos:\nroot\n |-- Date/Time: string (nullable = true)\n |-- Lat: double (nullable = true)\n |-- Lon: double (nullable = true)\n |-- Base: string (nullable = true)\n |-- ingestion_timestamp: timestamp (nullable = false)\n |-- source_file: string (nullable = false)\n |-- bronze_layer_version: string (nullable = false)\n\n\n\uD83D\uDCCB Muestra de datos (primeras 5 filas):\n+----------------+-------+--------+------+-----------------------+-------------------------+\n|Date/Time       |Lat    |Lon     |Base  |source_file            |ingestion_timestamp      |\n+----------------+-------+--------+------+-----------------------+-------------------------+\n|8/1/2014 0:03:00|40.7366|-73.9906|B02512|uber-raw-data-aug14.csv|2025-07-28 17:06:20.63562|\n|8/1/2014 0:09:00|40.726 |-73.9918|B02512|uber-raw-data-aug14.csv|2025-07-28 17:06:20.63562|\n|8/1/2014 0:12:00|40.7209|-74.0507|B02512|uber-raw-data-aug14.csv|2025-07-28 17:06:20.63562|\n|8/1/2014 0:12:00|40.7387|-73.9856|B02512|uber-raw-data-aug14.csv|2025-07-28 17:06:20.63562|\n|8/1/2014 0:12:00|40.7323|-74.0077|B02512|uber-raw-data-aug14.csv|2025-07-28 17:06:20.63562|\n+----------------+-------+--------+------+-----------------------+-------------------------+\nonly showing top 5 rows\n"
     ]
    }
   ],
   "source": [
    "# Mostrar información sobre los datos ingestados\n",
    "print(\"\uD83D\uDCCA ESTADÍSTICAS DE INGESTA:\")\n",
    "print(\"=\" * 40)\n",
    "\n",
    "record_count = df_bronze.count()\n",
    "print(f\"\uD83D\uDCCA Total de registros ingestados: {record_count:,}\")\n",
    "\n",
    "print(f\"\\n\uD83D\uDCCB Esquema de datos:\")\n",
    "df_bronze.printSchema()\n",
    "\n",
    "print(f\"\\n\uD83D\uDCCB Muestra de datos (primeras 5 filas):\")\n",
    "df_bronze.select(\"Date/Time\", \"Lat\", \"Lon\", \"Base\", \"source_file\", \"ingestion_timestamp\").show(5, truncate=False)"
   ]
  },
  {
   "cell_type": "code",
   "execution_count": 0,
   "metadata": {
    "application/vnd.databricks.v1+cell": {
     "cellMetadata": {
      "byteLimit": 2048000,
      "rowLimit": 10000
     },
     "inputWidgets": {},
     "nuid": "f96c4826-62d1-475c-acd4-8c0f0b2eb23e",
     "showTitle": false,
     "tableResultSettingsMap": {},
     "title": ""
    }
   },
   "outputs": [
    {
     "output_type": "stream",
     "name": "stdout",
     "output_type": "stream",
     "text": [
      "\n\uD83D\uDCCA Distribución de registros por archivo:\n+-----------------------+-------+\n|source_file            |count  |\n+-----------------------+-------+\n|uber-raw-data-apr14.csv|564516 |\n|uber-raw-data-aug14.csv|829275 |\n|uber-raw-data-jul14.csv|796121 |\n|uber-raw-data-jun14.csv|663844 |\n|uber-raw-data-may14.csv|652435 |\n|uber-raw-data-sep14.csv|1028136|\n+-----------------------+-------+\n\n"
     ]
    }
   ],
   "source": [
    "# Validar distribución por archivo fuente\n",
    "print(f\"\\n\uD83D\uDCCA Distribución de registros por archivo:\")\n",
    "df_bronze.groupBy(\"source_file\").count().orderBy(\"source_file\").show(10, truncate=False)"
   ]
  },
  {
   "cell_type": "code",
   "execution_count": 0,
   "metadata": {
    "application/vnd.databricks.v1+cell": {
     "cellMetadata": {
      "byteLimit": 2048000,
      "rowLimit": 10000
     },
     "inputWidgets": {},
     "nuid": "3f46ec53-2862-4b55-905d-60fda4674290",
     "showTitle": false,
     "tableResultSettingsMap": {},
     "title": ""
    }
   },
   "outputs": [
    {
     "output_type": "stream",
     "name": "stdout",
     "output_type": "stream",
     "text": [
      "\n\uD83D\uDD0D Análisis de valores nulos:\n   Date/Time: 0 nulos\n   Lat: 0 nulos\n   Lon: 0 nulos\n   Base: 0 nulos\n✅ Validación de datos completada\n"
     ]
    }
   ],
   "source": [
    "# Detectar valores nulos\n",
    "print(f\"\\n\uD83D\uDD0D Análisis de valores nulos:\")\n",
    "null_counts = []\n",
    "for col_name in [\"Date/Time\", \"Lat\", \"Lon\", \"Base\"]:\n",
    "    null_count = df_bronze.filter(col(col_name).isNull()).count()\n",
    "    null_counts.append((col_name, null_count))\n",
    "    print(f\"   {col_name}: {null_count:,} nulos\")\n",
    "\n",
    "print(\"✅ Validación de datos completada\")"
   ]
  },
  {
   "cell_type": "code",
   "execution_count": 0,
   "metadata": {
    "application/vnd.databricks.v1+cell": {
     "cellMetadata": {
      "byteLimit": 2048000,
      "rowLimit": 10000
     },
     "inputWidgets": {},
     "nuid": "5b919054-21fc-4c5d-8a5c-96b031dc8fd4",
     "showTitle": false,
     "tableResultSettingsMap": {},
     "title": ""
    }
   },
   "outputs": [],
   "source": [
    "# COMMAND ----------\n",
    "\n",
    "# MAGIC %md\n",
    "# MAGIC ## 7. Guardar en Capa Bronce\n",
    "\n",
    "# COMMAND ----------"
   ]
  },
  {
   "cell_type": "code",
   "execution_count": 0,
   "metadata": {
    "application/vnd.databricks.v1+cell": {
     "cellMetadata": {
      "byteLimit": 2048000,
      "rowLimit": 10000
     },
     "inputWidgets": {},
     "nuid": "99020a5a-9c53-4698-a7b9-9b8d00e8f41f",
     "showTitle": false,
     "tableResultSettingsMap": {},
     "title": ""
    }
   },
   "outputs": [
    {
     "output_type": "stream",
     "name": "stdout",
     "output_type": "stream",
     "text": [
      "\uD83D\uDCBE Guardando datos en la capa Bronce...\n✅ Datos guardados exitosamente en formato Delta\n"
     ]
    }
   ],
   "source": [
    "# Guardar en formato Delta en la capa Bronce\n",
    "print(\"\uD83D\uDCBE Guardando datos en la capa Bronce...\")\n",
    "\n",
    "try:\n",
    "    df_bronze.write \\\n",
    "        .format(\"delta\") \\\n",
    "        .mode(\"overwrite\") \\\n",
    "        .option(\"overwriteSchema\", \"true\") \\\n",
    "        .save(f\"{bronze_path}uber_bronze\")\n",
    "    \n",
    "    print(\"✅ Datos guardados exitosamente en formato Delta\")\n",
    "except Exception as e:\n",
    "    print(f\"❌ Error al guardar los datos: {e}\")"
   ]
  },
  {
   "cell_type": "code",
   "execution_count": 0,
   "metadata": {
    "application/vnd.databricks.v1+cell": {
     "cellMetadata": {
      "byteLimit": 2048000,
      "rowLimit": 10000
     },
     "inputWidgets": {},
     "nuid": "e61e3208-259e-46c5-a1a2-1e9daa8c4b72",
     "showTitle": false,
     "tableResultSettingsMap": {},
     "title": ""
    }
   },
   "outputs": [
    {
     "output_type": "stream",
     "name": "stdout",
     "output_type": "stream",
     "text": [
      "\uD83D\uDD0D Verificación: 4,534,327 registros en la tabla Delta\n✅ Verificación de integridad exitosa\n"
     ]
    }
   ],
   "source": [
    "# Verificar que los datos se guardaron correctamente\n",
    "try:\n",
    "    verification_df = spark.read.format(\"delta\").load(f\"{bronze_path}uber_bronze\")\n",
    "    verification_count = verification_df.count()\n",
    "    \n",
    "    print(f\"\uD83D\uDD0D Verificación: {verification_count:,} registros en la tabla Delta\")\n",
    "    \n",
    "    if verification_count != record_count:\n",
    "        raise Exception(f\"❌ Error de integridad: se esperaban {record_count:,} registros, pero se encontraron {verification_count:,}\")\n",
    "    \n",
    "    print(\"✅ Verificación de integridad exitosa\")\n",
    "    \n",
    "except Exception as e:\n",
    "    print(f\"❌ Error al guardar en capa Bronce: {str(e)}\")\n",
    "    raise"
   ]
  },
  {
   "cell_type": "code",
   "execution_count": 0,
   "metadata": {
    "application/vnd.databricks.v1+cell": {
     "cellMetadata": {
      "byteLimit": 2048000,
      "rowLimit": 10000
     },
     "inputWidgets": {},
     "nuid": "5eb15699-c8e6-46f5-ab93-323f89d40af2",
     "showTitle": false,
     "tableResultSettingsMap": {},
     "title": ""
    }
   },
   "outputs": [],
   "source": [
    "# COMMAND ----------\n",
    "\n",
    "# MAGIC %md\n",
    "# MAGIC ## 8. Resumen y Estadísticas Finales\n",
    "\n",
    "# COMMAND ----------"
   ]
  },
  {
   "cell_type": "code",
   "execution_count": 0,
   "metadata": {
    "application/vnd.databricks.v1+cell": {
     "cellMetadata": {
      "byteLimit": 2048000,
      "rowLimit": 10000
     },
     "inputWidgets": {},
     "nuid": "aa823b8e-3fdc-4b5c-be6c-6e3f62cfb4ce",
     "showTitle": false,
     "tableResultSettingsMap": {},
     "title": ""
    }
   },
   "outputs": [
    {
     "output_type": "stream",
     "name": "stdout",
     "output_type": "stream",
     "text": [
      "\uD83D\uDCCA RESUMEN FINAL - CAPA BRONCE\n==================================================\n\uD83D\uDCC1 Archivos procesados: 6\n\uD83D\uDCCA Registros totales: 4,534,327\n\uD83D\uDCBE Formato de salida: Delta Lake\n\uD83D\uDCCD Ubicación: /Volumes/workspace/default/uber_etl_azure/bronze/uber_bronze\n\uD83D\uDD50 Procesamiento completado: Column<'current_timestamp()'>\n"
     ]
    }
   ],
   "source": [
    "print(\"\uD83D\uDCCA RESUMEN FINAL - CAPA BRONCE\")\n",
    "print(\"=\" * 50)\n",
    "print(f\"\uD83D\uDCC1 Archivos procesados: {len(csv_files)}\")\n",
    "print(f\"\uD83D\uDCCA Registros totales: {record_count:,}\")\n",
    "print(f\"\uD83D\uDCBE Formato de salida: Delta Lake\")\n",
    "print(f\"\uD83D\uDCCD Ubicación: {bronze_path}uber_bronze\")\n",
    "print(f\"\uD83D\uDD50 Procesamiento completado: {current_timestamp()}\")"
   ]
  },
  {
   "cell_type": "code",
   "execution_count": 0,
   "metadata": {
    "application/vnd.databricks.v1+cell": {
     "cellMetadata": {
      "byteLimit": 2048000,
      "rowLimit": 10000
     },
     "inputWidgets": {},
     "nuid": "358a0753-da3d-4f0a-b725-c10141e3d86d",
     "showTitle": false,
     "tableResultSettingsMap": {},
     "title": ""
    }
   },
   "outputs": [
    {
     "output_type": "stream",
     "name": "stdout",
     "output_type": "stream",
     "text": [
      "\n\uD83D\uDCC8 ESTADÍSTICAS POR COLUMNA:\n+-------+--------------------+------------------+\n|summary|                 Lat|               Lon|\n+-------+--------------------+------------------+\n|  count|             4534327|           4534327|\n|   mean|   40.73926075399743|-73.97301934563407|\n| stddev|0.039949910576595304|0.0572666973547159|\n|    min|             39.6569|           -74.929|\n|    max|             42.1166|          -72.0666|\n+-------+--------------------+------------------+\n\n\n✅ CAPA BRONCE COMPLETADA EXITOSAMENTE\n\uD83C\uDF89 Los datos están listos para ser procesados por la Capa Plata\n"
     ]
    }
   ],
   "source": [
    "# Mostrar estadísticas por columna\n",
    "print(f\"\\n\uD83D\uDCC8 ESTADÍSTICAS POR COLUMNA:\")\n",
    "df_bronze.describe(\"Lat\", \"Lon\").show()\n",
    "\n",
    "print(\"\\n✅ CAPA BRONCE COMPLETADA EXITOSAMENTE\")\n",
    "print(\"\uD83C\uDF89 Los datos están listos para ser procesados por la Capa Plata\")"
   ]
  },
  {
   "cell_type": "code",
   "execution_count": 0,
   "metadata": {
    "application/vnd.databricks.v1+cell": {
     "cellMetadata": {
      "byteLimit": 2048000,
      "rowLimit": 10000
     },
     "inputWidgets": {},
     "nuid": "a4ad43b8-326e-46a1-9bdb-750be71fcf76",
     "showTitle": false,
     "tableResultSettingsMap": {},
     "title": ""
    }
   },
   "outputs": [],
   "source": [
    "# COMMAND ----------\n",
    "\n",
    "# MAGIC %md\n",
    "# MAGIC ## 9. Registro de Tabla (Opcional)\n",
    "\n",
    "# COMMAND ----------"
   ]
  },
  {
   "cell_type": "code",
   "execution_count": 0,
   "metadata": {
    "application/vnd.databricks.v1+cell": {
     "cellMetadata": {
      "byteLimit": 2048000,
      "rowLimit": 10000
     },
     "inputWidgets": {},
     "nuid": "d32dcdad-0fc7-4d83-bd5a-71291ac50c4f",
     "showTitle": false,
     "tableResultSettingsMap": {},
     "title": ""
    }
   },
   "outputs": [
    {
     "output_type": "stream",
     "name": "stdout",
     "output_type": "stream",
     "text": [
      "\uD83D\uDCCB Tabla registrada como vista temporal: 'uber_bronze_temp'\n\uD83D\uDCA1 Ahora puedes usar SQL para consultar los datos:\n   SELECT * FROM uber_bronze_temp LIMIT 10;\n"
     ]
    }
   ],
   "source": [
    "# Registrar la tabla como vista temporal para consultas\n",
    "df_bronze.createOrReplaceTempView(\"uber_bronze_temp\")\n",
    "\n",
    "print(\"\uD83D\uDCCB Tabla registrada como vista temporal: 'uber_bronze_temp'\")\n",
    "print(\"\uD83D\uDCA1 Ahora puedes usar SQL para consultar los datos:\")\n",
    "print(\"   SELECT * FROM uber_bronze_temp LIMIT 10;\")"
   ]
  },
  {
   "cell_type": "code",
   "execution_count": 0,
   "metadata": {
    "application/vnd.databricks.v1+cell": {
     "cellMetadata": {
      "byteLimit": 2048000,
      "rowLimit": 10000
     },
     "inputWidgets": {},
     "nuid": "86cdb322-857d-45db-8378-290173c4f4c2",
     "showTitle": false,
     "tableResultSettingsMap": {},
     "title": ""
    }
   },
   "outputs": [],
   "source": [
    "# COMMAND ----------\n",
    "\n",
    "# MAGIC %md\n",
    "# MAGIC ## 10. Comandos Útiles para Monitoreo\n",
    "\n",
    "# COMMAND ----------"
   ]
  },
  {
   "cell_type": "code",
   "execution_count": 0,
   "metadata": {
    "application/vnd.databricks.v1+cell": {
     "cellMetadata": {
      "byteLimit": 2048000,
      "rowLimit": 10000
     },
     "inputWidgets": {},
     "nuid": "af5e3d9b-7e93-4b09-aad2-7969adb91d8e",
     "showTitle": false,
     "tableResultSettingsMap": {},
     "title": ""
    }
   },
   "outputs": [
    {
     "output_type": "stream",
     "name": "stdout",
     "output_type": "stream",
     "text": [
      "\uD83D\uDD27 COMANDOS DE MONITOREO:\n==============================\n"
     ]
    }
   ],
   "source": [
    "# Comandos útiles para monitorear la tabla Delta\n",
    "print(\"\uD83D\uDD27 COMANDOS DE MONITOREO:\")\n",
    "print(\"=\" * 30)"
   ]
  },
  {
   "cell_type": "code",
   "execution_count": 0,
   "metadata": {
    "application/vnd.databricks.v1+cell": {
     "cellMetadata": {
      "byteLimit": 2048000,
      "rowLimit": 10000
     },
     "inputWidgets": {},
     "nuid": "761e8891-4916-4cf5-850b-472b1eca5c24",
     "showTitle": false,
     "tableResultSettingsMap": {},
     "title": ""
    }
   },
   "outputs": [
    {
     "output_type": "stream",
     "name": "stdout",
     "output_type": "stream",
     "text": [
      "\uD83D\uDCDC Historial de la tabla Delta:\n+-------+-------------------+---------+------------------------------------------------------------------------------------------------------------------------+\n|version|timestamp          |operation|operationMetrics                                                                                                        |\n+-------+-------------------+---------+------------------------------------------------------------------------------------------------------------------------+\n|3      |2025-07-28 17:06:36|WRITE    |{numFiles -> 4, numRemovedFiles -> 4, numRemovedBytes -> 22062114, numOutputRows -> 4534327, numOutputBytes -> 22062114}|\n|2      |2025-07-26 20:04:31|WRITE    |{numFiles -> 4, numRemovedFiles -> 4, numRemovedBytes -> 22062110, numOutputRows -> 4534327, numOutputBytes -> 22062114}|\n|1      |2025-07-22 03:41:04|WRITE    |{numFiles -> 4, numRemovedFiles -> 4, numRemovedBytes -> 22060334, numOutputRows -> 4534327, numOutputBytes -> 22062110}|\n|0      |2025-07-14 01:29:27|WRITE    |{numFiles -> 4, numRemovedFiles -> 0, numRemovedBytes -> 0, numOutputRows -> 4534327, numOutputBytes -> 22060334}       |\n+-------+-------------------+---------+------------------------------------------------------------------------------------------------------------------------+\n\n"
     ]
    }
   ],
   "source": [
    "# Mostrar historial de la tabla Delta (si existe)\n",
    "try:\n",
    "    history_df = spark.sql(f\"DESCRIBE HISTORY delta.`{bronze_path}uber_bronze`\")\n",
    "    print(\"\uD83D\uDCDC Historial de la tabla Delta:\")\n",
    "    history_df.select(\"version\", \"timestamp\", \"operation\", \"operationMetrics\").show(5, truncate=False)\n",
    "except:\n",
    "    print(\"ℹ️ Historial no disponible (primera ejecución)\")"
   ]
  },
  {
   "cell_type": "code",
   "execution_count": 0,
   "metadata": {
    "application/vnd.databricks.v1+cell": {
     "cellMetadata": {
      "byteLimit": 2048000,
      "rowLimit": 10000
     },
     "inputWidgets": {},
     "nuid": "3ce6a5ba-70d6-4b06-a63f-cf3062284dbe",
     "showTitle": false,
     "tableResultSettingsMap": {},
     "title": ""
    }
   },
   "outputs": [
    {
     "output_type": "stream",
     "name": "stdout",
     "output_type": "stream",
     "text": [
      "\n\uD83D\uDCCB Detalles de la tabla:\n+------+--------+-----------+-----------------------------------------------------------------+\n|format|numFiles|sizeInBytes|location                                                         |\n+------+--------+-----------+-----------------------------------------------------------------+\n|delta |4       |22062114   |dbfs:/Volumes/workspace/default/uber_etl_azure/bronze/uber_bronze|\n+------+--------+-----------+-----------------------------------------------------------------+\n\n\n✅ Monitoreo completado\n\uD83D\uDE80 Listo para ejecutar el notebook de Capa Plata\n"
     ]
    }
   ],
   "source": [
    "# Mostrar detalles de la tabla\n",
    "print(f\"\\n\uD83D\uDCCB Detalles de la tabla:\")\n",
    "try:\n",
    "    detail_df = spark.sql(f\"DESCRIBE DETAIL delta.`{bronze_path}uber_bronze`\")\n",
    "    detail_df.select(\"format\", \"numFiles\", \"sizeInBytes\", \"location\").show(1, truncate=False)\n",
    "except:\n",
    "    print(\"ℹ️ Detalles no disponibles\")\n",
    "\n",
    "print(\"\\n✅ Monitoreo completado\")\n",
    "print(\"\uD83D\uDE80 Listo para ejecutar el notebook de Capa Plata\")"
   ]
  }
 ],
 "metadata": {
  "application/vnd.databricks.v1+notebook": {
   "computePreferences": null,
   "dashboards": [],
   "environmentMetadata": {
    "base_environment": "",
    "environment_version": "2"
   },
   "inputWidgetPreferences": null,
   "language": "python",
   "notebookMetadata": {
    "pythonIndentUnit": 4
   },
   "notebookName": "01_Uber_Bronze_Layer",
   "widgets": {}
  },
  "language_info": {
   "name": "python"
  }
 },
 "nbformat": 4,
 "nbformat_minor": 0
}