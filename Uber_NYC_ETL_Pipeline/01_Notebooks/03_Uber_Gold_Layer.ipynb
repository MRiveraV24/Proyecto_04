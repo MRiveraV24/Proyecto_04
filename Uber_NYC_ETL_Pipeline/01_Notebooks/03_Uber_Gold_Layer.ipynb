{
 "cells": [
  {
   "cell_type": "code",
   "execution_count": 0,
   "metadata": {
    "application/vnd.databricks.v1+cell": {
     "cellMetadata": {
      "byteLimit": 2048000,
      "rowLimit": 10000
     },
     "inputWidgets": {},
     "nuid": "ac7f7231-ab5e-4bbc-96d5-93fb11a800d7",
     "showTitle": false,
     "tableResultSettingsMap": {},
     "title": ""
    }
   },
   "outputs": [],
   "source": [
    "# Databricks notebook source\n",
    "# MAGIC %md\n",
    "# MAGIC # Capa Oro - Uber NYC Data Pipeline\n",
    "# MAGIC \n",
    "# MAGIC ## Objetivo\n",
    "# MAGIC Crear agregaciones de negocio, KPIs y métricas analíticas desde la capa Silver para facilitar el análisis y reporting.\n",
    "# MAGIC \n",
    "# MAGIC ## Responsabilidades\n",
    "# MAGIC - Leer datos curados de la capa Silver\n",
    "# MAGIC - Crear agregaciones temporales (horarias, diarias, mensuales)\n",
    "# MAGIC - Generar métricas de negocio y KPIs\n",
    "# MAGIC - Crear tablas especializadas para diferentes casos de uso\n",
    "# MAGIC \n",
    "# MAGIC ## Entrada\n",
    "# MAGIC - Tabla Delta: `uber_silver` desde `/Volumes/workspace/default/uber_etl_azure/silver/`\n",
    "# MAGIC \n",
    "# MAGIC ## Salida\n",
    "# MAGIC - Múltiples tablas Delta especializadas en `/Volumes/workspace/default/uber_etl_azure/gold/`\n"
   ]
  },
  {
   "cell_type": "code",
   "execution_count": 0,
   "metadata": {
    "application/vnd.databricks.v1+cell": {
     "cellMetadata": {
      "byteLimit": 2048000,
      "rowLimit": 10000
     },
     "inputWidgets": {},
     "nuid": "771bdd69-e494-46d8-b026-2b3dcfe1faef",
     "showTitle": false,
     "tableResultSettingsMap": {},
     "title": ""
    }
   },
   "outputs": [],
   "source": [
    "# COMMAND ----------\n",
    "\n",
    "# MAGIC %md\n",
    "# MAGIC ## 1. Configuración e Imports\n",
    "\n",
    "# COMMAND ---------"
   ]
  },
  {
   "cell_type": "code",
   "execution_count": 0,
   "metadata": {
    "application/vnd.databricks.v1+cell": {
     "cellMetadata": {
      "byteLimit": 2048000,
      "rowLimit": 10000
     },
     "inputWidgets": {},
     "nuid": "5d55c51e-ed68-4d87-a0df-46d42b4a69a3",
     "showTitle": false,
     "tableResultSettingsMap": {},
     "title": ""
    }
   },
   "outputs": [],
   "source": [
    "# Importar librerías necesarias\n",
    "from pyspark.sql import SparkSession\n",
    "from pyspark.sql.functions import *\n",
    "from pyspark.sql.types import *\n",
    "from pyspark.sql.window import Window\n",
    "import os"
   ]
  },
  {
   "cell_type": "code",
   "execution_count": 0,
   "metadata": {
    "application/vnd.databricks.v1+cell": {
     "cellMetadata": {
      "byteLimit": 2048000,
      "rowLimit": 10000
     },
     "inputWidgets": {},
     "nuid": "7915de46-38f1-4bc0-92b2-934effdc1d6d",
     "showTitle": false,
     "tableResultSettingsMap": {},
     "title": ""
    }
   },
   "outputs": [
    {
     "output_type": "stream",
     "name": "stdout",
     "output_type": "stream",
     "text": [
      "✅ Configuración de Capa Oro inicializada\n\uD83E\uDD48 Origen Silver: /Volumes/workspace/default/uber_etl_azure/silver/\n\uD83E\uDD47 Destino Gold: /Volumes/workspace/default/uber_etl_azure/gold/\n"
     ]
    }
   ],
   "source": [
    "# Configurar rutas\n",
    "silver_path = \"/Volumes/workspace/default/uber_etl_azure/silver/\"\n",
    "gold_path = \"/Volumes/workspace/default/uber_etl_azure/gold/\"\n",
    "\n",
    "# Crear directorio si no existe\n",
    "dbutils.fs.mkdirs(gold_path)\n",
    "\n",
    "print(\"✅ Configuración de Capa Oro inicializada\")\n",
    "print(f\"\uD83E\uDD48 Origen Silver: {silver_path}\")\n",
    "print(f\"\uD83E\uDD47 Destino Gold: {gold_path}\")"
   ]
  },
  {
   "cell_type": "code",
   "execution_count": 0,
   "metadata": {
    "application/vnd.databricks.v1+cell": {
     "cellMetadata": {
      "byteLimit": 2048000,
      "rowLimit": 10000
     },
     "inputWidgets": {},
     "nuid": "12b96875-4200-48b9-8f7a-7bac84f91e54",
     "showTitle": false,
     "tableResultSettingsMap": {},
     "title": ""
    }
   },
   "outputs": [],
   "source": [
    "# COMMAND ----------\n",
    "\n",
    "# MAGIC %md\n",
    "# MAGIC ## 2. Validación de Dependencias\n",
    "\n",
    "# COMMAND ----------"
   ]
  },
  {
   "cell_type": "code",
   "execution_count": 0,
   "metadata": {
    "application/vnd.databricks.v1+cell": {
     "cellMetadata": {
      "byteLimit": 2048000,
      "rowLimit": 10000
     },
     "inputWidgets": {},
     "nuid": "ae662199-d5c4-40bb-aaae-6c647d200193",
     "showTitle": false,
     "tableResultSettingsMap": {},
     "title": ""
    }
   },
   "outputs": [
    {
     "output_type": "stream",
     "name": "stdout",
     "output_type": "stream",
     "text": [
      "✅ Tabla Silver encontrada:\n   \uD83D\uDCC4 _delta_log/\n   \uD83D\uDCC4 part-00000-8aea1406-5f14-4215-89bf-809b333127eb.c000.snappy.parquet\n   \uD83D\uDCC4 part-00000-d442906f-da51-41b4-9c5e-c044c48e17b4.c000.snappy.parquet\n   \uD83D\uDCC4 part-00000-dc565cda-d614-4992-9e4f-c6bd53cb5656.c000.snappy.parquet\n   \uD83D\uDCC4 part-00000-fa85f50a-52a2-443e-a242-9891ec0a187d.c000.snappy.parquet\n"
     ]
    }
   ],
   "source": [
    "# Verificar que existe la tabla Silver\n",
    "try:\n",
    "    silver_files = dbutils.fs.ls(f\"{silver_path}uber_silver\")\n",
    "    print(\"✅ Tabla Silver encontrada:\")\n",
    "    for file in silver_files[:5]:  # Mostrar solo los primeros 5 archivos\n",
    "        print(f\"   \uD83D\uDCC4 {file.name}\")\n",
    "    \n",
    "    if len(silver_files) > 5:\n",
    "        print(f\"   ... y {len(silver_files) - 5} archivos más\")\n",
    "        \n",
    "except Exception as e:\n",
    "    print(f\"❌ Error: Tabla Silver no encontrada - {str(e)}\")\n",
    "    print(\"\uD83D\uDCA1 Asegúrate de ejecutar primero el notebook '02_Uber_Silver_Layer'\")\n",
    "    raise\n"
   ]
  },
  {
   "cell_type": "code",
   "execution_count": 0,
   "metadata": {
    "application/vnd.databricks.v1+cell": {
     "cellMetadata": {
      "byteLimit": 2048000,
      "rowLimit": 10000
     },
     "inputWidgets": {},
     "nuid": "99c7692a-1ea5-4848-ac53-847acb6ff8ea",
     "showTitle": false,
     "tableResultSettingsMap": {},
     "title": ""
    }
   },
   "outputs": [],
   "source": [
    "# COMMAND ----------\n",
    "\n",
    "# MAGIC %md\n",
    "# MAGIC ## 3. Lectura de Datos Silver\n",
    "\n",
    "# COMMAND ----------"
   ]
  },
  {
   "cell_type": "code",
   "execution_count": 0,
   "metadata": {
    "application/vnd.databricks.v1+cell": {
     "cellMetadata": {
      "byteLimit": 2048000,
      "rowLimit": 10000
     },
     "inputWidgets": {},
     "nuid": "e77449c7-cbd1-438e-98a7-91a4a7d6c69b",
     "showTitle": false,
     "tableResultSettingsMap": {},
     "title": ""
    }
   },
   "outputs": [
    {
     "output_type": "stream",
     "name": "stdout",
     "output_type": "stream",
     "text": [
      "\uD83D\uDCE5 Leyendo datos de la capa Silver...\n\uD83D\uDCCA Registros leídos de Silver: 4,502,417\n✅ Datos Silver cargados exitosamente\n"
     ]
    }
   ],
   "source": [
    "from pyspark import StorageLevel\n",
    "\n",
    "# Leer datos de la capa Silver\n",
    "print(\"\uD83D\uDCE5 Leyendo datos de la capa Silver...\")\n",
    "\n",
    "try:\n",
    "    df_silver = spark.read.format(\"delta\").load(f\"{silver_path}uber_silver\")\n",
    "    \n",
    "    silver_count = df_silver.count()\n",
    "    print(f\"\uD83D\uDCCA Registros leídos de Silver: {silver_count:,}\")\n",
    "    \n",
    "    if silver_count == 0:\n",
    "        raise Exception(\"❌ No se encontraron datos en la capa Silver\")\n",
    "    \n",
    "    # Removed persist to avoid serverless compute error\n",
    "    # df_silver.persist(storageLevel=StorageLevel.MEMORY_ONLY)\n",
    "    print(\"✅ Datos Silver cargados exitosamente\")\n",
    "    \n",
    "except Exception as e:\n",
    "    print(f\"❌ Error al leer capa Silver: {str(e)}\")\n",
    "    raise"
   ]
  },
  {
   "cell_type": "code",
   "execution_count": 0,
   "metadata": {
    "application/vnd.databricks.v1+cell": {
     "cellMetadata": {
      "byteLimit": 2048000,
      "rowLimit": 10000
     },
     "inputWidgets": {},
     "nuid": "824a761a-fda1-4995-b662-8a7ef3d54e83",
     "showTitle": false,
     "tableResultSettingsMap": {},
     "title": ""
    }
   },
   "outputs": [],
   "source": [
    "# COMMAND ----------\n",
    "\n",
    "# MAGIC %md\n",
    "# MAGIC ## 4. Exploración de Datos Silver\n",
    "\n",
    "# COMMAND ----------"
   ]
  },
  {
   "cell_type": "code",
   "execution_count": 0,
   "metadata": {
    "application/vnd.databricks.v1+cell": {
     "cellMetadata": {
      "byteLimit": 2048000,
      "rowLimit": 10000
     },
     "inputWidgets": {},
     "nuid": "cdb665e8-eafa-4ee1-b101-53b627d51151",
     "showTitle": false,
     "tableResultSettingsMap": {},
     "title": ""
    }
   },
   "outputs": [
    {
     "output_type": "stream",
     "name": "stdout",
     "output_type": "stream",
     "text": [
      "\uD83D\uDD0D EXPLORACIÓN DE DATOS SILVER:\n========================================\n\uD83D\uDCCB Esquema de datos Silver:\nroot\n |-- pickup_datetime: timestamp (nullable = true)\n |-- latitude: double (nullable = true)\n |-- longitude: double (nullable = true)\n |-- base_code: string (nullable = true)\n |-- ingestion_timestamp: timestamp (nullable = true)\n |-- source_file: string (nullable = true)\n |-- bronze_layer_version: string (nullable = true)\n |-- pickup_hour: integer (nullable = true)\n |-- pickup_day_of_week: string (nullable = true)\n |-- pickup_day_of_week_num: integer (nullable = true)\n |-- pickup_month: integer (nullable = true)\n |-- pickup_year: integer (nullable = true)\n |-- pickup_date: string (nullable = true)\n |-- pickup_week_of_year: integer (nullable = true)\n |-- time_category: string (nullable = true)\n |-- day_type: string (nullable = true)\n |-- trip_id: string (nullable = true)\n |-- silver_processing_timestamp: timestamp (nullable = true)\n |-- silver_layer_version: string (nullable = true)\n\n\n\uD83D\uDCC5 Información temporal:\n   Fecha inicio: 2014-04-01 00:00:00\n   Fecha fin: 2014-09-30 22:59:00\n   Días únicos: 183\n"
     ]
    }
   ],
   "source": [
    "print(\"\uD83D\uDD0D EXPLORACIÓN DE DATOS SILVER:\")\n",
    "print(\"=\" * 40)\n",
    "\n",
    "# Mostrar esquema\n",
    "print(\"\uD83D\uDCCB Esquema de datos Silver:\")\n",
    "df_silver.printSchema()\n",
    "\n",
    "# Rango temporal de datos\n",
    "date_stats = df_silver.agg(\n",
    "    min(\"pickup_datetime\").alias(\"fecha_inicio\"),\n",
    "    max(\"pickup_datetime\").alias(\"fecha_fin\"),\n",
    "    countDistinct(\"pickup_date\").alias(\"dias_unicos\")\n",
    ").collect()[0]\n",
    "\n",
    "print(f\"\\n\uD83D\uDCC5 Información temporal:\")\n",
    "print(f\"   Fecha inicio: {date_stats['fecha_inicio']}\")\n",
    "print(f\"   Fecha fin: {date_stats['fecha_fin']}\")\n",
    "print(f\"   Días únicos: {date_stats['dias_unicos']}\")"
   ]
  },
  {
   "cell_type": "code",
   "execution_count": 0,
   "metadata": {
    "application/vnd.databricks.v1+cell": {
     "cellMetadata": {
      "byteLimit": 2048000,
      "rowLimit": 10000
     },
     "inputWidgets": {},
     "nuid": "a470a9c0-08a4-460f-b132-c9f25b810066",
     "showTitle": false,
     "tableResultSettingsMap": {},
     "title": ""
    }
   },
   "outputs": [
    {
     "output_type": "stream",
     "name": "stdout",
     "output_type": "stream",
     "text": [
      "\n\uD83C\uDFE2 Información de bases:\n   Bases únicas: 5\n✅ Exploración completada\n"
     ]
    }
   ],
   "source": [
    "# Información de bases\n",
    "base_stats = df_silver.agg(\n",
    "    countDistinct(\"base_code\").alias(\"bases_unicas\")\n",
    ").collect()[0]\n",
    "\n",
    "print(f\"\\n\uD83C\uDFE2 Información de bases:\")\n",
    "print(f\"   Bases únicas: {base_stats['bases_unicas']}\")\n",
    "\n",
    "print(\"✅ Exploración completada\")"
   ]
  },
  {
   "cell_type": "code",
   "execution_count": 0,
   "metadata": {
    "application/vnd.databricks.v1+cell": {
     "cellMetadata": {
      "byteLimit": 2048000,
      "rowLimit": 10000
     },
     "inputWidgets": {},
     "nuid": "9f1ed529-217e-44b0-bf90-3e6ea19d40ce",
     "showTitle": false,
     "tableResultSettingsMap": {},
     "title": ""
    }
   },
   "outputs": [],
   "source": [
    "# COMMAND ----------\n",
    "\n",
    "# MAGIC %md\n",
    "# MAGIC ## 5. Tabla Gold 1: Agregaciones Temporales Diarias\n",
    "\n",
    "# COMMAND ----------"
   ]
  },
  {
   "cell_type": "code",
   "execution_count": 0,
   "metadata": {
    "application/vnd.databricks.v1+cell": {
     "cellMetadata": {
      "byteLimit": 2048000,
      "rowLimit": 10000
     },
     "inputWidgets": {},
     "nuid": "ecebaec0-1ece-447e-bf93-60a7e471341b",
     "showTitle": false,
     "tableResultSettingsMap": {},
     "title": ""
    }
   },
   "outputs": [
    {
     "output_type": "stream",
     "name": "stdout",
     "output_type": "stream",
     "text": [
      "\uD83E\uDD47 CREANDO TABLA GOLD 1: Agregaciones Diarias\n==================================================\n"
     ]
    }
   ],
   "source": [
    "print(\"\uD83E\uDD47 CREANDO TABLA GOLD 1: Agregaciones Diarias\")\n",
    "print(\"=\" * 50)"
   ]
  },
  {
   "cell_type": "code",
   "execution_count": 0,
   "metadata": {
    "application/vnd.databricks.v1+cell": {
     "cellMetadata": {
      "byteLimit": 2048000,
      "rowLimit": 10000
     },
     "inputWidgets": {},
     "nuid": "86c21e96-ef3e-41ff-892c-0b2c5678b2d7",
     "showTitle": false,
     "tableResultSettingsMap": {},
     "title": ""
    }
   },
   "outputs": [
    {
     "output_type": "display_data",
     "data": {
      "text/html": [
       "<style scoped>\n",
       "  .table-result-container {\n",
       "    max-height: 300px;\n",
       "    overflow: auto;\n",
       "  }\n",
       "  table, th, td {\n",
       "    border: 1px solid black;\n",
       "    border-collapse: collapse;\n",
       "  }\n",
       "  th, td {\n",
       "    padding: 5px;\n",
       "  }\n",
       "  th {\n",
       "    text-align: left;\n",
       "  }\n",
       "</style><div class='table-result-container'><table class='table-result'><thead style='background-color: white'><tr><th>pickup_date</th><th>pickup_month</th><th>pickup_year</th><th>pickup_day_of_week</th><th>pickup_day_of_week_num</th><th>day_type</th><th>total_trips</th><th>active_bases</th><th>active_hours</th><th>avg_latitude</th><th>avg_longitude</th><th>stddev_latitude</th><th>stddev_longitude</th><th>morning_rush_trips</th><th>evening_rush_trips</th><th>midday_trips</th><th>night_trips</th><th>late_night_trips</th><th>first_trip_hour</th><th>last_trip_hour</th></tr></thead><tbody><tr><td>2014-07-22</td><td>7</td><td>2014</td><td>Tuesday</td><td>3</td><td>Weekday</td><td>28860</td><td>5</td><td>24</td><td>40.741402</td><td>-73.975229</td><td>0.034491</td><td>0.044091</td><td>5088</td><td>8308</td><td>9989</td><td>3760</td><td>1715</td><td>0</td><td>23</td></tr><tr><td>2014-04-06</td><td>4</td><td>2014</td><td>Sunday</td><td>1</td><td>Weekend</td><td>13392</td><td>5</td><td>24</td><td>40.732499</td><td>-73.971713</td><td>0.038106</td><td>0.055573</td><td>1151</td><td>2716</td><td>4705</td><td>1213</td><td>3607</td><td>0</td><td>23</td></tr><tr><td>2014-07-27</td><td>7</td><td>2014</td><td>Sunday</td><td>1</td><td>Weekend</td><td>22375</td><td>5</td><td>24</td><td>40.734194</td><td>-73.966844</td><td>0.040446</td><td>0.057394</td><td>2005</td><td>4832</td><td>8713</td><td>2507</td><td>4318</td><td>0</td><td>23</td></tr><tr><td>2014-07-26</td><td>7</td><td>2014</td><td>Saturday</td><td>7</td><td>Weekend</td><td>27354</td><td>5</td><td>24</td><td>40.735187</td><td>-73.97257</td><td>0.038371</td><td>0.047108</td><td>2297</td><td>6681</td><td>9005</td><td>5341</td><td>4030</td><td>0</td><td>23</td></tr><tr><td>2014-07-14</td><td>7</td><td>2014</td><td>Monday</td><td>2</td><td>Weekday</td><td>27189</td><td>5</td><td>24</td><td>40.739672</td><td>-73.973309</td><td>0.035703</td><td>0.051119</td><td>4621</td><td>8684</td><td>7913</td><td>3894</td><td>2077</td><td>0</td><td>23</td></tr><tr><td>2014-09-02</td><td>9</td><td>2014</td><td>Tuesday</td><td>3</td><td>Weekday</td><td>28612</td><td>5</td><td>24</td><td>40.738622</td><td>-73.967399</td><td>0.038873</td><td>0.058925</td><td>5816</td><td>7582</td><td>9840</td><td>3323</td><td>2051</td><td>0</td><td>23</td></tr><tr><td>2014-05-25</td><td>5</td><td>2014</td><td>Sunday</td><td>1</td><td>Weekend</td><td>10747</td><td>5</td><td>24</td><td>40.731542</td><td>-73.973881</td><td>0.040437</td><td>0.050443</td><td>878</td><td>2502</td><td>3993</td><td>1914</td><td>1460</td><td>0</td><td>23</td></tr><tr><td>2014-08-22</td><td>8</td><td>2014</td><td>Friday</td><td>6</td><td>Weekday</td><td>29229</td><td>5</td><td>24</td><td>40.736721</td><td>-73.972513</td><td>0.037615</td><td>0.050109</td><td>4750</td><td>6904</td><td>9608</td><td>5058</td><td>2909</td><td>0</td><td>23</td></tr><tr><td>2014-07-08</td><td>7</td><td>2014</td><td>Tuesday</td><td>3</td><td>Weekday</td><td>25596</td><td>5</td><td>24</td><td>40.740424</td><td>-73.974437</td><td>0.034685</td><td>0.046833</td><td>4566</td><td>7272</td><td>8702</td><td>3452</td><td>1604</td><td>0</td><td>23</td></tr><tr><td>2014-06-18</td><td>6</td><td>2014</td><td>Wednesday</td><td>4</td><td>Weekday</td><td>24497</td><td>5</td><td>24</td><td>40.741175</td><td>-73.976967</td><td>0.033689</td><td>0.045336</td><td>4171</td><td>6841</td><td>8793</td><td>3400</td><td>1292</td><td>0</td><td>23</td></tr><tr><td>2014-06-21</td><td>6</td><td>2014</td><td>Saturday</td><td>7</td><td>Weekend</td><td>19692</td><td>5</td><td>24</td><td>40.734849</td><td>-73.974953</td><td>0.037757</td><td>0.047208</td><td>1536</td><td>4731</td><td>6393</td><td>4395</td><td>2637</td><td>0</td><td>23</td></tr><tr><td>2014-07-16</td><td>7</td><td>2014</td><td>Wednesday</td><td>4</td><td>Weekday</td><td>28419</td><td>5</td><td>24</td><td>40.73956</td><td>-73.974209</td><td>0.034976</td><td>0.048309</td><td>5342</td><td>7775</td><td>9054</td><td>4247</td><td>2001</td><td>0</td><td>23</td></tr><tr><td>2014-08-02</td><td>8</td><td>2014</td><td>Saturday</td><td>7</td><td>Weekend</td><td>28369</td><td>5</td><td>24</td><td>40.734747</td><td>-73.972629</td><td>0.038658</td><td>0.047006</td><td>2512</td><td>7256</td><td>8593</td><td>5727</td><td>4281</td><td>0</td><td>23</td></tr><tr><td>2014-08-13</td><td>8</td><td>2014</td><td>Wednesday</td><td>4</td><td>Weekday</td><td>29582</td><td>5</td><td>24</td><td>40.740336</td><td>-73.974181</td><td>0.03513</td><td>0.04658</td><td>6174</td><td>7890</td><td>9120</td><td>4007</td><td>2391</td><td>0</td><td>23</td></tr><tr><td>2014-06-12</td><td>6</td><td>2014</td><td>Thursday</td><td>5</td><td>Weekday</td><td>29705</td><td>5</td><td>24</td><td>40.741998</td><td>-73.978064</td><td>0.031936</td><td>0.043362</td><td>5026</td><td>8634</td><td>9340</td><td>5185</td><td>1520</td><td>0</td><td>23</td></tr><tr><td>2014-05-30</td><td>5</td><td>2014</td><td>Friday</td><td>6</td><td>Weekday</td><td>24254</td><td>5</td><td>24</td><td>40.740583</td><td>-73.977994</td><td>0.033382</td><td>0.042569</td><td>3729</td><td>6718</td><td>8117</td><td>4177</td><td>1513</td><td>0</td><td>23</td></tr><tr><td>2014-04-11</td><td>4</td><td>2014</td><td>Friday</td><td>6</td><td>Weekday</td><td>20334</td><td>5</td><td>24</td><td>40.740192</td><td>-73.978263</td><td>0.033249</td><td>0.043216</td><td>3361</td><td>5603</td><td>6438</td><td>3658</td><td>1274</td><td>0</td><td>23</td></tr><tr><td>2014-08-17</td><td>8</td><td>2014</td><td>Sunday</td><td>1</td><td>Weekend</td><td>20997</td><td>5</td><td>24</td><td>40.733002</td><td>-73.96551</td><td>0.042901</td><td>0.060109</td><td>1994</td><td>4881</td><td>7652</td><td>2397</td><td>4073</td><td>0</td><td>23</td></tr><tr><td>2014-08-09</td><td>8</td><td>2014</td><td>Saturday</td><td>7</td><td>Weekend</td><td>25968</td><td>5</td><td>24</td><td>40.733966</td><td>-73.971276</td><td>0.040943</td><td>0.047854</td><td>2094</td><td>6745</td><td>8027</td><td>5285</td><td>3817</td><td>0</td><td>23</td></tr><tr><td>2014-06-20</td><td>6</td><td>2014</td><td>Friday</td><td>6</td><td>Weekday</td><td>24085</td><td>5</td><td>24</td><td>40.739164</td><td>-73.977453</td><td>0.03415</td><td>0.046288</td><td>3777</td><td>5843</td><td>8098</td><td>4622</td><td>1745</td><td>0</td><td>23</td></tr><tr><td>2014-09-27</td><td>9</td><td>2014</td><td>Saturday</td><td>7</td><td>Weekend</td><td>39044</td><td>5</td><td>24</td><td>40.736674</td><td>-73.97459</td><td>0.038584</td><td>0.043318</td><td>3143</td><td>10290</td><td>12288</td><td>8382</td><td>4941</td><td>0</td><td>23</td></tr><tr><td>2014-09-19</td><td>9</td><td>2014</td><td>Friday</td><td>6</td><td>Weekday</td><td>40684</td><td>5</td><td>24</td><td>40.739066</td><td>-73.973855</td><td>0.036111</td><td>0.046818</td><td>6305</td><td>11588</td><td>12142</td><td>7693</td><td>2956</td><td>0</td><td>23</td></tr><tr><td>2014-08-14</td><td>8</td><td>2014</td><td>Thursday</td><td>5</td><td>Weekday</td><td>30215</td><td>5</td><td>24</td><td>40.738995</td><td>-73.975064</td><td>0.035284</td><td>0.047589</td><td>4800</td><td>8644</td><td>9241</td><td>5338</td><td>2192</td><td>0</td><td>23</td></tr><tr><td>2014-07-05</td><td>7</td><td>2014</td><td>Saturday</td><td>7</td><td>Weekend</td><td>10669</td><td>5</td><td>24</td><td>40.730769</td><td>-73.967577</td><td>0.041808</td><td>0.054712</td><td>913</td><td>2441</td><td>3565</td><td>1933</td><td>1817</td><td>0</td><td>23</td></tr><tr><td>2014-07-28</td><td>7</td><td>2014</td><td>Monday</td><td>2</td><td>Weekday</td><td>23839</td><td>5</td><td>24</td><td>40.739707</td><td>-73.969939</td><td>0.037009</td><td>0.054333</td><td>4658</td><td>6407</td><td>7962</td><td>2792</td><td>2020</td><td>0</td><td>23</td></tr><tr><td>2014-08-19</td><td>8</td><td>2014</td><td>Tuesday</td><td>3</td><td>Weekday</td><td>24633</td><td>5</td><td>24</td><td>40.739358</td><td>-73.973324</td><td>0.036739</td><td>0.048271</td><td>4588</td><td>6724</td><td>8228</td><td>3440</td><td>1653</td><td>0</td><td>23</td></tr><tr><td>2014-08-06</td><td>8</td><td>2014</td><td>Wednesday</td><td>4</td><td>Weekday</td><td>30302</td><td>5</td><td>24</td><td>40.739822</td><td>-73.974957</td><td>0.035672</td><td>0.045922</td><td>5276</td><td>8637</td><td>9845</td><td>4398</td><td>2146</td><td>0</td><td>23</td></tr><tr><td>2014-08-18</td><td>8</td><td>2014</td><td>Monday</td><td>2</td><td>Weekday</td><td>21766</td><td>5</td><td>24</td><td>40.738159</td><td>-73.970315</td><td>0.039232</td><td>0.054374</td><td>4505</td><td>5651</td><td>7284</td><td>2387</td><td>1939</td><td>0</td><td>23</td></tr><tr><td>2014-09-03</td><td>9</td><td>2014</td><td>Wednesday</td><td>4</td><td>Weekday</td><td>32408</td><td>5</td><td>24</td><td>40.739438</td><td>-73.973471</td><td>0.035706</td><td>0.049422</td><td>6085</td><td>9186</td><td>10888</td><td>4391</td><td>1858</td><td>0</td><td>23</td></tr><tr><td>2014-05-27</td><td>5</td><td>2014</td><td>Tuesday</td><td>3</td><td>Weekday</td><td>16937</td><td>5</td><td>24</td><td>40.739507</td><td>-73.970852</td><td>0.036887</td><td>0.056805</td><td>3372</td><td>4511</td><td>6180</td><td>1719</td><td>1155</td><td>0</td><td>23</td></tr><tr><td>2014-04-27</td><td>4</td><td>2014</td><td>Sunday</td><td>1</td><td>Weekend</td><td>14595</td><td>5</td><td>24</td><td>40.732268</td><td>-73.971094</td><td>0.038813</td><td>0.05725</td><td>1222</td><td>2991</td><td>5621</td><td>1387</td><td>3374</td><td>0</td><td>23</td></tr><tr><td>2014-06-16</td><td>6</td><td>2014</td><td>Monday</td><td>2</td><td>Weekday</td><td>17655</td><td>5</td><td>24</td><td>40.739524</td><td>-73.973293</td><td>0.036026</td><td>0.05514</td><td>3598</td><td>4549</td><td>6229</td><td>1982</td><td>1297</td><td>0</td><td>23</td></tr><tr><td>2014-04-20</td><td>4</td><td>2014</td><td>Sunday</td><td>1</td><td>Weekend</td><td>10966</td><td>5</td><td>24</td><td>40.732938</td><td>-73.970135</td><td>0.039431</td><td>0.057469</td><td>1025</td><td>2598</td><td>4394</td><td>1232</td><td>1717</td><td>0</td><td>23</td></tr><tr><td>2014-06-23</td><td>6</td><td>2014</td><td>Monday</td><td>2</td><td>Weekday</td><td>17610</td><td>5</td><td>24</td><td>40.739396</td><td>-73.971522</td><td>0.037321</td><td>0.055183</td><td>3617</td><td>4452</td><td>6158</td><td>1916</td><td>1467</td><td>0</td><td>23</td></tr><tr><td>2014-07-18</td><td>7</td><td>2014</td><td>Friday</td><td>6</td><td>Weekday</td><td>29621</td><td>5</td><td>24</td><td>40.738472</td><td>-73.97491</td><td>0.035751</td><td>0.047267</td><td>4461</td><td>7469</td><td>9412</td><td>5653</td><td>2626</td><td>0</td><td>23</td></tr><tr><td>2014-04-21</td><td>4</td><td>2014</td><td>Monday</td><td>2</td><td>Weekday</td><td>13110</td><td>5</td><td>24</td><td>40.738029</td><td>-73.970861</td><td>0.036605</td><td>0.057764</td><td>2815</td><td>3484</td><td>4439</td><td>1344</td><td>1028</td><td>0</td><td>23</td></tr><tr><td>2014-05-13</td><td>5</td><td>2014</td><td>Tuesday</td><td>3</td><td>Weekday</td><td>19398</td><td>5</td><td>24</td><td>40.742249</td><td>-73.976122</td><td>0.033511</td><td>0.044295</td><td>3517</td><td>5614</td><td>6624</td><td>2589</td><td>1054</td><td>0</td><td>23</td></tr><tr><td>2014-06-30</td><td>6</td><td>2014</td><td>Monday</td><td>2</td><td>Weekday</td><td>18272</td><td>5</td><td>24</td><td>40.739976</td><td>-73.9738</td><td>0.035999</td><td>0.050909</td><td>3782</td><td>4686</td><td>6378</td><td>2002</td><td>1424</td><td>0</td><td>23</td></tr><tr><td>2014-06-07</td><td>6</td><td>2014</td><td>Saturday</td><td>7</td><td>Weekend</td><td>20648</td><td>5</td><td>24</td><td>40.736406</td><td>-73.972762</td><td>0.037086</td><td>0.051145</td><td>1766</td><td>4698</td><td>6960</td><td>4785</td><td>2439</td><td>0</td><td>23</td></tr><tr><td>2014-08-27</td><td>8</td><td>2014</td><td>Wednesday</td><td>4</td><td>Weekday</td><td>26813</td><td>5</td><td>24</td><td>40.738513</td><td>-73.971918</td><td>0.036714</td><td>0.05063</td><td>4772</td><td>7333</td><td>8975</td><td>3951</td><td>1782</td><td>0</td><td>23</td></tr><tr><td>2014-07-31</td><td>7</td><td>2014</td><td>Thursday</td><td>5</td><td>Weekday</td><td>33297</td><td>5</td><td>24</td><td>40.739924</td><td>-73.975563</td><td>0.034399</td><td>0.045381</td><td>5175</td><td>9826</td><td>10301</td><td>5717</td><td>2278</td><td>0</td><td>23</td></tr><tr><td>2014-05-10</td><td>5</td><td>2014</td><td>Saturday</td><td>7</td><td>Weekend</td><td>22395</td><td>5</td><td>24</td><td>40.736639</td><td>-73.977288</td><td>0.035059</td><td>0.040362</td><td>1490</td><td>6179</td><td>7655</td><td>4918</td><td>2153</td><td>0</td><td>23</td></tr><tr><td>2014-04-29</td><td>4</td><td>2014</td><td>Tuesday</td><td>3</td><td>Weekday</td><td>22743</td><td>5</td><td>24</td><td>40.742045</td><td>-73.978703</td><td>0.031319</td><td>0.039768</td><td>3741</td><td>7428</td><td>7766</td><td>2828</td><td>980</td><td>0</td><td>23</td></tr><tr><td>2014-05-19</td><td>5</td><td>2014</td><td>Monday</td><td>2</td><td>Weekday</td><td>18231</td><td>5</td><td>24</td><td>40.740104</td><td>-73.973233</td><td>0.035496</td><td>0.054493</td><td>3623</td><td>4865</td><td>6571</td><td>1950</td><td>1222</td><td>0</td><td>23</td></tr><tr><td>2014-07-24</td><td>7</td><td>2014</td><td>Thursday</td><td>5</td><td>Weekday</td><td>31824</td><td>5</td><td>24</td><td>40.73975</td><td>-73.975014</td><td>0.034264</td><td>0.047871</td><td>4976</td><td>9306</td><td>10017</td><td>5379</td><td>2146</td><td>0</td><td>23</td></tr><tr><td>2014-04-12</td><td>4</td><td>2014</td><td>Saturday</td><td>7</td><td>Weekend</td><td>18077</td><td>5</td><td>24</td><td>40.735238</td><td>-73.979514</td><td>0.034986</td><td>0.041559</td><td>1199</td><td>5156</td><td>5356</td><td>4467</td><td>1899</td><td>0</td><td>23</td></tr><tr><td>2014-07-03</td><td>7</td><td>2014</td><td>Thursday</td><td>5</td><td>Weekday</td><td>21439</td><td>5</td><td>24</td><td>40.739612</td><td>-73.974902</td><td>0.035502</td><td>0.048235</td><td>3555</td><td>6192</td><td>7736</td><td>2296</td><td>1660</td><td>0</td><td>23</td></tr><tr><td>2014-08-28</td><td>8</td><td>2014</td><td>Thursday</td><td>5</td><td>Weekday</td><td>28345</td><td>5</td><td>24</td><td>40.738066</td><td>-73.970838</td><td>0.037228</td><td>0.052267</td><td>4827</td><td>7528</td><td>9388</td><td>4534</td><td>2068</td><td>0</td><td>23</td></tr><tr><td>2014-08-16</td><td>8</td><td>2014</td><td>Saturday</td><td>7</td><td>Weekend</td><td>25863</td><td>5</td><td>24</td><td>40.734175</td><td>-73.972193</td><td>0.040598</td><td>0.04872</td><td>2193</td><td>6796</td><td>7872</td><td>5351</td><td>3651</td><td>0</td><td>23</td></tr><tr><td>2014-09-12</td><td>9</td><td>2014</td><td>Friday</td><td>6</td><td>Weekday</td><td>39203</td><td>5</td><td>24</td><td>40.738507</td><td>-73.97477</td><td>0.036453</td><td>0.047199</td><td>6047</td><td>10970</td><td>11501</td><td>7838</td><td>2847</td><td>0</td><td>23</td></tr><tr><td>2014-07-09</td><td>7</td><td>2014</td><td>Wednesday</td><td>4</td><td>Weekday</td><td>27642</td><td>5</td><td>24</td><td>40.739885</td><td>-73.975088</td><td>0.034818</td><td>0.046542</td><td>4780</td><td>8140</td><td>9047</td><td>3882</td><td>1793</td><td>0</td><td>23</td></tr><tr><td>2014-07-10</td><td>7</td><td>2014</td><td>Thursday</td><td>5</td><td>Weekday</td><td>30350</td><td>5</td><td>24</td><td>40.740368</td><td>-73.975986</td><td>0.03336</td><td>0.045463</td><td>5024</td><td>8673</td><td>9849</td><td>4918</td><td>1886</td><td>0</td><td>23</td></tr><tr><td>2014-04-07</td><td>4</td><td>2014</td><td>Monday</td><td>2</td><td>Weekday</td><td>19485</td><td>5</td><td>24</td><td>40.741502</td><td>-73.9768</td><td>0.032753</td><td>0.0439</td><td>3309</td><td>7527</td><td>5688</td><td>1933</td><td>1028</td><td>0</td><td>23</td></tr><tr><td>2014-08-23</td><td>8</td><td>2014</td><td>Saturday</td><td>7</td><td>Weekend</td><td>26732</td><td>5</td><td>24</td><td>40.733174</td><td>-73.972082</td><td>0.039423</td><td>0.047268</td><td>2400</td><td>6979</td><td>8405</td><td>5359</td><td>3589</td><td>0</td><td>23</td></tr><tr><td>2014-09-13</td><td>9</td><td>2014</td><td>Saturday</td><td>7</td><td>Weekend</td><td>42819</td><td>5</td><td>24</td><td>40.736599</td><td>-73.975839</td><td>0.037774</td><td>0.041458</td><td>3124</td><td>12289</td><td>14766</td><td>7563</td><td>5077</td><td>0</td><td>23</td></tr><tr><td>2014-04-02</td><td>4</td><td>2014</td><td>Wednesday</td><td>4</td><td>Weekday</td><td>17391</td><td>5</td><td>24</td><td>40.74148</td><td>-73.978257</td><td>0.032512</td><td>0.04129</td><td>3452</td><td>5061</td><td>5993</td><td>1970</td><td>915</td><td>0</td><td>23</td></tr><tr><td>2014-07-06</td><td>7</td><td>2014</td><td>Sunday</td><td>1</td><td>Weekend</td><td>11265</td><td>5</td><td>24</td><td>40.729503</td><td>-73.95768</td><td>0.045502</td><td>0.075674</td><td>930</td><td>2824</td><td>4478</td><td>1631</td><td>1402</td><td>0</td><td>23</td></tr><tr><td>2014-09-16</td><td>9</td><td>2014</td><td>Tuesday</td><td>3</td><td>Weekday</td><td>35891</td><td>5</td><td>24</td><td>40.741296</td><td>-73.976174</td><td>0.034881</td><td>0.043771</td><td>8470</td><td>9685</td><td>12185</td><td>3654</td><td>1897</td><td>0</td><td>23</td></tr><tr><td>2014-09-22</td><td>9</td><td>2014</td><td>Monday</td><td>2</td><td>Weekday</td><td>28065</td><td>5</td><td>24</td><td>40.740278</td><td>-73.971012</td><td>0.038621</td><td>0.053629</td><td>5768</td><td>7369</td><td>9266</td><td>3264</td><td>2398</td><td>0</td><td>23</td></tr><tr><td>2014-09-08</td><td>9</td><td>2014</td><td>Monday</td><td>2</td><td>Weekday</td><td>30152</td><td>5</td><td>24</td><td>40.739867</td><td>-73.97193</td><td>0.037072</td><td>0.051756</td><td>5870</td><td>8229</td><td>10418</td><td>3186</td><td>2449</td><td>0</td><td>23</td></tr><tr><td>2014-06-10</td><td>6</td><td>2014</td><td>Tuesday</td><td>3</td><td>Weekday</td><td>22765</td><td>5</td><td>24</td><td>40.741864</td><td>-73.976811</td><td>0.033039</td><td>0.044707</td><td>4452</td><td>6324</td><td>7886</td><td>2894</td><td>1209</td><td>0</td><td>23</td></tr><tr><td>2014-04-18</td><td>4</td><td>2014</td><td>Friday</td><td>6</td><td>Weekday</td><td>18002</td><td>5</td><td>24</td><td>40.737657</td><td>-73.979235</td><td>0.033112</td><td>0.042026</td><td>2400</td><td>4697</td><td>5900</td><td>3480</td><td>1525</td><td>0</td><td>23</td></tr><tr><td>2014-05-07</td><td>5</td><td>2014</td><td>Wednesday</td><td>4</td><td>Weekday</td><td>21792</td><td>5</td><td>24</td><td>40.741551</td><td>-73.977167</td><td>0.032437</td><td>0.044118</td><td>3686</td><td>6438</td><td>7609</td><td>3015</td><td>1044</td><td>0</td><td>23</td></tr><tr><td>2014-05-12</td><td>5</td><td>2014</td><td>Monday</td><td>2</td><td>Weekday</td><td>17383</td><td>5</td><td>24</td><td>40.74055</td><td>-73.971727</td><td>0.037258</td><td>0.053554</td><td>3330</td><td>4486</td><td>6431</td><td>2044</td><td>1092</td><td>0</td><td>23</td></tr><tr><td>2014-09-06</td><td>9</td><td>2014</td><td>Saturday</td><td>7</td><td>Weekend</td><td>40135</td><td>5</td><td>24</td><td>40.736355</td><td>-73.975626</td><td>0.036736</td><td>0.042653</td><td>3244</td><td>10699</td><td>13231</td><td>8294</td><td>4667</td><td>0</td><td>23</td></tr><tr><td>2014-07-07</td><td>7</td><td>2014</td><td>Monday</td><td>2</td><td>Weekday</td><td>18144</td><td>5</td><td>24</td><td>40.737741</td><td>-73.968906</td><td>0.038469</td><td>0.059899</td><td>3273</td><td>5056</td><td>6168</td><td>2277</td><td>1370</td><td>0</td><td>23</td></tr><tr><td>2014-07-17</td><td>7</td><td>2014</td><td>Thursday</td><td>5</td><td>Weekday</td><td>30515</td><td>5</td><td>24</td><td>40.739895</td><td>-73.975756</td><td>0.034191</td><td>0.047519</td><td>4703</td><td>8478</td><td>9729</td><td>5391</td><td>2214</td><td>0</td><td>23</td></tr><tr><td>2014-06-06</td><td>6</td><td>2014</td><td>Friday</td><td>6</td><td>Weekday</td><td>24527</td><td>5</td><td>24</td><td>40.740619</td><td>-73.976568</td><td>0.034117</td><td>0.046071</td><td>3857</td><td>5792</td><td>8490</td><td>4636</td><td>1752</td><td>0</td><td>23</td></tr><tr><td>2014-07-29</td><td>7</td><td>2014</td><td>Tuesday</td><td>3</td><td>Weekday</td><td>27391</td><td>5</td><td>24</td><td>40.740416</td><td>-73.974422</td><td>0.035008</td><td>0.047117</td><td>4740</td><td>8276</td><td>8880</td><td>3740</td><td>1755</td><td>0</td><td>23</td></tr><tr><td>2014-05-02</td><td>5</td><td>2014</td><td>Friday</td><td>6</td><td>Weekday</td><td>24119</td><td>5</td><td>24</td><td>40.739378</td><td>-73.976568</td><td>0.03308</td><td>0.0445</td><td>3355</td><td>7080</td><td>7495</td><td>4744</td><td>1445</td><td>0</td><td>23</td></tr><tr><td>2014-06-13</td><td>6</td><td>2014</td><td>Friday</td><td>6</td><td>Weekday</td><td>31042</td><td>5</td><td>24</td><td>40.740866</td><td>-73.977365</td><td>0.03259</td><td>0.042252</td><td>6002</td><td>9688</td><td>9160</td><td>4005</td><td>2187</td><td>0</td><td>23</td></tr><tr><td>2014-07-02</td><td>7</td><td>2014</td><td>Wednesday</td><td>4</td><td>Weekday</td><td>26315</td><td>5</td><td>24</td><td>40.741611</td><td>-73.978548</td><td>0.032057</td><td>0.04052</td><td>4019</td><td>9398</td><td>8547</td><td>3035</td><td>1316</td><td>0</td><td>23</td></tr><tr><td>2014-05-18</td><td>5</td><td>2014</td><td>Sunday</td><td>1</td><td>Weekend</td><td>16411</td><td>5</td><td>24</td><td>40.733911</td><td>-73.97102</td><td>0.038416</td><td>0.057797</td><td>1399</td><td>3439</td><td>6254</td><td>1589</td><td>3730</td><td>0</td><td>23</td></tr><tr><td>2014-06-02</td><td>6</td><td>2014</td><td>Monday</td><td>2</td><td>Weekday</td><td>17422</td><td>5</td><td>24</td><td>40.740441</td><td>-73.971099</td><td>0.036651</td><td>0.053906</td><td>3584</td><td>4571</td><td>6090</td><td>1897</td><td>1280</td><td>0</td><td>23</td></tr><tr><td>2014-08-11</td><td>8</td><td>2014</td><td>Monday</td><td>2</td><td>Weekday</td><td>22473</td><td>5</td><td>24</td><td>40.738085</td><td>-73.96992</td><td>0.039026</td><td>0.055971</td><td>4418</td><td>5994</td><td>7425</td><td>2601</td><td>2035</td><td>0</td><td>23</td></tr><tr><td>2014-07-15</td><td>7</td><td>2014</td><td>Tuesday</td><td>3</td><td>Weekday</td><td>33712</td><td>5</td><td>24</td><td>40.741151</td><td>-73.977497</td><td>0.03234</td><td>0.042987</td><td>4919</td><td>12391</td><td>10733</td><td>3908</td><td>1761</td><td>0</td><td>23</td></tr><tr><td>2014-08-25</td><td>8</td><td>2014</td><td>Monday</td><td>2</td><td>Weekday</td><td>21917</td><td>5</td><td>24</td><td>40.737072</td><td>-73.96748</td><td>0.039811</td><td>0.057544</td><td>4455</td><td>5498</td><td>7264</td><td>2610</td><td>2090</td><td>0</td><td>23</td></tr><tr><td>2014-05-05</td><td>5</td><td>2014</td><td>Monday</td><td>2</td><td>Weekday</td><td>17782</td><td>5</td><td>24</td><td>40.740857</td><td>-73.9738</td><td>0.035137</td><td>0.05074</td><td>3425</td><td>4940</td><td>6124</td><td>2120</td><td>1173</td><td>0</td><td>23</td></tr><tr><td>2014-05-14</td><td>5</td><td>2014</td><td>Wednesday</td><td>4</td><td>Weekday</td><td>22104</td><td>5</td><td>24</td><td>40.741784</td><td>-73.976763</td><td>0.032654</td><td>0.045701</td><td>3942</td><td>6834</td><td>7341</td><td>2801</td><td>1186</td><td>0</td><td>23</td></tr><tr><td>2014-04-14</td><td>4</td><td>2014</td><td>Monday</td><td>2</td><td>Weekday</td><td>12596</td><td>5</td><td>24</td><td>40.739537</td><td>-73.971897</td><td>0.037393</td><td>0.053707</td><td>2807</td><td>2978</td><td>4583</td><td>1312</td><td>916</td><td>0</td><td>23</td></tr><tr><td>2014-07-11</td><td>7</td><td>2014</td><td>Friday</td><td>6</td><td>Weekday</td><td>28512</td><td>5</td><td>24</td><td>40.738882</td><td>-73.975499</td><td>0.035011</td><td>0.045056</td><td>4419</td><td>6960</td><td>9469</td><td>5306</td><td>2358</td><td>0</td><td>23</td></tr><tr><td>2014-07-13</td><td>7</td><td>2014</td><td>Sunday</td><td>1</td><td>Weekend</td><td>20932</td><td>5</td><td>24</td><td>40.733928</td><td>-73.968518</td><td>0.040029</td><td>0.056074</td><td>1895</td><td>4551</td><td>7947</td><td>2620</td><td>3919</td><td>0</td><td>23</td></tr><tr><td>2014-05-04</td><td>5</td><td>2014</td><td>Sunday</td><td>1</td><td>Weekend</td><td>13838</td><td>5</td><td>24</td><td>40.732801</td><td>-73.967428</td><td>0.039659</td><td>0.060531</td><td>932</td><td>3225</td><td>5211</td><td>1543</td><td>2927</td><td>0</td><td>23</td></tr><tr><td>2014-06-17</td><td>6</td><td>2014</td><td>Tuesday</td><td>3</td><td>Weekday</td><td>21676</td><td>5</td><td>24</td><td>40.741987</td><td>-73.976782</td><td>0.033531</td><td>0.044188</td><td>3867</td><td>6333</td><td>7542</td><td>2826</td><td>1108</td><td>0</td><td>23</td></tr><tr><td>2014-09-04</td><td>9</td><td>2014</td><td>Thursday</td><td>5</td><td>Weekday</td><td>38112</td><td>5</td><td>24</td><td>40.740325</td><td>-73.974289</td><td>0.034597</td><td>0.047692</td><td>6343</td><td>11173</td><td>12367</td><td>5909</td><td>2320</td><td>0</td><td>23</td></tr><tr><td>2014-06-26</td><td>6</td><td>2014</td><td>Thursday</td><td>5</td><td>Weekday</td><td>28358</td><td>5</td><td>24</td><td>40.740759</td><td>-73.976583</td><td>0.033058</td><td>0.046976</td><td>4495</td><td>8114</td><td>9090</td><td>4865</td><td>1794</td><td>0</td><td>23</td></tr><tr><td>2014-08-26</td><td>8</td><td>2014</td><td>Tuesday</td><td>3</td><td>Weekday</td><td>24370</td><td>5</td><td>24</td><td>40.738482</td><td>-73.971449</td><td>0.037518</td><td>0.051389</td><td>4678</td><td>6532</td><td>8241</td><td>3302</td><td>1617</td><td>0</td><td>23</td></tr><tr><td>2014-04-23</td><td>4</td><td>2014</td><td>Wednesday</td><td>4</td><td>Weekday</td><td>20269</td><td>5</td><td>24</td><td>40.7408</td><td>-73.977584</td><td>0.032058</td><td>0.044678</td><td>3450</td><td>6432</td><td>6609</td><td>2792</td><td>986</td><td>0</td><td>23</td></tr><tr><td>2014-04-09</td><td>4</td><td>2014</td><td>Wednesday</td><td>4</td><td>Weekday</td><td>16756</td><td>5</td><td>24</td><td>40.741742</td><td>-73.977281</td><td>0.033466</td><td>0.044342</td><td>3282</td><td>4833</td><td>5569</td><td>2058</td><td>1014</td><td>0</td><td>23</td></tr><tr><td>2014-05-15</td><td>5</td><td>2014</td><td>Thursday</td><td>5</td><td>Weekday</td><td>26161</td><td>5</td><td>24</td><td>40.742519</td><td>-73.976145</td><td>0.032216</td><td>0.044758</td><td>4208</td><td>7711</td><td>8875</td><td>3872</td><td>1495</td><td>0</td><td>23</td></tr><tr><td>2014-06-25</td><td>6</td><td>2014</td><td>Wednesday</td><td>4</td><td>Weekday</td><td>26292</td><td>5</td><td>24</td><td>40.741323</td><td>-73.97739</td><td>0.032426</td><td>0.04468</td><td>4368</td><td>7882</td><td>8710</td><td>3961</td><td>1371</td><td>0</td><td>23</td></tr><tr><td>2014-09-11</td><td>9</td><td>2014</td><td>Thursday</td><td>5</td><td>Weekday</td><td>36185</td><td>5</td><td>24</td><td>40.739987</td><td>-73.976341</td><td>0.034988</td><td>0.045322</td><td>5709</td><td>10971</td><td>12077</td><td>5431</td><td>1997</td><td>0</td><td>23</td></tr><tr><td>2014-09-29</td><td>9</td><td>2014</td><td>Monday</td><td>2</td><td>Weekday</td><td>29022</td><td>5</td><td>24</td><td>40.739021</td><td>-73.970016</td><td>0.038952</td><td>0.054237</td><td>6221</td><td>7495</td><td>9612</td><td>3208</td><td>2486</td><td>0</td><td>23</td></tr><tr><td>2014-04-26</td><td>4</td><td>2014</td><td>Saturday</td><td>7</td><td>Weekend</td><td>24778</td><td>5</td><td>24</td><td>40.736296</td><td>-73.980063</td><td>0.033333</td><td>0.038521</td><td>1522</td><td>7173</td><td>6818</td><td>5447</td><td>3818</td><td>0</td><td>23</td></tr><tr><td>2014-05-22</td><td>5</td><td>2014</td><td>Thursday</td><td>5</td><td>Weekday</td><td>26691</td><td>5</td><td>24</td><td>40.742074</td><td>-73.976528</td><td>0.032499</td><td>0.044694</td><td>4534</td><td>7767</td><td>8802</td><td>3987</td><td>1601</td><td>0</td><td>23</td></tr><tr><td>2014-04-15</td><td>4</td><td>2014</td><td>Tuesday</td><td>3</td><td>Weekday</td><td>20567</td><td>5</td><td>24</td><td>40.741525</td><td>-73.978881</td><td>0.031422</td><td>0.040805</td><td>3135</td><td>6986</td><td>6402</td><td>3260</td><td>784</td><td>0</td><td>23</td></tr><tr><td>2014-06-11</td><td>6</td><td>2014</td><td>Wednesday</td><td>4</td><td>Weekday</td><td>25572</td><td>5</td><td>24</td><td>40.742188</td><td>-73.977758</td><td>0.032273</td><td>0.043617</td><td>5121</td><td>6937</td><td>8472</td><td>3656</td><td>1386</td><td>0</td><td>23</td></tr><tr><td>2014-06-05</td><td>6</td><td>2014</td><td>Thursday</td><td>5</td><td>Weekday</td><td>28241</td><td>5</td><td>24</td><td>40.742234</td><td>-73.977265</td><td>0.031656</td><td>0.043689</td><td>6378</td><td>6958</td><td>8595</td><td>4599</td><td>1711</td><td>0</td><td>23</td></tr><tr><td>2014-06-19</td><td>6</td><td>2014</td><td>Thursday</td><td>5</td><td>Weekday</td><td>28444</td><td>5</td><td>24</td><td>40.741697</td><td>-73.976817</td><td>0.032677</td><td>0.046205</td><td>4419</td><td>8415</td><td>9215</td><td>4890</td><td>1505</td><td>0</td><td>23</td></tr><tr><td>2014-06-29</td><td>6</td><td>2014</td><td>Sunday</td><td>1</td><td>Weekend</td><td>16955</td><td>5</td><td>24</td><td>40.734476</td><td>-73.971613</td><td>0.038967</td><td>0.056157</td><td>1534</td><td>3586</td><td>6039</td><td>2076</td><td>3720</td><td>0</td><td>23</td></tr><tr><td>2014-08-20</td><td>8</td><td>2014</td><td>Wednesday</td><td>4</td><td>Weekday</td><td>27753</td><td>5</td><td>24</td><td>40.739106</td><td>-73.973679</td><td>0.037257</td><td>0.048753</td><td>4883</td><td>7642</td><td>9194</td><td>4078</td><td>1956</td><td>0</td><td>23</td></tr><tr><td>2014-06-27</td><td>6</td><td>2014</td><td>Friday</td><td>6</td><td>Weekday</td><td>24739</td><td>5</td><td>24</td><td>40.739099</td><td>-73.976382</td><td>0.034715</td><td>0.046966</td><td>3984</td><td>5770</td><td>8415</td><td>4627</td><td>1943</td><td>0</td><td>23</td></tr><tr><td>2014-04-30</td><td>4</td><td>2014</td><td>Wednesday</td><td>4</td><td>Weekday</td><td>36142</td><td>5</td><td>24</td><td>40.743426</td><td>-73.979908</td><td>0.029162</td><td>0.037067</td><td>5546</td><td>11415</td><td>12812</td><td>4960</td><td>1409</td><td>0</td><td>23</td></tr><tr><td>2014-05-23</td><td>5</td><td>2014</td><td>Friday</td><td>6</td><td>Weekday</td><td>26329</td><td>5</td><td>24</td><td>40.739074</td><td>-73.978199</td><td>0.032577</td><td>0.043029</td><td>3517</td><td>7887</td><td>7629</td><td>5489</td><td>1807</td><td>0</td><td>23</td></tr><tr><td>2014-04-13</td><td>4</td><td>2014</td><td>Sunday</td><td>1</td><td>Weekend</td><td>12062</td><td>5</td><td>24</td><td>40.733532</td><td>-73.972904</td><td>0.038517</td><td>0.055806</td><td>1124</td><td>2458</td><td>4708</td><td>1125</td><td>2647</td><td>0</td><td>23</td></tr><tr><td>2014-06-14</td><td>6</td><td>2014</td><td>Saturday</td><td>7</td><td>Weekend</td><td>19158</td><td>5</td><td>24</td><td>40.733446</td><td>-73.975393</td><td>0.03751</td><td>0.046529</td><td>1728</td><td>4529</td><td>6482</td><td>4100</td><td>2319</td><td>0</td><td>23</td></tr><tr><td>2014-04-10</td><td>4</td><td>2014</td><td>Thursday</td><td>5</td><td>Weekday</td><td>19955</td><td>5</td><td>24</td><td>40.741238</td><td>-73.976988</td><td>0.033343</td><td>0.045734</td><td>3284</td><td>6041</td><td>6539</td><td>3011</td><td>1080</td><td>0</td><td>23</td></tr><tr><td>2014-04-05</td><td>4</td><td>2014</td><td>Saturday</td><td>7</td><td>Weekend</td><td>19432</td><td>5</td><td>24</td><td>40.735924</td><td>-73.978595</td><td>0.033932</td><td>0.038735</td><td>1267</td><td>5790</td><td>5440</td><td>5080</td><td>1855</td><td>0</td><td>23</td></tr><tr><td>2014-09-28</td><td>9</td><td>2014</td><td>Sunday</td><td>1</td><td>Weekend</td><td>29404</td><td>5</td><td>24</td><td>40.733634</td><td>-73.966673</td><td>0.04245</td><td>0.058938</td><td>2791</td><td>6543</td><td>11225</td><td>2872</td><td>5973</td><td>0</td><td>23</td></tr><tr><td>2014-06-15</td><td>6</td><td>2014</td><td>Sunday</td><td>1</td><td>Weekend</td><td>14379</td><td>5</td><td>24</td><td>40.732178</td><td>-73.966678</td><td>0.041552</td><td>0.063097</td><td>1285</td><td>3297</td><td>5547</td><td>1750</td><td>2500</td><td>0</td><td>23</td></tr><tr><td>2014-07-20</td><td>7</td><td>2014</td><td>Sunday</td><td>1</td><td>Weekend</td><td>20998</td><td>5</td><td>24</td><td>40.733456</td><td>-73.966559</td><td>0.040809</td><td>0.059311</td><td>1898</td><td>4542</td><td>7922</td><td>2422</td><td>4214</td><td>0</td><td>23</td></tr><tr><td>2014-09-23</td><td>9</td><td>2014</td><td>Tuesday</td><td>3</td><td>Weekday</td><td>30083</td><td>5</td><td>24</td><td>40.740204</td><td>-73.974433</td><td>0.036993</td><td>0.047211</td><td>5816</td><td>8783</td><td>9427</td><td>3986</td><td>2071</td><td>0</td><td>23</td></tr><tr><td>2014-09-18</td><td>9</td><td>2014</td><td>Thursday</td><td>5</td><td>Weekday</td><td>40000</td><td>5</td><td>24</td><td>40.740142</td><td>-73.974381</td><td>0.035645</td><td>0.047419</td><td>6471</td><td>12383</td><td>12228</td><td>6544</td><td>2374</td><td>0</td><td>23</td></tr><tr><td>2014-04-03</td><td>4</td><td>2014</td><td>Thursday</td><td>5</td><td>Weekday</td><td>20603</td><td>5</td><td>24</td><td>40.741274</td><td>-73.979587</td><td>0.031145</td><td>0.041682</td><td>3210</td><td>6215</td><td>6079</td><td>4065</td><td>1034</td><td>0</td><td>23</td></tr><tr><td>2014-06-24</td><td>6</td><td>2014</td><td>Tuesday</td><td>3</td><td>Weekday</td><td>20649</td><td>5</td><td>24</td><td>40.741235</td><td>-73.975326</td><td>0.033915</td><td>0.048026</td><td>3759</td><td>5873</td><td>7036</td><td>2810</td><td>1171</td><td>0</td><td>23</td></tr><tr><td>2014-07-04</td><td>7</td><td>2014</td><td>Friday</td><td>6</td><td>Weekday</td><td>13929</td><td>5</td><td>24</td><td>40.731873</td><td>-73.971336</td><td>0.038672</td><td>0.052304</td><td>1268</td><td>2753</td><td>5004</td><td>3070</td><td>1834</td><td>0</td><td>23</td></tr><tr><td>2014-05-16</td><td>5</td><td>2014</td><td>Friday</td><td>6</td><td>Weekday</td><td>32370</td><td>5</td><td>24</td><td>40.74209</td><td>-73.978357</td><td>0.031188</td><td>0.040765</td><td>4099</td><td>10267</td><td>9904</td><td>6389</td><td>1711</td><td>0</td><td>23</td></tr><tr><td>2014-06-28</td><td>6</td><td>2014</td><td>Saturday</td><td>7</td><td>Weekend</td><td>20988</td><td>5</td><td>24</td><td>40.7347</td><td>-73.975184</td><td>0.037996</td><td>0.045936</td><td>1783</td><td>4788</td><td>7014</td><td>4468</td><td>2935</td><td>0</td><td>23</td></tr><tr><td>2014-09-10</td><td>9</td><td>2014</td><td>Wednesday</td><td>4</td><td>Weekday</td><td>35690</td><td>5</td><td>24</td><td>40.740323</td><td>-73.976731</td><td>0.034578</td><td>0.044118</td><td>6222</td><td>10567</td><td>12020</td><td>4551</td><td>2330</td><td>0</td><td>23</td></tr><tr><td>2014-05-20</td><td>5</td><td>2014</td><td>Tuesday</td><td>3</td><td>Weekday</td><td>20779</td><td>5</td><td>24</td><td>40.742324</td><td>-73.976908</td><td>0.032708</td><td>0.045745</td><td>3638</td><td>6051</td><td>7359</td><td>2630</td><td>1101</td><td>0</td><td>23</td></tr><tr><td>2014-04-17</td><td>4</td><td>2014</td><td>Thursday</td><td>5</td><td>Weekday</td><td>20897</td><td>5</td><td>24</td><td>40.740629</td><td>-73.979138</td><td>0.031407</td><td>0.042274</td><td>3365</td><td>6353</td><td>6441</td><td>3619</td><td>1119</td><td>0</td><td>23</td></tr><tr><td>2014-05-24</td><td>5</td><td>2014</td><td>Saturday</td><td>7</td><td>Weekend</td><td>14543</td><td>5</td><td>24</td><td>40.735064</td><td>-73.976283</td><td>0.036551</td><td>0.044825</td><td>1276</td><td>3486</td><td>5522</td><td>2344</td><td>1915</td><td>0</td><td>23</td></tr><tr><td>2014-08-10</td><td>8</td><td>2014</td><td>Sunday</td><td>1</td><td>Weekend</td><td>20359</td><td>5</td><td>24</td><td>40.73277</td><td>-73.965738</td><td>0.042851</td><td>0.060787</td><td>1772</td><td>4904</td><td>7258</td><td>2464</td><td>3961</td><td>0</td><td>23</td></tr><tr><td>2014-09-20</td><td>9</td><td>2014</td><td>Saturday</td><td>7</td><td>Weekend</td><td>38515</td><td>5</td><td>24</td><td>40.73659</td><td>-73.974181</td><td>0.037732</td><td>0.04462</td><td>3292</td><td>10360</td><td>12374</td><td>7687</td><td>4802</td><td>0</td><td>23</td></tr><tr><td>2014-04-01</td><td>4</td><td>2014</td><td>Tuesday</td><td>3</td><td>Weekday</td><td>14469</td><td>5</td><td>24</td><td>40.740248</td><td>-73.976912</td><td>0.034205</td><td>0.045701</td><td>3027</td><td>3981</td><td>4905</td><td>1716</td><td>840</td><td>0</td><td>23</td></tr><tr><td>2014-05-09</td><td>5</td><td>2014</td><td>Friday</td><td>6</td><td>Weekday</td><td>26242</td><td>5</td><td>24</td><td>40.741157</td><td>-73.977511</td><td>0.032435</td><td>0.042171</td><td>4109</td><td>7749</td><td>8600</td><td>4087</td><td>1697</td><td>0</td><td>23</td></tr><tr><td>2014-07-30</td><td>7</td><td>2014</td><td>Wednesday</td><td>4</td><td>Weekday</td><td>30509</td><td>5</td><td>24</td><td>40.740647</td><td>-73.975071</td><td>0.034832</td><td>0.04491</td><td>5175</td><td>8905</td><td>9998</td><td>4525</td><td>1906</td><td>0</td><td>23</td></tr><tr><td>2014-06-08</td><td>6</td><td>2014</td><td>Sunday</td><td>1</td><td>Weekend</td><td>15623</td><td>5</td><td>24</td><td>40.734901</td><td>-73.968012</td><td>0.040229</td><td>0.059528</td><td>1336</td><td>3292</td><td>6278</td><td>1964</td><td>2753</td><td>0</td><td>23</td></tr><tr><td>2014-06-01</td><td>6</td><td>2014</td><td>Sunday</td><td>1</td><td>Weekend</td><td>15838</td><td>5</td><td>24</td><td>40.732142</td><td>-73.967741</td><td>0.04022</td><td>0.06166</td><td>1340</td><td>3686</td><td>6305</td><td>1748</td><td>2759</td><td>0</td><td>23</td></tr><tr><td>2014-08-31</td><td>8</td><td>2014</td><td>Sunday</td><td>1</td><td>Weekend</td><td>22942</td><td>5</td><td>24</td><td>40.734496</td><td>-73.966225</td><td>0.042308</td><td>0.054684</td><td>1882</td><td>5579</td><td>8758</td><td>3755</td><td>2968</td><td>0</td><td>23</td></tr><tr><td>2014-07-01</td><td>7</td><td>2014</td><td>Tuesday</td><td>3</td><td>Weekday</td><td>21096</td><td>5</td><td>24</td><td>40.741089</td><td>-73.977912</td><td>0.03306</td><td>0.042292</td><td>3853</td><td>6054</td><td>7611</td><td>2467</td><td>1111</td><td>0</td><td>23</td></tr><tr><td>2014-08-08</td><td>8</td><td>2014</td><td>Friday</td><td>6</td><td>Weekday</td><td>30096</td><td>5</td><td>24</td><td>40.738051</td><td>-73.974992</td><td>0.036426</td><td>0.046138</td><td>4773</td><td>7651</td><td>9347</td><td>5500</td><td>2825</td><td>0</td><td>23</td></tr><tr><td>2014-04-24</td><td>4</td><td>2014</td><td>Thursday</td><td>5</td><td>Weekday</td><td>23253</td><td>5</td><td>24</td><td>40.741624</td><td>-73.977736</td><td>0.031521</td><td>0.043688</td><td>3705</td><td>7169</td><td>7059</td><td>4111</td><td>1209</td><td>0</td><td>23</td></tr><tr><td>2014-05-28</td><td>5</td><td>2014</td><td>Wednesday</td><td>4</td><td>Weekday</td><td>22144</td><td>5</td><td>24</td><td>40.741679</td><td>-73.976232</td><td>0.032823</td><td>0.046116</td><td>3791</td><td>6712</td><td>7695</td><td>2849</td><td>1097</td><td>0</td><td>23</td></tr><tr><td>2014-04-08</td><td>4</td><td>2014</td><td>Tuesday</td><td>3</td><td>Weekday</td><td>16116</td><td>5</td><td>24</td><td>40.741678</td><td>-73.977361</td><td>0.033304</td><td>0.044046</td><td>3719</td><td>4481</td><td>5043</td><td>1825</td><td>1048</td><td>0</td><td>23</td></tr><tr><td>2014-04-22</td><td>4</td><td>2014</td><td>Tuesday</td><td>3</td><td>Weekday</td><td>16919</td><td>5</td><td>24</td><td>40.741216</td><td>-73.976956</td><td>0.03307</td><td>0.047585</td><td>2961</td><td>5174</td><td>6005</td><td>1888</td><td>891</td><td>0</td><td>23</td></tr><tr><td>2014-09-26</td><td>9</td><td>2014</td><td>Friday</td><td>6</td><td>Weekday</td><td>37216</td><td>5</td><td>24</td><td>40.73802</td><td>-73.974846</td><td>0.036074</td><td>0.046182</td><td>5229</td><td>10814</td><td>11050</td><td>7532</td><td>2591</td><td>0</td><td>23</td></tr><tr><td>2014-05-03</td><td>5</td><td>2014</td><td>Saturday</td><td>7</td><td>Weekend</td><td>22100</td><td>5</td><td>24</td><td>40.735639</td><td>-73.978212</td><td>0.034768</td><td>0.041601</td><td>1446</td><td>6688</td><td>6879</td><td>4738</td><td>2349</td><td>0</td><td>23</td></tr><tr><td>2014-08-05</td><td>8</td><td>2014</td><td>Tuesday</td><td>3</td><td>Weekday</td><td>27902</td><td>5</td><td>24</td><td>40.740231</td><td>-73.974873</td><td>0.035323</td><td>0.046239</td><td>4921</td><td>7987</td><td>9446</td><td>3735</td><td>1813</td><td>0</td><td>23</td></tr><tr><td>2014-07-23</td><td>7</td><td>2014</td><td>Wednesday</td><td>4</td><td>Weekday</td><td>33877</td><td>5</td><td>24</td><td>40.741014</td><td>-73.976851</td><td>0.032924</td><td>0.042185</td><td>5238</td><td>10025</td><td>11306</td><td>5323</td><td>1985</td><td>0</td><td>23</td></tr><tr><td>2014-09-14</td><td>9</td><td>2014</td><td>Sunday</td><td>1</td><td>Weekend</td><td>27931</td><td>5</td><td>24</td><td>40.734026</td><td>-73.968136</td><td>0.042474</td><td>0.057184</td><td>2707</td><td>6774</td><td>10514</td><td>2740</td><td>5196</td><td>0</td><td>23</td></tr><tr><td>2014-08-24</td><td>8</td><td>2014</td><td>Sunday</td><td>1</td><td>Weekend</td><td>21807</td><td>5</td><td>24</td><td>40.731219</td><td>-73.964787</td><td>0.043071</td><td>0.061453</td><td>2190</td><td>4977</td><td>7926</td><td>2518</td><td>4196</td><td>0</td><td>23</td></tr><tr><td>2014-09-17</td><td>9</td><td>2014</td><td>Wednesday</td><td>4</td><td>Weekday</td><td>35316</td><td>5</td><td>24</td><td>40.740174</td><td>-73.975034</td><td>0.035138</td><td>0.046516</td><td>6425</td><td>10454</td><td>11649</td><td>4608</td><td>2180</td><td>0</td><td>23</td></tr><tr><td>2014-06-09</td><td>6</td><td>2014</td><td>Monday</td><td>2</td><td>Weekday</td><td>23142</td><td>5</td><td>24</td><td>40.74163</td><td>-73.974018</td><td>0.034801</td><td>0.049882</td><td>6568</td><td>5285</td><td>7395</td><td>2063</td><td>1831</td><td>0</td><td>23</td></tr><tr><td>2014-09-05</td><td>9</td><td>2014</td><td>Friday</td><td>6</td><td>Weekday</td><td>42029</td><td>5</td><td>24</td><td>40.739281</td><td>-73.975607</td><td>0.035318</td><td>0.044431</td><td>6463</td><td>11943</td><td>13010</td><td>7790</td><td>2823</td><td>0</td><td>23</td></tr><tr><td>2014-04-19</td><td>4</td><td>2014</td><td>Saturday</td><td>7</td><td>Weekend</td><td>14541</td><td>5</td><td>24</td><td>40.734565</td><td>-73.979231</td><td>0.035433</td><td>0.038654</td><td>1069</td><td>3832</td><td>4808</td><td>2937</td><td>1895</td><td>0</td><td>23</td></tr><tr><td>2014-05-21</td><td>5</td><td>2014</td><td>Wednesday</td><td>4</td><td>Weekday</td><td>23402</td><td>5</td><td>24</td><td>40.742212</td><td>-73.977854</td><td>0.032759</td><td>0.044219</td><td>3907</td><td>6795</td><td>8504</td><td>2947</td><td>1249</td><td>0</td><td>23</td></tr><tr><td>2014-07-12</td><td>7</td><td>2014</td><td>Saturday</td><td>7</td><td>Weekend</td><td>25647</td><td>5</td><td>24</td><td>40.736119</td><td>-73.974854</td><td>0.037929</td><td>0.043827</td><td>2124</td><td>6153</td><td>8500</td><td>5116</td><td>3754</td><td>0</td><td>23</td></tr><tr><td>2014-05-08</td><td>5</td><td>2014</td><td>Thursday</td><td>5</td><td>Weekday</td><td>27387</td><td>5</td><td>24</td><td>40.743127</td><td>-73.976926</td><td>0.031866</td><td>0.042086</td><td>5856</td><td>7336</td><td>8866</td><td>3717</td><td>1612</td><td>0</td><td>23</td></tr><tr><td>2014-08-30</td><td>8</td><td>2014</td><td>Saturday</td><td>7</td><td>Weekend</td><td>23544</td><td>5</td><td>24</td><td>40.734891</td><td>-73.967731</td><td>0.041697</td><td>0.051047</td><td>2412</td><td>5587</td><td>8009</td><td>4295</td><td>3241</td><td>0</td><td>23</td></tr><tr><td>2014-04-16</td><td>4</td><td>2014</td><td>Wednesday</td><td>4</td><td>Weekday</td><td>17637</td><td>5</td><td>24</td><td>40.741436</td><td>-73.977264</td><td>0.032872</td><td>0.044666</td><td>3167</td><td>5220</td><td>5756</td><td>2492</td><td>1002</td><td>0</td><td>23</td></tr><tr><td>2014-09-24</td><td>9</td><td>2014</td><td>Wednesday</td><td>4</td><td>Weekday</td><td>31018</td><td>5</td><td>24</td><td>40.739949</td><td>-73.972783</td><td>0.037917</td><td>0.046912</td><td>5893</td><td>8508</td><td>10478</td><td>3889</td><td>2250</td><td>0</td><td>23</td></tr><tr><td>2014-09-25</td><td>9</td><td>2014</td><td>Thursday</td><td>5</td><td>Weekday</td><td>37967</td><td>5</td><td>24</td><td>40.740713</td><td>-73.974496</td><td>0.035546</td><td>0.045763</td><td>8684</td><td>9314</td><td>12797</td><td>4854</td><td>2318</td><td>0</td><td>23</td></tr><tr><td>2014-06-04</td><td>6</td><td>2014</td><td>Wednesday</td><td>4</td><td>Weekday</td><td>22727</td><td>5</td><td>24</td><td>40.741611</td><td>-73.97694</td><td>0.033339</td><td>0.043859</td><td>4063</td><td>6397</td><td>7880</td><td>3257</td><td>1130</td><td>0</td><td>23</td></tr><tr><td>2014-07-21</td><td>7</td><td>2014</td><td>Monday</td><td>2</td><td>Weekday</td><td>23407</td><td>5</td><td>24</td><td>40.739386</td><td>-73.971011</td><td>0.037448</td><td>0.054251</td><td>4526</td><td>6273</td><td>8014</td><td>2721</td><td>1873</td><td>0</td><td>23</td></tr><tr><td>2014-08-07</td><td>8</td><td>2014</td><td>Thursday</td><td>5</td><td>Weekday</td><td>32508</td><td>5</td><td>24</td><td>40.739608</td><td>-73.976303</td><td>0.034489</td><td>0.045168</td><td>5058</td><td>9329</td><td>10215</td><td>5565</td><td>2341</td><td>0</td><td>23</td></tr><tr><td>2014-08-01</td><td>8</td><td>2014</td><td>Friday</td><td>6</td><td>Weekday</td><td>32023</td><td>5</td><td>24</td><td>40.738109</td><td>-73.974004</td><td>0.035508</td><td>0.046396</td><td>4689</td><td>8410</td><td>10154</td><td>5986</td><td>2784</td><td>0</td><td>23</td></tr><tr><td>2014-05-29</td><td>5</td><td>2014</td><td>Thursday</td><td>5</td><td>Weekday</td><td>24815</td><td>5</td><td>24</td><td>40.741545</td><td>-73.978015</td><td>0.032301</td><td>0.044062</td><td>3806</td><td>7728</td><td>7737</td><td>4359</td><td>1185</td><td>0</td><td>23</td></tr><tr><td>2014-06-22</td><td>6</td><td>2014</td><td>Sunday</td><td>1</td><td>Weekend</td><td>16160</td><td>5</td><td>24</td><td>40.732789</td><td>-73.967474</td><td>0.040081</td><td>0.062784</td><td>1357</td><td>3580</td><td>6392</td><td>2018</td><td>2813</td><td>0</td><td>23</td></tr><tr><td>2014-08-15</td><td>8</td><td>2014</td><td>Friday</td><td>6</td><td>Weekday</td><td>28713</td><td>5</td><td>24</td><td>40.737303</td><td>-73.974024</td><td>0.03703</td><td>0.048025</td><td>4606</td><td>7261</td><td>9007</td><td>5250</td><td>2589</td><td>0</td><td>23</td></tr><tr><td>2014-05-17</td><td>5</td><td>2014</td><td>Saturday</td><td>7</td><td>Weekend</td><td>22145</td><td>5</td><td>24</td><td>40.73564</td><td>-73.976584</td><td>0.036732</td><td>0.043825</td><td>1584</td><td>6246</td><td>6747</td><td>5329</td><td>2239</td><td>0</td><td>23</td></tr><tr><td>2014-05-31</td><td>5</td><td>2014</td><td>Saturday</td><td>7</td><td>Weekend</td><td>21080</td><td>5</td><td>24</td><td>40.735496</td><td>-73.977547</td><td>0.036257</td><td>0.043155</td><td>1664</td><td>5201</td><td>7280</td><td>4828</td><td>2107</td><td>0</td><td>23</td></tr><tr><td>2014-05-26</td><td>5</td><td>2014</td><td>Monday</td><td>2</td><td>Weekday</td><td>10128</td><td>5</td><td>24</td><td>40.728476</td><td>-73.960754</td><td>0.044545</td><td>0.074945</td><td>864</td><td>2709</td><td>4038</td><td>1396</td><td>1121</td><td>0</td><td>23</td></tr><tr><td>2014-05-06</td><td>5</td><td>2014</td><td>Tuesday</td><td>3</td><td>Weekday</td><td>19231</td><td>5</td><td>24</td><td>40.742136</td><td>-73.976859</td><td>0.032842</td><td>0.043805</td><td>3490</td><td>5515</td><td>6653</td><td>2429</td><td>1144</td><td>0</td><td>23</td></tr><tr><td>2014-04-04</td><td>4</td><td>2014</td><td>Friday</td><td>6</td><td>Weekday</td><td>26635</td><td>5</td><td>24</td><td>40.741186</td><td>-73.979924</td><td>0.030604</td><td>0.03758</td><td>3860</td><td>8336</td><td>7926</td><td>5116</td><td>1397</td><td>0</td><td>23</td></tr><tr><td>2014-04-25</td><td>4</td><td>2014</td><td>Friday</td><td>6</td><td>Weekday</td><td>24980</td><td>5</td><td>24</td><td>40.739951</td><td>-73.978626</td><td>0.031881</td><td>0.041532</td><td>3492</td><td>6754</td><td>7244</td><td>6031</td><td>1459</td><td>0</td><td>23</td></tr><tr><td>2014-08-04</td><td>8</td><td>2014</td><td>Monday</td><td>2</td><td>Weekday</td><td>24787</td><td>5</td><td>24</td><td>40.739042</td><td>-73.970918</td><td>0.037812</td><td>0.055358</td><td>4858</td><td>6724</td><td>8344</td><td>2852</td><td>2009</td><td>0</td><td>23</td></tr><tr><td>2014-09-01</td><td>9</td><td>2014</td><td>Monday</td><td>2</td><td>Weekday</td><td>19745</td><td>5</td><td>24</td><td>40.732202</td><td>-73.95763</td><td>0.044679</td><td>0.070937</td><td>2060</td><td>4982</td><td>7953</td><td>2367</td><td>2383</td><td>0</td><td>23</td></tr><tr><td>2014-05-11</td><td>5</td><td>2014</td><td>Sunday</td><td>1</td><td>Weekend</td><td>14799</td><td>5</td><td>24</td><td>40.733773</td><td>-73.969985</td><td>0.039229</td><td>0.056768</td><td>1358</td><td>3482</td><td>5839</td><td>1449</td><td>2671</td><td>0</td><td>23</td></tr><tr><td>2014-05-01</td><td>5</td><td>2014</td><td>Thursday</td><td>5</td><td>Weekday</td><td>23261</td><td>5</td><td>24</td><td>40.740465</td><td>-73.975817</td><td>0.03364</td><td>0.0483</td><td>4175</td><td>6658</td><td>6925</td><td>4041</td><td>1462</td><td>0</td><td>23</td></tr><tr><td>2014-08-03</td><td>8</td><td>2014</td><td>Sunday</td><td>1</td><td>Weekend</td><td>22962</td><td>5</td><td>24</td><td>40.733409</td><td>-73.966734</td><td>0.041288</td><td>0.059429</td><td>2064</td><td>5295</td><td>8547</td><td>2508</td><td>4548</td><td>0</td><td>23</td></tr><tr><td>2014-08-21</td><td>8</td><td>2014</td><td>Thursday</td><td>5</td><td>Weekday</td><td>32092</td><td>5</td><td>24</td><td>40.738213</td><td>-73.975962</td><td>0.035563</td><td>0.047607</td><td>4944</td><td>8490</td><td>9517</td><td>6958</td><td>2183</td><td>0</td><td>23</td></tr><tr><td>2014-04-28</td><td>4</td><td>2014</td><td>Monday</td><td>2</td><td>Weekday</td><td>15399</td><td>5</td><td>24</td><td>40.739623</td><td>-73.9726</td><td>0.036514</td><td>0.053725</td><td>3234</td><td>4199</td><td>5206</td><td>1528</td><td>1232</td><td>0</td><td>23</td></tr><tr><td>2014-08-29</td><td>8</td><td>2014</td><td>Friday</td><td>6</td><td>Weekday</td><td>27150</td><td>5</td><td>24</td><td>40.737314</td><td>-73.968913</td><td>0.039238</td><td>0.053042</td><td>4562</td><td>6125</td><td>9377</td><td>4448</td><td>2638</td><td>0</td><td>23</td></tr><tr><td>2014-09-15</td><td>9</td><td>2014</td><td>Monday</td><td>2</td><td>Weekday</td><td>29251</td><td>5</td><td>24</td><td>40.739332</td><td>-73.971677</td><td>0.038116</td><td>0.052758</td><td>5948</td><td>8223</td><td>9756</td><td>2958</td><td>2366</td><td>0</td><td>23</td></tr><tr><td>2014-07-25</td><td>7</td><td>2014</td><td>Friday</td><td>6</td><td>Weekday</td><td>29726</td><td>5</td><td>24</td><td>40.737832</td><td>-73.974108</td><td>0.03588</td><td>0.047098</td><td>4526</td><td>7575</td><td>9304</td><td>5570</td><td>2751</td><td>0</td><td>23</td></tr><tr><td>2014-08-12</td><td>8</td><td>2014</td><td>Tuesday</td><td>3</td><td>Weekday</td><td>29450</td><td>5</td><td>24</td><td>40.740918</td><td>-73.975631</td><td>0.033936</td><td>0.043833</td><td>4835</td><td>9451</td><td>9650</td><td>3914</td><td>1600</td><td>0</td><td>23</td></tr><tr><td>2014-06-03</td><td>6</td><td>2014</td><td>Tuesday</td><td>3</td><td>Weekday</td><td>22575</td><td>5</td><td>24</td><td>40.742952</td><td>-73.977471</td><td>0.032304</td><td>0.043257</td><td>3842</td><td>7245</td><td>7987</td><td>2514</td><td>987</td><td>0</td><td>23</td></tr><tr><td>2014-09-21</td><td>9</td><td>2014</td><td>Sunday</td><td>1</td><td>Weekend</td><td>28386</td><td>5</td><td>24</td><td>40.733989</td><td>-73.967264</td><td>0.040416</td><td>0.059897</td><td>2620</td><td>6202</td><td>9887</td><td>2722</td><td>6955</td><td>0</td><td>23</td></tr><tr><td>2014-07-19</td><td>7</td><td>2014</td><td>Saturday</td><td>7</td><td>Weekend</td><td>25471</td><td>5</td><td>24</td><td>40.735433</td><td>-73.973354</td><td>0.038704</td><td>0.046204</td><td>2193</td><td>6045</td><td>8014</td><td>5175</td><td>4044</td><td>0</td><td>23</td></tr><tr><td>2014-09-07</td><td>9</td><td>2014</td><td>Sunday</td><td>1</td><td>Weekend</td><td>29887</td><td>5</td><td>24</td><td>40.734141</td><td>-73.968264</td><td>0.040747</td><td>0.057124</td><td>2760</td><td>7218</td><td>11599</td><td>3216</td><td>5094</td><td>0</td><td>23</td></tr><tr><td>2014-09-09</td><td>9</td><td>2014</td><td>Tuesday</td><td>3</td><td>Weekday</td><td>34328</td><td>5</td><td>24</td><td>40.740617</td><td>-73.977056</td><td>0.034935</td><td>0.043621</td><td>6289</td><td>9809</td><td>11943</td><td>4174</td><td>2113</td><td>0</td><td>23</td></tr><tr><td>2014-09-30</td><td>9</td><td>2014</td><td>Tuesday</td><td>3</td><td>Weekday</td><td>33202</td><td>5</td><td>23</td><td>40.740663</td><td>-73.974606</td><td>0.035989</td><td>0.045385</td><td>6720</td><td>9905</td><td>11215</td><td>3282</td><td>2080</td><td>0</td><td>22</td></tr></tbody></table></div>"
      ]
     },
     "metadata": {
      "application/vnd.databricks.v1+output": {
       "addedWidgets": {},
       "aggData": [],
       "aggError": "",
       "aggOverflow": false,
       "aggSchema": [],
       "aggSeriesLimitReached": false,
       "aggType": "",
       "arguments": {},
       "columnCustomDisplayInfos": {},
       "data": [
        [
         "2014-07-22",
         7,
         2014,
         "Tuesday",
         3,
         "Weekday",
         28860,
         5,
         24,
         40.741402,
         -73.975229,
         0.034491,
         0.044091,
         5088,
         8308,
         9989,
         3760,
         1715,
         0,
         23
        ],
        [
         "2014-04-06",
         4,
         2014,
         "Sunday",
         1,
         "Weekend",
         13392,
         5,
         24,
         40.732499,
         -73.971713,
         0.038106,
         0.055573,
         1151,
         2716,
         4705,
         1213,
         3607,
         0,
         23
        ],
        [
         "2014-07-27",
         7,
         2014,
         "Sunday",
         1,
         "Weekend",
         22375,
         5,
         24,
         40.734194,
         -73.966844,
         0.040446,
         0.057394,
         2005,
         4832,
         8713,
         2507,
         4318,
         0,
         23
        ],
        [
         "2014-07-26",
         7,
         2014,
         "Saturday",
         7,
         "Weekend",
         27354,
         5,
         24,
         40.735187,
         -73.97257,
         0.038371,
         0.047108,
         2297,
         6681,
         9005,
         5341,
         4030,
         0,
         23
        ],
        [
         "2014-07-14",
         7,
         2014,
         "Monday",
         2,
         "Weekday",
         27189,
         5,
         24,
         40.739672,
         -73.973309,
         0.035703,
         0.051119,
         4621,
         8684,
         7913,
         3894,
         2077,
         0,
         23
        ],
        [
         "2014-09-02",
         9,
         2014,
         "Tuesday",
         3,
         "Weekday",
         28612,
         5,
         24,
         40.738622,
         -73.967399,
         0.038873,
         0.058925,
         5816,
         7582,
         9840,
         3323,
         2051,
         0,
         23
        ],
        [
         "2014-05-25",
         5,
         2014,
         "Sunday",
         1,
         "Weekend",
         10747,
         5,
         24,
         40.731542,
         -73.973881,
         0.040437,
         0.050443,
         878,
         2502,
         3993,
         1914,
         1460,
         0,
         23
        ],
        [
         "2014-08-22",
         8,
         2014,
         "Friday",
         6,
         "Weekday",
         29229,
         5,
         24,
         40.736721,
         -73.972513,
         0.037615,
         0.050109,
         4750,
         6904,
         9608,
         5058,
         2909,
         0,
         23
        ],
        [
         "2014-07-08",
         7,
         2014,
         "Tuesday",
         3,
         "Weekday",
         25596,
         5,
         24,
         40.740424,
         -73.974437,
         0.034685,
         0.046833,
         4566,
         7272,
         8702,
         3452,
         1604,
         0,
         23
        ],
        [
         "2014-06-18",
         6,
         2014,
         "Wednesday",
         4,
         "Weekday",
         24497,
         5,
         24,
         40.741175,
         -73.976967,
         0.033689,
         0.045336,
         4171,
         6841,
         8793,
         3400,
         1292,
         0,
         23
        ],
        [
         "2014-06-21",
         6,
         2014,
         "Saturday",
         7,
         "Weekend",
         19692,
         5,
         24,
         40.734849,
         -73.974953,
         0.037757,
         0.047208,
         1536,
         4731,
         6393,
         4395,
         2637,
         0,
         23
        ],
        [
         "2014-07-16",
         7,
         2014,
         "Wednesday",
         4,
         "Weekday",
         28419,
         5,
         24,
         40.73956,
         -73.974209,
         0.034976,
         0.048309,
         5342,
         7775,
         9054,
         4247,
         2001,
         0,
         23
        ],
        [
         "2014-08-02",
         8,
         2014,
         "Saturday",
         7,
         "Weekend",
         28369,
         5,
         24,
         40.734747,
         -73.972629,
         0.038658,
         0.047006,
         2512,
         7256,
         8593,
         5727,
         4281,
         0,
         23
        ],
        [
         "2014-08-13",
         8,
         2014,
         "Wednesday",
         4,
         "Weekday",
         29582,
         5,
         24,
         40.740336,
         -73.974181,
         0.03513,
         0.04658,
         6174,
         7890,
         9120,
         4007,
         2391,
         0,
         23
        ],
        [
         "2014-06-12",
         6,
         2014,
         "Thursday",
         5,
         "Weekday",
         29705,
         5,
         24,
         40.741998,
         -73.978064,
         0.031936,
         0.043362,
         5026,
         8634,
         9340,
         5185,
         1520,
         0,
         23
        ],
        [
         "2014-05-30",
         5,
         2014,
         "Friday",
         6,
         "Weekday",
         24254,
         5,
         24,
         40.740583,
         -73.977994,
         0.033382,
         0.042569,
         3729,
         6718,
         8117,
         4177,
         1513,
         0,
         23
        ],
        [
         "2014-04-11",
         4,
         2014,
         "Friday",
         6,
         "Weekday",
         20334,
         5,
         24,
         40.740192,
         -73.978263,
         0.033249,
         0.043216,
         3361,
         5603,
         6438,
         3658,
         1274,
         0,
         23
        ],
        [
         "2014-08-17",
         8,
         2014,
         "Sunday",
         1,
         "Weekend",
         20997,
         5,
         24,
         40.733002,
         -73.96551,
         0.042901,
         0.060109,
         1994,
         4881,
         7652,
         2397,
         4073,
         0,
         23
        ],
        [
         "2014-08-09",
         8,
         2014,
         "Saturday",
         7,
         "Weekend",
         25968,
         5,
         24,
         40.733966,
         -73.971276,
         0.040943,
         0.047854,
         2094,
         6745,
         8027,
         5285,
         3817,
         0,
         23
        ],
        [
         "2014-06-20",
         6,
         2014,
         "Friday",
         6,
         "Weekday",
         24085,
         5,
         24,
         40.739164,
         -73.977453,
         0.03415,
         0.046288,
         3777,
         5843,
         8098,
         4622,
         1745,
         0,
         23
        ],
        [
         "2014-09-27",
         9,
         2014,
         "Saturday",
         7,
         "Weekend",
         39044,
         5,
         24,
         40.736674,
         -73.97459,
         0.038584,
         0.043318,
         3143,
         10290,
         12288,
         8382,
         4941,
         0,
         23
        ],
        [
         "2014-09-19",
         9,
         2014,
         "Friday",
         6,
         "Weekday",
         40684,
         5,
         24,
         40.739066,
         -73.973855,
         0.036111,
         0.046818,
         6305,
         11588,
         12142,
         7693,
         2956,
         0,
         23
        ],
        [
         "2014-08-14",
         8,
         2014,
         "Thursday",
         5,
         "Weekday",
         30215,
         5,
         24,
         40.738995,
         -73.975064,
         0.035284,
         0.047589,
         4800,
         8644,
         9241,
         5338,
         2192,
         0,
         23
        ],
        [
         "2014-07-05",
         7,
         2014,
         "Saturday",
         7,
         "Weekend",
         10669,
         5,
         24,
         40.730769,
         -73.967577,
         0.041808,
         0.054712,
         913,
         2441,
         3565,
         1933,
         1817,
         0,
         23
        ],
        [
         "2014-07-28",
         7,
         2014,
         "Monday",
         2,
         "Weekday",
         23839,
         5,
         24,
         40.739707,
         -73.969939,
         0.037009,
         0.054333,
         4658,
         6407,
         7962,
         2792,
         2020,
         0,
         23
        ],
        [
         "2014-08-19",
         8,
         2014,
         "Tuesday",
         3,
         "Weekday",
         24633,
         5,
         24,
         40.739358,
         -73.973324,
         0.036739,
         0.048271,
         4588,
         6724,
         8228,
         3440,
         1653,
         0,
         23
        ],
        [
         "2014-08-06",
         8,
         2014,
         "Wednesday",
         4,
         "Weekday",
         30302,
         5,
         24,
         40.739822,
         -73.974957,
         0.035672,
         0.045922,
         5276,
         8637,
         9845,
         4398,
         2146,
         0,
         23
        ],
        [
         "2014-08-18",
         8,
         2014,
         "Monday",
         2,
         "Weekday",
         21766,
         5,
         24,
         40.738159,
         -73.970315,
         0.039232,
         0.054374,
         4505,
         5651,
         7284,
         2387,
         1939,
         0,
         23
        ],
        [
         "2014-09-03",
         9,
         2014,
         "Wednesday",
         4,
         "Weekday",
         32408,
         5,
         24,
         40.739438,
         -73.973471,
         0.035706,
         0.049422,
         6085,
         9186,
         10888,
         4391,
         1858,
         0,
         23
        ],
        [
         "2014-05-27",
         5,
         2014,
         "Tuesday",
         3,
         "Weekday",
         16937,
         5,
         24,
         40.739507,
         -73.970852,
         0.036887,
         0.056805,
         3372,
         4511,
         6180,
         1719,
         1155,
         0,
         23
        ],
        [
         "2014-04-27",
         4,
         2014,
         "Sunday",
         1,
         "Weekend",
         14595,
         5,
         24,
         40.732268,
         -73.971094,
         0.038813,
         0.05725,
         1222,
         2991,
         5621,
         1387,
         3374,
         0,
         23
        ],
        [
         "2014-06-16",
         6,
         2014,
         "Monday",
         2,
         "Weekday",
         17655,
         5,
         24,
         40.739524,
         -73.973293,
         0.036026,
         0.05514,
         3598,
         4549,
         6229,
         1982,
         1297,
         0,
         23
        ],
        [
         "2014-04-20",
         4,
         2014,
         "Sunday",
         1,
         "Weekend",
         10966,
         5,
         24,
         40.732938,
         -73.970135,
         0.039431,
         0.057469,
         1025,
         2598,
         4394,
         1232,
         1717,
         0,
         23
        ],
        [
         "2014-06-23",
         6,
         2014,
         "Monday",
         2,
         "Weekday",
         17610,
         5,
         24,
         40.739396,
         -73.971522,
         0.037321,
         0.055183,
         3617,
         4452,
         6158,
         1916,
         1467,
         0,
         23
        ],
        [
         "2014-07-18",
         7,
         2014,
         "Friday",
         6,
         "Weekday",
         29621,
         5,
         24,
         40.738472,
         -73.97491,
         0.035751,
         0.047267,
         4461,
         7469,
         9412,
         5653,
         2626,
         0,
         23
        ],
        [
         "2014-04-21",
         4,
         2014,
         "Monday",
         2,
         "Weekday",
         13110,
         5,
         24,
         40.738029,
         -73.970861,
         0.036605,
         0.057764,
         2815,
         3484,
         4439,
         1344,
         1028,
         0,
         23
        ],
        [
         "2014-05-13",
         5,
         2014,
         "Tuesday",
         3,
         "Weekday",
         19398,
         5,
         24,
         40.742249,
         -73.976122,
         0.033511,
         0.044295,
         3517,
         5614,
         6624,
         2589,
         1054,
         0,
         23
        ],
        [
         "2014-06-30",
         6,
         2014,
         "Monday",
         2,
         "Weekday",
         18272,
         5,
         24,
         40.739976,
         -73.9738,
         0.035999,
         0.050909,
         3782,
         4686,
         6378,
         2002,
         1424,
         0,
         23
        ],
        [
         "2014-06-07",
         6,
         2014,
         "Saturday",
         7,
         "Weekend",
         20648,
         5,
         24,
         40.736406,
         -73.972762,
         0.037086,
         0.051145,
         1766,
         4698,
         6960,
         4785,
         2439,
         0,
         23
        ],
        [
         "2014-08-27",
         8,
         2014,
         "Wednesday",
         4,
         "Weekday",
         26813,
         5,
         24,
         40.738513,
         -73.971918,
         0.036714,
         0.05063,
         4772,
         7333,
         8975,
         3951,
         1782,
         0,
         23
        ],
        [
         "2014-07-31",
         7,
         2014,
         "Thursday",
         5,
         "Weekday",
         33297,
         5,
         24,
         40.739924,
         -73.975563,
         0.034399,
         0.045381,
         5175,
         9826,
         10301,
         5717,
         2278,
         0,
         23
        ],
        [
         "2014-05-10",
         5,
         2014,
         "Saturday",
         7,
         "Weekend",
         22395,
         5,
         24,
         40.736639,
         -73.977288,
         0.035059,
         0.040362,
         1490,
         6179,
         7655,
         4918,
         2153,
         0,
         23
        ],
        [
         "2014-04-29",
         4,
         2014,
         "Tuesday",
         3,
         "Weekday",
         22743,
         5,
         24,
         40.742045,
         -73.978703,
         0.031319,
         0.039768,
         3741,
         7428,
         7766,
         2828,
         980,
         0,
         23
        ],
        [
         "2014-05-19",
         5,
         2014,
         "Monday",
         2,
         "Weekday",
         18231,
         5,
         24,
         40.740104,
         -73.973233,
         0.035496,
         0.054493,
         3623,
         4865,
         6571,
         1950,
         1222,
         0,
         23
        ],
        [
         "2014-07-24",
         7,
         2014,
         "Thursday",
         5,
         "Weekday",
         31824,
         5,
         24,
         40.73975,
         -73.975014,
         0.034264,
         0.047871,
         4976,
         9306,
         10017,
         5379,
         2146,
         0,
         23
        ],
        [
         "2014-04-12",
         4,
         2014,
         "Saturday",
         7,
         "Weekend",
         18077,
         5,
         24,
         40.735238,
         -73.979514,
         0.034986,
         0.041559,
         1199,
         5156,
         5356,
         4467,
         1899,
         0,
         23
        ],
        [
         "2014-07-03",
         7,
         2014,
         "Thursday",
         5,
         "Weekday",
         21439,
         5,
         24,
         40.739612,
         -73.974902,
         0.035502,
         0.048235,
         3555,
         6192,
         7736,
         2296,
         1660,
         0,
         23
        ],
        [
         "2014-08-28",
         8,
         2014,
         "Thursday",
         5,
         "Weekday",
         28345,
         5,
         24,
         40.738066,
         -73.970838,
         0.037228,
         0.052267,
         4827,
         7528,
         9388,
         4534,
         2068,
         0,
         23
        ],
        [
         "2014-08-16",
         8,
         2014,
         "Saturday",
         7,
         "Weekend",
         25863,
         5,
         24,
         40.734175,
         -73.972193,
         0.040598,
         0.04872,
         2193,
         6796,
         7872,
         5351,
         3651,
         0,
         23
        ],
        [
         "2014-09-12",
         9,
         2014,
         "Friday",
         6,
         "Weekday",
         39203,
         5,
         24,
         40.738507,
         -73.97477,
         0.036453,
         0.047199,
         6047,
         10970,
         11501,
         7838,
         2847,
         0,
         23
        ],
        [
         "2014-07-09",
         7,
         2014,
         "Wednesday",
         4,
         "Weekday",
         27642,
         5,
         24,
         40.739885,
         -73.975088,
         0.034818,
         0.046542,
         4780,
         8140,
         9047,
         3882,
         1793,
         0,
         23
        ],
        [
         "2014-07-10",
         7,
         2014,
         "Thursday",
         5,
         "Weekday",
         30350,
         5,
         24,
         40.740368,
         -73.975986,
         0.03336,
         0.045463,
         5024,
         8673,
         9849,
         4918,
         1886,
         0,
         23
        ],
        [
         "2014-04-07",
         4,
         2014,
         "Monday",
         2,
         "Weekday",
         19485,
         5,
         24,
         40.741502,
         -73.9768,
         0.032753,
         0.0439,
         3309,
         7527,
         5688,
         1933,
         1028,
         0,
         23
        ],
        [
         "2014-08-23",
         8,
         2014,
         "Saturday",
         7,
         "Weekend",
         26732,
         5,
         24,
         40.733174,
         -73.972082,
         0.039423,
         0.047268,
         2400,
         6979,
         8405,
         5359,
         3589,
         0,
         23
        ],
        [
         "2014-09-13",
         9,
         2014,
         "Saturday",
         7,
         "Weekend",
         42819,
         5,
         24,
         40.736599,
         -73.975839,
         0.037774,
         0.041458,
         3124,
         12289,
         14766,
         7563,
         5077,
         0,
         23
        ],
        [
         "2014-04-02",
         4,
         2014,
         "Wednesday",
         4,
         "Weekday",
         17391,
         5,
         24,
         40.74148,
         -73.978257,
         0.032512,
         0.04129,
         3452,
         5061,
         5993,
         1970,
         915,
         0,
         23
        ],
        [
         "2014-07-06",
         7,
         2014,
         "Sunday",
         1,
         "Weekend",
         11265,
         5,
         24,
         40.729503,
         -73.95768,
         0.045502,
         0.075674,
         930,
         2824,
         4478,
         1631,
         1402,
         0,
         23
        ],
        [
         "2014-09-16",
         9,
         2014,
         "Tuesday",
         3,
         "Weekday",
         35891,
         5,
         24,
         40.741296,
         -73.976174,
         0.034881,
         0.043771,
         8470,
         9685,
         12185,
         3654,
         1897,
         0,
         23
        ],
        [
         "2014-09-22",
         9,
         2014,
         "Monday",
         2,
         "Weekday",
         28065,
         5,
         24,
         40.740278,
         -73.971012,
         0.038621,
         0.053629,
         5768,
         7369,
         9266,
         3264,
         2398,
         0,
         23
        ],
        [
         "2014-09-08",
         9,
         2014,
         "Monday",
         2,
         "Weekday",
         30152,
         5,
         24,
         40.739867,
         -73.97193,
         0.037072,
         0.051756,
         5870,
         8229,
         10418,
         3186,
         2449,
         0,
         23
        ],
        [
         "2014-06-10",
         6,
         2014,
         "Tuesday",
         3,
         "Weekday",
         22765,
         5,
         24,
         40.741864,
         -73.976811,
         0.033039,
         0.044707,
         4452,
         6324,
         7886,
         2894,
         1209,
         0,
         23
        ],
        [
         "2014-04-18",
         4,
         2014,
         "Friday",
         6,
         "Weekday",
         18002,
         5,
         24,
         40.737657,
         -73.979235,
         0.033112,
         0.042026,
         2400,
         4697,
         5900,
         3480,
         1525,
         0,
         23
        ],
        [
         "2014-05-07",
         5,
         2014,
         "Wednesday",
         4,
         "Weekday",
         21792,
         5,
         24,
         40.741551,
         -73.977167,
         0.032437,
         0.044118,
         3686,
         6438,
         7609,
         3015,
         1044,
         0,
         23
        ],
        [
         "2014-05-12",
         5,
         2014,
         "Monday",
         2,
         "Weekday",
         17383,
         5,
         24,
         40.74055,
         -73.971727,
         0.037258,
         0.053554,
         3330,
         4486,
         6431,
         2044,
         1092,
         0,
         23
        ],
        [
         "2014-09-06",
         9,
         2014,
         "Saturday",
         7,
         "Weekend",
         40135,
         5,
         24,
         40.736355,
         -73.975626,
         0.036736,
         0.042653,
         3244,
         10699,
         13231,
         8294,
         4667,
         0,
         23
        ],
        [
         "2014-07-07",
         7,
         2014,
         "Monday",
         2,
         "Weekday",
         18144,
         5,
         24,
         40.737741,
         -73.968906,
         0.038469,
         0.059899,
         3273,
         5056,
         6168,
         2277,
         1370,
         0,
         23
        ],
        [
         "2014-07-17",
         7,
         2014,
         "Thursday",
         5,
         "Weekday",
         30515,
         5,
         24,
         40.739895,
         -73.975756,
         0.034191,
         0.047519,
         4703,
         8478,
         9729,
         5391,
         2214,
         0,
         23
        ],
        [
         "2014-06-06",
         6,
         2014,
         "Friday",
         6,
         "Weekday",
         24527,
         5,
         24,
         40.740619,
         -73.976568,
         0.034117,
         0.046071,
         3857,
         5792,
         8490,
         4636,
         1752,
         0,
         23
        ],
        [
         "2014-07-29",
         7,
         2014,
         "Tuesday",
         3,
         "Weekday",
         27391,
         5,
         24,
         40.740416,
         -73.974422,
         0.035008,
         0.047117,
         4740,
         8276,
         8880,
         3740,
         1755,
         0,
         23
        ],
        [
         "2014-05-02",
         5,
         2014,
         "Friday",
         6,
         "Weekday",
         24119,
         5,
         24,
         40.739378,
         -73.976568,
         0.03308,
         0.0445,
         3355,
         7080,
         7495,
         4744,
         1445,
         0,
         23
        ],
        [
         "2014-06-13",
         6,
         2014,
         "Friday",
         6,
         "Weekday",
         31042,
         5,
         24,
         40.740866,
         -73.977365,
         0.03259,
         0.042252,
         6002,
         9688,
         9160,
         4005,
         2187,
         0,
         23
        ],
        [
         "2014-07-02",
         7,
         2014,
         "Wednesday",
         4,
         "Weekday",
         26315,
         5,
         24,
         40.741611,
         -73.978548,
         0.032057,
         0.04052,
         4019,
         9398,
         8547,
         3035,
         1316,
         0,
         23
        ],
        [
         "2014-05-18",
         5,
         2014,
         "Sunday",
         1,
         "Weekend",
         16411,
         5,
         24,
         40.733911,
         -73.97102,
         0.038416,
         0.057797,
         1399,
         3439,
         6254,
         1589,
         3730,
         0,
         23
        ],
        [
         "2014-06-02",
         6,
         2014,
         "Monday",
         2,
         "Weekday",
         17422,
         5,
         24,
         40.740441,
         -73.971099,
         0.036651,
         0.053906,
         3584,
         4571,
         6090,
         1897,
         1280,
         0,
         23
        ],
        [
         "2014-08-11",
         8,
         2014,
         "Monday",
         2,
         "Weekday",
         22473,
         5,
         24,
         40.738085,
         -73.96992,
         0.039026,
         0.055971,
         4418,
         5994,
         7425,
         2601,
         2035,
         0,
         23
        ],
        [
         "2014-07-15",
         7,
         2014,
         "Tuesday",
         3,
         "Weekday",
         33712,
         5,
         24,
         40.741151,
         -73.977497,
         0.03234,
         0.042987,
         4919,
         12391,
         10733,
         3908,
         1761,
         0,
         23
        ],
        [
         "2014-08-25",
         8,
         2014,
         "Monday",
         2,
         "Weekday",
         21917,
         5,
         24,
         40.737072,
         -73.96748,
         0.039811,
         0.057544,
         4455,
         5498,
         7264,
         2610,
         2090,
         0,
         23
        ],
        [
         "2014-05-05",
         5,
         2014,
         "Monday",
         2,
         "Weekday",
         17782,
         5,
         24,
         40.740857,
         -73.9738,
         0.035137,
         0.05074,
         3425,
         4940,
         6124,
         2120,
         1173,
         0,
         23
        ],
        [
         "2014-05-14",
         5,
         2014,
         "Wednesday",
         4,
         "Weekday",
         22104,
         5,
         24,
         40.741784,
         -73.976763,
         0.032654,
         0.045701,
         3942,
         6834,
         7341,
         2801,
         1186,
         0,
         23
        ],
        [
         "2014-04-14",
         4,
         2014,
         "Monday",
         2,
         "Weekday",
         12596,
         5,
         24,
         40.739537,
         -73.971897,
         0.037393,
         0.053707,
         2807,
         2978,
         4583,
         1312,
         916,
         0,
         23
        ],
        [
         "2014-07-11",
         7,
         2014,
         "Friday",
         6,
         "Weekday",
         28512,
         5,
         24,
         40.738882,
         -73.975499,
         0.035011,
         0.045056,
         4419,
         6960,
         9469,
         5306,
         2358,
         0,
         23
        ],
        [
         "2014-07-13",
         7,
         2014,
         "Sunday",
         1,
         "Weekend",
         20932,
         5,
         24,
         40.733928,
         -73.968518,
         0.040029,
         0.056074,
         1895,
         4551,
         7947,
         2620,
         3919,
         0,
         23
        ],
        [
         "2014-05-04",
         5,
         2014,
         "Sunday",
         1,
         "Weekend",
         13838,
         5,
         24,
         40.732801,
         -73.967428,
         0.039659,
         0.060531,
         932,
         3225,
         5211,
         1543,
         2927,
         0,
         23
        ],
        [
         "2014-06-17",
         6,
         2014,
         "Tuesday",
         3,
         "Weekday",
         21676,
         5,
         24,
         40.741987,
         -73.976782,
         0.033531,
         0.044188,
         3867,
         6333,
         7542,
         2826,
         1108,
         0,
         23
        ],
        [
         "2014-09-04",
         9,
         2014,
         "Thursday",
         5,
         "Weekday",
         38112,
         5,
         24,
         40.740325,
         -73.974289,
         0.034597,
         0.047692,
         6343,
         11173,
         12367,
         5909,
         2320,
         0,
         23
        ],
        [
         "2014-06-26",
         6,
         2014,
         "Thursday",
         5,
         "Weekday",
         28358,
         5,
         24,
         40.740759,
         -73.976583,
         0.033058,
         0.046976,
         4495,
         8114,
         9090,
         4865,
         1794,
         0,
         23
        ],
        [
         "2014-08-26",
         8,
         2014,
         "Tuesday",
         3,
         "Weekday",
         24370,
         5,
         24,
         40.738482,
         -73.971449,
         0.037518,
         0.051389,
         4678,
         6532,
         8241,
         3302,
         1617,
         0,
         23
        ],
        [
         "2014-04-23",
         4,
         2014,
         "Wednesday",
         4,
         "Weekday",
         20269,
         5,
         24,
         40.7408,
         -73.977584,
         0.032058,
         0.044678,
         3450,
         6432,
         6609,
         2792,
         986,
         0,
         23
        ],
        [
         "2014-04-09",
         4,
         2014,
         "Wednesday",
         4,
         "Weekday",
         16756,
         5,
         24,
         40.741742,
         -73.977281,
         0.033466,
         0.044342,
         3282,
         4833,
         5569,
         2058,
         1014,
         0,
         23
        ],
        [
         "2014-05-15",
         5,
         2014,
         "Thursday",
         5,
         "Weekday",
         26161,
         5,
         24,
         40.742519,
         -73.976145,
         0.032216,
         0.044758,
         4208,
         7711,
         8875,
         3872,
         1495,
         0,
         23
        ],
        [
         "2014-06-25",
         6,
         2014,
         "Wednesday",
         4,
         "Weekday",
         26292,
         5,
         24,
         40.741323,
         -73.97739,
         0.032426,
         0.04468,
         4368,
         7882,
         8710,
         3961,
         1371,
         0,
         23
        ],
        [
         "2014-09-11",
         9,
         2014,
         "Thursday",
         5,
         "Weekday",
         36185,
         5,
         24,
         40.739987,
         -73.976341,
         0.034988,
         0.045322,
         5709,
         10971,
         12077,
         5431,
         1997,
         0,
         23
        ],
        [
         "2014-09-29",
         9,
         2014,
         "Monday",
         2,
         "Weekday",
         29022,
         5,
         24,
         40.739021,
         -73.970016,
         0.038952,
         0.054237,
         6221,
         7495,
         9612,
         3208,
         2486,
         0,
         23
        ],
        [
         "2014-04-26",
         4,
         2014,
         "Saturday",
         7,
         "Weekend",
         24778,
         5,
         24,
         40.736296,
         -73.980063,
         0.033333,
         0.038521,
         1522,
         7173,
         6818,
         5447,
         3818,
         0,
         23
        ],
        [
         "2014-05-22",
         5,
         2014,
         "Thursday",
         5,
         "Weekday",
         26691,
         5,
         24,
         40.742074,
         -73.976528,
         0.032499,
         0.044694,
         4534,
         7767,
         8802,
         3987,
         1601,
         0,
         23
        ],
        [
         "2014-04-15",
         4,
         2014,
         "Tuesday",
         3,
         "Weekday",
         20567,
         5,
         24,
         40.741525,
         -73.978881,
         0.031422,
         0.040805,
         3135,
         6986,
         6402,
         3260,
         784,
         0,
         23
        ],
        [
         "2014-06-11",
         6,
         2014,
         "Wednesday",
         4,
         "Weekday",
         25572,
         5,
         24,
         40.742188,
         -73.977758,
         0.032273,
         0.043617,
         5121,
         6937,
         8472,
         3656,
         1386,
         0,
         23
        ],
        [
         "2014-06-05",
         6,
         2014,
         "Thursday",
         5,
         "Weekday",
         28241,
         5,
         24,
         40.742234,
         -73.977265,
         0.031656,
         0.043689,
         6378,
         6958,
         8595,
         4599,
         1711,
         0,
         23
        ],
        [
         "2014-06-19",
         6,
         2014,
         "Thursday",
         5,
         "Weekday",
         28444,
         5,
         24,
         40.741697,
         -73.976817,
         0.032677,
         0.046205,
         4419,
         8415,
         9215,
         4890,
         1505,
         0,
         23
        ],
        [
         "2014-06-29",
         6,
         2014,
         "Sunday",
         1,
         "Weekend",
         16955,
         5,
         24,
         40.734476,
         -73.971613,
         0.038967,
         0.056157,
         1534,
         3586,
         6039,
         2076,
         3720,
         0,
         23
        ],
        [
         "2014-08-20",
         8,
         2014,
         "Wednesday",
         4,
         "Weekday",
         27753,
         5,
         24,
         40.739106,
         -73.973679,
         0.037257,
         0.048753,
         4883,
         7642,
         9194,
         4078,
         1956,
         0,
         23
        ],
        [
         "2014-06-27",
         6,
         2014,
         "Friday",
         6,
         "Weekday",
         24739,
         5,
         24,
         40.739099,
         -73.976382,
         0.034715,
         0.046966,
         3984,
         5770,
         8415,
         4627,
         1943,
         0,
         23
        ],
        [
         "2014-04-30",
         4,
         2014,
         "Wednesday",
         4,
         "Weekday",
         36142,
         5,
         24,
         40.743426,
         -73.979908,
         0.029162,
         0.037067,
         5546,
         11415,
         12812,
         4960,
         1409,
         0,
         23
        ],
        [
         "2014-05-23",
         5,
         2014,
         "Friday",
         6,
         "Weekday",
         26329,
         5,
         24,
         40.739074,
         -73.978199,
         0.032577,
         0.043029,
         3517,
         7887,
         7629,
         5489,
         1807,
         0,
         23
        ],
        [
         "2014-04-13",
         4,
         2014,
         "Sunday",
         1,
         "Weekend",
         12062,
         5,
         24,
         40.733532,
         -73.972904,
         0.038517,
         0.055806,
         1124,
         2458,
         4708,
         1125,
         2647,
         0,
         23
        ],
        [
         "2014-06-14",
         6,
         2014,
         "Saturday",
         7,
         "Weekend",
         19158,
         5,
         24,
         40.733446,
         -73.975393,
         0.03751,
         0.046529,
         1728,
         4529,
         6482,
         4100,
         2319,
         0,
         23
        ],
        [
         "2014-04-10",
         4,
         2014,
         "Thursday",
         5,
         "Weekday",
         19955,
         5,
         24,
         40.741238,
         -73.976988,
         0.033343,
         0.045734,
         3284,
         6041,
         6539,
         3011,
         1080,
         0,
         23
        ],
        [
         "2014-04-05",
         4,
         2014,
         "Saturday",
         7,
         "Weekend",
         19432,
         5,
         24,
         40.735924,
         -73.978595,
         0.033932,
         0.038735,
         1267,
         5790,
         5440,
         5080,
         1855,
         0,
         23
        ],
        [
         "2014-09-28",
         9,
         2014,
         "Sunday",
         1,
         "Weekend",
         29404,
         5,
         24,
         40.733634,
         -73.966673,
         0.04245,
         0.058938,
         2791,
         6543,
         11225,
         2872,
         5973,
         0,
         23
        ],
        [
         "2014-06-15",
         6,
         2014,
         "Sunday",
         1,
         "Weekend",
         14379,
         5,
         24,
         40.732178,
         -73.966678,
         0.041552,
         0.063097,
         1285,
         3297,
         5547,
         1750,
         2500,
         0,
         23
        ],
        [
         "2014-07-20",
         7,
         2014,
         "Sunday",
         1,
         "Weekend",
         20998,
         5,
         24,
         40.733456,
         -73.966559,
         0.040809,
         0.059311,
         1898,
         4542,
         7922,
         2422,
         4214,
         0,
         23
        ],
        [
         "2014-09-23",
         9,
         2014,
         "Tuesday",
         3,
         "Weekday",
         30083,
         5,
         24,
         40.740204,
         -73.974433,
         0.036993,
         0.047211,
         5816,
         8783,
         9427,
         3986,
         2071,
         0,
         23
        ],
        [
         "2014-09-18",
         9,
         2014,
         "Thursday",
         5,
         "Weekday",
         40000,
         5,
         24,
         40.740142,
         -73.974381,
         0.035645,
         0.047419,
         6471,
         12383,
         12228,
         6544,
         2374,
         0,
         23
        ],
        [
         "2014-04-03",
         4,
         2014,
         "Thursday",
         5,
         "Weekday",
         20603,
         5,
         24,
         40.741274,
         -73.979587,
         0.031145,
         0.041682,
         3210,
         6215,
         6079,
         4065,
         1034,
         0,
         23
        ],
        [
         "2014-06-24",
         6,
         2014,
         "Tuesday",
         3,
         "Weekday",
         20649,
         5,
         24,
         40.741235,
         -73.975326,
         0.033915,
         0.048026,
         3759,
         5873,
         7036,
         2810,
         1171,
         0,
         23
        ],
        [
         "2014-07-04",
         7,
         2014,
         "Friday",
         6,
         "Weekday",
         13929,
         5,
         24,
         40.731873,
         -73.971336,
         0.038672,
         0.052304,
         1268,
         2753,
         5004,
         3070,
         1834,
         0,
         23
        ],
        [
         "2014-05-16",
         5,
         2014,
         "Friday",
         6,
         "Weekday",
         32370,
         5,
         24,
         40.74209,
         -73.978357,
         0.031188,
         0.040765,
         4099,
         10267,
         9904,
         6389,
         1711,
         0,
         23
        ],
        [
         "2014-06-28",
         6,
         2014,
         "Saturday",
         7,
         "Weekend",
         20988,
         5,
         24,
         40.7347,
         -73.975184,
         0.037996,
         0.045936,
         1783,
         4788,
         7014,
         4468,
         2935,
         0,
         23
        ],
        [
         "2014-09-10",
         9,
         2014,
         "Wednesday",
         4,
         "Weekday",
         35690,
         5,
         24,
         40.740323,
         -73.976731,
         0.034578,
         0.044118,
         6222,
         10567,
         12020,
         4551,
         2330,
         0,
         23
        ],
        [
         "2014-05-20",
         5,
         2014,
         "Tuesday",
         3,
         "Weekday",
         20779,
         5,
         24,
         40.742324,
         -73.976908,
         0.032708,
         0.045745,
         3638,
         6051,
         7359,
         2630,
         1101,
         0,
         23
        ],
        [
         "2014-04-17",
         4,
         2014,
         "Thursday",
         5,
         "Weekday",
         20897,
         5,
         24,
         40.740629,
         -73.979138,
         0.031407,
         0.042274,
         3365,
         6353,
         6441,
         3619,
         1119,
         0,
         23
        ],
        [
         "2014-05-24",
         5,
         2014,
         "Saturday",
         7,
         "Weekend",
         14543,
         5,
         24,
         40.735064,
         -73.976283,
         0.036551,
         0.044825,
         1276,
         3486,
         5522,
         2344,
         1915,
         0,
         23
        ],
        [
         "2014-08-10",
         8,
         2014,
         "Sunday",
         1,
         "Weekend",
         20359,
         5,
         24,
         40.73277,
         -73.965738,
         0.042851,
         0.060787,
         1772,
         4904,
         7258,
         2464,
         3961,
         0,
         23
        ],
        [
         "2014-09-20",
         9,
         2014,
         "Saturday",
         7,
         "Weekend",
         38515,
         5,
         24,
         40.73659,
         -73.974181,
         0.037732,
         0.04462,
         3292,
         10360,
         12374,
         7687,
         4802,
         0,
         23
        ],
        [
         "2014-04-01",
         4,
         2014,
         "Tuesday",
         3,
         "Weekday",
         14469,
         5,
         24,
         40.740248,
         -73.976912,
         0.034205,
         0.045701,
         3027,
         3981,
         4905,
         1716,
         840,
         0,
         23
        ],
        [
         "2014-05-09",
         5,
         2014,
         "Friday",
         6,
         "Weekday",
         26242,
         5,
         24,
         40.741157,
         -73.977511,
         0.032435,
         0.042171,
         4109,
         7749,
         8600,
         4087,
         1697,
         0,
         23
        ],
        [
         "2014-07-30",
         7,
         2014,
         "Wednesday",
         4,
         "Weekday",
         30509,
         5,
         24,
         40.740647,
         -73.975071,
         0.034832,
         0.04491,
         5175,
         8905,
         9998,
         4525,
         1906,
         0,
         23
        ],
        [
         "2014-06-08",
         6,
         2014,
         "Sunday",
         1,
         "Weekend",
         15623,
         5,
         24,
         40.734901,
         -73.968012,
         0.040229,
         0.059528,
         1336,
         3292,
         6278,
         1964,
         2753,
         0,
         23
        ],
        [
         "2014-06-01",
         6,
         2014,
         "Sunday",
         1,
         "Weekend",
         15838,
         5,
         24,
         40.732142,
         -73.967741,
         0.04022,
         0.06166,
         1340,
         3686,
         6305,
         1748,
         2759,
         0,
         23
        ],
        [
         "2014-08-31",
         8,
         2014,
         "Sunday",
         1,
         "Weekend",
         22942,
         5,
         24,
         40.734496,
         -73.966225,
         0.042308,
         0.054684,
         1882,
         5579,
         8758,
         3755,
         2968,
         0,
         23
        ],
        [
         "2014-07-01",
         7,
         2014,
         "Tuesday",
         3,
         "Weekday",
         21096,
         5,
         24,
         40.741089,
         -73.977912,
         0.03306,
         0.042292,
         3853,
         6054,
         7611,
         2467,
         1111,
         0,
         23
        ],
        [
         "2014-08-08",
         8,
         2014,
         "Friday",
         6,
         "Weekday",
         30096,
         5,
         24,
         40.738051,
         -73.974992,
         0.036426,
         0.046138,
         4773,
         7651,
         9347,
         5500,
         2825,
         0,
         23
        ],
        [
         "2014-04-24",
         4,
         2014,
         "Thursday",
         5,
         "Weekday",
         23253,
         5,
         24,
         40.741624,
         -73.977736,
         0.031521,
         0.043688,
         3705,
         7169,
         7059,
         4111,
         1209,
         0,
         23
        ],
        [
         "2014-05-28",
         5,
         2014,
         "Wednesday",
         4,
         "Weekday",
         22144,
         5,
         24,
         40.741679,
         -73.976232,
         0.032823,
         0.046116,
         3791,
         6712,
         7695,
         2849,
         1097,
         0,
         23
        ],
        [
         "2014-04-08",
         4,
         2014,
         "Tuesday",
         3,
         "Weekday",
         16116,
         5,
         24,
         40.741678,
         -73.977361,
         0.033304,
         0.044046,
         3719,
         4481,
         5043,
         1825,
         1048,
         0,
         23
        ],
        [
         "2014-04-22",
         4,
         2014,
         "Tuesday",
         3,
         "Weekday",
         16919,
         5,
         24,
         40.741216,
         -73.976956,
         0.03307,
         0.047585,
         2961,
         5174,
         6005,
         1888,
         891,
         0,
         23
        ],
        [
         "2014-09-26",
         9,
         2014,
         "Friday",
         6,
         "Weekday",
         37216,
         5,
         24,
         40.73802,
         -73.974846,
         0.036074,
         0.046182,
         5229,
         10814,
         11050,
         7532,
         2591,
         0,
         23
        ],
        [
         "2014-05-03",
         5,
         2014,
         "Saturday",
         7,
         "Weekend",
         22100,
         5,
         24,
         40.735639,
         -73.978212,
         0.034768,
         0.041601,
         1446,
         6688,
         6879,
         4738,
         2349,
         0,
         23
        ],
        [
         "2014-08-05",
         8,
         2014,
         "Tuesday",
         3,
         "Weekday",
         27902,
         5,
         24,
         40.740231,
         -73.974873,
         0.035323,
         0.046239,
         4921,
         7987,
         9446,
         3735,
         1813,
         0,
         23
        ],
        [
         "2014-07-23",
         7,
         2014,
         "Wednesday",
         4,
         "Weekday",
         33877,
         5,
         24,
         40.741014,
         -73.976851,
         0.032924,
         0.042185,
         5238,
         10025,
         11306,
         5323,
         1985,
         0,
         23
        ],
        [
         "2014-09-14",
         9,
         2014,
         "Sunday",
         1,
         "Weekend",
         27931,
         5,
         24,
         40.734026,
         -73.968136,
         0.042474,
         0.057184,
         2707,
         6774,
         10514,
         2740,
         5196,
         0,
         23
        ],
        [
         "2014-08-24",
         8,
         2014,
         "Sunday",
         1,
         "Weekend",
         21807,
         5,
         24,
         40.731219,
         -73.964787,
         0.043071,
         0.061453,
         2190,
         4977,
         7926,
         2518,
         4196,
         0,
         23
        ],
        [
         "2014-09-17",
         9,
         2014,
         "Wednesday",
         4,
         "Weekday",
         35316,
         5,
         24,
         40.740174,
         -73.975034,
         0.035138,
         0.046516,
         6425,
         10454,
         11649,
         4608,
         2180,
         0,
         23
        ],
        [
         "2014-06-09",
         6,
         2014,
         "Monday",
         2,
         "Weekday",
         23142,
         5,
         24,
         40.74163,
         -73.974018,
         0.034801,
         0.049882,
         6568,
         5285,
         7395,
         2063,
         1831,
         0,
         23
        ],
        [
         "2014-09-05",
         9,
         2014,
         "Friday",
         6,
         "Weekday",
         42029,
         5,
         24,
         40.739281,
         -73.975607,
         0.035318,
         0.044431,
         6463,
         11943,
         13010,
         7790,
         2823,
         0,
         23
        ],
        [
         "2014-04-19",
         4,
         2014,
         "Saturday",
         7,
         "Weekend",
         14541,
         5,
         24,
         40.734565,
         -73.979231,
         0.035433,
         0.038654,
         1069,
         3832,
         4808,
         2937,
         1895,
         0,
         23
        ],
        [
         "2014-05-21",
         5,
         2014,
         "Wednesday",
         4,
         "Weekday",
         23402,
         5,
         24,
         40.742212,
         -73.977854,
         0.032759,
         0.044219,
         3907,
         6795,
         8504,
         2947,
         1249,
         0,
         23
        ],
        [
         "2014-07-12",
         7,
         2014,
         "Saturday",
         7,
         "Weekend",
         25647,
         5,
         24,
         40.736119,
         -73.974854,
         0.037929,
         0.043827,
         2124,
         6153,
         8500,
         5116,
         3754,
         0,
         23
        ],
        [
         "2014-05-08",
         5,
         2014,
         "Thursday",
         5,
         "Weekday",
         27387,
         5,
         24,
         40.743127,
         -73.976926,
         0.031866,
         0.042086,
         5856,
         7336,
         8866,
         3717,
         1612,
         0,
         23
        ],
        [
         "2014-08-30",
         8,
         2014,
         "Saturday",
         7,
         "Weekend",
         23544,
         5,
         24,
         40.734891,
         -73.967731,
         0.041697,
         0.051047,
         2412,
         5587,
         8009,
         4295,
         3241,
         0,
         23
        ],
        [
         "2014-04-16",
         4,
         2014,
         "Wednesday",
         4,
         "Weekday",
         17637,
         5,
         24,
         40.741436,
         -73.977264,
         0.032872,
         0.044666,
         3167,
         5220,
         5756,
         2492,
         1002,
         0,
         23
        ],
        [
         "2014-09-24",
         9,
         2014,
         "Wednesday",
         4,
         "Weekday",
         31018,
         5,
         24,
         40.739949,
         -73.972783,
         0.037917,
         0.046912,
         5893,
         8508,
         10478,
         3889,
         2250,
         0,
         23
        ],
        [
         "2014-09-25",
         9,
         2014,
         "Thursday",
         5,
         "Weekday",
         37967,
         5,
         24,
         40.740713,
         -73.974496,
         0.035546,
         0.045763,
         8684,
         9314,
         12797,
         4854,
         2318,
         0,
         23
        ],
        [
         "2014-06-04",
         6,
         2014,
         "Wednesday",
         4,
         "Weekday",
         22727,
         5,
         24,
         40.741611,
         -73.97694,
         0.033339,
         0.043859,
         4063,
         6397,
         7880,
         3257,
         1130,
         0,
         23
        ],
        [
         "2014-07-21",
         7,
         2014,
         "Monday",
         2,
         "Weekday",
         23407,
         5,
         24,
         40.739386,
         -73.971011,
         0.037448,
         0.054251,
         4526,
         6273,
         8014,
         2721,
         1873,
         0,
         23
        ],
        [
         "2014-08-07",
         8,
         2014,
         "Thursday",
         5,
         "Weekday",
         32508,
         5,
         24,
         40.739608,
         -73.976303,
         0.034489,
         0.045168,
         5058,
         9329,
         10215,
         5565,
         2341,
         0,
         23
        ],
        [
         "2014-08-01",
         8,
         2014,
         "Friday",
         6,
         "Weekday",
         32023,
         5,
         24,
         40.738109,
         -73.974004,
         0.035508,
         0.046396,
         4689,
         8410,
         10154,
         5986,
         2784,
         0,
         23
        ],
        [
         "2014-05-29",
         5,
         2014,
         "Thursday",
         5,
         "Weekday",
         24815,
         5,
         24,
         40.741545,
         -73.978015,
         0.032301,
         0.044062,
         3806,
         7728,
         7737,
         4359,
         1185,
         0,
         23
        ],
        [
         "2014-06-22",
         6,
         2014,
         "Sunday",
         1,
         "Weekend",
         16160,
         5,
         24,
         40.732789,
         -73.967474,
         0.040081,
         0.062784,
         1357,
         3580,
         6392,
         2018,
         2813,
         0,
         23
        ],
        [
         "2014-08-15",
         8,
         2014,
         "Friday",
         6,
         "Weekday",
         28713,
         5,
         24,
         40.737303,
         -73.974024,
         0.03703,
         0.048025,
         4606,
         7261,
         9007,
         5250,
         2589,
         0,
         23
        ],
        [
         "2014-05-17",
         5,
         2014,
         "Saturday",
         7,
         "Weekend",
         22145,
         5,
         24,
         40.73564,
         -73.976584,
         0.036732,
         0.043825,
         1584,
         6246,
         6747,
         5329,
         2239,
         0,
         23
        ],
        [
         "2014-05-31",
         5,
         2014,
         "Saturday",
         7,
         "Weekend",
         21080,
         5,
         24,
         40.735496,
         -73.977547,
         0.036257,
         0.043155,
         1664,
         5201,
         7280,
         4828,
         2107,
         0,
         23
        ],
        [
         "2014-05-26",
         5,
         2014,
         "Monday",
         2,
         "Weekday",
         10128,
         5,
         24,
         40.728476,
         -73.960754,
         0.044545,
         0.074945,
         864,
         2709,
         4038,
         1396,
         1121,
         0,
         23
        ],
        [
         "2014-05-06",
         5,
         2014,
         "Tuesday",
         3,
         "Weekday",
         19231,
         5,
         24,
         40.742136,
         -73.976859,
         0.032842,
         0.043805,
         3490,
         5515,
         6653,
         2429,
         1144,
         0,
         23
        ],
        [
         "2014-04-04",
         4,
         2014,
         "Friday",
         6,
         "Weekday",
         26635,
         5,
         24,
         40.741186,
         -73.979924,
         0.030604,
         0.03758,
         3860,
         8336,
         7926,
         5116,
         1397,
         0,
         23
        ],
        [
         "2014-04-25",
         4,
         2014,
         "Friday",
         6,
         "Weekday",
         24980,
         5,
         24,
         40.739951,
         -73.978626,
         0.031881,
         0.041532,
         3492,
         6754,
         7244,
         6031,
         1459,
         0,
         23
        ],
        [
         "2014-08-04",
         8,
         2014,
         "Monday",
         2,
         "Weekday",
         24787,
         5,
         24,
         40.739042,
         -73.970918,
         0.037812,
         0.055358,
         4858,
         6724,
         8344,
         2852,
         2009,
         0,
         23
        ],
        [
         "2014-09-01",
         9,
         2014,
         "Monday",
         2,
         "Weekday",
         19745,
         5,
         24,
         40.732202,
         -73.95763,
         0.044679,
         0.070937,
         2060,
         4982,
         7953,
         2367,
         2383,
         0,
         23
        ],
        [
         "2014-05-11",
         5,
         2014,
         "Sunday",
         1,
         "Weekend",
         14799,
         5,
         24,
         40.733773,
         -73.969985,
         0.039229,
         0.056768,
         1358,
         3482,
         5839,
         1449,
         2671,
         0,
         23
        ],
        [
         "2014-05-01",
         5,
         2014,
         "Thursday",
         5,
         "Weekday",
         23261,
         5,
         24,
         40.740465,
         -73.975817,
         0.03364,
         0.0483,
         4175,
         6658,
         6925,
         4041,
         1462,
         0,
         23
        ],
        [
         "2014-08-03",
         8,
         2014,
         "Sunday",
         1,
         "Weekend",
         22962,
         5,
         24,
         40.733409,
         -73.966734,
         0.041288,
         0.059429,
         2064,
         5295,
         8547,
         2508,
         4548,
         0,
         23
        ],
        [
         "2014-08-21",
         8,
         2014,
         "Thursday",
         5,
         "Weekday",
         32092,
         5,
         24,
         40.738213,
         -73.975962,
         0.035563,
         0.047607,
         4944,
         8490,
         9517,
         6958,
         2183,
         0,
         23
        ],
        [
         "2014-04-28",
         4,
         2014,
         "Monday",
         2,
         "Weekday",
         15399,
         5,
         24,
         40.739623,
         -73.9726,
         0.036514,
         0.053725,
         3234,
         4199,
         5206,
         1528,
         1232,
         0,
         23
        ],
        [
         "2014-08-29",
         8,
         2014,
         "Friday",
         6,
         "Weekday",
         27150,
         5,
         24,
         40.737314,
         -73.968913,
         0.039238,
         0.053042,
         4562,
         6125,
         9377,
         4448,
         2638,
         0,
         23
        ],
        [
         "2014-09-15",
         9,
         2014,
         "Monday",
         2,
         "Weekday",
         29251,
         5,
         24,
         40.739332,
         -73.971677,
         0.038116,
         0.052758,
         5948,
         8223,
         9756,
         2958,
         2366,
         0,
         23
        ],
        [
         "2014-07-25",
         7,
         2014,
         "Friday",
         6,
         "Weekday",
         29726,
         5,
         24,
         40.737832,
         -73.974108,
         0.03588,
         0.047098,
         4526,
         7575,
         9304,
         5570,
         2751,
         0,
         23
        ],
        [
         "2014-08-12",
         8,
         2014,
         "Tuesday",
         3,
         "Weekday",
         29450,
         5,
         24,
         40.740918,
         -73.975631,
         0.033936,
         0.043833,
         4835,
         9451,
         9650,
         3914,
         1600,
         0,
         23
        ],
        [
         "2014-06-03",
         6,
         2014,
         "Tuesday",
         3,
         "Weekday",
         22575,
         5,
         24,
         40.742952,
         -73.977471,
         0.032304,
         0.043257,
         3842,
         7245,
         7987,
         2514,
         987,
         0,
         23
        ],
        [
         "2014-09-21",
         9,
         2014,
         "Sunday",
         1,
         "Weekend",
         28386,
         5,
         24,
         40.733989,
         -73.967264,
         0.040416,
         0.059897,
         2620,
         6202,
         9887,
         2722,
         6955,
         0,
         23
        ],
        [
         "2014-07-19",
         7,
         2014,
         "Saturday",
         7,
         "Weekend",
         25471,
         5,
         24,
         40.735433,
         -73.973354,
         0.038704,
         0.046204,
         2193,
         6045,
         8014,
         5175,
         4044,
         0,
         23
        ],
        [
         "2014-09-07",
         9,
         2014,
         "Sunday",
         1,
         "Weekend",
         29887,
         5,
         24,
         40.734141,
         -73.968264,
         0.040747,
         0.057124,
         2760,
         7218,
         11599,
         3216,
         5094,
         0,
         23
        ],
        [
         "2014-09-09",
         9,
         2014,
         "Tuesday",
         3,
         "Weekday",
         34328,
         5,
         24,
         40.740617,
         -73.977056,
         0.034935,
         0.043621,
         6289,
         9809,
         11943,
         4174,
         2113,
         0,
         23
        ],
        [
         "2014-09-30",
         9,
         2014,
         "Tuesday",
         3,
         "Weekday",
         33202,
         5,
         23,
         40.740663,
         -73.974606,
         0.035989,
         0.045385,
         6720,
         9905,
         11215,
         3282,
         2080,
         0,
         22
        ]
       ],
       "datasetInfos": [],
       "dbfsResultPath": null,
       "isJsonSchema": true,
       "metadata": {},
       "overflow": false,
       "plotOptions": {
        "customPlotOptions": {},
        "displayType": "table",
        "pivotAggregation": null,
        "pivotColumns": null,
        "xColumns": null,
        "yColumns": null
       },
       "removedWidgets": [],
       "schema": [
        {
         "metadata": "{}",
         "name": "pickup_date",
         "type": "\"string\""
        },
        {
         "metadata": "{}",
         "name": "pickup_month",
         "type": "\"integer\""
        },
        {
         "metadata": "{}",
         "name": "pickup_year",
         "type": "\"integer\""
        },
        {
         "metadata": "{}",
         "name": "pickup_day_of_week",
         "type": "\"string\""
        },
        {
         "metadata": "{}",
         "name": "pickup_day_of_week_num",
         "type": "\"integer\""
        },
        {
         "metadata": "{}",
         "name": "day_type",
         "type": "\"string\""
        },
        {
         "metadata": "{}",
         "name": "total_trips",
         "type": "\"long\""
        },
        {
         "metadata": "{}",
         "name": "active_bases",
         "type": "\"long\""
        },
        {
         "metadata": "{}",
         "name": "active_hours",
         "type": "\"long\""
        },
        {
         "metadata": "{}",
         "name": "avg_latitude",
         "type": "\"double\""
        },
        {
         "metadata": "{}",
         "name": "avg_longitude",
         "type": "\"double\""
        },
        {
         "metadata": "{}",
         "name": "stddev_latitude",
         "type": "\"double\""
        },
        {
         "metadata": "{}",
         "name": "stddev_longitude",
         "type": "\"double\""
        },
        {
         "metadata": "{}",
         "name": "morning_rush_trips",
         "type": "\"long\""
        },
        {
         "metadata": "{}",
         "name": "evening_rush_trips",
         "type": "\"long\""
        },
        {
         "metadata": "{}",
         "name": "midday_trips",
         "type": "\"long\""
        },
        {
         "metadata": "{}",
         "name": "night_trips",
         "type": "\"long\""
        },
        {
         "metadata": "{}",
         "name": "late_night_trips",
         "type": "\"long\""
        },
        {
         "metadata": "{}",
         "name": "first_trip_hour",
         "type": "\"integer\""
        },
        {
         "metadata": "{}",
         "name": "last_trip_hour",
         "type": "\"integer\""
        }
       ],
       "type": "table"
      }
     },
     "output_type": "display_data"
    }
   ],
   "source": [
    "from pyspark.sql.functions import (\n",
    "    count, countDistinct, avg, stddev, round, sum, when, col, max, expr\n",
    ")\n",
    "\n",
    "# Crear agregaciones por día\n",
    "df_daily_metrics = df_silver.groupBy(\n",
    "    \"pickup_date\", \n",
    "    \"pickup_month\", \n",
    "    \"pickup_year\", \n",
    "    \"pickup_day_of_week\",\n",
    "    \"pickup_day_of_week_num\",\n",
    "    \"day_type\"\n",
    ").agg(\n",
    "    count(\"trip_id\").alias(\"total_trips\"),\n",
    "    countDistinct(\"base_code\").alias(\"active_bases\"),\n",
    "    countDistinct(\"pickup_hour\").alias(\"active_hours\"),\n",
    "    \n",
    "    # Estadísticas de coordenadas\n",
    "    round(avg(\"latitude\"), 6).alias(\"avg_latitude\"),\n",
    "    round(avg(\"longitude\"), 6).alias(\"avg_longitude\"),\n",
    "    round(stddev(\"latitude\"), 6).alias(\"stddev_latitude\"),\n",
    "    round(stddev(\"longitude\"), 6).alias(\"stddev_longitude\"),\n",
    "    \n",
    "    # Distribución horaria\n",
    "    sum(when(col(\"time_category\") == \"Morning Rush\", 1).otherwise(0)).alias(\"morning_rush_trips\"),\n",
    "    sum(when(col(\"time_category\") == \"Evening Rush\", 1).otherwise(0)).alias(\"evening_rush_trips\"),\n",
    "    sum(when(col(\"time_category\") == \"Midday\", 1).otherwise(0)).alias(\"midday_trips\"),\n",
    "    sum(when(col(\"time_category\") == \"Night\", 1).otherwise(0)).alias(\"night_trips\"),\n",
    "    sum(when(col(\"time_category\") == \"Late Night/Early Morning\", 1).otherwise(0)).alias(\"late_night_trips\"),\n",
    "    \n",
    "    # Horas pico\n",
    "    expr(\"first(pickup_hour, true)\").alias(\"first_trip_hour\"),\n",
    "    max(\"pickup_hour\").alias(\"last_trip_hour\")\n",
    ")\n",
    "\n",
    "display(df_daily_metrics)"
   ]
  },
  {
   "cell_type": "code",
   "execution_count": 0,
   "metadata": {
    "application/vnd.databricks.v1+cell": {
     "cellMetadata": {
      "byteLimit": 2048000,
      "rowLimit": 10000
     },
     "inputWidgets": {},
     "nuid": "870af953-ca88-4cbc-8748-4b5082990517",
     "showTitle": false,
     "tableResultSettingsMap": {},
     "title": ""
    }
   },
   "outputs": [
    {
     "output_type": "stream",
     "name": "stdout",
     "output_type": "stream",
     "text": [
      "\uD83D\uDCCA Registros en agregación diaria: 183\n"
     ]
    }
   ],
   "source": [
    "# Añadir métricas calculadas\n",
    "df_daily_metrics = df_daily_metrics \\\n",
    "    .withColumn(\"trips_per_base\", round(col(\"total_trips\") / col(\"active_bases\"), 2)) \\\n",
    "    .withColumn(\"rush_hour_percentage\", \n",
    "                round(((col(\"morning_rush_trips\") + col(\"evening_rush_trips\")) / col(\"total_trips\")) * 100, 2)) \\\n",
    "    .withColumn(\"weekend_flag\", when(col(\"day_type\") == \"Weekend\", 1).otherwise(0)) \\\n",
    "    .withColumn(\"processing_timestamp\", current_timestamp()) \\\n",
    "    .withColumn(\"gold_layer_version\", lit(\"1.0\"))\n",
    "\n",
    "print(f\"\uD83D\uDCCA Registros en agregación diaria: {df_daily_metrics.count()}\")"
   ]
  },
  {
   "cell_type": "code",
   "execution_count": 0,
   "metadata": {
    "application/vnd.databricks.v1+cell": {
     "cellMetadata": {
      "byteLimit": 2048000,
      "rowLimit": 10000
     },
     "inputWidgets": {},
     "nuid": "91b236e9-6697-4bb9-9eac-f637b952ee6b",
     "showTitle": false,
     "tableResultSettingsMap": {},
     "title": ""
    }
   },
   "outputs": [
    {
     "output_type": "stream",
     "name": "stdout",
     "output_type": "stream",
     "text": [
      "✅ Tabla Gold 1 (daily_metrics) guardada exitosamente\n"
     ]
    }
   ],
   "source": [
    "# Guardar agregación diaria\n",
    "try:\n",
    "    df_daily_metrics.write \\\n",
    "        .format(\"delta\") \\\n",
    "        .mode(\"overwrite\") \\\n",
    "        .option(\"overwriteSchema\", \"true\") \\\n",
    "        .save(f\"{gold_path}daily_metrics\")\n",
    "    \n",
    "    print(\"✅ Tabla Gold 1 (daily_metrics) guardada exitosamente\")\n",
    "    \n",
    "except Exception as e:\n",
    "    print(f\"❌ Error al guardar daily_metrics: {str(e)}\")\n",
    "    raise"
   ]
  },
  {
   "cell_type": "code",
   "execution_count": 0,
   "metadata": {
    "application/vnd.databricks.v1+cell": {
     "cellMetadata": {
      "byteLimit": 2048000,
      "rowLimit": 10000
     },
     "inputWidgets": {},
     "nuid": "f877ea2e-6fa6-44cf-896c-0cb1c952a536",
     "showTitle": false,
     "tableResultSettingsMap": {},
     "title": ""
    }
   },
   "outputs": [],
   "source": [
    "# COMMAND ----------\n",
    "\n",
    "# MAGIC %md\n",
    "# MAGIC ## 6. Tabla Gold 2: Agregaciones por Base y Hora\n",
    "\n",
    "# COMMAND ----------"
   ]
  },
  {
   "cell_type": "code",
   "execution_count": 0,
   "metadata": {
    "application/vnd.databricks.v1+cell": {
     "cellMetadata": {
      "byteLimit": 2048000,
      "rowLimit": 10000
     },
     "inputWidgets": {},
     "nuid": "6e540ac1-3d77-49d4-8bd1-01e8e7b64e04",
     "showTitle": false,
     "tableResultSettingsMap": {},
     "title": ""
    }
   },
   "outputs": [
    {
     "output_type": "stream",
     "name": "stdout",
     "output_type": "stream",
     "text": [
      "\uD83E\uDD47 CREANDO TABLA GOLD 2: Métricas por Base y Hora\n==================================================\n"
     ]
    }
   ],
   "source": [
    "print(\"\uD83E\uDD47 CREANDO TABLA GOLD 2: Métricas por Base y Hora\")\n",
    "print(\"=\" * 50)"
   ]
  },
  {
   "cell_type": "code",
   "execution_count": 0,
   "metadata": {
    "application/vnd.databricks.v1+cell": {
     "cellMetadata": {
      "byteLimit": 2048000,
      "rowLimit": 10000
     },
     "inputWidgets": {},
     "nuid": "5ebe5e0d-d75a-441b-8801-698853b2b88b",
     "showTitle": false,
     "tableResultSettingsMap": {},
     "title": ""
    }
   },
   "outputs": [],
   "source": [
    "# Crear agregaciones por base y hora\n",
    "df_base_hourly = df_silver.groupBy(\n",
    "    \"base_code\",\n",
    "    \"pickup_hour\",\n",
    "    \"time_category\"\n",
    ").agg(\n",
    "    count(\"trip_id\").alias(\"hourly_trips\"),\n",
    "    countDistinct(\"pickup_date\").alias(\"active_days\"),\n",
    "    \n",
    "    # Estadísticas geográficas\n",
    "    round(avg(\"latitude\"), 6).alias(\"avg_latitude\"),\n",
    "    round(avg(\"longitude\"), 6).alias(\"avg_longitude\"),\n",
    "    round(min(\"latitude\"), 6).alias(\"min_latitude\"),\n",
    "    round(max(\"latitude\"), 6).alias(\"max_latitude\"),\n",
    "    round(min(\"longitude\"), 6).alias(\"min_longitude\"),\n",
    "    round(max(\"longitude\"), 6).alias(\"max_longitude\"),\n",
    "    \n",
    "    # Distribución por días\n",
    "    sum(when(col(\"day_type\") == \"Weekday\", 1).otherwise(0)).alias(\"weekday_trips\"),\n",
    "    sum(when(col(\"day_type\") == \"Weekend\", 1).otherwise(0)).alias(\"weekend_trips\")\n",
    ")\n",
    "\n",
    "# Añadir métricas calculadas\n",
    "df_base_hourly = df_base_hourly \\\n",
    "    .withColumn(\"avg_trips_per_day\", round(col(\"hourly_trips\") / col(\"active_days\"), 2)) \\\n",
    "    .withColumn(\"weekend_percentage\", \n",
    "                round((col(\"weekend_trips\") / col(\"hourly_trips\")) * 100, 2)) \\\n",
    "    .withColumn(\"coordinate_range_lat\", \n",
    "                round(col(\"max_latitude\") - col(\"min_latitude\"), 6)) \\\n",
    "    .withColumn(\"coordinate_range_lon\", \n",
    "                round(col(\"max_longitude\") - col(\"min_longitude\"), 6)) \\\n",
    "    .withColumn(\"processing_timestamp\", current_timestamp()) \\\n",
    "    .withColumn(\"gold_layer_version\", lit(\"1.0\"))"
   ]
  },
  {
   "cell_type": "code",
   "execution_count": 0,
   "metadata": {
    "application/vnd.databricks.v1+cell": {
     "cellMetadata": {
      "byteLimit": 2048000,
      "rowLimit": 10000
     },
     "inputWidgets": {},
     "nuid": "eb8fd5a9-f038-4ac5-9233-f022ff234027",
     "showTitle": false,
     "tableResultSettingsMap": {},
     "title": ""
    }
   },
   "outputs": [
    {
     "output_type": "stream",
     "name": "stdout",
     "output_type": "stream",
     "text": [
      "\uD83D\uDCCA Registros en agregación base-hora: 120\n"
     ]
    }
   ],
   "source": [
    "# Añadir ranking por hora para cada base\n",
    "window_spec = Window.partitionBy(\"base_code\").orderBy(col(\"hourly_trips\").desc())\n",
    "df_base_hourly = df_base_hourly \\\n",
    "    .withColumn(\"hour_rank_by_trips\", row_number().over(window_spec)) \\\n",
    "    .withColumn(\"is_peak_hour\", when(col(\"hour_rank_by_trips\") <= 3, 1).otherwise(0))\n",
    "\n",
    "print(f\"\uD83D\uDCCA Registros en agregación base-hora: {df_base_hourly.count()}\")"
   ]
  },
  {
   "cell_type": "code",
   "execution_count": 0,
   "metadata": {
    "application/vnd.databricks.v1+cell": {
     "cellMetadata": {
      "byteLimit": 2048000,
      "rowLimit": 10000
     },
     "inputWidgets": {},
     "nuid": "278741db-88fa-43b3-92a8-a546acdca635",
     "showTitle": false,
     "tableResultSettingsMap": {},
     "title": ""
    }
   },
   "outputs": [
    {
     "output_type": "stream",
     "name": "stdout",
     "output_type": "stream",
     "text": [
      "✅ Tabla Gold 2 (base_hourly_metrics) guardada exitosamente\n"
     ]
    }
   ],
   "source": [
    "# Guardar agregación por base y hora\n",
    "try:\n",
    "    df_base_hourly.write \\\n",
    "        .format(\"delta\") \\\n",
    "        .mode(\"overwrite\") \\\n",
    "        .option(\"overwriteSchema\", \"true\") \\\n",
    "        .save(f\"{gold_path}base_hourly_metrics\")\n",
    "    \n",
    "    print(\"✅ Tabla Gold 2 (base_hourly_metrics) guardada exitosamente\")\n",
    "    \n",
    "except Exception as e:\n",
    "    print(f\"❌ Error al guardar base_hourly_metrics: {str(e)}\")\n",
    "    raise"
   ]
  },
  {
   "cell_type": "code",
   "execution_count": 0,
   "metadata": {
    "application/vnd.databricks.v1+cell": {
     "cellMetadata": {
      "byteLimit": 2048000,
      "rowLimit": 10000
     },
     "inputWidgets": {},
     "nuid": "bce5fe60-cf66-4907-95fb-ed7f6fd61916",
     "showTitle": false,
     "tableResultSettingsMap": {},
     "title": ""
    }
   },
   "outputs": [],
   "source": [
    "# COMMAND ----------\n",
    "\n",
    "# MAGIC %md\n",
    "# MAGIC ## 7. Tabla Gold 3: KPIs de Negocio Mensuales\n",
    "\n",
    "# COMMAND ----------"
   ]
  },
  {
   "cell_type": "code",
   "execution_count": 0,
   "metadata": {
    "application/vnd.databricks.v1+cell": {
     "cellMetadata": {
      "byteLimit": 2048000,
      "rowLimit": 10000
     },
     "inputWidgets": {},
     "nuid": "95aa4bb9-f8fd-4410-949a-da58699d81d1",
     "showTitle": false,
     "tableResultSettingsMap": {},
     "title": ""
    }
   },
   "outputs": [
    {
     "output_type": "stream",
     "name": "stdout",
     "output_type": "stream",
     "text": [
      "\uD83E\uDD47 CREANDO TABLA GOLD 3: KPIs Mensuales de Negocio\n==================================================\n"
     ]
    }
   ],
   "source": [
    "print(\"\uD83E\uDD47 CREANDO TABLA GOLD 3: KPIs Mensuales de Negocio\")\n",
    "print(\"=\" * 50)"
   ]
  },
  {
   "cell_type": "code",
   "execution_count": 0,
   "metadata": {
    "application/vnd.databricks.v1+cell": {
     "cellMetadata": {
      "byteLimit": 2048000,
      "rowLimit": 10000
     },
     "inputWidgets": {},
     "nuid": "072d12c1-b52b-4ad1-9cab-acc77019ffa2",
     "showTitle": false,
     "tableResultSettingsMap": {},
     "title": ""
    }
   },
   "outputs": [],
   "source": [
    "# Crear KPIs mensuales\n",
    "df_monthly_kpis = df_silver.groupBy(\n",
    "    \"pickup_month\",\n",
    "    \"pickup_year\"\n",
    ").agg(\n",
    "    # Métricas básicas\n",
    "    count(\"trip_id\").alias(\"total_monthly_trips\"),\n",
    "    countDistinct(\"base_code\").alias(\"active_bases\"),\n",
    "    countDistinct(\"pickup_date\").alias(\"active_days\"),\n",
    "    \n",
    "    # Métricas de distribución temporal\n",
    "    countDistinct(\"pickup_hour\").alias(\"active_hours\"),\n",
    "    sum(when(col(\"day_type\") == \"Weekend\", 1).otherwise(0)).alias(\"weekend_trips\"),\n",
    "    sum(when(col(\"day_type\") == \"Weekday\", 1).otherwise(0)).alias(\"weekday_trips\"),\n",
    "    \n",
    "    # Métricas por categoría de tiempo\n",
    "    sum(when(col(\"time_category\") == \"Morning Rush\", 1).otherwise(0)).alias(\"morning_rush_monthly\"),\n",
    "    sum(when(col(\"time_category\") == \"Evening Rush\", 1).otherwise(0)).alias(\"evening_rush_monthly\"),\n",
    "    sum(when(col(\"time_category\") == \"Midday\", 1).otherwise(0)).alias(\"midday_monthly\"),\n",
    "    sum(when(col(\"time_category\") == \"Night\", 1).otherwise(0)).alias(\"night_monthly\"),\n",
    "    sum(when(col(\"time_category\") == \"Late Night/Early Morning\", 1).otherwise(0)).alias(\"late_night_monthly\"),\n",
    "    \n",
    "    # Estadísticas geográficas\n",
    "    round(avg(\"latitude\"), 6).alias(\"avg_monthly_latitude\"),\n",
    "    round(avg(\"longitude\"), 6).alias(\"avg_monthly_longitude\"),\n",
    "    round(stddev(\"latitude\"), 6).alias(\"geographic_spread_lat\"),\n",
    "    round(stddev(\"longitude\"), 6).alias(\"geographic_spread_lon\")\n",
    ")"
   ]
  },
  {
   "cell_type": "code",
   "execution_count": 0,
   "metadata": {
    "application/vnd.databricks.v1+cell": {
     "cellMetadata": {
      "byteLimit": 2048000,
      "rowLimit": 10000
     },
     "inputWidgets": {},
     "nuid": "624dcc31-89f6-464d-80e5-92751c05a16f",
     "showTitle": false,
     "tableResultSettingsMap": {},
     "title": ""
    }
   },
   "outputs": [],
   "source": [
    "# Calcular KPIs avanzados\n",
    "df_monthly_kpis = df_monthly_kpis \\\n",
    "    .withColumn(\"avg_trips_per_day\", round(col(\"total_monthly_trips\") / col(\"active_days\"), 2)) \\\n",
    "    .withColumn(\"avg_trips_per_base\", round(col(\"total_monthly_trips\") / col(\"active_bases\"), 2)) \\\n",
    "    .withColumn(\"weekend_ratio\", round(col(\"weekend_trips\") / col(\"weekday_trips\"), 3)) \\\n",
    "    .withColumn(\"rush_hours_percentage\", \n",
    "                round(((col(\"morning_rush_monthly\") + col(\"evening_rush_monthly\")) / \n",
    "                       col(\"total_monthly_trips\")) * 100, 2)) \\\n",
    "    .withColumn(\"night_activity_percentage\", \n",
    "                round(((col(\"night_monthly\") + col(\"late_night_monthly\")) / \n",
    "                       col(\"total_monthly_trips\")) * 100, 2))"
   ]
  },
  {
   "cell_type": "code",
   "execution_count": 0,
   "metadata": {
    "application/vnd.databricks.v1+cell": {
     "cellMetadata": {
      "byteLimit": 2048000,
      "rowLimit": 10000
     },
     "inputWidgets": {},
     "nuid": "e89e922d-5421-4c46-b90d-4dd1f68142be",
     "showTitle": false,
     "tableResultSettingsMap": {},
     "title": ""
    }
   },
   "outputs": [
    {
     "output_type": "stream",
     "name": "stderr",
     "output_type": "stream",
     "text": [
      "/databricks/python/lib/python3.11/site-packages/pyspark/sql/connect/expressions.py:1017: UserWarning: WARN WindowExpression: No Partition Defined for Window operation! Moving all data to a single partition, this can cause serious performance degradation.\n  warnings.warn(\n"
     ]
    },
    {
     "output_type": "stream",
     "name": "stdout",
     "output_type": "stream",
     "text": [
      "\uD83D\uDCCA Registros en KPIs mensuales: 6\n"
     ]
    },
    {
     "output_type": "stream",
     "name": "stderr",
     "output_type": "stream",
     "text": [
      "/databricks/python/lib/python3.11/site-packages/pyspark/sql/connect/expressions.py:1017: UserWarning: WARN WindowExpression: No Partition Defined for Window operation! Moving all data to a single partition, this can cause serious performance degradation.\n  warnings.warn(\n"
     ]
    }
   ],
   "source": [
    "# Añadir comparación mes a mes\n",
    "window_month = Window.orderBy(\"pickup_year\", \"pickup_month\")\n",
    "df_monthly_kpis = df_monthly_kpis \\\n",
    "    .withColumn(\"prev_month_trips\", lag(\"total_monthly_trips\", 1).over(window_month)) \\\n",
    "    .withColumn(\"mom_growth\", \n",
    "                round(((col(\"total_monthly_trips\") - col(\"prev_month_trips\")) / \n",
    "                       col(\"prev_month_trips\")) * 100, 2)) \\\n",
    "    .withColumn(\"processing_timestamp\", current_timestamp()) \\\n",
    "    .withColumn(\"gold_layer_version\", lit(\"1.0\"))\n",
    "\n",
    "print(f\"\uD83D\uDCCA Registros en KPIs mensuales: {df_monthly_kpis.count()}\")"
   ]
  },
  {
   "cell_type": "code",
   "execution_count": 0,
   "metadata": {
    "application/vnd.databricks.v1+cell": {
     "cellMetadata": {
      "byteLimit": 2048000,
      "rowLimit": 10000
     },
     "inputWidgets": {},
     "nuid": "95cf775d-4fb4-4fa7-b455-9d69c70089a3",
     "showTitle": false,
     "tableResultSettingsMap": {},
     "title": ""
    }
   },
   "outputs": [
    {
     "output_type": "stream",
     "name": "stderr",
     "output_type": "stream",
     "text": [
      "/databricks/python/lib/python3.11/site-packages/pyspark/sql/connect/expressions.py:1017: UserWarning: WARN WindowExpression: No Partition Defined for Window operation! Moving all data to a single partition, this can cause serious performance degradation.\n  warnings.warn(\n"
     ]
    },
    {
     "output_type": "stream",
     "name": "stdout",
     "output_type": "stream",
     "text": [
      "✅ Tabla Gold 3 (monthly_kpis) guardada exitosamente\n"
     ]
    }
   ],
   "source": [
    "# Guardar KPIs mensuales\n",
    "try:\n",
    "    df_monthly_kpis.write \\\n",
    "        .format(\"delta\") \\\n",
    "        .mode(\"overwrite\") \\\n",
    "        .option(\"overwriteSchema\", \"true\") \\\n",
    "        .save(f\"{gold_path}monthly_kpis\")\n",
    "    \n",
    "    print(\"✅ Tabla Gold 3 (monthly_kpis) guardada exitosamente\")\n",
    "    \n",
    "except Exception as e:\n",
    "    print(f\"❌ Error al guardar monthly_kpis: {str(e)}\")\n",
    "    raise"
   ]
  },
  {
   "cell_type": "code",
   "execution_count": 0,
   "metadata": {
    "application/vnd.databricks.v1+cell": {
     "cellMetadata": {
      "byteLimit": 2048000,
      "rowLimit": 10000
     },
     "inputWidgets": {},
     "nuid": "385a000b-6b16-4e6e-96ec-320b47c35bfa",
     "showTitle": false,
     "tableResultSettingsMap": {},
     "title": ""
    }
   },
   "outputs": [],
   "source": [
    "# COMMAND ----------\n",
    "\n",
    "# MAGIC %md\n",
    "# MAGIC ## 8. Tabla Gold 4: Análisis Geoespacial por Zona\n",
    "\n",
    "# COMMAND ----------"
   ]
  },
  {
   "cell_type": "code",
   "execution_count": 0,
   "metadata": {
    "application/vnd.databricks.v1+cell": {
     "cellMetadata": {
      "byteLimit": 2048000,
      "rowLimit": 10000
     },
     "inputWidgets": {},
     "nuid": "0ffd4c3f-c2df-49f3-bdd0-97c572bbe0d0",
     "showTitle": false,
     "tableResultSettingsMap": {},
     "title": ""
    }
   },
   "outputs": [
    {
     "output_type": "stream",
     "name": "stdout",
     "output_type": "stream",
     "text": [
      "\uD83E\uDD47 CREANDO TABLA GOLD 4: Análisis Geoespacial\n==================================================\n"
     ]
    }
   ],
   "source": [
    "print(\"\uD83E\uDD47 CREANDO TABLA GOLD 4: Análisis Geoespacial\")\n",
    "print(\"=\" * 50)"
   ]
  },
  {
   "cell_type": "code",
   "execution_count": 0,
   "metadata": {
    "application/vnd.databricks.v1+cell": {
     "cellMetadata": {
      "byteLimit": 2048000,
      "rowLimit": 10000
     },
     "inputWidgets": {},
     "nuid": "2b5e80b4-d745-4767-bf86-fd4c5bda94d3",
     "showTitle": false,
     "tableResultSettingsMap": {},
     "title": ""
    }
   },
   "outputs": [],
   "source": [
    "# Crear zonas geográficas basadas en cuadrículas\n",
    "# División de NYC en grilla para análisis espacial\n",
    "df_geo_analysis = df_silver \\\n",
    "    .withColumn(\"lat_zone\", floor(col(\"latitude\") * 100) / 100) \\\n",
    "    .withColumn(\"lon_zone\", floor(col(\"longitude\") * 100) / 100) \\\n",
    "    .withColumn(\"geo_zone_id\", concat(col(\"lat_zone\"), lit(\"_\"), col(\"lon_zone\")))"
   ]
  },
  {
   "cell_type": "code",
   "execution_count": 0,
   "metadata": {
    "application/vnd.databricks.v1+cell": {
     "cellMetadata": {
      "byteLimit": 2048000,
      "rowLimit": 10000
     },
     "inputWidgets": {},
     "nuid": "62bbd366-fa39-4fb0-ab75-7e5055e1af36",
     "showTitle": false,
     "tableResultSettingsMap": {},
     "title": ""
    }
   },
   "outputs": [],
   "source": [
    "# Agregar por zonas geográficas\n",
    "df_spatial_metrics = df_geo_analysis.groupBy(\n",
    "    \"geo_zone_id\",\n",
    "    \"lat_zone\",\n",
    "    \"lon_zone\"\n",
    ").agg(\n",
    "    count(\"trip_id\").alias(\"zone_total_trips\"),\n",
    "    countDistinct(\"base_code\").alias(\"zone_bases\"),\n",
    "    countDistinct(\"pickup_date\").alias(\"zone_active_days\"),\n",
    "    countDistinct(\"pickup_hour\").alias(\"zone_active_hours\"),\n",
    "    \n",
    "    # Métricas temporales por zona\n",
    "    sum(when(col(\"time_category\") == \"Morning Rush\", 1).otherwise(0)).alias(\"zone_morning_rush\"),\n",
    "    sum(when(col(\"time_category\") == \"Evening Rush\", 1).otherwise(0)).alias(\"zone_evening_rush\"),\n",
    "    sum(when(col(\"day_type\") == \"Weekend\", 1).otherwise(0)).alias(\"zone_weekend_trips\"),\n",
    "    sum(when(col(\"day_type\") == \"Weekday\", 1).otherwise(0)).alias(\"zone_weekday_trips\"),\n",
    "    \n",
    "    # Estadísticas por mes\n",
    "    sum(when(col(\"pickup_month\") == 4, 1).otherwise(0)).alias(\"april_trips\"),\n",
    "    sum(when(col(\"pickup_month\") == 5, 1).otherwise(0)).alias(\"may_trips\"),\n",
    "    sum(when(col(\"pickup_month\") == 6, 1).otherwise(0)).alias(\"june_trips\"),\n",
    "    sum(when(col(\"pickup_month\") == 7, 1).otherwise(0)).alias(\"july_trips\"),\n",
    "    sum(when(col(\"pickup_month\") == 8, 1).otherwise(0)).alias(\"august_trips\"),\n",
    "    sum(when(col(\"pickup_month\") == 9, 1).otherwise(0)).alias(\"september_trips\")\n",
    ")"
   ]
  },
  {
   "cell_type": "code",
   "execution_count": 0,
   "metadata": {
    "application/vnd.databricks.v1+cell": {
     "cellMetadata": {
      "byteLimit": 2048000,
      "rowLimit": 10000
     },
     "inputWidgets": {},
     "nuid": "c428d222-bbb7-47da-ad45-55a2e2a3d26d",
     "showTitle": false,
     "tableResultSettingsMap": {},
     "title": ""
    }
   },
   "outputs": [],
   "source": [
    "# Calcular métricas de densidad y actividad\n",
    "df_spatial_metrics = df_spatial_metrics \\\n",
    "    .withColumn(\"zone_trips_per_day\", round(col(\"zone_total_trips\") / col(\"zone_active_days\"), 2)) \\\n",
    "    .withColumn(\"zone_base_density\", round(col(\"zone_bases\") / col(\"zone_total_trips\") * 1000, 2)) \\\n",
    "    .withColumn(\"zone_rush_percentage\", \n",
    "                round(((col(\"zone_morning_rush\") + col(\"zone_evening_rush\")) / \n",
    "                       col(\"zone_total_trips\")) * 100, 2)) \\\n",
    "    .withColumn(\"zone_weekend_percentage\", \n",
    "                round((col(\"zone_weekend_trips\") / col(\"zone_total_trips\")) * 100, 2))"
   ]
  },
  {
   "cell_type": "code",
   "execution_count": 0,
   "metadata": {
    "application/vnd.databricks.v1+cell": {
     "cellMetadata": {
      "byteLimit": 2048000,
      "rowLimit": 10000
     },
     "inputWidgets": {},
     "nuid": "7342fc95-c679-4565-becb-ca938cc0fb40",
     "showTitle": false,
     "tableResultSettingsMap": {},
     "title": ""
    }
   },
   "outputs": [
    {
     "output_type": "stream",
     "name": "stderr",
     "output_type": "stream",
     "text": [
      "/databricks/python/lib/python3.11/site-packages/pyspark/sql/connect/expressions.py:1017: UserWarning: WARN WindowExpression: No Partition Defined for Window operation! Moving all data to a single partition, this can cause serious performance degradation.\n  warnings.warn(\n"
     ]
    },
    {
     "output_type": "stream",
     "name": "stdout",
     "output_type": "stream",
     "text": [
      "\uD83D\uDCCA Registros en análisis geoespacial: 1684\n"
     ]
    }
   ],
   "source": [
    "# Ranking de zonas por actividad\n",
    "window_activity = Window.orderBy(col(\"zone_total_trips\").desc())\n",
    "df_spatial_metrics = df_spatial_metrics \\\n",
    "    .withColumn(\"zone_activity_rank\", row_number().over(window_activity)) \\\n",
    "    .withColumn(\"is_high_activity_zone\", when(col(\"zone_activity_rank\") <= 10, 1).otherwise(0)) \\\n",
    "    .withColumn(\"processing_timestamp\", current_timestamp()) \\\n",
    "    .withColumn(\"gold_layer_version\", lit(\"1.0\"))\n",
    "\n",
    "print(f\"\uD83D\uDCCA Registros en análisis geoespacial: {df_spatial_metrics.count()}\")"
   ]
  },
  {
   "cell_type": "code",
   "execution_count": 0,
   "metadata": {
    "application/vnd.databricks.v1+cell": {
     "cellMetadata": {
      "byteLimit": 2048000,
      "rowLimit": 10000
     },
     "inputWidgets": {},
     "nuid": "a0eadfd7-c438-4153-9d81-37a0a432c918",
     "showTitle": false,
     "tableResultSettingsMap": {},
     "title": ""
    }
   },
   "outputs": [
    {
     "output_type": "stream",
     "name": "stderr",
     "output_type": "stream",
     "text": [
      "/databricks/python/lib/python3.11/site-packages/pyspark/sql/connect/expressions.py:1017: UserWarning: WARN WindowExpression: No Partition Defined for Window operation! Moving all data to a single partition, this can cause serious performance degradation.\n  warnings.warn(\n"
     ]
    },
    {
     "output_type": "stream",
     "name": "stdout",
     "output_type": "stream",
     "text": [
      "✅ Tabla Gold 4 (spatial_metrics) guardada exitosamente\n"
     ]
    }
   ],
   "source": [
    "# Guardar análisis geoespacial\n",
    "try:\n",
    "    df_spatial_metrics.write \\\n",
    "        .format(\"delta\") \\\n",
    "        .mode(\"overwrite\") \\\n",
    "        .option(\"overwriteSchema\", \"true\") \\\n",
    "        .save(f\"{gold_path}spatial_metrics\")\n",
    "    \n",
    "    print(\"✅ Tabla Gold 4 (spatial_metrics) guardada exitosamente\")\n",
    "    \n",
    "except Exception as e:\n",
    "    print(f\"❌ Error al guardar spatial_metrics: {str(e)}\")\n",
    "    raise"
   ]
  },
  {
   "cell_type": "code",
   "execution_count": 0,
   "metadata": {
    "application/vnd.databricks.v1+cell": {
     "cellMetadata": {
      "byteLimit": 2048000,
      "rowLimit": 10000
     },
     "inputWidgets": {},
     "nuid": "d2184d1c-24f5-4a52-903b-3b78dd64268e",
     "showTitle": false,
     "tableResultSettingsMap": {},
     "title": ""
    }
   },
   "outputs": [],
   "source": [
    "# COMMAND ----------\n",
    "\n",
    "# MAGIC %md\n",
    "# MAGIC ## 9. Tabla Gold 5: Dashboard Ejecutivo (Summary KPIs)\n",
    "\n",
    "# COMMAND ----------"
   ]
  },
  {
   "cell_type": "code",
   "execution_count": 0,
   "metadata": {
    "application/vnd.databricks.v1+cell": {
     "cellMetadata": {
      "byteLimit": 2048000,
      "rowLimit": 10000
     },
     "inputWidgets": {},
     "nuid": "856068f8-c4da-4e81-9c78-e35432e308e6",
     "showTitle": false,
     "tableResultSettingsMap": {},
     "title": ""
    }
   },
   "outputs": [
    {
     "output_type": "stream",
     "name": "stdout",
     "output_type": "stream",
     "text": [
      "\uD83E\uDD47 CREANDO TABLA GOLD 5: Dashboard Ejecutivo\n==================================================\n"
     ]
    }
   ],
   "source": [
    "print(\"\uD83E\uDD47 CREANDO TABLA GOLD 5: Dashboard Ejecutivo\")\n",
    "print(\"=\" * 50)"
   ]
  },
  {
   "cell_type": "code",
   "execution_count": 0,
   "metadata": {
    "application/vnd.databricks.v1+cell": {
     "cellMetadata": {
      "byteLimit": 2048000,
      "rowLimit": 10000
     },
     "inputWidgets": {},
     "nuid": "9e2464bb-4164-4512-a19f-9c2a7b92c228",
     "showTitle": false,
     "tableResultSettingsMap": {},
     "title": ""
    }
   },
   "outputs": [],
   "source": [
    "# Crear tabla resumen para dashboard ejecutivo\n",
    "df_executive_summary = df_silver.agg(\n",
    "    # KPIs principales\n",
    "    count(\"trip_id\").alias(\"total_trips_period\"),\n",
    "    countDistinct(\"base_code\").alias(\"total_active_bases\"),\n",
    "    countDistinct(\"pickup_date\").alias(\"total_active_days\"),\n",
    "    countDistinct(\"pickup_hour\").alias(\"total_active_hours\"),\n",
    "    \n",
    "    # Fechas del período\n",
    "    min(\"pickup_datetime\").alias(\"period_start\"),\n",
    "    max(\"pickup_datetime\").alias(\"period_end\"),\n",
    "    \n",
    "    # Distribución por tipo de día\n",
    "    sum(when(col(\"day_type\") == \"Weekend\", 1).otherwise(0)).alias(\"total_weekend_trips\"),\n",
    "    sum(when(col(\"day_type\") == \"Weekday\", 1).otherwise(0)).alias(\"total_weekday_trips\"),\n",
    "    \n",
    "    # Distribución por categoría horaria\n",
    "    sum(when(col(\"time_category\") == \"Morning Rush\", 1).otherwise(0)).alias(\"total_morning_rush\"),\n",
    "    sum(when(col(\"time_category\") == \"Evening Rush\", 1).otherwise(0)).alias(\"total_evening_rush\"),\n",
    "    sum(when(col(\"time_category\") == \"Midday\", 1).otherwise(0)).alias(\"total_midday\"),\n",
    "    sum(when(col(\"time_category\") == \"Night\", 1).otherwise(0)).alias(\"total_night\"),\n",
    "    sum(when(col(\"time_category\") == \"Late Night/Early Morning\", 1).otherwise(0)).alias(\"total_late_night\"),\n",
    "    \n",
    "    # Estadísticas geográficas generales\n",
    "    round(avg(\"latitude\"), 6).alias(\"center_latitude\"),\n",
    "    round(avg(\"longitude\"), 6).alias(\"center_longitude\"),\n",
    "    round(min(\"latitude\"), 6).alias(\"south_bound\"),\n",
    "    round(max(\"latitude\"), 6).alias(\"north_bound\"),\n",
    "    round(min(\"longitude\"), 6).alias(\"west_bound\"),\n",
    "    round(max(\"longitude\"), 6).alias(\"east_bound\")\n",
    ").withColumn(\"report_id\", lit(1))  # ID único para el reporte"
   ]
  },
  {
   "cell_type": "code",
   "execution_count": 0,
   "metadata": {
    "application/vnd.databricks.v1+cell": {
     "cellMetadata": {
      "byteLimit": 2048000,
      "rowLimit": 10000
     },
     "inputWidgets": {},
     "nuid": "0b3a333c-ff41-49f7-83e1-91a6fd763742",
     "showTitle": false,
     "tableResultSettingsMap": {},
     "title": ""
    }
   },
   "outputs": [
    {
     "output_type": "stream",
     "name": "stdout",
     "output_type": "stream",
     "text": [
      "\uD83D\uDCCA Registro de dashboard ejecutivo creado\n"
     ]
    }
   ],
   "source": [
    "# Calcular KPIs ejecutivos\n",
    "df_executive_summary = df_executive_summary \\\n",
    "    .withColumn(\"avg_daily_trips\", round(col(\"total_trips_period\") / col(\"total_active_days\"), 0)) \\\n",
    "    .withColumn(\"avg_trips_per_base\", round(col(\"total_trips_period\") / col(\"total_active_bases\"), 0)) \\\n",
    "    .withColumn(\"weekend_vs_weekday_ratio\", round(col(\"total_weekend_trips\") / col(\"total_weekday_trips\"), 2)) \\\n",
    "    .withColumn(\"rush_hours_share\", \n",
    "                round(((col(\"total_morning_rush\") + col(\"total_evening_rush\")) / \n",
    "                       col(\"total_trips_period\")) * 100, 1)) \\\n",
    "    .withColumn(\"night_activity_share\", \n",
    "                round(((col(\"total_night\") + col(\"total_late_night\")) / \n",
    "                       col(\"total_trips_period\")) * 100, 1)) \\\n",
    "    .withColumn(\"geographic_coverage_lat\", round(col(\"north_bound\") - col(\"south_bound\"), 4)) \\\n",
    "    .withColumn(\"geographic_coverage_lon\", round(col(\"east_bound\") - col(\"west_bound\"), 4)) \\\n",
    "    .withColumn(\"report_generated_at\", current_timestamp()) \\\n",
    "    .withColumn(\"gold_layer_version\", lit(\"1.0\"))\n",
    "\n",
    "print(f\"\uD83D\uDCCA Registro de dashboard ejecutivo creado\")"
   ]
  },
  {
   "cell_type": "code",
   "execution_count": 0,
   "metadata": {
    "application/vnd.databricks.v1+cell": {
     "cellMetadata": {
      "byteLimit": 2048000,
      "rowLimit": 10000
     },
     "inputWidgets": {},
     "nuid": "7cd4d5c4-d60d-4886-bf38-1a84cbde22b5",
     "showTitle": false,
     "tableResultSettingsMap": {},
     "title": ""
    }
   },
   "outputs": [
    {
     "output_type": "stream",
     "name": "stdout",
     "output_type": "stream",
     "text": [
      "✅ Tabla Gold 5 (executive_dashboard) guardada exitosamente\n"
     ]
    }
   ],
   "source": [
    "# Guardar dashboard ejecutivo\n",
    "try:\n",
    "    df_executive_summary.write \\\n",
    "        .format(\"delta\") \\\n",
    "        .mode(\"overwrite\") \\\n",
    "        .option(\"overwriteSchema\", \"true\") \\\n",
    "        .save(f\"{gold_path}executive_dashboard\")\n",
    "    \n",
    "    print(\"✅ Tabla Gold 5 (executive_dashboard) guardada exitosamente\")\n",
    "    \n",
    "except Exception as e:\n",
    "    print(f\"❌ Error al guardar executive_dashboard: {str(e)}\")\n",
    "    raise"
   ]
  },
  {
   "cell_type": "code",
   "execution_count": 0,
   "metadata": {
    "application/vnd.databricks.v1+cell": {
     "cellMetadata": {
      "byteLimit": 2048000,
      "rowLimit": 10000
     },
     "inputWidgets": {},
     "nuid": "47bf209d-2ad2-4bc1-91ce-f76297390396",
     "showTitle": false,
     "tableResultSettingsMap": {},
     "title": ""
    }
   },
   "outputs": [],
   "source": [
    "# COMMAND ----------\n",
    "\n",
    "# MAGIC %md\n",
    "# MAGIC ## 10. Validación de Tablas Gold\n",
    "\n",
    "# COMMAND ----------"
   ]
  },
  {
   "cell_type": "code",
   "execution_count": 0,
   "metadata": {
    "application/vnd.databricks.v1+cell": {
     "cellMetadata": {
      "byteLimit": 2048000,
      "rowLimit": 10000
     },
     "inputWidgets": {},
     "nuid": "a886e158-45a7-4c3a-a2cf-4ab506f19a74",
     "showTitle": false,
     "tableResultSettingsMap": {},
     "title": ""
    }
   },
   "outputs": [
    {
     "output_type": "stream",
     "name": "stdout",
     "output_type": "stream",
     "text": [
      "\uD83D\uDD0D VALIDACIÓN DE TABLAS GOLD CREADAS:\n=============================================\n"
     ]
    }
   ],
   "source": [
    "print(\"\uD83D\uDD0D VALIDACIÓN DE TABLAS GOLD CREADAS:\")\n",
    "print(\"=\" * 45)"
   ]
  },
  {
   "cell_type": "code",
   "execution_count": 0,
   "metadata": {
    "application/vnd.databricks.v1+cell": {
     "cellMetadata": {
      "byteLimit": 2048000,
      "rowLimit": 10000
     },
     "inputWidgets": {},
     "nuid": "a02c3bcf-be00-4cd6-8f06-e6f99d53e545",
     "showTitle": false,
     "tableResultSettingsMap": {},
     "title": ""
    }
   },
   "outputs": [
    {
     "output_type": "stream",
     "name": "stdout",
     "output_type": "stream",
     "text": [
      "✅ Agregaciones Diarias:\n   \uD83D\uDCCA Registros: 183\n   \uD83C\uDFF7️ Columnas: 25\n   \uD83D\uDCCD Ubicación: /Volumes/workspace/default/uber_etl_azure/gold/daily_metrics\n   \uD83D\uDCCB Muestra de datos:\n+-----------+------------+-----------+------------------+----------------------+\n|pickup_date|pickup_month|pickup_year|pickup_day_of_week|pickup_day_of_week_num|\n+-----------+------------+-----------+------------------+----------------------+\n| 2014-07-22|           7|       2014|           Tuesday|                     3|\n| 2014-04-06|           4|       2014|            Sunday|                     1|\n+-----------+------------+-----------+------------------+----------------------+\nonly showing top 2 rows\n✅ Métricas Base-Hora:\n   \uD83D\uDCCA Registros: 120\n   \uD83C\uDFF7️ Columnas: 21\n   \uD83D\uDCCD Ubicación: /Volumes/workspace/default/uber_etl_azure/gold/base_hourly_metrics\n   \uD83D\uDCCB Muestra de datos:\n+---------+-----------+-------------+------------+-----------+\n|base_code|pickup_hour|time_category|hourly_trips|active_days|\n+---------+-----------+-------------+------------+-----------+\n|   B02512|         17| Evening Rush|       15729|        183|\n|   B02512|         16|       Midday|       14888|        183|\n+---------+-----------+-------------+------------+-----------+\nonly showing top 2 rows\n✅ KPIs Mensuales:\n   \uD83D\uDCCA Registros: 6\n   \uD83C\uDFF7️ Columnas: 26\n   \uD83D\uDCCD Ubicación: /Volumes/workspace/default/uber_etl_azure/gold/monthly_kpis\n   \uD83D\uDCCB Muestra de datos:\n+------------+-----------+-------------------+------------+-----------+\n|pickup_month|pickup_year|total_monthly_trips|active_bases|active_days|\n+------------+-----------+-------------------+------------+-----------+\n|           4|       2014|             562101|           5|         30|\n|           5|       2014|             648998|           5|         31|\n+------------+-----------+-------------------+------------+-----------+\nonly showing top 2 rows\n✅ Análisis Geoespacial:\n   \uD83D\uDCCA Registros: 1,684\n   \uD83C\uDFF7️ Columnas: 25\n   \uD83D\uDCCD Ubicación: /Volumes/workspace/default/uber_etl_azure/gold/spatial_metrics\n   \uD83D\uDCCB Muestra de datos:\n+------------+--------+--------+----------------+----------+\n| geo_zone_id|lat_zone|lon_zone|zone_total_trips|zone_bases|\n+------------+--------+--------+----------------+----------+\n|40.75_-73.98|   40.75|  -73.98|          222857|         5|\n| 40.72_-74.0|   40.72|   -74.0|          187672|         5|\n+------------+--------+--------+----------------+----------+\nonly showing top 2 rows\n✅ Dashboard Ejecutivo:\n   \uD83D\uDCCA Registros: 1\n   \uD83C\uDFF7️ Columnas: 29\n   \uD83D\uDCCD Ubicación: /Volumes/workspace/default/uber_etl_azure/gold/executive_dashboard\n   \uD83D\uDCCB Muestra de datos:\n+------------------+------------------+-----------------+------------------+-------------------+\n|total_trips_period|total_active_bases|total_active_days|total_active_hours|       period_start|\n+------------------+------------------+-----------------+------------------+-------------------+\n|           4502417|                 5|              183|                24|2014-04-01 00:00:00|\n+------------------+------------------+-----------------+------------------+-------------------+\n\n✅ Validación de tablas completada\n"
     ]
    }
   ],
   "source": [
    "gold_tables = [\n",
    "    (\"daily_metrics\", \"Agregaciones Diarias\"),\n",
    "    (\"base_hourly_metrics\", \"Métricas Base-Hora\"),\n",
    "    (\"monthly_kpis\", \"KPIs Mensuales\"),\n",
    "    (\"spatial_metrics\", \"Análisis Geoespacial\"),\n",
    "    (\"executive_dashboard\", \"Dashboard Ejecutivo\")\n",
    "]\n",
    "\n",
    "for table_name, description in gold_tables:\n",
    "    try:\n",
    "        table_path = f\"{gold_path}{table_name}\"\n",
    "        df_validation = spark.read.format(\"delta\").load(table_path)\n",
    "        record_count = df_validation.count()\n",
    "        column_count = len(df_validation.columns)\n",
    "        \n",
    "        print(f\"✅ {description}:\")\n",
    "        print(f\"   \uD83D\uDCCA Registros: {record_count:,}\")\n",
    "        print(f\"   \uD83C\uDFF7️ Columnas: {column_count}\")\n",
    "        print(f\"   \uD83D\uDCCD Ubicación: {table_path}\")\n",
    "        \n",
    "        # Mostrar muestra de cada tabla\n",
    "        print(f\"   \uD83D\uDCCB Muestra de datos:\")\n",
    "        sample_cols = df_validation.columns[:5]  # Primeras 5 columnas\n",
    "        df_validation.select(*sample_cols).show(2, truncate=True)\n",
    "        \n",
    "    except Exception as e:\n",
    "        print(f\"❌ Error validando {table_name}: {str(e)}\")\n",
    "\n",
    "print(\"✅ Validación de tablas completada\")"
   ]
  },
  {
   "cell_type": "code",
   "execution_count": 0,
   "metadata": {
    "application/vnd.databricks.v1+cell": {
     "cellMetadata": {
      "byteLimit": 2048000,
      "rowLimit": 10000
     },
     "inputWidgets": {},
     "nuid": "6554a30a-5001-4249-9ef6-cc34f6bc20af",
     "showTitle": false,
     "tableResultSettingsMap": {},
     "title": ""
    }
   },
   "outputs": [],
   "source": [
    "# COMMAND ----------\n",
    "\n",
    "# MAGIC %md\n",
    "# MAGIC ## 11. Análisis de Calidad y Rendimiento\n",
    "\n",
    "# COMMAND ----------"
   ]
  },
  {
   "cell_type": "code",
   "execution_count": 0,
   "metadata": {
    "application/vnd.databricks.v1+cell": {
     "cellMetadata": {
      "byteLimit": 2048000,
      "rowLimit": 10000
     },
     "inputWidgets": {},
     "nuid": "953ed728-4877-4091-9401-fac37c37f3da",
     "showTitle": false,
     "tableResultSettingsMap": {},
     "title": ""
    }
   },
   "outputs": [
    {
     "output_type": "stream",
     "name": "stdout",
     "output_type": "stream",
     "text": [
      "\uD83D\uDCC8 ANÁLISIS DE CALIDAD Y RENDIMIENTO:\n=============================================\n"
     ]
    }
   ],
   "source": [
    "print(\"\uD83D\uDCC8 ANÁLISIS DE CALIDAD Y RENDIMIENTO:\")\n",
    "print(\"=\" * 45)"
   ]
  },
  {
   "cell_type": "code",
   "execution_count": 0,
   "metadata": {
    "application/vnd.databricks.v1+cell": {
     "cellMetadata": {
      "byteLimit": 2048000,
      "rowLimit": 10000
     },
     "inputWidgets": {},
     "nuid": "89e66bc9-8671-4249-855a-e6781ac10e66",
     "showTitle": false,
     "tableResultSettingsMap": {},
     "title": ""
    }
   },
   "outputs": [
    {
     "output_type": "stream",
     "name": "stdout",
     "output_type": "stream",
     "text": [
      "\uD83D\uDCCA Resumen de transformaciones:\n   \uD83E\uDD48 Registros Silver de entrada: 4,502,417\n   \uD83D\uDCC5 Agregaciones diarias: 183\n   \uD83C\uDFE2 Métricas base-hora: 120\n   \uD83D\uDCC8 KPIs mensuales: 6\n   \uD83D\uDDFA️ Zonas geográficas: 1,684\n"
     ]
    }
   ],
   "source": [
    "# Métricas de transformación\n",
    "silver_records = df_silver.count()\n",
    "\n",
    "# Conteo de registros en cada tabla Gold\n",
    "daily_count = spark.read.format(\"delta\").load(f\"{gold_path}daily_metrics\").count()\n",
    "base_hourly_count = spark.read.format(\"delta\").load(f\"{gold_path}base_hourly_metrics\").count()\n",
    "monthly_count = spark.read.format(\"delta\").load(f\"{gold_path}monthly_kpis\").count()\n",
    "spatial_count = spark.read.format(\"delta\").load(f\"{gold_path}spatial_metrics\").count()\n",
    "\n",
    "print(f\"\uD83D\uDCCA Resumen de transformaciones:\")\n",
    "print(f\"   \uD83E\uDD48 Registros Silver de entrada: {silver_records:,}\")\n",
    "print(f\"   \uD83D\uDCC5 Agregaciones diarias: {daily_count:,}\")\n",
    "print(f\"   \uD83C\uDFE2 Métricas base-hora: {base_hourly_count:,}\")\n",
    "print(f\"   \uD83D\uDCC8 KPIs mensuales: {monthly_count:,}\")\n",
    "print(f\"   \uD83D\uDDFA️ Zonas geográficas: {spatial_count:,}\")"
   ]
  },
  {
   "cell_type": "code",
   "execution_count": 0,
   "metadata": {
    "application/vnd.databricks.v1+cell": {
     "cellMetadata": {
      "byteLimit": 2048000,
      "rowLimit": 10000
     },
     "inputWidgets": {},
     "nuid": "6bc4a112-d12a-4a78-afc1-855e161519e6",
     "showTitle": false,
     "tableResultSettingsMap": {},
     "title": ""
    }
   },
   "outputs": [
    {
     "output_type": "stream",
     "name": "stdout",
     "output_type": "stream",
     "text": [
      "\n\uD83D\uDCC9 Factores de agregación:\n   Daily: 24603:1\n   Base-Hourly: 37520:1\n   Spatial: 2673:1\n"
     ]
    }
   ],
   "source": [
    "# Factores de agregación\n",
    "print(f\"\\n\uD83D\uDCC9 Factores de agregación:\")\n",
    "print(f\"   Daily: {silver_records // daily_count if daily_count > 0 else 0}:1\")\n",
    "print(f\"   Base-Hourly: {silver_records // base_hourly_count if base_hourly_count > 0 else 0}:1\")\n",
    "print(f\"   Spatial: {silver_records // spatial_count if spatial_count > 0 else 0}:1\")"
   ]
  },
  {
   "cell_type": "code",
   "execution_count": 0,
   "metadata": {
    "application/vnd.databricks.v1+cell": {
     "cellMetadata": {
      "byteLimit": 2048000,
      "rowLimit": 10000
     },
     "inputWidgets": {},
     "nuid": "047fbc7b-8bc4-462c-84a3-64d46fe5e4de",
     "showTitle": false,
     "tableResultSettingsMap": {},
     "title": ""
    }
   },
   "outputs": [
    {
     "output_type": "stream",
     "name": "stdout",
     "output_type": "stream",
     "text": [
      "\n\uD83D\uDD0D Verificación de consistencia:\n   ✅ Consistencia verificada: 4,502,417 registros\n✅ Análisis de calidad completado\n"
     ]
    }
   ],
   "source": [
    "# Verificar consistencia de datos\n",
    "print(f\"\\n\uD83D\uDD0D Verificación de consistencia:\")\n",
    "executive_summary = spark.read.format(\"delta\").load(f\"{gold_path}executive_dashboard\").collect()[0]\n",
    "total_from_summary = executive_summary['total_trips_period']\n",
    "\n",
    "if total_from_summary == silver_records:\n",
    "    print(f\"   ✅ Consistencia verificada: {total_from_summary:,} registros\")\n",
    "else:\n",
    "    print(f\"   ⚠️ Posible inconsistencia detectada\")\n",
    "\n",
    "print(\"✅ Análisis de calidad completado\")"
   ]
  },
  {
   "cell_type": "code",
   "execution_count": 0,
   "metadata": {
    "application/vnd.databricks.v1+cell": {
     "cellMetadata": {
      "byteLimit": 2048000,
      "rowLimit": 10000
     },
     "inputWidgets": {},
     "nuid": "2221b11c-856a-49b5-beab-8d33c51a304c",
     "showTitle": false,
     "tableResultSettingsMap": {},
     "title": ""
    }
   },
   "outputs": [],
   "source": [
    "# COMMAND ----------\n",
    "\n",
    "# MAGIC %md\n",
    "# MAGIC ## 12. Creación de Vistas SQL\n",
    "\n",
    "# COMMAND ----------"
   ]
  },
  {
   "cell_type": "code",
   "execution_count": 0,
   "metadata": {
    "application/vnd.databricks.v1+cell": {
     "cellMetadata": {
      "byteLimit": 2048000,
      "rowLimit": 10000
     },
     "inputWidgets": {},
     "nuid": "c352ef9f-c690-46ab-8b35-8ccd1b0301c4",
     "showTitle": false,
     "tableResultSettingsMap": {},
     "title": ""
    }
   },
   "outputs": [
    {
     "output_type": "stream",
     "name": "stdout",
     "output_type": "stream",
     "text": [
      "\uD83D\uDCCB CREANDO VISTAS SQL PARA ANÁLISIS:\n========================================\n"
     ]
    }
   ],
   "source": [
    "print(\"\uD83D\uDCCB CREANDO VISTAS SQL PARA ANÁLISIS:\")\n",
    "print(\"=\" * 40)"
   ]
  },
  {
   "cell_type": "code",
   "execution_count": 0,
   "metadata": {
    "application/vnd.databricks.v1+cell": {
     "cellMetadata": {
      "byteLimit": 2048000,
      "rowLimit": 10000
     },
     "inputWidgets": {},
     "nuid": "21d22d44-5631-4373-a02a-06e0bbce1cd0",
     "showTitle": false,
     "tableResultSettingsMap": {},
     "title": ""
    }
   },
   "outputs": [
    {
     "output_type": "stream",
     "name": "stdout",
     "output_type": "stream",
     "text": [
      "✅ Vista creada: uber_daily_gold\n✅ Vista creada: uber_base_hourly_gold\n✅ Vista creada: uber_monthly_gold\n✅ Vista creada: uber_spatial_gold\n✅ Vista creada: uber_executive_gold\n\n\uD83D\uDCA1 Ejemplos de consultas SQL útiles:\n   -- Top 5 días con más viajes\n   SELECT pickup_date, total_trips FROM uber_daily_gold ORDER BY total_trips DESC LIMIT 5;\n   \n   -- Comparación weekend vs weekday por mes\n   SELECT pickup_month, weekend_trips, weekday_trips FROM uber_monthly_gold;\n   \n   -- Top 10 zonas más activas\n   SELECT geo_zone_id, zone_total_trips FROM uber_spatial_gold ORDER BY zone_total_trips DESC LIMIT 10;\n   \n   -- KPIs ejecutivos principales\n   SELECT total_trips_period, avg_daily_trips, rush_hours_share FROM uber_executive_gold;\n✅ Vistas SQL creadas exitosamente\n"
     ]
    }
   ],
   "source": [
    "# Registrar todas las tablas Gold como vistas temporales\n",
    "tables_to_register = [\n",
    "    (\"daily_metrics\", \"uber_daily_gold\"),\n",
    "    (\"base_hourly_metrics\", \"uber_base_hourly_gold\"),\n",
    "    (\"monthly_kpis\", \"uber_monthly_gold\"),\n",
    "    (\"spatial_metrics\", \"uber_spatial_gold\"),\n",
    "    (\"executive_dashboard\", \"uber_executive_gold\")\n",
    "]\n",
    "\n",
    "for table_name, view_name in tables_to_register:\n",
    "    try:\n",
    "        df_temp = spark.read.format(\"delta\").load(f\"{gold_path}{table_name}\")\n",
    "        df_temp.createOrReplaceTempView(view_name)\n",
    "        print(f\"✅ Vista creada: {view_name}\")\n",
    "    except Exception as e:\n",
    "        print(f\"❌ Error creando vista {view_name}: {str(e)}\")\n",
    "\n",
    "print(f\"\\n\uD83D\uDCA1 Ejemplos de consultas SQL útiles:\")\n",
    "print(f\"   -- Top 5 días con más viajes\")\n",
    "print(f\"   SELECT pickup_date, total_trips FROM uber_daily_gold ORDER BY total_trips DESC LIMIT 5;\")\n",
    "print(f\"   \")\n",
    "print(f\"   -- Comparación weekend vs weekday por mes\")\n",
    "print(f\"   SELECT pickup_month, weekend_trips, weekday_trips FROM uber_monthly_gold;\")\n",
    "print(f\"   \")\n",
    "print(f\"   -- Top 10 zonas más activas\")\n",
    "print(f\"   SELECT geo_zone_id, zone_total_trips FROM uber_spatial_gold ORDER BY zone_total_trips DESC LIMIT 10;\")\n",
    "print(f\"   \")\n",
    "print(f\"   -- KPIs ejecutivos principales\")\n",
    "print(f\"   SELECT total_trips_period, avg_daily_trips, rush_hours_share FROM uber_executive_gold;\")\n",
    "\n",
    "print(\"✅ Vistas SQL creadas exitosamente\")"
   ]
  },
  {
   "cell_type": "code",
   "execution_count": 0,
   "metadata": {
    "application/vnd.databricks.v1+cell": {
     "cellMetadata": {
      "byteLimit": 2048000,
      "rowLimit": 10000
     },
     "inputWidgets": {},
     "nuid": "93f5de8b-d755-4b9c-aea0-0909b9f322ba",
     "showTitle": false,
     "tableResultSettingsMap": {},
     "title": ""
    }
   },
   "outputs": [],
   "source": [
    "# COMMAND ----------\n",
    "\n",
    "# MAGIC %md\n",
    "# MAGIC ## 13. Generación de Reportes de Estadísticas\n",
    "\n",
    "# COMMAND ---------"
   ]
  },
  {
   "cell_type": "code",
   "execution_count": 0,
   "metadata": {
    "application/vnd.databricks.v1+cell": {
     "cellMetadata": {
      "byteLimit": 2048000,
      "rowLimit": 10000
     },
     "inputWidgets": {},
     "nuid": "3a681606-806b-4ee6-808d-56c52473743e",
     "showTitle": false,
     "tableResultSettingsMap": {},
     "title": ""
    }
   },
   "outputs": [
    {
     "output_type": "stream",
     "name": "stdout",
     "output_type": "stream",
     "text": [
      "\uD83D\uDCCA GENERANDO REPORTES DE ESTADÍSTICAS FINALES:\n==================================================\n"
     ]
    }
   ],
   "source": [
    "print(\"\uD83D\uDCCA GENERANDO REPORTES DE ESTADÍSTICAS FINALES:\")\n",
    "print(\"=\" * 50)"
   ]
  },
  {
   "cell_type": "code",
   "execution_count": 0,
   "metadata": {
    "application/vnd.databricks.v1+cell": {
     "cellMetadata": {
      "byteLimit": 2048000,
      "rowLimit": 10000
     },
     "inputWidgets": {},
     "nuid": "fc70eb3a-fd82-4853-b600-bd62fe5f8ab4",
     "showTitle": false,
     "tableResultSettingsMap": {},
     "title": ""
    }
   },
   "outputs": [],
   "source": [
    "# ✅ Leer correctamente desde ruta en Volumes (Unity Catalog)\n",
    "gold_path = \"/Volumes/workspace/default/uber_etl_azure/gold/\"\n",
    "executive_data = spark.read.format(\"delta\").load(f\"{gold_path}executive_dashboard\").collect()[0]\n"
   ]
  },
  {
   "cell_type": "code",
   "execution_count": 0,
   "metadata": {
    "application/vnd.databricks.v1+cell": {
     "cellMetadata": {
      "byteLimit": 2048000,
      "rowLimit": 10000
     },
     "inputWidgets": {},
     "nuid": "ef580cb2-27ff-41f3-9bfa-0fa56fc8c930",
     "showTitle": false,
     "tableResultSettingsMap": {},
     "title": ""
    }
   },
   "outputs": [
    {
     "output_type": "stream",
     "name": "stdout",
     "output_type": "stream",
     "text": [
      "\uD83D\uDCC8 REPORTE 1: Estadísticas Generales del Pipeline\n--------------------------------------------------\n\uD83D\uDCCA Métricas principales:\n   Total de viajes procesados: 4,502,417\n   Bases activas: 5\n   Días de operación: 183\n   Promedio de viajes diarios: 24,603.0\n   Promedio de viajes por base: 900,483.0\n\n\uD83D\uDD50 Distribución temporal:\n   Viajes en horario rush: 42.5%\n   Actividad nocturna: 24.2%\n   Ratio weekend/weekday: 0.33\n\n\uD83D\uDDFA️ Cobertura geográfica:\n   Centro geográfico: (40.7387, -73.9742)\n   Cobertura latitud: 0.3918°\n   Cobertura longitud: 0.5587°\n"
     ]
    }
   ],
   "source": [
    "print(\"\uD83D\uDCC8 REPORTE 1: Estadísticas Generales del Pipeline\")\n",
    "print(\"-\" * 50)\n",
    "\n",
    "print(f\"\uD83D\uDCCA Métricas principales:\")\n",
    "print(f\"   Total de viajes procesados: {executive_data['total_trips_period']:,}\")\n",
    "print(f\"   Bases activas: {executive_data['total_active_bases']}\")\n",
    "print(f\"   Días de operación: {executive_data['total_active_days']}\")\n",
    "print(f\"   Promedio de viajes diarios: {executive_data['avg_daily_trips']:,}\")\n",
    "print(f\"   Promedio de viajes por base: {executive_data['avg_trips_per_base']:,}\")\n",
    "\n",
    "print(f\"\\n\uD83D\uDD50 Distribución temporal:\")\n",
    "print(f\"   Viajes en horario rush: {executive_data['rush_hours_share']:.1f}%\")\n",
    "print(f\"   Actividad nocturna: {executive_data['night_activity_share']:.1f}%\")\n",
    "print(f\"   Ratio weekend/weekday: {executive_data['weekend_vs_weekday_ratio']:.2f}\")\n",
    "\n",
    "print(f\"\\n\uD83D\uDDFA️ Cobertura geográfica:\")\n",
    "print(f\"   Centro geográfico: ({executive_data['center_latitude']:.4f}, {executive_data['center_longitude']:.4f})\")\n",
    "print(f\"   Cobertura latitud: {executive_data['geographic_coverage_lat']:.4f}°\")\n",
    "print(f\"   Cobertura longitud: {executive_data['geographic_coverage_lon']:.4f}°\")\n"
   ]
  },
  {
   "cell_type": "code",
   "execution_count": 0,
   "metadata": {
    "application/vnd.databricks.v1+cell": {
     "cellMetadata": {
      "byteLimit": 2048000,
      "rowLimit": 10000
     },
     "inputWidgets": {},
     "nuid": "52123525-064a-4a6f-9941-7e5dd9bde123",
     "showTitle": false,
     "tableResultSettingsMap": {},
     "title": ""
    }
   },
   "outputs": [
    {
     "output_type": "stream",
     "name": "stdout",
     "output_type": "stream",
     "text": [
      "\n\uD83D\uDCC8 REPORTE 2: Top Performers\n------------------------------\n\uD83C\uDFC6 Top 5 días más activos:\n   1. 2014-09-13 (Saturday) - 42,819 viajes [Weekend]\n   2. 2014-09-05 (Friday) - 42,029 viajes [Weekday]\n   3. 2014-09-19 (Friday) - 40,684 viajes [Weekday]\n   4. 2014-09-06 (Saturday) - 40,135 viajes [Weekend]\n   5. 2014-09-18 (Thursday) - 40,000 viajes [Weekday]\n"
     ]
    }
   ],
   "source": [
    "from pyspark.sql import functions as F\n",
    "\n",
    "print(f\"\\n\uD83D\uDCC8 REPORTE 2: Top Performers\")\n",
    "print(\"-\" * 30)\n",
    "\n",
    "# Ruta Gold de daily_metrics\n",
    "daily_metrics_path = \"/Volumes/workspace/default/uber_etl_azure/gold/daily_metrics\"\n",
    "\n",
    "# Cargar tabla desde Delta (no requiere registro)\n",
    "daily_metrics = spark.read.format(\"delta\").load(daily_metrics_path)\n",
    "\n",
    "# Obtener Top 5 días más activos\n",
    "top_days = (\n",
    "    daily_metrics.select(\"pickup_date\", \"pickup_day_of_week\", \"total_trips\", \"day_type\")\n",
    "    .orderBy(F.desc(\"total_trips\"))\n",
    "    .limit(5)\n",
    "    .collect()\n",
    ")\n",
    "\n",
    "# Imprimir resultados\n",
    "print(\"\uD83C\uDFC6 Top 5 días más activos:\")\n",
    "for i, day in enumerate(top_days, 1):\n",
    "    print(f\"   {i}. {day['pickup_date']} ({day['pickup_day_of_week']}) - {day['total_trips']:,} viajes [{day['day_type']}]\")"
   ]
  },
  {
   "cell_type": "code",
   "execution_count": 0,
   "metadata": {
    "application/vnd.databricks.v1+cell": {
     "cellMetadata": {
      "byteLimit": 2048000,
      "rowLimit": 10000
     },
     "inputWidgets": {},
     "nuid": "056e4055-c1a8-4657-9d6b-95d08e30a898",
     "showTitle": false,
     "tableResultSettingsMap": {},
     "title": ""
    }
   },
   "outputs": [],
   "source": [
    "# COMMAND ----------\n",
    "\n",
    "# MAGIC %md\n",
    "# MAGIC ## 14. Resumen Final y Próximos Pasos\n",
    "\n",
    "# COMMAND ----------"
   ]
  },
  {
   "cell_type": "code",
   "execution_count": 0,
   "metadata": {
    "application/vnd.databricks.v1+cell": {
     "cellMetadata": {
      "byteLimit": 2048000,
      "rowLimit": 10000
     },
     "inputWidgets": {},
     "nuid": "a56191ab-027e-4453-a34a-888c6694da26",
     "showTitle": false,
     "tableResultSettingsMap": {},
     "title": ""
    }
   },
   "outputs": [
    {
     "output_type": "stream",
     "name": "stdout",
     "output_type": "stream",
     "text": [
      "\uD83C\uDFC6 RESUMEN FINAL - CAPA ORO COMPLETADA\n==================================================\n"
     ]
    }
   ],
   "source": [
    "print(\"\uD83C\uDFC6 RESUMEN FINAL - CAPA ORO COMPLETADA\")\n",
    "print(\"=\" * 50)"
   ]
  },
  {
   "cell_type": "code",
   "execution_count": 0,
   "metadata": {
    "application/vnd.databricks.v1+cell": {
     "cellMetadata": {
      "byteLimit": 2048000,
      "rowLimit": 10000
     },
     "inputWidgets": {},
     "nuid": "6db4d5d4-281a-4ef4-9979-fd56a6eaa021",
     "showTitle": false,
     "tableResultSettingsMap": {},
     "title": ""
    }
   },
   "outputs": [
    {
     "output_type": "stream",
     "name": "stdout",
     "output_type": "stream",
     "text": [
      "\uD83D\uDCCA Tablas Gold creadas exitosamente:\n   \uD83D\uDDD3️ daily_metrics: Agregaciones diarias con métricas de actividad\n   \uD83C\uDFE2 base_hourly_metrics: Análisis detallado por base y hora\n   \uD83D\uDCC8 monthly_kpis: KPIs de negocio con tendencias mensuales\n   \uD83D\uDDFA️ spatial_metrics: Análisis geoespacial por zonas\n   \uD83D\uDCBC executive_dashboard: Dashboard ejecutivo con KPIs principales\n\n\uD83D\uDCCD Ubicación de datos Gold:\n   /Volumes/workspace/default/uber_etl_azure/gold/\n\n\uD83D\uDE80 Próximos pasos recomendados:\n   \uD83D\uDCCA Conectar Power BI/Tableau a las vistas SQL\n   \uD83D\uDCE7 Configurar alertas automáticas en KPIs críticos\n   \uD83D\uDD04 Implementar pipeline de actualización incremental\n   \uD83D\uDCC8 Crear dashboards interactivos usando las agregaciones\n   \uD83E\uDD16 Implementar modelos de Machine Learning con datos Gold\n\n\uD83D\uDCA1 Comandos útiles para análisis:\n   -- Dashboard ejecutivo completo\n   SELECT * FROM uber_executive_gold;\n   \n   -- Análisis de tendencias\n   SELECT pickup_month, total_monthly_trips, mom_growth FROM uber_monthly_gold ORDER BY pickup_month;\n   \n   -- Top horas por base\n   SELECT base_code, pickup_hour, hourly_trips FROM uber_base_hourly_gold WHERE is_peak_hour = 1;\n\n\uD83C\uDF89 ARQUITECTURA MEDALLÓN COMPLETADA EXITOSAMENTE\n✨ Pipeline Bronce → Plata → Oro implementado y optimizado\n\uD83C\uDFC5 Datos listos para análisis avanzado y toma de decisiones\n"
     ]
    }
   ],
   "source": [
    "print(f\"\uD83D\uDCCA Tablas Gold creadas exitosamente:\")\n",
    "print(f\"   \uD83D\uDDD3️ daily_metrics: Agregaciones diarias con métricas de actividad\")\n",
    "print(f\"   \uD83C\uDFE2 base_hourly_metrics: Análisis detallado por base y hora\")\n",
    "print(f\"   \uD83D\uDCC8 monthly_kpis: KPIs de negocio con tendencias mensuales\")\n",
    "print(f\"   \uD83D\uDDFA️ spatial_metrics: Análisis geoespacial por zonas\")\n",
    "print(f\"   \uD83D\uDCBC executive_dashboard: Dashboard ejecutivo con KPIs principales\")\n",
    "\n",
    "print(f\"\\n\uD83D\uDCCD Ubicación de datos Gold:\")\n",
    "print(f\"   {gold_path}\")\n",
    "\n",
    "print(f\"\\n\uD83D\uDE80 Próximos pasos recomendados:\")\n",
    "print(f\"   \uD83D\uDCCA Conectar Power BI/Tableau a las vistas SQL\")\n",
    "print(f\"   \uD83D\uDCE7 Configurar alertas automáticas en KPIs críticos\")\n",
    "print(f\"   \uD83D\uDD04 Implementar pipeline de actualización incremental\")\n",
    "print(f\"   \uD83D\uDCC8 Crear dashboards interactivos usando las agregaciones\")\n",
    "print(f\"   \uD83E\uDD16 Implementar modelos de Machine Learning con datos Gold\")\n",
    "\n",
    "print(f\"\\n\uD83D\uDCA1 Comandos útiles para análisis:\")\n",
    "print(f\"   -- Dashboard ejecutivo completo\")\n",
    "print(f\"   SELECT * FROM uber_executive_gold;\")\n",
    "print(f\"   \")\n",
    "print(f\"   -- Análisis de tendencias\")\n",
    "print(f\"   SELECT pickup_month, total_monthly_trips, mom_growth FROM uber_monthly_gold ORDER BY pickup_month;\")\n",
    "print(f\"   \")\n",
    "print(f\"   -- Top horas por base\")\n",
    "print(f\"   SELECT base_code, pickup_hour, hourly_trips FROM uber_base_hourly_gold WHERE is_peak_hour = 1;\")\n",
    "\n",
    "print(f\"\\n\uD83C\uDF89 ARQUITECTURA MEDALLÓN COMPLETADA EXITOSAMENTE\")\n",
    "print(f\"✨ Pipeline Bronce → Plata → Oro implementado y optimizado\")\n",
    "print(f\"\uD83C\uDFC5 Datos listos para análisis avanzado y toma de decisiones\")"
   ]
  },
  {
   "cell_type": "code",
   "execution_count": 0,
   "metadata": {
    "application/vnd.databricks.v1+cell": {
     "cellMetadata": {
      "byteLimit": 2048000,
      "implicitDf": true,
      "rowLimit": 10000
     },
     "inputWidgets": {},
     "nuid": "25a0d027-d9f0-493f-939a-0933077e6d2b",
     "showTitle": false,
     "tableResultSettingsMap": {},
     "title": ""
    }
   },
   "outputs": [
    {
     "output_type": "display_data",
     "data": {
      "text/html": [
       "<style scoped>\n",
       "  .table-result-container {\n",
       "    max-height: 300px;\n",
       "    overflow: auto;\n",
       "  }\n",
       "  table, th, td {\n",
       "    border: 1px solid black;\n",
       "    border-collapse: collapse;\n",
       "  }\n",
       "  th, td {\n",
       "    padding: 5px;\n",
       "  }\n",
       "  th {\n",
       "    text-align: left;\n",
       "  }\n",
       "</style><div class='table-result-container'><table class='table-result'><thead style='background-color: white'><tr><th>total_trips_period</th><th>total_active_bases</th><th>total_active_days</th><th>total_active_hours</th><th>period_start</th><th>period_end</th><th>total_weekend_trips</th><th>total_weekday_trips</th><th>total_morning_rush</th><th>total_evening_rush</th><th>total_midday</th><th>total_night</th><th>total_late_night</th><th>center_latitude</th><th>center_longitude</th><th>south_bound</th><th>north_bound</th><th>west_bound</th><th>east_bound</th><th>report_id</th><th>avg_daily_trips</th><th>avg_trips_per_base</th><th>weekend_vs_weekday_ratio</th><th>rush_hours_share</th><th>night_activity_share</th><th>geographic_coverage_lat</th><th>geographic_coverage_lon</th><th>report_generated_at</th><th>gold_layer_version</th></tr></thead><tbody><tr><td>4502417</td><td>5</td><td>183</td><td>24</td><td>2014-04-01T00:00:00.000Z</td><td>2014-09-30T22:59:00.000Z</td><td>1125717</td><td>3376700</td><td>682876</td><td>1232653</td><td>1498592</td><td>687346</td><td>400950</td><td>40.738693</td><td>-73.974217</td><td>40.5258</td><td>40.9176</td><td>-74.2591</td><td>-73.7004</td><td>1</td><td>24603.0</td><td>900483.0</td><td>0.33</td><td>42.5</td><td>24.2</td><td>0.3918</td><td>0.5587</td><td>2025-07-28T17:29:15.387Z</td><td>1.0</td></tr></tbody></table></div>"
      ]
     },
     "metadata": {
      "application/vnd.databricks.v1+output": {
       "addedWidgets": {},
       "aggData": [],
       "aggError": "",
       "aggOverflow": false,
       "aggSchema": [],
       "aggSeriesLimitReached": false,
       "aggType": "",
       "arguments": {},
       "columnCustomDisplayInfos": {},
       "data": [
        [
         4502417,
         5,
         183,
         24,
         "2014-04-01T00:00:00.000Z",
         "2014-09-30T22:59:00.000Z",
         1125717,
         3376700,
         682876,
         1232653,
         1498592,
         687346,
         400950,
         40.738693,
         -73.974217,
         40.5258,
         40.9176,
         -74.2591,
         -73.7004,
         1,
         24603.0,
         900483.0,
         0.33,
         42.5,
         24.2,
         0.3918,
         0.5587,
         "2025-07-28T17:29:15.387Z",
         "1.0"
        ]
       ],
       "datasetInfos": [
        {
         "name": "_sqldf",
         "schema": {
          "fields": [
           {
            "metadata": {},
            "name": "total_trips_period",
            "nullable": true,
            "type": "long"
           },
           {
            "metadata": {},
            "name": "total_active_bases",
            "nullable": true,
            "type": "long"
           },
           {
            "metadata": {},
            "name": "total_active_days",
            "nullable": true,
            "type": "long"
           },
           {
            "metadata": {},
            "name": "total_active_hours",
            "nullable": true,
            "type": "long"
           },
           {
            "metadata": {},
            "name": "period_start",
            "nullable": true,
            "type": "timestamp"
           },
           {
            "metadata": {},
            "name": "period_end",
            "nullable": true,
            "type": "timestamp"
           },
           {
            "metadata": {},
            "name": "total_weekend_trips",
            "nullable": true,
            "type": "long"
           },
           {
            "metadata": {},
            "name": "total_weekday_trips",
            "nullable": true,
            "type": "long"
           },
           {
            "metadata": {},
            "name": "total_morning_rush",
            "nullable": true,
            "type": "long"
           },
           {
            "metadata": {},
            "name": "total_evening_rush",
            "nullable": true,
            "type": "long"
           },
           {
            "metadata": {},
            "name": "total_midday",
            "nullable": true,
            "type": "long"
           },
           {
            "metadata": {},
            "name": "total_night",
            "nullable": true,
            "type": "long"
           },
           {
            "metadata": {},
            "name": "total_late_night",
            "nullable": true,
            "type": "long"
           },
           {
            "metadata": {},
            "name": "center_latitude",
            "nullable": true,
            "type": "double"
           },
           {
            "metadata": {},
            "name": "center_longitude",
            "nullable": true,
            "type": "double"
           },
           {
            "metadata": {},
            "name": "south_bound",
            "nullable": true,
            "type": "double"
           },
           {
            "metadata": {},
            "name": "north_bound",
            "nullable": true,
            "type": "double"
           },
           {
            "metadata": {},
            "name": "west_bound",
            "nullable": true,
            "type": "double"
           },
           {
            "metadata": {},
            "name": "east_bound",
            "nullable": true,
            "type": "double"
           },
           {
            "metadata": {},
            "name": "report_id",
            "nullable": true,
            "type": "integer"
           },
           {
            "metadata": {},
            "name": "avg_daily_trips",
            "nullable": true,
            "type": "double"
           },
           {
            "metadata": {},
            "name": "avg_trips_per_base",
            "nullable": true,
            "type": "double"
           },
           {
            "metadata": {},
            "name": "weekend_vs_weekday_ratio",
            "nullable": true,
            "type": "double"
           },
           {
            "metadata": {},
            "name": "rush_hours_share",
            "nullable": true,
            "type": "double"
           },
           {
            "metadata": {},
            "name": "night_activity_share",
            "nullable": true,
            "type": "double"
           },
           {
            "metadata": {},
            "name": "geographic_coverage_lat",
            "nullable": true,
            "type": "double"
           },
           {
            "metadata": {},
            "name": "geographic_coverage_lon",
            "nullable": true,
            "type": "double"
           },
           {
            "metadata": {},
            "name": "report_generated_at",
            "nullable": true,
            "type": "timestamp"
           },
           {
            "metadata": {},
            "name": "gold_layer_version",
            "nullable": true,
            "type": "string"
           }
          ],
          "type": "struct"
         },
         "tableIdentifier": null,
         "typeStr": "pyspark.sql.connect.dataframe.DataFrame"
        }
       ],
       "dbfsResultPath": null,
       "isJsonSchema": true,
       "metadata": {
        "createTempViewForImplicitDf": true,
        "dataframeName": "_sqldf",
        "executionCount": 60
       },
       "overflow": false,
       "plotOptions": {
        "customPlotOptions": {},
        "displayType": "table",
        "pivotAggregation": null,
        "pivotColumns": null,
        "xColumns": null,
        "yColumns": null
       },
       "removedWidgets": [],
       "schema": [
        {
         "metadata": "{}",
         "name": "total_trips_period",
         "type": "\"long\""
        },
        {
         "metadata": "{}",
         "name": "total_active_bases",
         "type": "\"long\""
        },
        {
         "metadata": "{}",
         "name": "total_active_days",
         "type": "\"long\""
        },
        {
         "metadata": "{}",
         "name": "total_active_hours",
         "type": "\"long\""
        },
        {
         "metadata": "{}",
         "name": "period_start",
         "type": "\"timestamp\""
        },
        {
         "metadata": "{}",
         "name": "period_end",
         "type": "\"timestamp\""
        },
        {
         "metadata": "{}",
         "name": "total_weekend_trips",
         "type": "\"long\""
        },
        {
         "metadata": "{}",
         "name": "total_weekday_trips",
         "type": "\"long\""
        },
        {
         "metadata": "{}",
         "name": "total_morning_rush",
         "type": "\"long\""
        },
        {
         "metadata": "{}",
         "name": "total_evening_rush",
         "type": "\"long\""
        },
        {
         "metadata": "{}",
         "name": "total_midday",
         "type": "\"long\""
        },
        {
         "metadata": "{}",
         "name": "total_night",
         "type": "\"long\""
        },
        {
         "metadata": "{}",
         "name": "total_late_night",
         "type": "\"long\""
        },
        {
         "metadata": "{}",
         "name": "center_latitude",
         "type": "\"double\""
        },
        {
         "metadata": "{}",
         "name": "center_longitude",
         "type": "\"double\""
        },
        {
         "metadata": "{}",
         "name": "south_bound",
         "type": "\"double\""
        },
        {
         "metadata": "{}",
         "name": "north_bound",
         "type": "\"double\""
        },
        {
         "metadata": "{}",
         "name": "west_bound",
         "type": "\"double\""
        },
        {
         "metadata": "{}",
         "name": "east_bound",
         "type": "\"double\""
        },
        {
         "metadata": "{}",
         "name": "report_id",
         "type": "\"integer\""
        },
        {
         "metadata": "{}",
         "name": "avg_daily_trips",
         "type": "\"double\""
        },
        {
         "metadata": "{}",
         "name": "avg_trips_per_base",
         "type": "\"double\""
        },
        {
         "metadata": "{}",
         "name": "weekend_vs_weekday_ratio",
         "type": "\"double\""
        },
        {
         "metadata": "{}",
         "name": "rush_hours_share",
         "type": "\"double\""
        },
        {
         "metadata": "{}",
         "name": "night_activity_share",
         "type": "\"double\""
        },
        {
         "metadata": "{}",
         "name": "geographic_coverage_lat",
         "type": "\"double\""
        },
        {
         "metadata": "{}",
         "name": "geographic_coverage_lon",
         "type": "\"double\""
        },
        {
         "metadata": "{}",
         "name": "report_generated_at",
         "type": "\"timestamp\""
        },
        {
         "metadata": "{}",
         "name": "gold_layer_version",
         "type": "\"string\""
        }
       ],
       "type": "table"
      }
     },
     "output_type": "display_data"
    }
   ],
   "source": [
    "%sql\n",
    "SELECT * FROM uber_executive_gold;"
   ]
  },
  {
   "cell_type": "code",
   "execution_count": 0,
   "metadata": {
    "application/vnd.databricks.v1+cell": {
     "cellMetadata": {
      "byteLimit": 2048000,
      "implicitDf": true,
      "rowLimit": 10000
     },
     "inputWidgets": {},
     "nuid": "1a8f128e-4d24-4c8d-8070-7bd5fcd89a9c",
     "showTitle": false,
     "tableResultSettingsMap": {},
     "title": ""
    }
   },
   "outputs": [
    {
     "output_type": "display_data",
     "data": {
      "text/html": [
       "<style scoped>\n",
       "  .table-result-container {\n",
       "    max-height: 300px;\n",
       "    overflow: auto;\n",
       "  }\n",
       "  table, th, td {\n",
       "    border: 1px solid black;\n",
       "    border-collapse: collapse;\n",
       "  }\n",
       "  th, td {\n",
       "    padding: 5px;\n",
       "  }\n",
       "  th {\n",
       "    text-align: left;\n",
       "  }\n",
       "</style><div class='table-result-container'><table class='table-result'><thead style='background-color: white'><tr><th>pickup_month</th><th>total_monthly_trips</th><th>mom_growth</th></tr></thead><tbody><tr><td>4</td><td>562101</td><td>null</td></tr><tr><td>5</td><td>648998</td><td>15.46</td></tr><tr><td>6</td><td>659436</td><td>1.61</td></tr><tr><td>7</td><td>789920</td><td>19.79</td></tr><tr><td>8</td><td>821662</td><td>4.02</td></tr><tr><td>9</td><td>1020300</td><td>24.18</td></tr></tbody></table></div>"
      ]
     },
     "metadata": {
      "application/vnd.databricks.v1+output": {
       "addedWidgets": {},
       "aggData": [],
       "aggError": "",
       "aggOverflow": false,
       "aggSchema": [],
       "aggSeriesLimitReached": false,
       "aggType": "",
       "arguments": {},
       "columnCustomDisplayInfos": {},
       "data": [
        [
         4,
         562101,
         null
        ],
        [
         5,
         648998,
         15.46
        ],
        [
         6,
         659436,
         1.61
        ],
        [
         7,
         789920,
         19.79
        ],
        [
         8,
         821662,
         4.02
        ],
        [
         9,
         1020300,
         24.18
        ]
       ],
       "datasetInfos": [
        {
         "name": "_sqldf",
         "schema": {
          "fields": [
           {
            "metadata": {},
            "name": "pickup_month",
            "nullable": true,
            "type": "integer"
           },
           {
            "metadata": {},
            "name": "total_monthly_trips",
            "nullable": true,
            "type": "long"
           },
           {
            "metadata": {},
            "name": "mom_growth",
            "nullable": true,
            "type": "double"
           }
          ],
          "type": "struct"
         },
         "tableIdentifier": null,
         "typeStr": "pyspark.sql.connect.dataframe.DataFrame"
        }
       ],
       "dbfsResultPath": null,
       "isJsonSchema": true,
       "metadata": {
        "createTempViewForImplicitDf": true,
        "dataframeName": "_sqldf",
        "executionCount": 61
       },
       "overflow": false,
       "plotOptions": {
        "customPlotOptions": {},
        "displayType": "table",
        "pivotAggregation": null,
        "pivotColumns": null,
        "xColumns": null,
        "yColumns": null
       },
       "removedWidgets": [],
       "schema": [
        {
         "metadata": "{}",
         "name": "pickup_month",
         "type": "\"integer\""
        },
        {
         "metadata": "{}",
         "name": "total_monthly_trips",
         "type": "\"long\""
        },
        {
         "metadata": "{}",
         "name": "mom_growth",
         "type": "\"double\""
        }
       ],
       "type": "table"
      }
     },
     "output_type": "display_data"
    }
   ],
   "source": [
    "%sql\n",
    "SELECT pickup_month, total_monthly_trips, mom_growth FROM uber_monthly_gold ORDER BY pickup_month;"
   ]
  }
 ],
 "metadata": {
  "application/vnd.databricks.v1+notebook": {
   "computePreferences": null,
   "dashboards": [],
   "environmentMetadata": {
    "base_environment": "",
    "environment_version": "2"
   },
   "inputWidgetPreferences": null,
   "language": "python",
   "notebookMetadata": {
    "mostRecentlyExecutedCommandWithImplicitDF": {
     "commandId": 7043932773368556,
     "dataframes": [
      "_sqldf"
     ]
    },
    "pythonIndentUnit": 4
   },
   "notebookName": "03_Uber_Gold_Layer",
   "widgets": {}
  },
  "language_info": {
   "name": "python"
  }
 },
 "nbformat": 4,
 "nbformat_minor": 0
}