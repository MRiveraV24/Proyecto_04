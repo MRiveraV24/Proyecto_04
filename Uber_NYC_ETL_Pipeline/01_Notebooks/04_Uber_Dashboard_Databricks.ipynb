{
 "cells": [
  {
   "cell_type": "code",
   "execution_count": 0,
   "metadata": {
    "application/vnd.databricks.v1+cell": {
     "cellMetadata": {
      "byteLimit": 2048000,
      "rowLimit": 10000
     },
     "inputWidgets": {},
     "nuid": "928a811d-baf8-454a-942f-80d0b956c4dc",
     "showTitle": false,
     "tableResultSettingsMap": {},
     "title": ""
    }
   },
   "outputs": [],
   "source": [
    "# Databricks notebook source\n",
    "# MAGIC %md\n",
    "# MAGIC # \uD83D\uDCCA Dashboard Ejecutivo - Uber NYC Data Pipeline\n",
    "# MAGIC \n",
    "# MAGIC ## Objetivo\n",
    "# MAGIC Crear un dashboard interactivo y completo usando las 5 tablas Gold especializadas para análisis de negocio de Uber NYC.\n",
    "# MAGIC \n",
    "# MAGIC ## Componentes del Dashboard\n",
    "# MAGIC 1. **KPIs Ejecutivos** - Métricas principales de negocio\n",
    "# MAGIC 2. **Análisis Temporal** - Tendencias y patrones por tiempo\n",
    "# MAGIC 3. **Performance por Bases** - Análisis operacional detallado\n",
    "# MAGIC 4. **Análisis Geoespacial** - Distribución y hotspots geográficos\n",
    "# MAGIC 5. **Insights de Negocio** - Conclusiones y recomendaciones\n",
    "\n",
    "# COMMAND ----------"
   ]
  },
  {
   "cell_type": "code",
   "execution_count": 0,
   "metadata": {
    "application/vnd.databricks.v1+cell": {
     "cellMetadata": {
      "byteLimit": 2048000,
      "rowLimit": 10000
     },
     "inputWidgets": {},
     "nuid": "9682d948-35bf-4a95-902d-0eb864752626",
     "showTitle": false,
     "tableResultSettingsMap": {},
     "title": ""
    }
   },
   "outputs": [],
   "source": [
    "# COMMAND ----------\n",
    "\n",
    "# MAGIC %md\n",
    "# MAGIC ## 1. Configuración y Carga de Datos\n",
    "\n",
    "# COMMAND ---------"
   ]
  },
  {
   "cell_type": "code",
   "execution_count": 0,
   "metadata": {
    "application/vnd.databricks.v1+cell": {
     "cellMetadata": {
      "byteLimit": 2048000,
      "rowLimit": 10000
     },
     "inputWidgets": {},
     "nuid": "f97890df-c19b-4535-be91-b8208bcc7762",
     "showTitle": false,
     "tableResultSettingsMap": {},
     "title": ""
    }
   },
   "outputs": [],
   "source": [
    "# Importar librerías necesarias\n",
    "from pyspark.sql import SparkSession\n",
    "from pyspark.sql.functions import *\n",
    "import matplotlib.pyplot as plt\n",
    "import seaborn as sns\n",
    "import plotly.express as px\n",
    "import plotly.graph_objects as go\n",
    "from plotly.subplots import make_subplots\n",
    "import pandas as pd\n",
    "import warnings\n",
    "warnings.filterwarnings('ignore')"
   ]
  },
  {
   "cell_type": "code",
   "execution_count": 0,
   "metadata": {
    "application/vnd.databricks.v1+cell": {
     "cellMetadata": {
      "byteLimit": 2048000,
      "rowLimit": 10000
     },
     "inputWidgets": {},
     "nuid": "be9c7864-ee80-4d96-bf8d-df27258fefc2",
     "showTitle": false,
     "tableResultSettingsMap": {},
     "title": ""
    }
   },
   "outputs": [
    {
     "output_type": "stream",
     "name": "stdout",
     "output_type": "stream",
     "text": [
      "✅ Librerías importadas exitosamente\n\uD83D\uDCCA Iniciando Dashboard Ejecutivo Uber NYC\n"
     ]
    }
   ],
   "source": [
    "# Configurar estilo de visualizaciones\n",
    "plt.style.use('default')\n",
    "sns.set_palette(\"husl\")\n",
    "\n",
    "print(\"✅ Librerías importadas exitosamente\")\n",
    "print(\"\uD83D\uDCCA Iniciando Dashboard Ejecutivo Uber NYC\")"
   ]
  },
  {
   "cell_type": "code",
   "execution_count": 0,
   "metadata": {
    "application/vnd.databricks.v1+cell": {
     "cellMetadata": {
      "byteLimit": 2048000,
      "rowLimit": 10000
     },
     "inputWidgets": {},
     "nuid": "854103db-2c3b-40af-9983-448ab4e6e191",
     "showTitle": false,
     "tableResultSettingsMap": {},
     "title": ""
    }
   },
   "outputs": [],
   "source": [
    "# COMMAND ----------\n",
    "\n",
    "# MAGIC %md\n",
    "# MAGIC ## 2. Carga y Validación de Tablas Gold\n",
    "\n",
    "# COMMAND ---------"
   ]
  },
  {
   "cell_type": "code",
   "execution_count": 0,
   "metadata": {
    "application/vnd.databricks.v1+cell": {
     "cellMetadata": {
      "byteLimit": 2048000,
      "rowLimit": 10000
     },
     "inputWidgets": {},
     "nuid": "dcf5b63b-c588-4e75-b122-ae3688095c28",
     "showTitle": false,
     "tableResultSettingsMap": {},
     "title": ""
    }
   },
   "outputs": [
    {
     "output_type": "stream",
     "name": "stdout",
     "output_type": "stream",
     "text": [
      "\uD83D\uDCE5 Cargando tablas Gold...\n✅ Todas las tablas Gold cargadas exitosamente\n\n\uD83D\uDCCA Información de tablas:\n   Daily Metrics: 183 registros\n   Base Hourly: 120 registros\n   Monthly KPIs: 6 registros\n   Spatial Metrics: 1,684 registros\n   Executive Summary: 1 registros\n"
     ]
    }
   ],
   "source": [
    "# Configurar rutas\n",
    "gold_path = \"/Volumes/workspace/default/uber_etl_azure/gold/\"\n",
    "\n",
    "# Cargar todas las tablas Gold\n",
    "print(\"\uD83D\uDCE5 Cargando tablas Gold...\")\n",
    "\n",
    "try:\n",
    "    # Cargar cada tabla Gold\n",
    "    df_daily = spark.read.format(\"delta\").load(f\"{gold_path}daily_metrics\")\n",
    "    df_base_hourly = spark.read.format(\"delta\").load(f\"{gold_path}base_hourly_metrics\")\n",
    "    df_monthly = spark.read.format(\"delta\").load(f\"{gold_path}monthly_kpis\")\n",
    "    df_spatial = spark.read.format(\"delta\").load(f\"{gold_path}spatial_metrics\")\n",
    "    df_executive = spark.read.format(\"delta\").load(f\"{gold_path}executive_dashboard\")\n",
    "    \n",
    "    print(\"✅ Todas las tablas Gold cargadas exitosamente\")\n",
    "    \n",
    "    # Validar datos\n",
    "    tables_info = [\n",
    "        (\"Daily Metrics\", df_daily.count()),\n",
    "        (\"Base Hourly\", df_base_hourly.count()),\n",
    "        (\"Monthly KPIs\", df_monthly.count()),\n",
    "        (\"Spatial Metrics\", df_spatial.count()),\n",
    "        (\"Executive Summary\", df_executive.count())\n",
    "    ]\n",
    "    \n",
    "    print(\"\\n\uD83D\uDCCA Información de tablas:\")\n",
    "    for name, count in tables_info:\n",
    "        print(f\"   {name}: {count:,} registros\")\n",
    "        \n",
    "except Exception as e:\n",
    "    print(f\"❌ Error cargando tablas Gold: {str(e)}\")\n",
    "    print(\"\uD83D\uDCA1 Asegúrate de haber ejecutado el notebook '03_Uber_Gold_Layer' primero\")\n",
    "    raise\n"
   ]
  },
  {
   "cell_type": "code",
   "execution_count": 0,
   "metadata": {
    "application/vnd.databricks.v1+cell": {
     "cellMetadata": {
      "byteLimit": 2048000,
      "rowLimit": 10000
     },
     "inputWidgets": {},
     "nuid": "2f230d6b-e3ed-41d8-b53f-21b7f58ef01d",
     "showTitle": false,
     "tableResultSettingsMap": {},
     "title": ""
    }
   },
   "outputs": [],
   "source": [
    "# COMMAND ----------\n",
    "\n",
    "# MAGIC %md\n",
    "# MAGIC ## 3. \uD83C\uDFAF SECCIÓN 1: KPIs EJECUTIVOS PRINCIPALES\n",
    "\n",
    "# COMMAND ----------\n",
    "\n",
    "# MAGIC %md\n",
    "# MAGIC ### KPIs Principales de Negocio\n",
    "\n",
    "# COMMAND ----------"
   ]
  },
  {
   "cell_type": "code",
   "execution_count": 0,
   "metadata": {
    "application/vnd.databricks.v1+cell": {
     "cellMetadata": {
      "byteLimit": 2048000,
      "rowLimit": 10000
     },
     "inputWidgets": {},
     "nuid": "e8c8b257-7811-4148-a2dd-4d5855ac228d",
     "showTitle": false,
     "tableResultSettingsMap": {},
     "title": ""
    }
   },
   "outputs": [
    {
     "output_type": "stream",
     "name": "stdout",
     "output_type": "stream",
     "text": [
      "\uD83C\uDFAF DASHBOARD SECCIÓN 1: KPIs EJECUTIVOS\n==================================================\n"
     ]
    }
   ],
   "source": [
    "print(\"\uD83C\uDFAF DASHBOARD SECCIÓN 1: KPIs EJECUTIVOS\")\n",
    "print(\"=\" * 50)"
   ]
  },
  {
   "cell_type": "code",
   "execution_count": 0,
   "metadata": {
    "application/vnd.databricks.v1+cell": {
     "cellMetadata": {
      "byteLimit": 2048000,
      "rowLimit": 10000
     },
     "inputWidgets": {},
     "nuid": "3ec08077-0afa-4c79-81d9-44d2989a2df4",
     "showTitle": false,
     "tableResultSettingsMap": {},
     "title": ""
    }
   },
   "outputs": [
    {
     "output_type": "stream",
     "name": "stdout",
     "output_type": "stream",
     "text": [
      "\uD83D\uDCC8 MÉTRICAS PRINCIPALES:\n   \uD83D\uDE97 Total de Viajes: 4,502,417\n   \uD83C\uDFE2 Bases Activas: 5\n   \uD83D\uDCC5 Días de Operación: 183\n   \uD83D\uDCCA Promedio Viajes/Día: 24,603.0\n   \uD83C\uDFAF Promedio Viajes/Base: 900,483.0\n\n\uD83D\uDD50 DISTRIBUCIÓN TEMPORAL:\n   ⏰ Horarios Rush: 42.5%\n   \uD83C\uDF19 Actividad Nocturna: 24.2%\n   \uD83D\uDCCA Ratio Weekend/Weekday: 0.33\n\n\uD83D\uDDFA️ COBERTURA GEOGRÁFICA:\n   \uD83D\uDCCD Centro: (40.7387, -73.9742)\n   \uD83D\uDCCF Cobertura Latitud: 0.3918°\n   \uD83D\uDCD0 Cobertura Longitud: 0.5587°\n"
     ]
    }
   ],
   "source": [
    "# Obtener KPIs ejecutivos\n",
    "executive_data = df_executive.collect()[0]\n",
    "\n",
    "# Mostrar KPIs principales\n",
    "print(\"\uD83D\uDCC8 MÉTRICAS PRINCIPALES:\")\n",
    "print(f\"   \uD83D\uDE97 Total de Viajes: {executive_data['total_trips_period']:,}\")\n",
    "print(f\"   \uD83C\uDFE2 Bases Activas: {executive_data['total_active_bases']}\")\n",
    "print(f\"   \uD83D\uDCC5 Días de Operación: {executive_data['total_active_days']}\")\n",
    "print(f\"   \uD83D\uDCCA Promedio Viajes/Día: {executive_data['avg_daily_trips']:,}\")\n",
    "print(f\"   \uD83C\uDFAF Promedio Viajes/Base: {executive_data['avg_trips_per_base']:,}\")\n",
    "\n",
    "print(f\"\\n\uD83D\uDD50 DISTRIBUCIÓN TEMPORAL:\")\n",
    "print(f\"   ⏰ Horarios Rush: {executive_data['rush_hours_share']:.1f}%\")\n",
    "print(f\"   \uD83C\uDF19 Actividad Nocturna: {executive_data['night_activity_share']:.1f}%\")\n",
    "print(f\"   \uD83D\uDCCA Ratio Weekend/Weekday: {executive_data['weekend_vs_weekday_ratio']:.2f}\")\n",
    "\n",
    "print(f\"\\n\uD83D\uDDFA️ COBERTURA GEOGRÁFICA:\")\n",
    "print(f\"   \uD83D\uDCCD Centro: ({executive_data['center_latitude']:.4f}, {executive_data['center_longitude']:.4f})\")\n",
    "print(f\"   \uD83D\uDCCF Cobertura Latitud: {executive_data['geographic_coverage_lat']:.4f}°\")\n",
    "print(f\"   \uD83D\uDCD0 Cobertura Longitud: {executive_data['geographic_coverage_lon']:.4f}°\")"
   ]
  },
  {
   "cell_type": "code",
   "execution_count": 0,
   "metadata": {
    "application/vnd.databricks.v1+cell": {
     "cellMetadata": {
      "byteLimit": 2048000,
      "rowLimit": 10000
     },
     "inputWidgets": {},
     "nuid": "8c9138dd-0445-4596-88ba-dcef5dd883f6",
     "showTitle": false,
     "tableResultSettingsMap": {},
     "title": ""
    }
   },
   "outputs": [],
   "source": [
    "# COMMAND ----------\n",
    "\n",
    "# MAGIC %sql\n",
    "# MAGIC -- Crear vista para KPIs principales\n",
    "# MAGIC CREATE OR REPLACE TEMPORARY VIEW kpis_principales AS\n",
    "# MAGIC SELECT \n",
    "# MAGIC   'Total Viajes' as metric_name,\n",
    "# MAGIC   total_trips_period as metric_value,\n",
    "# MAGIC   'viajes' as unit\n",
    "# MAGIC FROM uber_executive_gold\n",
    "# MAGIC \n",
    "# MAGIC UNION ALL\n",
    "# MAGIC \n",
    "# MAGIC SELECT \n",
    "# MAGIC   'Promedio Diario' as metric_name,\n",
    "# MAGIC   avg_daily_trips as metric_value,\n",
    "# MAGIC   'viajes/día' as unit\n",
    "# MAGIC FROM uber_executive_gold\n",
    "# MAGIC \n",
    "# MAGIC UNION ALL\n",
    "# MAGIC \n",
    "# MAGIC SELECT \n",
    "# MAGIC   'Bases Activas' as metric_name,\n",
    "# MAGIC   total_active_bases as metric_value,\n",
    "# MAGIC   'bases' as unit\n",
    "# MAGIC FROM uber_executive_gold\n",
    "# MAGIC \n",
    "# MAGIC UNION ALL\n",
    "# MAGIC \n",
    "# MAGIC SELECT \n",
    "# MAGIC   'Rush Hours %' as metric_name,\n",
    "# MAGIC   rush_hours_share as metric_value,\n",
    "# MAGIC   '%' as unit\n",
    "# MAGIC FROM uber_executive_gold;\n",
    "# MAGIC \n",
    "# MAGIC SELECT * FROM kpis_principales;"
   ]
  },
  {
   "cell_type": "code",
   "execution_count": 0,
   "metadata": {
    "application/vnd.databricks.v1+cell": {
     "cellMetadata": {
      "byteLimit": 2048000,
      "rowLimit": 10000
     },
     "inputWidgets": {},
     "nuid": "10e33bf1-6065-4593-ab5e-2fab9684d39e",
     "showTitle": false,
     "tableResultSettingsMap": {},
     "title": ""
    }
   },
   "outputs": [],
   "source": [
    "# COMMAND ----------\n",
    "\n",
    "# MAGIC %md\n",
    "# MAGIC ## 4. \uD83D\uDCC5 SECCIÓN 2: ANÁLISIS TEMPORAL\n",
    "\n",
    "# COMMAND ----------\n",
    "\n",
    "# MAGIC %md\n",
    "# MAGIC ### Tendencias Mensuales y Patrones Temporales\n",
    "\n",
    "# COMMAND ----------"
   ]
  },
  {
   "cell_type": "code",
   "execution_count": 0,
   "metadata": {
    "application/vnd.databricks.v1+cell": {
     "cellMetadata": {
      "byteLimit": 2048000,
      "rowLimit": 10000
     },
     "inputWidgets": {},
     "nuid": "049bc1c8-32be-47a8-84d3-69bc3dfa1865",
     "showTitle": false,
     "tableResultSettingsMap": {},
     "title": ""
    }
   },
   "outputs": [
    {
     "output_type": "stream",
     "name": "stdout",
     "output_type": "stream",
     "text": [
      "\uD83D\uDCC5 DASHBOARD SECCIÓN 2: ANÁLISIS TEMPORAL\n=============================================\n"
     ]
    }
   ],
   "source": [
    "print(\"\uD83D\uDCC5 DASHBOARD SECCIÓN 2: ANÁLISIS TEMPORAL\")\n",
    "print(\"=\" * 45)"
   ]
  },
  {
   "cell_type": "code",
   "execution_count": 0,
   "metadata": {
    "application/vnd.databricks.v1+cell": {
     "cellMetadata": {
      "byteLimit": 2048000,
      "rowLimit": 10000
     },
     "inputWidgets": {},
     "nuid": "f6475f49-957a-4e5d-8c05-f94d2705aa16",
     "showTitle": false,
     "tableResultSettingsMap": {},
     "title": ""
    }
   },
   "outputs": [
    {
     "output_type": "stream",
     "name": "stdout",
     "output_type": "stream",
     "text": [
      "\uD83D\uDCC8 TENDENCIAS MENSUALES:\n   Abr: 562,101 viajes ➡️ +0.0%\n   May: 648,998 viajes \uD83D\uDCC8 +15.5%\n   Jun: 659,436 viajes \uD83D\uDCC8 +1.6%\n   Jul: 789,920 viajes \uD83D\uDCC8 +19.8%\n   Ago: 821,662 viajes \uD83D\uDCC8 +4.0%\n   Sep: 1,020,300 viajes \uD83D\uDCC8 +24.2%\n"
     ]
    }
   ],
   "source": [
    "# Análisis de tendencias mensuales\n",
    "print(\"\uD83D\uDCC8 TENDENCIAS MENSUALES:\")\n",
    "monthly_data = df_monthly.orderBy(\"pickup_month\").collect()\n",
    "\n",
    "month_names = ['', 'Ene', 'Feb', 'Mar', 'Abr', 'May', 'Jun', \n",
    "               'Jul', 'Ago', 'Sep', 'Oct', 'Nov', 'Dic']\n",
    "\n",
    "for month in monthly_data:\n",
    "    month_name = month_names[month['pickup_month']]\n",
    "    trips = month['total_monthly_trips']\n",
    "    growth = month['mom_growth'] if month['mom_growth'] else 0\n",
    "    growth_indicator = \"\uD83D\uDCC8\" if growth > 0 else \"\uD83D\uDCC9\" if growth < 0 else \"➡️\"\n",
    "    print(f\"   {month_name}: {trips:,} viajes {growth_indicator} {growth:+.1f}%\")"
   ]
  },
  {
   "cell_type": "code",
   "execution_count": 0,
   "metadata": {
    "application/vnd.databricks.v1+cell": {
     "cellMetadata": {
      "byteLimit": 2048000,
      "rowLimit": 10000
     },
     "inputWidgets": {},
     "nuid": "b1ee05f6-7ac5-4baf-a09d-6687fb823a8a",
     "showTitle": false,
     "tableResultSettingsMap": {},
     "title": ""
    }
   },
   "outputs": [],
   "source": [
    "# COMMAND ----------\n",
    "\n",
    "# MAGIC %sql\n",
    "# MAGIC -- Tendencia mensual de viajes\n",
    "# MAGIC SELECT \n",
    "# MAGIC   pickup_month,\n",
    "# MAGIC   CASE pickup_month\n",
    "# MAGIC     WHEN 1 THEN 'Enero'\n",
    "# MAGIC     WHEN 2 THEN 'Febrero' \n",
    "# MAGIC     WHEN 3 THEN 'Marzo'\n",
    "# MAGIC     WHEN 4 THEN 'Abril'\n",
    "# MAGIC     WHEN 5 THEN 'Mayo'\n",
    "# MAGIC     WHEN 6 THEN 'Junio'\n",
    "# MAGIC     WHEN 7 THEN 'Julio'\n",
    "# MAGIC     WHEN 8 THEN 'Agosto'\n",
    "# MAGIC     WHEN 9 THEN 'Septiembre'\n",
    "# MAGIC     WHEN 10 THEN 'Octubre'\n",
    "# MAGIC     WHEN 11 THEN 'Noviembre'\n",
    "# MAGIC     WHEN 12 THEN 'Diciembre'\n",
    "# MAGIC   END as mes_nombre,\n",
    "# MAGIC   total_monthly_trips as total_viajes,\n",
    "# MAGIC   COALESCE(mom_growth, 0) as crecimiento_mensual,\n",
    "# MAGIC   rush_hours_percentage as porcentaje_rush,\n",
    "# MAGIC   night_activity_percentage as actividad_nocturna\n",
    "# MAGIC FROM uber_monthly_gold\n",
    "# MAGIC ORDER BY pickup_month;\n",
    "\n",
    "# COMMAND ----------\n",
    "\n",
    "# MAGIC %sql\n",
    "# MAGIC -- Análisis por día de la semana\n",
    "# MAGIC SELECT \n",
    "# MAGIC   pickup_day_of_week as dia_semana,\n",
    "# MAGIC   day_type as tipo_dia,\n",
    "# MAGIC   SUM(total_trips) as total_viajes,\n",
    "# MAGIC   AVG(total_trips) as promedio_diario,\n",
    "# MAGIC   SUM(morning_rush_trips) as viajes_rush_mañana,\n",
    "# MAGIC   SUM(evening_rush_trips) as viajes_rush_tarde,\n",
    "# MAGIC   ROUND(AVG(rush_hour_percentage), 1) as porcentaje_rush_promedio\n",
    "# MAGIC FROM uber_daily_gold\n",
    "# MAGIC GROUP BY pickup_day_of_week, pickup_day_of_week_num, day_type\n",
    "# MAGIC ORDER BY pickup_day_of_week_num;\n",
    "\n",
    "# COMMAND ----------\n",
    "\n",
    "# MAGIC %sql\n",
    "# MAGIC -- Distribución horaria general\n",
    "# MAGIC SELECT \n",
    "# MAGIC   pickup_hour as hora,\n",
    "# MAGIC   SUM(hourly_trips) as total_viajes,\n",
    "# MAGIC   COUNT(DISTINCT base_code) as bases_activas,\n",
    "# MAGIC   ROUND(AVG(weekend_percentage), 1) as porcentaje_weekend,\n",
    "# MAGIC   time_category as categoria_horaria\n",
    "# MAGIC FROM uber_base_hourly_gold\n",
    "# MAGIC GROUP BY pickup_hour, time_category\n",
    "# MAGIC ORDER BY pickup_hour;\n"
   ]
  },
  {
   "cell_type": "code",
   "execution_count": 0,
   "metadata": {
    "application/vnd.databricks.v1+cell": {
     "cellMetadata": {
      "byteLimit": 2048000,
      "rowLimit": 10000
     },
     "inputWidgets": {},
     "nuid": "836c6ec5-f7d0-475e-953c-39bc9d7ca117",
     "showTitle": false,
     "tableResultSettingsMap": {},
     "title": ""
    }
   },
   "outputs": [],
   "source": [
    "# COMMAND ----------\n",
    "\n",
    "# MAGIC %md\n",
    "# MAGIC ## 5. \uD83C\uDFE2 SECCIÓN 3: PERFORMANCE POR BASES\n",
    "\n",
    "# COMMAND ----------\n",
    "\n",
    "# MAGIC %md\n",
    "# MAGIC ### Análisis Operacional por Base\n",
    "\n",
    "# COMMAND ----------"
   ]
  },
  {
   "cell_type": "code",
   "execution_count": 0,
   "metadata": {
    "application/vnd.databricks.v1+cell": {
     "cellMetadata": {
      "byteLimit": 2048000,
      "rowLimit": 10000
     },
     "inputWidgets": {},
     "nuid": "05ff7baa-3be5-4461-9580-cf0aed966a18",
     "showTitle": false,
     "tableResultSettingsMap": {},
     "title": ""
    }
   },
   "outputs": [
    {
     "output_type": "stream",
     "name": "stdout",
     "output_type": "stream",
     "text": [
      "\uD83C\uDFE2 DASHBOARD SECCIÓN 3: PERFORMANCE POR BASES\n=============================================\n"
     ]
    }
   ],
   "source": [
    "print(\"\uD83C\uDFE2 DASHBOARD SECCIÓN 3: PERFORMANCE POR BASES\")\n",
    "print(\"=\" * 45)"
   ]
  },
  {
   "cell_type": "code",
   "execution_count": 0,
   "metadata": {
    "application/vnd.databricks.v1+cell": {
     "cellMetadata": {
      "byteLimit": 2048000,
      "rowLimit": 10000
     },
     "inputWidgets": {},
     "nuid": "0040f23e-5556-4cf0-829c-9bf22ca38237",
     "showTitle": false,
     "tableResultSettingsMap": {},
     "title": ""
    }
   },
   "outputs": [
    {
     "output_type": "stream",
     "name": "stdout",
     "output_type": "stream",
     "text": [
      "\uD83C\uDFC6 TOP 5 BASES MÁS ACTIVAS:\n   1. Base B02617: 1,449,558 viajes\n   2. Base B02598: 1,383,720 viajes\n   3. Base B02682: 1,205,017 viajes\n   4. Base B02764: 261,394 viajes\n   5. Base B02512: 202,728 viajes\n"
     ]
    }
   ],
   "source": [
    "# Top 5 bases más activas\n",
    "print(\"\uD83C\uDFC6 TOP 5 BASES MÁS ACTIVAS:\")\n",
    "top_bases = df_base_hourly.groupBy(\"base_code\") \\\n",
    "    .agg(sum(\"hourly_trips\").alias(\"total_trips\")) \\\n",
    "    .orderBy(col(\"total_trips\").desc()) \\\n",
    "    .limit(5) \\\n",
    "    .collect()\n",
    "\n",
    "for i, base in enumerate(top_bases, 1):\n",
    "    print(f\"   {i}. Base {base['base_code']}: {base['total_trips']:,} viajes\")"
   ]
  },
  {
   "cell_type": "code",
   "execution_count": 0,
   "metadata": {
    "application/vnd.databricks.v1+cell": {
     "cellMetadata": {
      "byteLimit": 2048000,
      "rowLimit": 10000
     },
     "inputWidgets": {},
     "nuid": "47d13bcc-43f9-49c5-a713-655ee345443f",
     "showTitle": false,
     "tableResultSettingsMap": {},
     "title": ""
    }
   },
   "outputs": [],
   "source": [
    "# COMMAND ----------\n",
    "\n",
    "# MAGIC %sql\n",
    "# MAGIC -- Ranking completo de bases\n",
    "# MAGIC SELECT \n",
    "# MAGIC   base_code,\n",
    "# MAGIC   SUM(hourly_trips) as total_viajes,\n",
    "# MAGIC   COUNT(DISTINCT pickup_hour) as horas_activas,\n",
    "# MAGIC   ROUND(AVG(avg_trips_per_day), 1) as promedio_viajes_dia,\n",
    "# MAGIC   ROUND(AVG(weekend_percentage), 1) as porcentaje_weekend,\n",
    "# MAGIC   SUM(CASE WHEN is_peak_hour = 1 THEN hourly_trips ELSE 0 END) as viajes_horas_pico\n",
    "# MAGIC FROM uber_base_hourly_gold\n",
    "# MAGIC GROUP BY base_code\n",
    "# MAGIC ORDER BY total_viajes DESC;\n",
    "\n",
    "# COMMAND ----------\n",
    "\n",
    "# MAGIC %sql\n",
    "# MAGIC -- Análisis de horas pico por base\n",
    "# MAGIC SELECT \n",
    "# MAGIC   base_code,\n",
    "# MAGIC   pickup_hour,\n",
    "# MAGIC   hourly_trips,\n",
    "# MAGIC   time_category,\n",
    "# MAGIC   hour_rank_by_trips,\n",
    "# MAGIC   CASE WHEN is_peak_hour = 1 THEN '\uD83D\uDD25 Hora Pico' ELSE 'Normal' END as tipo_hora\n",
    "# MAGIC FROM uber_base_hourly_gold\n",
    "# MAGIC WHERE is_peak_hour = 1\n",
    "# MAGIC ORDER BY base_code, hour_rank_by_trips;\n",
    "\n",
    "# COMMAND ----------\n",
    "\n",
    "# MAGIC %sql\n",
    "# MAGIC -- Comparativa de eficiencia por base\n",
    "# MAGIC SELECT \n",
    "# MAGIC   base_code,\n",
    "# MAGIC   SUM(hourly_trips) as total_viajes,\n",
    "# MAGIC   COUNT(DISTINCT pickup_hour) as horas_operacion,\n",
    "# MAGIC   ROUND(SUM(hourly_trips) / COUNT(DISTINCT pickup_hour), 1) as viajes_por_hora,\n",
    "# MAGIC   ROUND(AVG(coordinate_range_lat), 4) as cobertura_latitud,\n",
    "# MAGIC   ROUND(AVG(coordinate_range_lon), 4) as cobertura_longitud,\n",
    "# MAGIC   CASE \n",
    "# MAGIC     WHEN SUM(hourly_trips) > (SELECT AVG(total) FROM (SELECT SUM(hourly_trips) as total FROM uber_base_hourly_gold GROUP BY base_code)) \n",
    "# MAGIC     THEN '\uD83D\uDD25 Alto Rendimiento'\n",
    "# MAGIC     ELSE '\uD83D\uDCCA Rendimiento Normal'\n",
    "# MAGIC   END as clasificacion_rendimiento\n",
    "# MAGIC FROM uber_base_hourly_gold\n",
    "# MAGIC GROUP BY base_code\n",
    "# MAGIC ORDER BY viajes_por_hora DESC;"
   ]
  },
  {
   "cell_type": "code",
   "execution_count": 0,
   "metadata": {
    "application/vnd.databricks.v1+cell": {
     "cellMetadata": {
      "byteLimit": 2048000,
      "rowLimit": 10000
     },
     "inputWidgets": {},
     "nuid": "fef14fcf-3491-40e4-be20-5ed158bae659",
     "showTitle": false,
     "tableResultSettingsMap": {},
     "title": ""
    }
   },
   "outputs": [],
   "source": [
    "# COMMAND ----------\n",
    "\n",
    "# MAGIC %md\n",
    "# MAGIC ## 6. \uD83D\uDDFA️ SECCIÓN 4: ANÁLISIS GEOESPACIAL\n",
    "\n",
    "# COMMAND ----------\n",
    "\n",
    "# MAGIC %md\n",
    "# MAGIC ### Distribución Geográfica y Hotspots\n",
    "\n",
    "# COMMAND --------"
   ]
  },
  {
   "cell_type": "code",
   "execution_count": 0,
   "metadata": {
    "application/vnd.databricks.v1+cell": {
     "cellMetadata": {
      "byteLimit": 2048000,
      "rowLimit": 10000
     },
     "inputWidgets": {},
     "nuid": "c110ea18-5c33-44ae-a738-706bf71e0495",
     "showTitle": false,
     "tableResultSettingsMap": {},
     "title": ""
    }
   },
   "outputs": [
    {
     "output_type": "stream",
     "name": "stdout",
     "output_type": "stream",
     "text": [
      "\uD83D\uDDFA️ DASHBOARD SECCIÓN 4: ANÁLISIS GEOESPACIAL\n=============================================\n"
     ]
    }
   ],
   "source": [
    "print(\"\uD83D\uDDFA️ DASHBOARD SECCIÓN 4: ANÁLISIS GEOESPACIAL\")\n",
    "print(\"=\" * 45)"
   ]
  },
  {
   "cell_type": "code",
   "execution_count": 0,
   "metadata": {
    "application/vnd.databricks.v1+cell": {
     "cellMetadata": {
      "byteLimit": 2048000,
      "rowLimit": 10000
     },
     "inputWidgets": {},
     "nuid": "a35d6321-80a4-4e3a-bed7-da37506d5239",
     "showTitle": false,
     "tableResultSettingsMap": {},
     "title": ""
    }
   },
   "outputs": [
    {
     "output_type": "stream",
     "name": "stdout",
     "output_type": "stream",
     "text": [
      "\uD83D\uDD25 TOP 10 ZONAS MÁS ACTIVAS:\n   1. Zona 40.75_-73.98 (40.75, -73.98): 222,857 viajes\n   2. Zona 40.72_-74.0 (40.72, -74.00): 187,672 viajes\n   3. Zona 40.75_-73.99 (40.75, -73.99): 186,280 viajes\n   4. Zona 40.76_-73.98 (40.76, -73.98): 167,461 viajes\n   5. Zona 40.74_-73.99 (40.74, -73.99): 159,985 viajes\n   6. Zona 40.73_-74.01 (40.73, -74.01): 158,666 viajes\n   7. Zona 40.72_-74.01 (40.72, -74.01): 157,971 viajes\n   8. Zona 40.74_-74.0 (40.74, -74.00): 144,292 viajes\n   9. Zona 40.74_-74.01 (40.74, -74.01): 142,567 viajes\n   10. Zona 40.73_-74.0 (40.73, -74.00): 139,151 viajes\n"
     ]
    }
   ],
   "source": [
    "# Top 10 zonas más activas\n",
    "print(\"\uD83D\uDD25 TOP 10 ZONAS MÁS ACTIVAS:\")\n",
    "top_zones = df_spatial.orderBy(col(\"zone_total_trips\").desc()).limit(10).collect()\n",
    "\n",
    "for i, zone in enumerate(top_zones, 1):\n",
    "    print(f\"   {i}. Zona {zone['geo_zone_id']} ({zone['lat_zone']:.2f}, {zone['lon_zone']:.2f}): {zone['zone_total_trips']:,} viajes\")"
   ]
  },
  {
   "cell_type": "code",
   "execution_count": 0,
   "metadata": {
    "application/vnd.databricks.v1+cell": {
     "cellMetadata": {
      "byteLimit": 2048000,
      "rowLimit": 10000
     },
     "inputWidgets": {},
     "nuid": "dc72115d-d8b6-4051-8264-5ebfc081bc25",
     "showTitle": false,
     "tableResultSettingsMap": {},
     "title": ""
    }
   },
   "outputs": [],
   "source": [
    "# COMMAND ----------\n",
    "\n",
    "# MAGIC %sql\n",
    "# MAGIC -- Análisis de hotspots geográficos\n",
    "# MAGIC SELECT \n",
    "# MAGIC   geo_zone_id,\n",
    "# MAGIC   lat_zone,\n",
    "# MAGIC   lon_zone,\n",
    "# MAGIC   zone_total_trips,\n",
    "# MAGIC   zone_activity_rank,\n",
    "# MAGIC   zone_trips_per_day,\n",
    "# MAGIC   zone_rush_percentage,\n",
    "# MAGIC   zone_weekend_percentage,\n",
    "# MAGIC   CASE WHEN is_high_activity_zone = 1 THEN '\uD83D\uDD25 Hotspot' ELSE 'Zona Normal' END as tipo_zona\n",
    "# MAGIC FROM uber_spatial_gold\n",
    "# MAGIC ORDER BY zone_total_trips DESC\n",
    "# MAGIC LIMIT 20;\n",
    "\n",
    "# COMMAND ----------\n",
    "\n",
    "# MAGIC %sql\n",
    "# MAGIC -- Distribución mensual por zonas top\n",
    "# MAGIC SELECT \n",
    "# MAGIC   geo_zone_id,\n",
    "# MAGIC   april_trips,\n",
    "# MAGIC   may_trips,\n",
    "# MAGIC   june_trips,\n",
    "# MAGIC   july_trips,\n",
    "# MAGIC   august_trips,\n",
    "# MAGIC   september_trips,\n",
    "# MAGIC   zone_total_trips,\n",
    "# MAGIC   CASE \n",
    "# MAGIC     WHEN september_trips > april_trips THEN '\uD83D\uDCC8 Creciente'\n",
    "# MAGIC     WHEN september_trips < april_trips THEN '\uD83D\uDCC9 Decreciente'\n",
    "# MAGIC     ELSE '➡️ Estable'\n",
    "# MAGIC   END as tendencia_temporal\n",
    "# MAGIC FROM uber_spatial_gold\n",
    "# MAGIC WHERE is_high_activity_zone = 1\n",
    "# MAGIC ORDER BY zone_total_trips DESC;\n",
    "\n",
    "# COMMAND ----------\n",
    "\n",
    "# MAGIC %sql\n",
    "# MAGIC -- Análisis de densidad geográfica\n",
    "# MAGIC SELECT \n",
    "# MAGIC   ROUND(lat_zone, 1) as zona_latitud,\n",
    "# MAGIC   ROUND(lon_zone, 1) as zona_longitud,\n",
    "# MAGIC   COUNT(*) as sub_zonas,\n",
    "# MAGIC   SUM(zone_total_trips) as total_viajes_area,\n",
    "# MAGIC   ROUND(AVG(zone_total_trips), 0) as promedio_viajes_subzona,\n",
    "# MAGIC   ROUND(AVG(zone_rush_percentage), 1) as porcentaje_rush_promedio\n",
    "# MAGIC FROM uber_spatial_gold\n",
    "# MAGIC GROUP BY ROUND(lat_zone, 1), ROUND(lon_zone, 1)\n",
    "# MAGIC HAVING SUM(zone_total_trips) > 1000\n",
    "# MAGIC ORDER BY total_viajes_area DESC\n",
    "# MAGIC LIMIT 15;"
   ]
  },
  {
   "cell_type": "code",
   "execution_count": 0,
   "metadata": {
    "application/vnd.databricks.v1+cell": {
     "cellMetadata": {
      "byteLimit": 2048000,
      "rowLimit": 10000
     },
     "inputWidgets": {},
     "nuid": "4df2e505-c256-4990-a6f2-74b8a74328a4",
     "showTitle": false,
     "tableResultSettingsMap": {},
     "title": ""
    }
   },
   "outputs": [],
   "source": [
    "# COMMAND ----------\n",
    "\n",
    "# MAGIC %md\n",
    "# MAGIC ## 7. \uD83D\uDCA1 SECCIÓN 5: INSIGHTS Y RECOMENDACIONES\n",
    "\n",
    "# COMMAND ----------\n",
    "\n",
    "# MAGIC %md\n",
    "# MAGIC ### Análisis Avanzado y Conclusiones de Negocio\n",
    "\n",
    "# COMMAND ----------"
   ]
  },
  {
   "cell_type": "code",
   "execution_count": 0,
   "metadata": {
    "application/vnd.databricks.v1+cell": {
     "cellMetadata": {
      "byteLimit": 2048000,
      "rowLimit": 10000
     },
     "inputWidgets": {},
     "nuid": "4e3c9a98-b7c7-4959-9522-e07e1a946488",
     "showTitle": false,
     "tableResultSettingsMap": {},
     "title": ""
    }
   },
   "outputs": [
    {
     "output_type": "stream",
     "name": "stdout",
     "output_type": "stream",
     "text": [
      "\uD83D\uDCA1 DASHBOARD SECCIÓN 5: INSIGHTS Y RECOMENDACIONES\n==================================================\n"
     ]
    }
   ],
   "source": [
    "print(\"\uD83D\uDCA1 DASHBOARD SECCIÓN 5: INSIGHTS Y RECOMENDACIONES\")\n",
    "print(\"=\" * 50)"
   ]
  },
  {
   "cell_type": "code",
   "execution_count": 0,
   "metadata": {
    "application/vnd.databricks.v1+cell": {
     "cellMetadata": {
      "byteLimit": 2048000,
      "rowLimit": 10000
     },
     "inputWidgets": {},
     "nuid": "6b70e9db-7046-4372-a525-0265bd0d464e",
     "showTitle": false,
     "tableResultSettingsMap": {},
     "title": ""
    }
   },
   "outputs": [
    {
     "output_type": "stream",
     "name": "stdout",
     "output_type": "stream",
     "text": [
      "\uD83D\uDD0D INSIGHTS AUTOMÁTICOS GENERADOS:\n\uD83D\uDCC5 ESTACIONALIDAD:\n   \uD83D\uDD25 Mes más activo: Sep (1,020,300 viajes)\n   \uD83D\uDD3D Mes menos activo: Abr (562,101 viajes)\n   \uD83D\uDCCA Variación estacional: 81.5%\n\n⏰ EFICIENCIA TEMPORAL:\n   \uD83D\uDE80 Horarios rush representan: 42.5% de la actividad\n   \uD83C\uDF19 Actividad nocturna: 24.2%\n   \uD83D\uDCA1 Recomendación: Alta concentración en rush hours\n"
     ]
    }
   ],
   "source": [
    "from functools import reduce\n",
    "from pyspark.sql.functions import sum as spark_sum, col\n",
    "\n",
    "# Calcular insights automáticamente\n",
    "print(\"\uD83D\uDD0D INSIGHTS AUTOMÁTICOS GENERADOS:\")\n",
    "\n",
    "# Insight 1: Estacionalidad\n",
    "monthly_trends = df_monthly.orderBy(\"pickup_month\").collect()\n",
    "max_month = reduce(lambda a, b: a if a['total_monthly_trips'] > b['total_monthly_trips'] else b, monthly_trends)\n",
    "min_month = reduce(lambda a, b: a if a['total_monthly_trips'] < b['total_monthly_trips'] else b, monthly_trends)\n",
    "\n",
    "month_names = ['', 'Ene', 'Feb', 'Mar', 'Abr', 'May', 'Jun', \n",
    "               'Jul', 'Ago', 'Sep', 'Oct', 'Nov', 'Dic']\n",
    "\n",
    "print(f\"\uD83D\uDCC5 ESTACIONALIDAD:\")\n",
    "print(f\"   \uD83D\uDD25 Mes más activo: {month_names[max_month['pickup_month']]} ({max_month['total_monthly_trips']:,} viajes)\")\n",
    "print(f\"   \uD83D\uDD3D Mes menos activo: {month_names[min_month['pickup_month']]} ({min_month['total_monthly_trips']:,} viajes)\")\n",
    "variacion_estacional = ((max_month['total_monthly_trips'] - min_month['total_monthly_trips']) / min_month['total_monthly_trips']) * 100\n",
    "print(f\"   \uD83D\uDCCA Variación estacional: {variacion_estacional:.1f}%\")\n",
    "\n",
    "\n",
    "# Insight 3: Eficiencia temporal\n",
    "rush_data = df_executive.collect()[0]\n",
    "rush_efficiency = rush_data['rush_hours_share']\n",
    "\n",
    "print(f\"\\n⏰ EFICIENCIA TEMPORAL:\")\n",
    "print(f\"   \uD83D\uDE80 Horarios rush representan: {rush_efficiency:.1f}% de la actividad\")\n",
    "print(f\"   \uD83C\uDF19 Actividad nocturna: {rush_data['night_activity_share']:.1f}%\")\n",
    "\n",
    "if rush_efficiency > 40:\n",
    "    print(f\"   \uD83D\uDCA1 Recomendación: Alta concentración en rush hours\")\n",
    "else:\n",
    "    print(f\"   \uD83D\uDCA1 Recomendación: Distribución horaria balanceada\")"
   ]
  },
  {
   "cell_type": "code",
   "execution_count": 0,
   "metadata": {
    "application/vnd.databricks.v1+cell": {
     "cellMetadata": {
      "byteLimit": 2048000,
      "rowLimit": 10000
     },
     "inputWidgets": {},
     "nuid": "9ad92c36-4d16-49f7-a3b0-abd4a2c71949",
     "showTitle": false,
     "tableResultSettingsMap": {},
     "title": ""
    }
   },
   "outputs": [
    {
     "output_type": "display_data",
     "data": {
      "text/plain": [
       ""
      ]
     },
     "metadata": {
      "application/vnd.databricks.v1+output": {
       "addedWidgets": {},
       "arguments": {},
       "datasetInfos": [],
       "jupyterProps": null,
       "metadata": {
        "errorSummary": "Command skipped"
       },
       "removedWidgets": [],
       "sqlProps": null,
       "stackFrames": [],
       "type": "baseError"
      }
     },
     "output_type": "display_data"
    }
   ],
   "source": [
    "# COMMAND ----------\n",
    "\n",
    "# MAGIC %sql\n",
    "# MAGIC -- Análisis de oportunidades de crecimiento\n",
    "# MAGIC CREATE OR REPLACE TEMPORARY VIEW oportunidades_crecimiento AS\n",
    "# MAGIC SELECT \n",
    "# MAGIC   'Bases Subutilizadas' as categoria,\n",
    "# MAGIC   COUNT(*) as cantidad,\n",
    "# MAGIC   'bases con menos de 1000 viajes/mes promedio' as descripcion\n",
    "# MAGIC FROM (\n",
    "# MAGIC   SELECT base_code, SUM(hourly_trips) as total_trips\n",
    "# MAGIC   FROM uber_base_hourly_gold \n",
    "# MAGIC   GROUP BY base_code\n",
    "# MAGIC   HAVING SUM(hourly_trips) < 8000  -- menos de ~1000 viajes/mes\n",
    "# MAGIC )\n",
    "# MAGIC \n",
    "# MAGIC UNION ALL\n",
    "# MAGIC \n",
    "# MAGIC SELECT \n",
    "# MAGIC   'Zonas de Baja Densidad' as categoria,\n",
    "# MAGIC   COUNT(*) as cantidad,\n",
    "# MAGIC   'zonas con potencial de expansión' as descripcion\n",
    "# MAGIC FROM uber_spatial_gold\n",
    "# MAGIC WHERE zone_total_trips < 100 AND zone_total_trips > 10\n",
    "# MAGIC \n",
    "# MAGIC UNION ALL\n",
    "# MAGIC \n",
    "# MAGIC SELECT \n",
    "# MAGIC   'Horarios de Oportunidad' as categoria,\n",
    "# MAGIC   COUNT(*) as cantidad,\n",
    "# MAGIC   'horarios con baja actividad promedio' as descripcion\n",
    "# MAGIC FROM (\n",
    "# MAGIC   SELECT pickup_hour, AVG(hourly_trips) as avg_trips\n",
    "# MAGIC   FROM uber_base_hourly_gold\n",
    "# MAGIC   GROUP BY pickup_hour\n",
    "# MAGIC   HAVING AVG(hourly_trips) < 100\n",
    "# MAGIC );\n",
    "# MAGIC \n",
    "# MAGIC SELECT * FROM oportunidades_crecimiento;\n",
    "\n",
    "# COMMAND ----------\n",
    "\n",
    "# MAGIC %sql\n",
    "# MAGIC -- Recomendaciones estratégicas basadas en datos\n",
    "# MAGIC SELECT \n",
    "# MAGIC   'Optimización de Recursos' as estrategia,\n",
    "# MAGIC   CONCAT(\n",
    "# MAGIC     'Reasignar ', \n",
    "# MAGIC     COUNT(CASE WHEN hourly_trips < 50 THEN 1 END),\n",
    "# MAGIC     ' slots de baja actividad hacia horarios pico'\n",
    "# MAGIC   ) as recomendacion,\n",
    "# MAGIC   'Operacional' as tipo_impacto\n",
    "# MAGIC FROM uber_base_hourly_gold\n",
    "# MAGIC \n",
    "# MAGIC UNION ALL\n",
    "# MAGIC \n",
    "# MAGIC SELECT \n",
    "# MAGIC   'Expansión Geográfica' as estrategia,\n",
    "# MAGIC   CONCAT(\n",
    "# MAGIC     'Evaluar expansión en ',\n",
    "# MAGIC     COUNT(*),\n",
    "# MAGIC     ' zonas de actividad media con potencial de crecimiento'\n",
    "# MAGIC   ) as recomendacion,\n",
    "# MAGIC   'Estratégico' as tipo_impacto\n",
    "# MAGIC FROM uber_spatial_gold\n",
    "# MAGIC WHERE zone_total_trips BETWEEN 100 AND 500\n",
    "# MAGIC \n",
    "# MAGIC UNION ALL\n",
    "# MAGIC \n",
    "# MAGIC SELECT \n",
    "# MAGIC   'Pricing Dinámico' as estrategia,\n",
    "# MAGIC   'Implementar surge pricing en horarios 7-9 AM y 5-7 PM' as recomendacion,\n",
    "# MAGIC   'Monetización' as tipo_impacto\n",
    "# MAGIC FROM uber_executive_gold\n",
    "# MAGIC WHERE rush_hours_share > 35;"
   ]
  },
  {
   "cell_type": "code",
   "execution_count": 0,
   "metadata": {
    "application/vnd.databricks.v1+cell": {
     "cellMetadata": {
      "byteLimit": 2048000,
      "rowLimit": 10000
     },
     "inputWidgets": {},
     "nuid": "f31e64e2-3a63-43eb-86d5-0a6afdc4f7c1",
     "showTitle": false,
     "tableResultSettingsMap": {},
     "title": ""
    }
   },
   "outputs": [
    {
     "output_type": "display_data",
     "data": {
      "text/plain": [
       ""
      ]
     },
     "metadata": {
      "application/vnd.databricks.v1+output": {
       "addedWidgets": {},
       "arguments": {},
       "datasetInfos": [],
       "jupyterProps": null,
       "metadata": {
        "errorSummary": "Command skipped"
       },
       "removedWidgets": [],
       "sqlProps": null,
       "stackFrames": [],
       "type": "baseError"
      }
     },
     "output_type": "display_data"
    }
   ],
   "source": [
    "# COMMAND ----------\n",
    "\n",
    "# MAGIC %md\n",
    "# MAGIC ## 8. \uD83D\uDCCA RESUMEN EJECUTIVO DEL DASHBOARD\n",
    "\n",
    "# COMMAND ----------"
   ]
  },
  {
   "cell_type": "code",
   "execution_count": 0,
   "metadata": {
    "application/vnd.databricks.v1+cell": {
     "cellMetadata": {
      "byteLimit": 2048000,
      "rowLimit": 10000
     },
     "inputWidgets": {},
     "nuid": "a5bf5940-7ad2-4531-a0bb-70300ac13a27",
     "showTitle": false,
     "tableResultSettingsMap": {},
     "title": ""
    }
   },
   "outputs": [
    {
     "output_type": "stream",
     "name": "stdout",
     "output_type": "stream",
     "text": [
      "\uD83D\uDCCA RESUMEN EJECUTIVO DEL DASHBOARD\n==================================================\n"
     ]
    }
   ],
   "source": [
    "print(\"\uD83D\uDCCA RESUMEN EJECUTIVO DEL DASHBOARD\")\n",
    "print(\"=\" * 50)"
   ]
  },
  {
   "cell_type": "code",
   "execution_count": 0,
   "metadata": {
    "application/vnd.databricks.v1+cell": {
     "cellMetadata": {
      "byteLimit": 2048000,
      "rowLimit": 10000
     },
     "inputWidgets": {},
     "nuid": "18afc20d-c7cd-4528-8d28-abbda16ecb18",
     "showTitle": false,
     "tableResultSettingsMap": {},
     "title": ""
    }
   },
   "outputs": [
    {
     "output_type": "stream",
     "name": "stdout",
     "output_type": "stream",
     "text": [
      "\uD83C\uDFAF MÉTRICAS CLAVE DE RENDIMIENTO:\n   \uD83D\uDCC8 Performance General: 4,502,417 viajes procesados\n   \uD83C\uDFAF Eficiencia Operacional: 24,603.0 viajes/día promedio\n   \uD83C\uDFE2 Cobertura de Mercado: 5 bases activas\n   ⏰ Concentración Temporal: 42.5% en horarios pico\n\n\uD83D\uDE80 OPORTUNIDADES IDENTIFICADAS:\n   \uD83D\uDCC5 Optimización temporal: Balancear carga entre rush y off-peak\n   \uD83D\uDDFA️ Expansión geográfica: Identificadas zonas de crecimiento potencial\n   \uD83C\uDFE2 Eficiencia de bases: Oportunidades de redistribución de recursos\n   \uD83D\uDCB0 Monetización: Implementar pricing dinámico basado en demanda\n\n\uD83D\uDCCB ESTADO DEL DASHBOARD:\n   ✅ 5 tableros especializados creados\n   ✅ Análisis temporal, geográfico y operacional completo\n   ✅ Insights automáticos generados\n   ✅ Recomendaciones estratégicas disponibles\n\n\uD83C\uDF89 DASHBOARD EJECUTIVO COMPLETADO EXITOSAMENTE\n"
     ]
    }
   ],
   "source": [
    "# Generar resumen automático\n",
    "executive_summary = df_executive.collect()[0]\n",
    "\n",
    "print(\"\uD83C\uDFAF MÉTRICAS CLAVE DE RENDIMIENTO:\")\n",
    "print(f\"   \uD83D\uDCC8 Performance General: {executive_summary['total_trips_period']:,} viajes procesados\")\n",
    "print(f\"   \uD83C\uDFAF Eficiencia Operacional: {executive_summary['avg_daily_trips']:,} viajes/día promedio\")\n",
    "print(f\"   \uD83C\uDFE2 Cobertura de Mercado: {executive_summary['total_active_bases']} bases activas\")\n",
    "print(f\"   ⏰ Concentración Temporal: {executive_summary['rush_hours_share']:.1f}% en horarios pico\")\n",
    "\n",
    "print(f\"\\n\uD83D\uDE80 OPORTUNIDADES IDENTIFICADAS:\")\n",
    "print(f\"   \uD83D\uDCC5 Optimización temporal: Balancear carga entre rush y off-peak\")\n",
    "print(f\"   \uD83D\uDDFA️ Expansión geográfica: Identificadas zonas de crecimiento potencial\")\n",
    "print(f\"   \uD83C\uDFE2 Eficiencia de bases: Oportunidades de redistribución de recursos\")\n",
    "print(f\"   \uD83D\uDCB0 Monetización: Implementar pricing dinámico basado en demanda\")\n",
    "\n",
    "print(f\"\\n\uD83D\uDCCB ESTADO DEL DASHBOARD:\")\n",
    "print(f\"   ✅ 5 tableros especializados creados\")\n",
    "print(f\"   ✅ Análisis temporal, geográfico y operacional completo\")\n",
    "print(f\"   ✅ Insights automáticos generados\")\n",
    "print(f\"   ✅ Recomendaciones estratégicas disponibles\")\n",
    "\n",
    "print(f\"\\n\uD83C\uDF89 DASHBOARD EJECUTIVO COMPLETADO EXITOSAMENTE\")"
   ]
  },
  {
   "cell_type": "code",
   "execution_count": 0,
   "metadata": {
    "application/vnd.databricks.v1+cell": {
     "cellMetadata": {
      "byteLimit": 2048000,
      "rowLimit": 10000
     },
     "inputWidgets": {},
     "nuid": "6a85d38d-dde0-4c0d-8aca-74f7e8256f5d",
     "showTitle": false,
     "tableResultSettingsMap": {},
     "title": ""
    }
   },
   "outputs": [],
   "source": [
    "# COMMAND ----------\n",
    "\n",
    "# MAGIC %md\n",
    "# MAGIC ## 9. \uD83D\uDD27 Comandos Útiles para Análisis Continuo\n",
    "\n",
    "# COMMAND ----------"
   ]
  },
  {
   "cell_type": "code",
   "execution_count": 0,
   "metadata": {
    "application/vnd.databricks.v1+cell": {
     "cellMetadata": {
      "byteLimit": 2048000,
      "rowLimit": 10000
     },
     "inputWidgets": {},
     "nuid": "81b769c7-b659-4c82-be3c-63f7979feb6c",
     "showTitle": false,
     "tableResultSettingsMap": {},
     "title": ""
    }
   },
   "outputs": [
    {
     "output_type": "stream",
     "name": "stdout",
     "output_type": "stream",
     "text": [
      "\uD83D\uDD27 COMANDOS ÚTILES PARA ANÁLISIS CONTINUO:\n=============================================\n"
     ]
    }
   ],
   "source": [
    "print(\"\uD83D\uDD27 COMANDOS ÚTILES PARA ANÁLISIS CONTINUO:\")\n",
    "print(\"=\" * 45)"
   ]
  },
  {
   "cell_type": "code",
   "execution_count": 0,
   "metadata": {
    "application/vnd.databricks.v1+cell": {
     "cellMetadata": {
      "byteLimit": 2048000,
      "rowLimit": 10000
     },
     "inputWidgets": {},
     "nuid": "734adf43-e5af-4cbe-8453-2775c1669fe8",
     "showTitle": false,
     "tableResultSettingsMap": {},
     "title": ""
    }
   },
   "outputs": [
    {
     "output_type": "stream",
     "name": "stdout",
     "output_type": "stream",
     "text": [
      "\uD83D\uDCA1 CONSULTAS SQL RECOMENDADAS:\n\n-- \uD83D\uDCC8 Monitoreo diario de KPIs\nSELECT \n  pickup_date, \n  total_trips, \n  rush_hour_percentage,\n  day_type\nFROM uber_daily_gold \nORDER BY pickup_date DESC \nLIMIT 7;\n\n-- \uD83C\uDFC6 Ranking actualizado de bases\nSELECT \n  base_code,\n  SUM(hourly_trips) as total_viajes,\n  RANK() OVER (ORDER BY SUM(hourly_trips) DESC) as ranking\nFROM uber_base_hourly_gold\nGROUP BY base_code;\n\n-- \uD83D\uDDFA️ Hotspots geográficos actuales\nSELECT \n  geo_zone_id,\n  zone_total_trips,\n  zone_activity_rank\nFROM uber_spatial_gold\nWHERE is_high_activity_zone = 1\nORDER BY zone_total_trips DESC;\n\n-- \uD83D\uDCCA Comparativa weekend vs weekday\nSELECT \n  day_type,\n  COUNT(*) as dias,\n  SUM(total_trips) as viajes_totales,\n  AVG(total_trips) as promedio_diario\nFROM uber_daily_gold\nGROUP BY day_type;\n\n\n\uD83D\uDD04 ACTUALIZACIONES RECOMENDADAS:\n   \uD83D\uDCC5 Ejecutar análisis semanalmente para monitoreo\n   \uD83D\uDD04 Actualizar KPIs mensualmente para tendencias\n   \uD83D\uDCCA Revisar hotspots geográficos trimestralmente\n   \uD83D\uDCBC Generar reportes ejecutivos mensualmente\n\n✅ Dashboard listo para uso en Databricks Community Edition\n\uD83C\uDFAF Todas las visualizaciones y análisis están optimizados para la plataforma gratuita\n"
     ]
    }
   ],
   "source": [
    "print(\"\uD83D\uDCA1 CONSULTAS SQL RECOMENDADAS:\")\n",
    "print(\"\"\"\n",
    "-- \uD83D\uDCC8 Monitoreo diario de KPIs\n",
    "SELECT \n",
    "  pickup_date, \n",
    "  total_trips, \n",
    "  rush_hour_percentage,\n",
    "  day_type\n",
    "FROM uber_daily_gold \n",
    "ORDER BY pickup_date DESC \n",
    "LIMIT 7;\n",
    "\n",
    "-- \uD83C\uDFC6 Ranking actualizado de bases\n",
    "SELECT \n",
    "  base_code,\n",
    "  SUM(hourly_trips) as total_viajes,\n",
    "  RANK() OVER (ORDER BY SUM(hourly_trips) DESC) as ranking\n",
    "FROM uber_base_hourly_gold\n",
    "GROUP BY base_code;\n",
    "\n",
    "-- \uD83D\uDDFA️ Hotspots geográficos actuales\n",
    "SELECT \n",
    "  geo_zone_id,\n",
    "  zone_total_trips,\n",
    "  zone_activity_rank\n",
    "FROM uber_spatial_gold\n",
    "WHERE is_high_activity_zone = 1\n",
    "ORDER BY zone_total_trips DESC;\n",
    "\n",
    "-- \uD83D\uDCCA Comparativa weekend vs weekday\n",
    "SELECT \n",
    "  day_type,\n",
    "  COUNT(*) as dias,\n",
    "  SUM(total_trips) as viajes_totales,\n",
    "  AVG(total_trips) as promedio_diario\n",
    "FROM uber_daily_gold\n",
    "GROUP BY day_type;\n",
    "\"\"\")\n",
    "\n",
    "print(\"\\n\uD83D\uDD04 ACTUALIZACIONES RECOMENDADAS:\")\n",
    "print(\"   \uD83D\uDCC5 Ejecutar análisis semanalmente para monitoreo\")\n",
    "print(\"   \uD83D\uDD04 Actualizar KPIs mensualmente para tendencias\")\n",
    "print(\"   \uD83D\uDCCA Revisar hotspots geográficos trimestralmente\")\n",
    "print(\"   \uD83D\uDCBC Generar reportes ejecutivos mensualmente\")\n",
    "\n",
    "print(\"\\n✅ Dashboard listo para uso en Databricks Community Edition\")\n",
    "print(\"\uD83C\uDFAF Todas las visualizaciones y análisis están optimizados para la plataforma gratuita\")"
   ]
  },
  {
   "cell_type": "code",
   "execution_count": 0,
   "metadata": {
    "application/vnd.databricks.v1+cell": {
     "cellMetadata": {
      "byteLimit": 2048000,
      "rowLimit": 10000
     },
     "inputWidgets": {},
     "nuid": "0a001129-d479-4f5b-b3af-645af0744c1f",
     "showTitle": false,
     "tableResultSettingsMap": {},
     "title": ""
    }
   },
   "outputs": [],
   "source": [
    "# COMMAND ----------\n",
    "\n",
    "# MAGIC %md\n",
    "# MAGIC ## 10. \uD83D\uDCCB Instrucciones de Uso del Dashboard\n",
    "\n",
    "# COMMAND --------"
   ]
  },
  {
   "cell_type": "code",
   "execution_count": 0,
   "metadata": {
    "application/vnd.databricks.v1+cell": {
     "cellMetadata": {
      "byteLimit": 2048000,
      "rowLimit": 10000
     },
     "inputWidgets": {},
     "nuid": "5ee97a75-413a-4996-b3ee-f316a02d5113",
     "showTitle": false,
     "tableResultSettingsMap": {},
     "title": ""
    }
   },
   "outputs": [
    {
     "output_type": "stream",
     "name": "stdout",
     "output_type": "stream",
     "text": [
      "\uD83D\uDCCB INSTRUCCIONES DE USO DEL DASHBOARD EN DATABRICKS\n=======================================================\n"
     ]
    }
   ],
   "source": [
    "print(\"\uD83D\uDCCB INSTRUCCIONES DE USO DEL DASHBOARD EN DATABRICKS\")\n",
    "print(\"=\" * 55)"
   ]
  },
  {
   "cell_type": "code",
   "execution_count": 0,
   "metadata": {
    "application/vnd.databricks.v1+cell": {
     "cellMetadata": {
      "byteLimit": 2048000,
      "rowLimit": 10000
     },
     "inputWidgets": {},
     "nuid": "553546cc-e064-4045-8179-10a393dea217",
     "showTitle": false,
     "tableResultSettingsMap": {},
     "title": ""
    }
   },
   "outputs": [
    {
     "output_type": "stream",
     "name": "stdout",
     "output_type": "stream",
     "text": [
      "\uD83D\uDE80 CÓMO USAR ESTE DASHBOARD:\n\n1. \uD83D\uDCCA EJECUTAR SECCIONES:\n   - Ejecuta cada sección secuencialmente (Cmd+Shift+Enter)\n   - Las visualizaciones aparecerán automáticamente\n   - Las tablas SQL se mostrarán como resultados interactivos\n\n2. \uD83D\uDD0D INTERACTUAR CON DATOS:\n   - Haz clic en los resultados SQL para ordenar columnas\n   - Usa los filtros integrados de Databricks\n   - Exporta tablas usando el botón \"Download\" en cada resultado\n\n3. \uD83D\uDCC8 PERSONALIZAR ANÁLISIS:\n   - Modifica las consultas SQL según tus necesidades\n   - Cambia los períodos de tiempo en las consultas\n   - Ajusta los filtros geográficos o de bases específicas\n\n4. \uD83D\uDCCA CREAR VISUALIZACIONES:\n   - Usa el botón \"+\" en cada resultado SQL\n   - Selecciona \"Visualization\" para crear gráficos\n   - Databricks generará automáticamente charts interactivos\n\n5. \uD83D\uDCF1 COMPARTIR RESULTADOS:\n   - Usa \"Share\" en la barra superior para compartir el notebook\n   - Exporta visualizaciones individuales como imágenes\n   - Crea dashboard URLs para acceso directo\n\n\uD83D\uDCA1 TIPS PARA DATABRICKS COMMUNITY EDITION:\n\n   ✅ Guarda el notebook frecuentemente (Ctrl+S)\n   ✅ Las visualizaciones se mantienen entre sesiones\n   ✅ Usa comentarios (%md) para documentar tus insights\n   ✅ Combina SQL y Python según tu preferencia\n   ✅ Aprovecha el autocompletado de SQL de Databricks\n\n\n\uD83C\uDF89 ¡DASHBOARD COMPLETO Y LISTO PARA USAR!\n\uD83D\uDCCA Tienes ahora un sistema completo de análisis de datos Uber NYC\n"
     ]
    }
   ],
   "source": [
    "print(\"\uD83D\uDE80 CÓMO USAR ESTE DASHBOARD:\")\n",
    "print(\"\"\"\n",
    "1. \uD83D\uDCCA EJECUTAR SECCIONES:\n",
    "   - Ejecuta cada sección secuencialmente (Cmd+Shift+Enter)\n",
    "   - Las visualizaciones aparecerán automáticamente\n",
    "   - Las tablas SQL se mostrarán como resultados interactivos\n",
    "\n",
    "2. \uD83D\uDD0D INTERACTUAR CON DATOS:\n",
    "   - Haz clic en los resultados SQL para ordenar columnas\n",
    "   - Usa los filtros integrados de Databricks\n",
    "   - Exporta tablas usando el botón \"Download\" en cada resultado\n",
    "\n",
    "3. \uD83D\uDCC8 PERSONALIZAR ANÁLISIS:\n",
    "   - Modifica las consultas SQL según tus necesidades\n",
    "   - Cambia los períodos de tiempo en las consultas\n",
    "   - Ajusta los filtros geográficos o de bases específicas\n",
    "\n",
    "4. \uD83D\uDCCA CREAR VISUALIZACIONES:\n",
    "   - Usa el botón \"+\" en cada resultado SQL\n",
    "   - Selecciona \"Visualization\" para crear gráficos\n",
    "   - Databricks generará automáticamente charts interactivos\n",
    "\n",
    "5. \uD83D\uDCF1 COMPARTIR RESULTADOS:\n",
    "   - Usa \"Share\" en la barra superior para compartir el notebook\n",
    "   - Exporta visualizaciones individuales como imágenes\n",
    "   - Crea dashboard URLs para acceso directo\n",
    "\"\"\")\n",
    "\n",
    "print(\"\uD83D\uDCA1 TIPS PARA DATABRICKS COMMUNITY EDITION:\")\n",
    "print(\"\"\"\n",
    "   ✅ Guarda el notebook frecuentemente (Ctrl+S)\n",
    "   ✅ Las visualizaciones se mantienen entre sesiones\n",
    "   ✅ Usa comentarios (%md) para documentar tus insights\n",
    "   ✅ Combina SQL y Python según tu preferencia\n",
    "   ✅ Aprovecha el autocompletado de SQL de Databricks\n",
    "\"\"\")\n",
    "\n",
    "print(\"\\n\uD83C\uDF89 ¡DASHBOARD COMPLETO Y LISTO PARA USAR!\")\n",
    "print(\"\uD83D\uDCCA Tienes ahora un sistema completo de análisis de datos Uber NYC\")"
   ]
  }
 ],
 "metadata": {
  "application/vnd.databricks.v1+notebook": {
   "computePreferences": null,
   "dashboards": [],
   "environmentMetadata": {
    "base_environment": "",
    "environment_version": "2"
   },
   "inputWidgetPreferences": null,
   "language": "python",
   "notebookMetadata": {
    "pythonIndentUnit": 4
   },
   "notebookName": "04_Uber_Dashboard_Databricks",
   "widgets": {}
  },
  "language_info": {
   "name": "python"
  }
 },
 "nbformat": 4,
 "nbformat_minor": 0
}