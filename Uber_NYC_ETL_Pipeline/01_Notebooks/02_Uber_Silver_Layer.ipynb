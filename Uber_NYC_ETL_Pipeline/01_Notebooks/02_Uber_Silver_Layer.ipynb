{
 "cells": [
  {
   "cell_type": "code",
   "execution_count": 0,
   "metadata": {
    "application/vnd.databricks.v1+cell": {
     "cellMetadata": {
      "byteLimit": 2048000,
      "rowLimit": 10000
     },
     "inputWidgets": {},
     "nuid": "2dc398a5-d05b-4007-9c0e-0bab44798eb1",
     "showTitle": false,
     "tableResultSettingsMap": {},
     "title": ""
    }
   },
   "outputs": [],
   "source": [
    "# Databricks notebook source\n",
    "# MAGIC %md\n",
    "# MAGIC # Capa Plata - Uber NYC Data Pipeline\n",
    "# MAGIC \n",
    "# MAGIC ## Objetivo\n",
    "# MAGIC Limpiar, transformar y enriquecer los datos de la capa Bronce para crear datos listos para análisis.\n",
    "# MAGIC \n",
    "# MAGIC ## Responsabilidades\n",
    "# MAGIC - Leer datos desde la capa Bronce\n",
    "# MAGIC - Limpiar y validar datos (tipos, nulos, formatos)\n",
    "# MAGIC - Enriquecer con ingeniería de características\n",
    "# MAGIC - Aplicar reglas de negocio\n",
    "# MAGIC - Guardar datos curados en formato Delta Lake\n",
    "# MAGIC \n",
    "# MAGIC ## Entrada\n",
    "# MAGIC - Tabla Delta: `uber_bronze` desde `/Volumes/workspace/default/uber_etl_azure/bronze/`\n",
    "# MAGIC \n",
    "# MAGIC ## Salida\n",
    "# MAGIC - Tabla Delta: `uber_silver` en `/Volumes/workspace/default/uber_etl_azure/silver/`\n"
   ]
  },
  {
   "cell_type": "code",
   "execution_count": 0,
   "metadata": {
    "application/vnd.databricks.v1+cell": {
     "cellMetadata": {
      "byteLimit": 2048000,
      "rowLimit": 10000
     },
     "inputWidgets": {},
     "nuid": "16155026-d795-46fb-b2c4-afde012741e6",
     "showTitle": false,
     "tableResultSettingsMap": {},
     "title": ""
    }
   },
   "outputs": [],
   "source": [
    "# COMMAND ----------\n",
    "\n",
    "# MAGIC %md\n",
    "# MAGIC ## 1. Configuración e Imports\n",
    "\n",
    "# COMMAND ----------"
   ]
  },
  {
   "cell_type": "code",
   "execution_count": 0,
   "metadata": {
    "application/vnd.databricks.v1+cell": {
     "cellMetadata": {
      "byteLimit": 2048000,
      "rowLimit": 10000
     },
     "inputWidgets": {},
     "nuid": "a9059476-44d7-4c7a-a93a-3ae0e848e5d3",
     "showTitle": false,
     "tableResultSettingsMap": {},
     "title": ""
    }
   },
   "outputs": [],
   "source": [
    "# Importar librerías necesarias\n",
    "from pyspark.sql import SparkSession\n",
    "from pyspark.sql.functions import *\n",
    "from pyspark.sql.types import *\n",
    "import os"
   ]
  },
  {
   "cell_type": "code",
   "execution_count": 0,
   "metadata": {
    "application/vnd.databricks.v1+cell": {
     "cellMetadata": {
      "byteLimit": 2048000,
      "rowLimit": 10000
     },
     "inputWidgets": {},
     "nuid": "1351b05e-2b63-437e-b917-e0769215402e",
     "showTitle": false,
     "tableResultSettingsMap": {},
     "title": ""
    }
   },
   "outputs": [],
   "source": [
    "# Configurar rutas\n",
    "bronze_path = \"/Volumes/workspace/default/uber_etl_azure/bronze/\"\n",
    "silver_path = \"/Volumes/workspace/default/uber_etl_azure/silver/\""
   ]
  },
  {
   "cell_type": "code",
   "execution_count": 0,
   "metadata": {
    "application/vnd.databricks.v1+cell": {
     "cellMetadata": {
      "byteLimit": 2048000,
      "rowLimit": 10000
     },
     "inputWidgets": {},
     "nuid": "1067e9e5-b738-4463-ae2f-bea8891672ee",
     "showTitle": false,
     "tableResultSettingsMap": {},
     "title": ""
    }
   },
   "outputs": [
    {
     "output_type": "stream",
     "name": "stdout",
     "output_type": "stream",
     "text": [
      "✅ Configuración de Capa Plata inicializada\n\uD83E\uDD49 Origen Bronce: /Volumes/workspace/default/uber_etl_azure/bronze/\n\uD83E\uDD48 Destino Plata: /Volumes/workspace/default/uber_etl_azure/silver/\n"
     ]
    }
   ],
   "source": [
    "# Crear directorio si no existe\n",
    "dbutils.fs.mkdirs(silver_path)\n",
    "\n",
    "print(\"✅ Configuración de Capa Plata inicializada\")\n",
    "print(f\"\uD83E\uDD49 Origen Bronce: {bronze_path}\")\n",
    "print(f\"\uD83E\uDD48 Destino Plata: {silver_path}\")"
   ]
  },
  {
   "cell_type": "code",
   "execution_count": 0,
   "metadata": {
    "application/vnd.databricks.v1+cell": {
     "cellMetadata": {
      "byteLimit": 2048000,
      "rowLimit": 10000
     },
     "inputWidgets": {},
     "nuid": "4fb1ecc2-29f5-4e61-ac86-639b54eb4d2f",
     "showTitle": false,
     "tableResultSettingsMap": {},
     "title": ""
    }
   },
   "outputs": [],
   "source": [
    "# COMMAND ----------\n",
    "\n",
    "# MAGIC %md\n",
    "# MAGIC ## 2. Validación de Dependencias\n",
    "\n",
    "# COMMAND ----------"
   ]
  },
  {
   "cell_type": "code",
   "execution_count": 0,
   "metadata": {
    "application/vnd.databricks.v1+cell": {
     "cellMetadata": {
      "byteLimit": 2048000,
      "rowLimit": 10000
     },
     "inputWidgets": {},
     "nuid": "5d4ca0b3-dcf8-4a18-bfa5-543c7f8b196c",
     "showTitle": false,
     "tableResultSettingsMap": {},
     "title": ""
    }
   },
   "outputs": [
    {
     "output_type": "stream",
     "name": "stdout",
     "output_type": "stream",
     "text": [
      "✅ Tabla Bronce encontrada:\n   \uD83D\uDCC4 _delta_log/\n   \uD83D\uDCC4 part-00000-354416d4-62a6-4cfa-aca1-782036f37426.c000.snappy.parquet\n   \uD83D\uDCC4 part-00000-37e02841-b576-4696-a44d-aabb9a1f6a62.c000.snappy.parquet\n   \uD83D\uDCC4 part-00000-7295e936-95fa-45f8-b62d-8d8b6936aba1.c000.snappy.parquet\n   \uD83D\uDCC4 part-00000-a1fec7a3-f5d5-48b2-a135-cc059da438bd.c000.snappy.parquet\n   ... y 12 archivos más\n"
     ]
    }
   ],
   "source": [
    "# Verificar que existe la tabla Bronce\n",
    "try:\n",
    "    bronze_files = dbutils.fs.ls(f\"{bronze_path}uber_bronze\")\n",
    "    print(\"✅ Tabla Bronce encontrada:\")\n",
    "    for file in bronze_files[:5]:  # Mostrar solo los primeros 5 archivos\n",
    "        print(f\"   \uD83D\uDCC4 {file.name}\")\n",
    "    \n",
    "    if len(bronze_files) > 5:\n",
    "        print(f\"   ... y {len(bronze_files) - 5} archivos más\")\n",
    "        \n",
    "except Exception as e:\n",
    "    print(f\"❌ Error: Tabla Bronce no encontrada - {str(e)}\")\n",
    "    print(\"\uD83D\uDCA1 Asegúrate de ejecutar primero el notebook '01_Uber_Bronze_Layer'\")\n",
    "    raise"
   ]
  },
  {
   "cell_type": "code",
   "execution_count": 0,
   "metadata": {
    "application/vnd.databricks.v1+cell": {
     "cellMetadata": {
      "byteLimit": 2048000,
      "rowLimit": 10000
     },
     "inputWidgets": {},
     "nuid": "9e646039-a460-40b5-9422-aeb7fd7fb43d",
     "showTitle": false,
     "tableResultSettingsMap": {},
     "title": ""
    }
   },
   "outputs": [],
   "source": [
    "# COMMAND ----------\n",
    "\n",
    "# MAGIC %md\n",
    "# MAGIC ## 3. Lectura de Datos Bronce\n",
    "\n",
    "# COMMAND ----------"
   ]
  },
  {
   "cell_type": "code",
   "execution_count": 0,
   "metadata": {
    "application/vnd.databricks.v1+cell": {
     "cellMetadata": {
      "byteLimit": 2048000,
      "rowLimit": 10000
     },
     "inputWidgets": {},
     "nuid": "0271f11d-7262-4581-b1c3-a2f88ae380b9",
     "showTitle": false,
     "tableResultSettingsMap": {},
     "title": ""
    }
   },
   "outputs": [
    {
     "output_type": "stream",
     "name": "stdout",
     "output_type": "stream",
     "text": [
      "\uD83D\uDCE5 Leyendo datos de la capa Bronce...\n\uD83D\uDCCA Registros leídos de Bronce: 4,534,327\n✅ Datos Bronce cargados exitosamente\n"
     ]
    }
   ],
   "source": [
    "# Leer datos de la capa Bronce\n",
    "print(\"\uD83D\uDCE5 Leyendo datos de la capa Bronce...\")\n",
    "\n",
    "try:\n",
    "    df_silver = spark.read.format(\"delta\").load(f\"{bronze_path}uber_bronze\")\n",
    "    \n",
    "    bronze_count = df_silver.count()\n",
    "    print(f\"\uD83D\uDCCA Registros leídos de Bronce: {bronze_count:,}\")\n",
    "    \n",
    "    if bronze_count == 0:\n",
    "        raise Exception(\"❌ No se encontraron datos en la capa Bronce\")\n",
    "    \n",
    "    print(\"✅ Datos Bronce cargados exitosamente\")\n",
    "    \n",
    "except Exception as e:\n",
    "    print(f\"❌ Error al leer capa Bronce: {str(e)}\")\n",
    "    raise"
   ]
  },
  {
   "cell_type": "code",
   "execution_count": 0,
   "metadata": {
    "application/vnd.databricks.v1+cell": {
     "cellMetadata": {
      "byteLimit": 2048000,
      "rowLimit": 10000
     },
     "inputWidgets": {},
     "nuid": "e0cdb53d-211b-42cf-b789-981d0ad53313",
     "showTitle": false,
     "tableResultSettingsMap": {},
     "title": ""
    }
   },
   "outputs": [],
   "source": [
    "# COMMAND ----------\n",
    "\n",
    "# MAGIC %md\n",
    "# MAGIC ## 4. Análisis de Calidad de Datos\n",
    "\n",
    "# COMMAND ----------"
   ]
  },
  {
   "cell_type": "code",
   "execution_count": 0,
   "metadata": {
    "application/vnd.databricks.v1+cell": {
     "cellMetadata": {
      "byteLimit": 2048000,
      "rowLimit": 10000
     },
     "inputWidgets": {},
     "nuid": "9944e9e5-3041-44c4-99f2-e919f610377f",
     "showTitle": false,
     "tableResultSettingsMap": {},
     "title": ""
    }
   },
   "outputs": [
    {
     "output_type": "stream",
     "name": "stdout",
     "output_type": "stream",
     "text": [
      "\uD83D\uDD0D ANÁLISIS DE CALIDAD DE DATOS BRONCE:\n=============================================\n"
     ]
    }
   ],
   "source": [
    "print(\"\uD83D\uDD0D ANÁLISIS DE CALIDAD DE DATOS BRONCE:\")\n",
    "print(\"=\" * 45)\n"
   ]
  },
  {
   "cell_type": "code",
   "execution_count": 0,
   "metadata": {
    "application/vnd.databricks.v1+cell": {
     "cellMetadata": {
      "byteLimit": 2048000,
      "rowLimit": 10000
     },
     "inputWidgets": {},
     "nuid": "df7a1b05-dd62-46ff-886d-0fa97e6d9beb",
     "showTitle": false,
     "tableResultSettingsMap": {},
     "title": ""
    }
   },
   "outputs": [
    {
     "output_type": "stream",
     "name": "stdout",
     "output_type": "stream",
     "text": [
      "\uD83D\uDCCB Esquema actual:\nroot\n |-- Date/Time: string (nullable = true)\n |-- Lat: double (nullable = true)\n |-- Lon: double (nullable = true)\n |-- Base: string (nullable = true)\n |-- ingestion_timestamp: timestamp (nullable = true)\n |-- source_file: string (nullable = true)\n |-- bronze_layer_version: string (nullable = true)\n\n"
     ]
    }
   ],
   "source": [
    "# Mostrar esquema actual\n",
    "print(\"\uD83D\uDCCB Esquema actual:\")\n",
    "df_silver.printSchema()"
   ]
  },
  {
   "cell_type": "code",
   "execution_count": 0,
   "metadata": {
    "application/vnd.databricks.v1+cell": {
     "cellMetadata": {
      "byteLimit": 2048000,
      "rowLimit": 10000
     },
     "inputWidgets": {},
     "nuid": "e2f7091d-b38a-4d1e-9309-672b563e23b5",
     "showTitle": false,
     "tableResultSettingsMap": {},
     "title": ""
    }
   },
   "outputs": [
    {
     "output_type": "stream",
     "name": "stdout",
     "output_type": "stream",
     "text": [
      "\n\uD83D\uDD0D Análisis de valores nulos:\n   Date/Time: 0 nulos (0.00%)\n   Lat: 0 nulos (0.00%)\n   Lon: 0 nulos (0.00%)\n   Base: 0 nulos (0.00%)\n   ingestion_timestamp: 0 nulos (0.00%)\n   source_file: 0 nulos (0.00%)\n   bronze_layer_version: 0 nulos (0.00%)\n"
     ]
    }
   ],
   "source": [
    "# Análisis de valores nulos por columna\n",
    "print(\"\\n\uD83D\uDD0D Análisis de valores nulos:\")\n",
    "for col_name in df_silver.columns:\n",
    "    null_count = df_silver.filter(col(col_name).isNull()).count()\n",
    "    null_percentage = (null_count / bronze_count) * 100\n",
    "    print(f\"   {col_name}: {null_count:,} nulos ({null_percentage:.2f}%)\")"
   ]
  },
  {
   "cell_type": "code",
   "execution_count": 0,
   "metadata": {
    "application/vnd.databricks.v1+cell": {
     "cellMetadata": {
      "byteLimit": 2048000,
      "rowLimit": 10000
     },
     "inputWidgets": {},
     "nuid": "1abc1fbd-9cb8-417a-8fb6-228ec7ed6bb5",
     "showTitle": false,
     "tableResultSettingsMap": {},
     "title": ""
    }
   },
   "outputs": [
    {
     "output_type": "stream",
     "name": "stdout",
     "output_type": "stream",
     "text": [
      "\n\uD83D\uDD0D Análisis de duplicados:\n   Registros únicos: 4,451,746\n   Registros duplicados: 82,581\n"
     ]
    }
   ],
   "source": [
    "# Análisis de duplicados\n",
    "print(f\"\\n\uD83D\uDD0D Análisis de duplicados:\")\n",
    "unique_count = df_silver.dropDuplicates().count()\n",
    "duplicate_count = bronze_count - unique_count\n",
    "print(f\"   Registros únicos: {unique_count:,}\")\n",
    "print(f\"   Registros duplicados: {duplicate_count:,}\")"
   ]
  },
  {
   "cell_type": "code",
   "execution_count": 0,
   "metadata": {
    "application/vnd.databricks.v1+cell": {
     "cellMetadata": {
      "byteLimit": 2048000,
      "rowLimit": 10000
     },
     "inputWidgets": {},
     "nuid": "e3df7f31-9f40-4724-9007-2f85e74e32dd",
     "showTitle": false,
     "tableResultSettingsMap": {},
     "title": ""
    }
   },
   "outputs": [
    {
     "output_type": "stream",
     "name": "stdout",
     "output_type": "stream",
     "text": [
      "\n\uD83D\uDCCB Muestra de datos Bronce:\n+----------------+-------+--------+------+--------------------------+-----------------------+--------------------+\n|Date/Time       |Lat    |Lon     |Base  |ingestion_timestamp       |source_file            |bronze_layer_version|\n+----------------+-------+--------+------+--------------------------+-----------------------+--------------------+\n|7/1/2014 0:03:00|40.7586|-73.9706|B02512|2025-07-28 17:06:30.446467|uber-raw-data-jul14.csv|1.0                 |\n|7/1/2014 0:05:00|40.7605|-73.9994|B02512|2025-07-28 17:06:30.446467|uber-raw-data-jul14.csv|1.0                 |\n|7/1/2014 0:06:00|40.732 |-73.9999|B02512|2025-07-28 17:06:30.446467|uber-raw-data-jul14.csv|1.0                 |\n+----------------+-------+--------+------+--------------------------+-----------------------+--------------------+\nonly showing top 3 rows\n"
     ]
    }
   ],
   "source": [
    "# Muestra de datos\n",
    "print(f\"\\n\uD83D\uDCCB Muestra de datos Bronce:\")\n",
    "df_silver.show(3, truncate=False)"
   ]
  },
  {
   "cell_type": "code",
   "execution_count": 0,
   "metadata": {
    "application/vnd.databricks.v1+cell": {
     "cellMetadata": {
      "byteLimit": 2048000,
      "rowLimit": 10000
     },
     "inputWidgets": {},
     "nuid": "83f8a18a-63f8-482f-ab89-d078ff135c8e",
     "showTitle": false,
     "tableResultSettingsMap": {},
     "title": ""
    }
   },
   "outputs": [],
   "source": [
    "# COMMAND ----------\n",
    "\n",
    "# MAGIC %md\n",
    "# MAGIC ## 5. Limpieza de Datos\n",
    "\n",
    "# COMMAND ----------"
   ]
  },
  {
   "cell_type": "code",
   "execution_count": 0,
   "metadata": {
    "application/vnd.databricks.v1+cell": {
     "cellMetadata": {
      "byteLimit": 2048000,
      "rowLimit": 10000
     },
     "inputWidgets": {},
     "nuid": "89481373-2551-495d-a6ab-a9c920dca60f",
     "showTitle": false,
     "tableResultSettingsMap": {},
     "title": ""
    }
   },
   "outputs": [
    {
     "output_type": "stream",
     "name": "stdout",
     "output_type": "stream",
     "text": [
      "\uD83E\uDDF9 INICIANDO LIMPIEZA DE DATOS...\n===================================\n"
     ]
    }
   ],
   "source": [
    "print(\"\uD83E\uDDF9 INICIANDO LIMPIEZA DE DATOS...\")\n",
    "print(\"=\" * 35)"
   ]
  },
  {
   "cell_type": "code",
   "execution_count": 0,
   "metadata": {
    "application/vnd.databricks.v1+cell": {
     "cellMetadata": {
      "byteLimit": 2048000,
      "rowLimit": 10000
     },
     "inputWidgets": {},
     "nuid": "0e969111-67bb-477a-ba78-1bde69bf0b84",
     "showTitle": false,
     "tableResultSettingsMap": {},
     "title": ""
    }
   },
   "outputs": [
    {
     "output_type": "stream",
     "name": "stdout",
     "output_type": "stream",
     "text": [
      "\uD83D\uDCDD Paso 1: Renombrando columnas...\n✅ Columnas renombradas exitosamente\n"
     ]
    }
   ],
   "source": [
    "# 1. Renombrar columnas para seguir convenciones\n",
    "print(\"\uD83D\uDCDD Paso 1: Renombrando columnas...\")\n",
    "df_silver = df_silver \\\n",
    "    .withColumnRenamed(\"Date/Time\", \"pickup_datetime\") \\\n",
    "    .withColumnRenamed(\"Lat\", \"latitude\") \\\n",
    "    .withColumnRenamed(\"Lon\", \"longitude\") \\\n",
    "    .withColumnRenamed(\"Base\", \"base_code\")\n",
    "\n",
    "print(\"✅ Columnas renombradas exitosamente\")"
   ]
  },
  {
   "cell_type": "code",
   "execution_count": 0,
   "metadata": {
    "application/vnd.databricks.v1+cell": {
     "cellMetadata": {
      "byteLimit": 2048000,
      "rowLimit": 10000
     },
     "inputWidgets": {},
     "nuid": "5c8b5449-267d-44ce-8b29-e721654d546f",
     "showTitle": false,
     "tableResultSettingsMap": {},
     "title": ""
    }
   },
   "outputs": [
    {
     "output_type": "stream",
     "name": "stdout",
     "output_type": "stream",
     "text": [
      "\uD83D\uDD27 Paso 2: Convirtiendo tipos de datos...\n✅ Tipos de datos convertidos exitosamente\n"
     ]
    }
   ],
   "source": [
    "# 2. Convertir tipos de datos\n",
    "print(\"\uD83D\uDD27 Paso 2: Convirtiendo tipos de datos...\")\n",
    "\n",
    "# Convertir pickup_datetime de string a timestamp\n",
    "df_silver = df_silver.withColumn(\"pickup_datetime\", \n",
    "                                to_timestamp(col(\"pickup_datetime\"), \"M/d/yyyy H:mm:ss\"))\n",
    "\n",
    "# Asegurar que latitude y longitude sean Double\n",
    "df_silver = df_silver \\\n",
    "    .withColumn(\"latitude\", col(\"latitude\").cast(\"double\")) \\\n",
    "    .withColumn(\"longitude\", col(\"longitude\").cast(\"double\"))\n",
    "\n",
    "print(\"✅ Tipos de datos convertidos exitosamente\")"
   ]
  },
  {
   "cell_type": "code",
   "execution_count": 0,
   "metadata": {
    "application/vnd.databricks.v1+cell": {
     "cellMetadata": {
      "byteLimit": 2048000,
      "rowLimit": 10000
     },
     "inputWidgets": {},
     "nuid": "2d81c472-9a20-4a94-8ef3-a7aff6ec968e",
     "showTitle": false,
     "tableResultSettingsMap": {},
     "title": ""
    }
   },
   "outputs": [
    {
     "output_type": "stream",
     "name": "stdout",
     "output_type": "stream",
     "text": [
      "\uD83D\uDDFA️ Paso 3: Validando coordenadas geográficas...\n   Registros fuera de NYC bounds: 31,910\n   Registros válidos geográficamente: 4,502,417\n"
     ]
    }
   ],
   "source": [
    "# 3. Validar rangos geográficos (NYC bounds)\n",
    "print(\"\uD83D\uDDFA️ Paso 3: Validando coordenadas geográficas...\")\n",
    "\n",
    "# Bounds aproximados para NYC\n",
    "NYC_LAT_MIN, NYC_LAT_MAX = 40.4774, 40.9176\n",
    "NYC_LON_MIN, NYC_LON_MAX = -74.2591, -73.7004\n",
    "\n",
    "# Contar registros fuera de los bounds de NYC\n",
    "out_of_bounds = df_silver.filter(\n",
    "    (col(\"latitude\") < NYC_LAT_MIN) | (col(\"latitude\") > NYC_LAT_MAX) |\n",
    "    (col(\"longitude\") < NYC_LON_MIN) | (col(\"longitude\") > NYC_LON_MAX)\n",
    ").count()\n",
    "\n",
    "print(f\"   Registros fuera de NYC bounds: {out_of_bounds:,}\")\n",
    "print(f\"   Registros válidos geográficamente: {bronze_count - out_of_bounds:,}\")"
   ]
  },
  {
   "cell_type": "code",
   "execution_count": 0,
   "metadata": {
    "application/vnd.databricks.v1+cell": {
     "cellMetadata": {
      "byteLimit": 2048000,
      "rowLimit": 10000
     },
     "inputWidgets": {},
     "nuid": "36145497-49ec-4e17-ba0d-d1ee2f85c4e2",
     "showTitle": false,
     "tableResultSettingsMap": {},
     "title": ""
    }
   },
   "outputs": [
    {
     "output_type": "stream",
     "name": "stdout",
     "output_type": "stream",
     "text": [
      "\uD83D\uDEAB Paso 4: Eliminando registros con valores nulos críticos...\n   Registros eliminados por nulos: 0\n   Registros restantes: 4,534,327\n"
     ]
    }
   ],
   "source": [
    "# 4. Filtrar registros con valores nulos en campos críticos\n",
    "print(\"\uD83D\uDEAB Paso 4: Eliminando registros con valores nulos críticos...\")\n",
    "\n",
    "records_before_null_filter = df_silver.count()\n",
    "\n",
    "df_silver = df_silver.filter(\n",
    "    col(\"pickup_datetime\").isNotNull() & \n",
    "    col(\"latitude\").isNotNull() & \n",
    "    col(\"longitude\").isNotNull() &\n",
    "    col(\"base_code\").isNotNull()\n",
    ")\n",
    "\n",
    "records_after_null_filter = df_silver.count()\n",
    "removed_null_records = records_before_null_filter - records_after_null_filter\n",
    "\n",
    "print(f\"   Registros eliminados por nulos: {removed_null_records:,}\")\n",
    "print(f\"   Registros restantes: {records_after_null_filter:,}\")"
   ]
  },
  {
   "cell_type": "code",
   "execution_count": 0,
   "metadata": {
    "application/vnd.databricks.v1+cell": {
     "cellMetadata": {
      "byteLimit": 2048000,
      "rowLimit": 10000
     },
     "inputWidgets": {},
     "nuid": "7615ba63-10ac-476e-952c-38ea5f8a2249",
     "showTitle": false,
     "tableResultSettingsMap": {},
     "title": ""
    }
   },
   "outputs": [
    {
     "output_type": "stream",
     "name": "stdout",
     "output_type": "stream",
     "text": [
      "✨ Paso 5: Aplicando filtros de calidad...\n✅ LIMPIEZA COMPLETADA:\n   Registros originales: 4,534,327\n   Registros después de limpieza: 4,502,417\n   Registros removidos: 31,910 (0.70%)\n   Tasa de retención: 99.30%\n"
     ]
    }
   ],
   "source": [
    "# 5. Aplicar filtros de calidad adicionales\n",
    "print(\"✨ Paso 5: Aplicando filtros de calidad...\")\n",
    "\n",
    "# Filtrar coordenadas dentro de bounds de NYC\n",
    "df_silver = df_silver.filter(\n",
    "    (col(\"latitude\") >= NYC_LAT_MIN) & (col(\"latitude\") <= NYC_LAT_MAX) &\n",
    "    (col(\"longitude\") >= NYC_LON_MIN) & (col(\"longitude\") <= NYC_LON_MAX)\n",
    ")\n",
    "\n",
    "# Filtrar fechas válidas (2014)\n",
    "df_silver = df_silver.filter(\n",
    "    (year(col(\"pickup_datetime\")) == 2014)\n",
    ")\n",
    "\n",
    "final_count_after_cleaning = df_silver.count()\n",
    "total_removed = bronze_count - final_count_after_cleaning\n",
    "\n",
    "print(f\"✅ LIMPIEZA COMPLETADA:\")\n",
    "print(f\"   Registros originales: {bronze_count:,}\")\n",
    "print(f\"   Registros después de limpieza: {final_count_after_cleaning:,}\")\n",
    "print(f\"   Registros removidos: {total_removed:,} ({(total_removed/bronze_count)*100:.2f}%)\")\n",
    "print(f\"   Tasa de retención: {(final_count_after_cleaning/bronze_count)*100:.2f}%\")"
   ]
  },
  {
   "cell_type": "code",
   "execution_count": 0,
   "metadata": {
    "application/vnd.databricks.v1+cell": {
     "cellMetadata": {
      "byteLimit": 2048000,
      "rowLimit": 10000
     },
     "inputWidgets": {},
     "nuid": "a0667327-72f3-4548-8be8-49a39da1dc1d",
     "showTitle": false,
     "tableResultSettingsMap": {},
     "title": ""
    }
   },
   "outputs": [],
   "source": [
    "# COMMAND ----------\n",
    "\n",
    "# MAGIC %md\n",
    "# MAGIC ## 6. Ingeniería de Características\n",
    "\n",
    "# COMMAND ----------"
   ]
  },
  {
   "cell_type": "code",
   "execution_count": 0,
   "metadata": {
    "application/vnd.databricks.v1+cell": {
     "cellMetadata": {
      "byteLimit": 2048000,
      "rowLimit": 10000
     },
     "inputWidgets": {},
     "nuid": "1f9bb767-e3ba-4950-a648-cc461d0fb536",
     "showTitle": false,
     "tableResultSettingsMap": {},
     "title": ""
    }
   },
   "outputs": [
    {
     "output_type": "stream",
     "name": "stdout",
     "output_type": "stream",
     "text": [
      "\uD83D\uDD27 INGENIERÍA DE CARACTERÍSTICAS...\n===================================\n\uD83D\uDCC5 Creando características temporales...\n"
     ]
    }
   ],
   "source": [
    "print(\"\uD83D\uDD27 INGENIERÍA DE CARACTERÍSTICAS...\")\n",
    "print(\"=\" * 35)\n",
    "\n",
    "# Crear características temporales\n",
    "print(\"\uD83D\uDCC5 Creando características temporales...\")\n",
    "\n",
    "df_silver = df_silver \\\n",
    "    .withColumn(\"pickup_hour\", hour(col(\"pickup_datetime\"))) \\\n",
    "    .withColumn(\"pickup_day_of_week\", date_format(col(\"pickup_datetime\"), \"EEEE\")) \\\n",
    "    .withColumn(\"pickup_day_of_week_num\", dayofweek(col(\"pickup_datetime\"))) \\\n",
    "    .withColumn(\"pickup_month\", month(col(\"pickup_datetime\"))) \\\n",
    "    .withColumn(\"pickup_year\", year(col(\"pickup_datetime\"))) \\\n",
    "    .withColumn(\"pickup_date\", date_format(col(\"pickup_datetime\"), \"yyyy-MM-dd\")) \\\n",
    "    .withColumn(\"pickup_week_of_year\", weekofyear(col(\"pickup_datetime\")))"
   ]
  },
  {
   "cell_type": "code",
   "execution_count": 0,
   "metadata": {
    "application/vnd.databricks.v1+cell": {
     "cellMetadata": {
      "byteLimit": 2048000,
      "rowLimit": 10000
     },
     "inputWidgets": {},
     "nuid": "f3a4f9c7-12b0-4be6-949c-79446f1d1500",
     "showTitle": false,
     "tableResultSettingsMap": {},
     "title": ""
    }
   },
   "outputs": [],
   "source": [
    "# Categorizar horas del día\n",
    "df_silver = df_silver.withColumn(\"time_category\",\n",
    "    when(col(\"pickup_hour\").between(6, 9), \"Morning Rush\")\n",
    "    .when(col(\"pickup_hour\").between(10, 16), \"Midday\")\n",
    "    .when(col(\"pickup_hour\").between(17, 20), \"Evening Rush\")\n",
    "    .when(col(\"pickup_hour\").between(21, 23), \"Night\")\n",
    "    .otherwise(\"Late Night/Early Morning\")\n",
    ")"
   ]
  },
  {
   "cell_type": "code",
   "execution_count": 0,
   "metadata": {
    "application/vnd.databricks.v1+cell": {
     "cellMetadata": {
      "byteLimit": 2048000,
      "rowLimit": 10000
     },
     "inputWidgets": {},
     "nuid": "97feb5ca-c0a4-4741-bd30-6e28545bdc2e",
     "showTitle": false,
     "tableResultSettingsMap": {},
     "title": ""
    }
   },
   "outputs": [],
   "source": [
    "# Categorizar días de la semana\n",
    "df_silver = df_silver.withColumn(\"day_type\",\n",
    "    when(col(\"pickup_day_of_week_num\").isin(2, 3, 4, 5, 6), \"Weekday\")\n",
    "    .otherwise(\"Weekend\")\n",
    ")"
   ]
  },
  {
   "cell_type": "code",
   "execution_count": 0,
   "metadata": {
    "application/vnd.databricks.v1+cell": {
     "cellMetadata": {
      "byteLimit": 2048000,
      "rowLimit": 10000
     },
     "inputWidgets": {},
     "nuid": "9e0afc22-2e71-4bde-8b61-80c391679c0e",
     "showTitle": false,
     "tableResultSettingsMap": {},
     "title": ""
    }
   },
   "outputs": [],
   "source": [
    "# Crear identificador único para cada viaje\n",
    "df_silver = df_silver.withColumn(\"trip_id\", \n",
    "    concat(\n",
    "        col(\"base_code\"),\n",
    "        lit(\"_\"),\n",
    "        date_format(col(\"pickup_datetime\"), \"yyyyMMdd_HHmmss\"),\n",
    "        lit(\"_\"),\n",
    "        round(col(\"latitude\") * 10000).cast(\"int\"),\n",
    "        lit(\"_\"),\n",
    "        round(col(\"longitude\") * 10000).cast(\"int\")\n",
    "    )\n",
    ")"
   ]
  },
  {
   "cell_type": "code",
   "execution_count": 0,
   "metadata": {
    "application/vnd.databricks.v1+cell": {
     "cellMetadata": {
      "byteLimit": 2048000,
      "rowLimit": 10000
     },
     "inputWidgets": {},
     "nuid": "b2dd22c3-afcd-4634-9720-ea7cc715d3a8",
     "showTitle": false,
     "tableResultSettingsMap": {},
     "title": ""
    }
   },
   "outputs": [
    {
     "output_type": "stream",
     "name": "stdout",
     "output_type": "stream",
     "text": [
      "✅ Características creadas exitosamente\n"
     ]
    }
   ],
   "source": [
    "# Añadir metadatos de procesamiento\n",
    "df_silver = df_silver \\\n",
    "    .withColumn(\"silver_processing_timestamp\", current_timestamp()) \\\n",
    "    .withColumn(\"silver_layer_version\", lit(\"1.0\"))\n",
    "\n",
    "print(\"✅ Características creadas exitosamente\")"
   ]
  },
  {
   "cell_type": "code",
   "execution_count": 0,
   "metadata": {
    "application/vnd.databricks.v1+cell": {
     "cellMetadata": {
      "byteLimit": 2048000,
      "rowLimit": 10000
     },
     "inputWidgets": {},
     "nuid": "3db6882d-4ed5-46f0-9323-6847eaf27697",
     "showTitle": false,
     "tableResultSettingsMap": {},
     "title": ""
    }
   },
   "outputs": [],
   "source": [
    "# COMMAND ----------\n",
    "\n",
    "# MAGIC %md\n",
    "# MAGIC ## 7. Validación de Datos Transformados\n",
    "\n",
    "# COMMAND ----------"
   ]
  },
  {
   "cell_type": "code",
   "execution_count": 0,
   "metadata": {
    "application/vnd.databricks.v1+cell": {
     "cellMetadata": {
      "byteLimit": 2048000,
      "rowLimit": 10000
     },
     "inputWidgets": {},
     "nuid": "a81145b8-c250-4758-a92e-799fc9cbfaa0",
     "showTitle": false,
     "tableResultSettingsMap": {},
     "title": ""
    }
   },
   "outputs": [
    {
     "output_type": "stream",
     "name": "stdout",
     "output_type": "stream",
     "text": [
      "\uD83D\uDD0D VALIDACIÓN DE DATOS TRANSFORMADOS:\n========================================\n\uD83D\uDCCB Esquema final:\nroot\n |-- pickup_datetime: timestamp (nullable = true)\n |-- latitude: double (nullable = true)\n |-- longitude: double (nullable = true)\n |-- base_code: string (nullable = true)\n |-- ingestion_timestamp: timestamp (nullable = true)\n |-- source_file: string (nullable = true)\n |-- bronze_layer_version: string (nullable = true)\n |-- pickup_hour: integer (nullable = true)\n |-- pickup_day_of_week: string (nullable = true)\n |-- pickup_day_of_week_num: integer (nullable = true)\n |-- pickup_month: integer (nullable = true)\n |-- pickup_year: integer (nullable = true)\n |-- pickup_date: string (nullable = true)\n |-- pickup_week_of_year: integer (nullable = true)\n |-- time_category: string (nullable = false)\n |-- day_type: string (nullable = false)\n |-- trip_id: string (nullable = true)\n |-- silver_processing_timestamp: timestamp (nullable = false)\n |-- silver_layer_version: string (nullable = false)\n\n"
     ]
    }
   ],
   "source": [
    "print(\"\uD83D\uDD0D VALIDACIÓN DE DATOS TRANSFORMADOS:\")\n",
    "print(\"=\" * 40)\n",
    "\n",
    "# Mostrar nuevo esquema\n",
    "print(\"\uD83D\uDCCB Esquema final:\")\n",
    "df_silver.printSchema()"
   ]
  },
  {
   "cell_type": "code",
   "execution_count": 0,
   "metadata": {
    "application/vnd.databricks.v1+cell": {
     "cellMetadata": {
      "byteLimit": 2048000,
      "rowLimit": 10000
     },
     "inputWidgets": {},
     "nuid": "03dfcb79-90e3-4c18-89f5-c8b1d131a15d",
     "showTitle": false,
     "tableResultSettingsMap": {},
     "title": ""
    }
   },
   "outputs": [
    {
     "output_type": "stream",
     "name": "stdout",
     "output_type": "stream",
     "text": [
      "\n\uD83D\uDCCA Estadísticas generales:\n   Total registros: 4,502,417\n   Total columnas: 19\n"
     ]
    }
   ],
   "source": [
    "# Estadísticas generales\n",
    "print(f\"\\n\uD83D\uDCCA Estadísticas generales:\")\n",
    "print(f\"   Total registros: {df_silver.count():,}\")\n",
    "print(f\"   Total columnas: {len(df_silver.columns)}\")"
   ]
  },
  {
   "cell_type": "code",
   "execution_count": 0,
   "metadata": {
    "application/vnd.databricks.v1+cell": {
     "cellMetadata": {
      "byteLimit": 2048000,
      "rowLimit": 10000
     },
     "inputWidgets": {},
     "nuid": "28106821-2ee0-43c2-8b16-43e8280a9190",
     "showTitle": false,
     "tableResultSettingsMap": {},
     "title": ""
    }
   },
   "outputs": [
    {
     "output_type": "stream",
     "name": "stdout",
     "output_type": "stream",
     "text": [
      "\n\uD83D\uDCC8 Distribución por time_category:\n+--------------------+-------+\n|       time_category|  count|\n+--------------------+-------+\n|              Midday|1498592|\n|        Evening Rush|1232653|\n|               Night| 687346|\n|        Morning Rush| 682876|\n|Late Night/Early ...| 400950|\n+--------------------+-------+\n\n\n\uD83D\uDCC8 Distribución por day_type:\n+--------+-------+\n|day_type|  count|\n+--------+-------+\n| Weekday|3376700|\n| Weekend|1125717|\n+--------+-------+\n\n\n\uD83D\uDCC8 Distribución por base_code:\n+---------+-------+\n|base_code|  count|\n+---------+-------+\n|   B02617|1449558|\n|   B02598|1383720|\n|   B02682|1205017|\n|   B02764| 261394|\n|   B02512| 202728|\n+---------+-------+\n\n"
     ]
    }
   ],
   "source": [
    "# Distribución por características creadas\n",
    "print(f\"\\n\uD83D\uDCC8 Distribución por time_category:\")\n",
    "df_silver.groupBy(\"time_category\").count().orderBy(col(\"count\").desc()).show()\n",
    "\n",
    "print(f\"\\n\uD83D\uDCC8 Distribución por day_type:\")\n",
    "df_silver.groupBy(\"day_type\").count().orderBy(col(\"count\").desc()).show()\n",
    "\n",
    "print(f\"\\n\uD83D\uDCC8 Distribución por base_code:\")\n",
    "df_silver.groupBy(\"base_code\").count().orderBy(col(\"count\").desc()).show()"
   ]
  },
  {
   "cell_type": "code",
   "execution_count": 0,
   "metadata": {
    "application/vnd.databricks.v1+cell": {
     "cellMetadata": {
      "byteLimit": 2048000,
      "rowLimit": 10000
     },
     "inputWidgets": {},
     "nuid": "774bc3d0-9afa-4177-917c-bf161dd519c6",
     "showTitle": false,
     "tableResultSettingsMap": {},
     "title": ""
    }
   },
   "outputs": [
    {
     "output_type": "stream",
     "name": "stdout",
     "output_type": "stream",
     "text": [
      "\n\uD83D\uDCCB Muestra de datos transformados:\n+-------------------------------------+-------------------+--------+---------+---------+-----------+------------------+------------------------+--------+\n|trip_id                              |pickup_datetime    |latitude|longitude|base_code|pickup_hour|pickup_day_of_week|time_category           |day_type|\n+-------------------------------------+-------------------+--------+---------+---------+-----------+------------------+------------------------+--------+\n|B02512_20140401_001100_407690_-739549|2014-04-01 00:11:00|40.769  |-73.9549 |B02512   |0          |Tuesday           |Late Night/Early Morning|Weekday |\n|B02512_20140401_001700_407267_-740345|2014-04-01 00:17:00|40.7267 |-74.0345 |B02512   |0          |Tuesday           |Late Night/Early Morning|Weekday |\n|B02512_20140401_002100_407316_-739873|2014-04-01 00:21:00|40.7316 |-73.9873 |B02512   |0          |Tuesday           |Late Night/Early Morning|Weekday |\n+-------------------------------------+-------------------+--------+---------+---------+-----------+------------------+------------------------+--------+\nonly showing top 3 rows\n"
     ]
    }
   ],
   "source": [
    "# Muestra de datos finales\n",
    "print(f\"\\n\uD83D\uDCCB Muestra de datos transformados:\")\n",
    "df_silver.select(\n",
    "    \"trip_id\", \"pickup_datetime\", \"latitude\", \"longitude\", \"base_code\",\n",
    "    \"pickup_hour\", \"pickup_day_of_week\", \"time_category\", \"day_type\"\n",
    ").show(3, truncate=False)"
   ]
  },
  {
   "cell_type": "code",
   "execution_count": 0,
   "metadata": {
    "application/vnd.databricks.v1+cell": {
     "cellMetadata": {
      "byteLimit": 2048000,
      "rowLimit": 10000
     },
     "inputWidgets": {},
     "nuid": "9e741b6a-fc97-4003-9e91-903060f6ae2c",
     "showTitle": false,
     "tableResultSettingsMap": {},
     "title": ""
    }
   },
   "outputs": [],
   "source": [
    "# COMMAND ----------\n",
    "\n",
    "# MAGIC %md\n",
    "# MAGIC ## 8. Guardar en Capa Plata\n",
    "\n",
    "# COMMAND ----------"
   ]
  },
  {
   "cell_type": "code",
   "execution_count": 0,
   "metadata": {
    "application/vnd.databricks.v1+cell": {
     "cellMetadata": {
      "byteLimit": 2048000,
      "rowLimit": 10000
     },
     "inputWidgets": {},
     "nuid": "a265df6b-2920-4813-ad24-4efb1a19cadc",
     "showTitle": false,
     "tableResultSettingsMap": {},
     "title": ""
    }
   },
   "outputs": [
    {
     "output_type": "stream",
     "name": "stdout",
     "output_type": "stream",
     "text": [
      "\uD83D\uDCBE Guardando datos en la capa Plata...\n✅ Datos guardados exitosamente en formato Delta\n\uD83D\uDD0D Verificación: 4,502,417 registros en la tabla Delta\n✅ Verificación de integridad exitosa\n"
     ]
    }
   ],
   "source": [
    "print(\"\uD83D\uDCBE Guardando datos en la capa Plata...\")\n",
    "\n",
    "try:\n",
    "    # Guardar en formato Delta\n",
    "    df_silver.write \\\n",
    "        .format(\"delta\") \\\n",
    "        .mode(\"overwrite\") \\\n",
    "        .option(\"overwriteSchema\", \"true\") \\\n",
    "        .save(f\"{silver_path}uber_silver\")\n",
    "    \n",
    "    print(\"✅ Datos guardados exitosamente en formato Delta\")\n",
    "    \n",
    "    # Verificación de integridad\n",
    "    verification_df = spark.read.format(\"delta\").load(f\"{silver_path}uber_silver\")\n",
    "    verification_count = verification_df.count()\n",
    "    \n",
    "    print(f\"\uD83D\uDD0D Verificación: {verification_count:,} registros en la tabla Delta\")\n",
    "    \n",
    "    if verification_count != final_count_after_cleaning:\n",
    "        raise Exception(f\"❌ Error de integridad detectado\")\n",
    "    \n",
    "    print(\"✅ Verificación de integridad exitosa\")\n",
    "    \n",
    "except Exception as e:\n",
    "    print(f\"❌ Error al guardar en capa Plata: {str(e)}\")\n",
    "    raise"
   ]
  },
  {
   "cell_type": "code",
   "execution_count": 0,
   "metadata": {
    "application/vnd.databricks.v1+cell": {
     "cellMetadata": {
      "byteLimit": 2048000,
      "rowLimit": 10000
     },
     "inputWidgets": {},
     "nuid": "770f59cb-3b8f-4b35-b4af-c52807bdb24c",
     "showTitle": false,
     "tableResultSettingsMap": {},
     "title": ""
    }
   },
   "outputs": [],
   "source": [
    "# COMMAND ----------\n",
    "\n",
    "# MAGIC %md\n",
    "# MAGIC ## 9. Análisis de Calidad Final\n",
    "\n",
    "# COMMAND ----------"
   ]
  },
  {
   "cell_type": "code",
   "execution_count": 0,
   "metadata": {
    "application/vnd.databricks.v1+cell": {
     "cellMetadata": {
      "byteLimit": 2048000,
      "rowLimit": 10000
     },
     "inputWidgets": {},
     "nuid": "8453d435-0a3e-4a25-89d3-8d3dd8ae2c46",
     "showTitle": false,
     "tableResultSettingsMap": {},
     "title": ""
    }
   },
   "outputs": [
    {
     "output_type": "stream",
     "name": "stdout",
     "output_type": "stream",
     "text": [
      "\uD83D\uDCCA ANÁLISIS DE CALIDAD FINAL:\n===================================\n\uD83D\uDCC8 Métricas de calidad:\n   Total viajes procesados: 4,502,417\n   IDs únicos de viajes: 4,420,746\n   Bases únicas: 5\n   Rango de fechas: 2014-04-01 00:00:00 a 2014-09-30 22:59:00\n   Tasa de unicidad de trip_id: 98.19%\n\n\uD83D\uDCC5 Estadísticas por mes:\n+------------+----------+------------+------------------+------------------+\n|pickup_month|trip_count|unique_bases|           avg_lat|           avg_lon|\n+------------+----------+------------+------------------+------------------+\n|           4|    562101|           5| 40.73952012076089|-73.97738297619023|\n|           5|    648998|           5|40.739550199075666|-73.97578937284925|\n|           6|    659436|           5| 40.73941212748435|-73.97509419337048|\n|           7|    789920|           5|40.738619726048285|-73.97374905914631|\n|           8|    821662|           5|  40.7372086684074|-73.97187460367057|\n|           9|   1020300|           5| 40.73847831412437|-73.97315561903594|\n+------------+----------+------------+------------------+------------------+\n\n"
     ]
    }
   ],
   "source": [
    "print(\"\uD83D\uDCCA ANÁLISIS DE CALIDAD FINAL:\")\n",
    "print(\"=\" * 35)\n",
    "\n",
    "# Métricas de calidad de datos\n",
    "total_trips = verification_count\n",
    "unique_trip_ids = df_silver.select(\"trip_id\").distinct().count()\n",
    "unique_bases = df_silver.select(\"base_code\").distinct().count()\n",
    "date_range = df_silver.agg(\n",
    "    min(\"pickup_datetime\").alias(\"min_date\"),\n",
    "    max(\"pickup_datetime\").alias(\"max_date\")\n",
    ").collect()[0]\n",
    "\n",
    "print(f\"\uD83D\uDCC8 Métricas de calidad:\")\n",
    "print(f\"   Total viajes procesados: {total_trips:,}\")\n",
    "print(f\"   IDs únicos de viajes: {unique_trip_ids:,}\")\n",
    "print(f\"   Bases únicas: {unique_bases}\")\n",
    "print(f\"   Rango de fechas: {date_range['min_date']} a {date_range['max_date']}\")\n",
    "print(f\"   Tasa de unicidad de trip_id: {(unique_trip_ids/total_trips)*100:.2f}%\")\n",
    "\n",
    "# Estadísticas por mes\n",
    "print(f\"\\n\uD83D\uDCC5 Estadísticas por mes:\")\n",
    "monthly_stats = df_silver.groupBy(\"pickup_month\") \\\n",
    "    .agg(\n",
    "        count(\"*\").alias(\"trip_count\"),\n",
    "        countDistinct(\"base_code\").alias(\"unique_bases\"),\n",
    "        avg(\"latitude\").alias(\"avg_lat\"),\n",
    "        avg(\"longitude\").alias(\"avg_lon\")\n",
    "    ) \\\n",
    "    .orderBy(\"pickup_month\")\n",
    "\n",
    "monthly_stats.show()"
   ]
  },
  {
   "cell_type": "code",
   "execution_count": 0,
   "metadata": {
    "application/vnd.databricks.v1+cell": {
     "cellMetadata": {
      "byteLimit": 2048000,
      "rowLimit": 10000
     },
     "inputWidgets": {},
     "nuid": "74a58259-b625-457f-b20a-0f778b9e5102",
     "showTitle": false,
     "tableResultSettingsMap": {},
     "title": ""
    }
   },
   "outputs": [],
   "source": [
    "# COMMAND ----------\n",
    "\n",
    "# MAGIC %md\n",
    "# MAGIC ## 10. Resumen Final y Próximos Pasos\n",
    "\n",
    "# COMMAND ----------"
   ]
  },
  {
   "cell_type": "code",
   "execution_count": 0,
   "metadata": {
    "application/vnd.databricks.v1+cell": {
     "cellMetadata": {
      "byteLimit": 2048000,
      "rowLimit": 10000
     },
     "inputWidgets": {},
     "nuid": "dda9003e-8c9e-47a8-87f9-138e5cca742d",
     "showTitle": false,
     "tableResultSettingsMap": {},
     "title": ""
    }
   },
   "outputs": [
    {
     "output_type": "stream",
     "name": "stdout",
     "output_type": "stream",
     "text": [
      "\uD83D\uDCCA RESUMEN FINAL - CAPA PLATA\n==================================================\n\uD83E\uDD49 Registros de entrada (Bronce): 4,534,327\n\uD83E\uDD48 Registros de salida (Plata): 4,502,417\n\uD83D\uDCC9 Registros filtrados: 31,910\n\uD83D\uDCC8 Tasa de retención: 99.30%\n\uD83C\uDFF7️ Columnas añadidas: 12\n\uD83D\uDCBE Formato de salida: Delta Lake\n\uD83D\uDCCD Ubicación: /Volumes/workspace/default/uber_etl_azure/silver/uber_silver\n\n\uD83D\uDD27 Transformaciones aplicadas:\n   ✅ Limpieza de datos y validación de tipos\n   ✅ Filtros geográficos (NYC bounds)\n   ✅ Filtros temporales (año 2014)\n   ✅ Eliminación de valores nulos\n   ✅ Ingeniería de características temporales\n   ✅ Categorización de horarios y días\n   ✅ Creación de identificadores únicos\n\n\uD83D\uDE80 Próximos pasos:\n   \uD83D\uDCCB Ejecutar notebook '03_Uber_Gold_Layer' para crear agregaciones\n   \uD83D\uDCCA Los datos están listos para análisis avanzado\n   \uD83D\uDD0D Calidad de datos validada y documentada\n\n✅ CAPA PLATA COMPLETADA EXITOSAMENTE\n"
     ]
    }
   ],
   "source": [
    "print(\"\uD83D\uDCCA RESUMEN FINAL - CAPA PLATA\")\n",
    "print(\"=\" * 50)\n",
    "print(f\"\uD83E\uDD49 Registros de entrada (Bronce): {bronze_count:,}\")\n",
    "print(f\"\uD83E\uDD48 Registros de salida (Plata): {verification_count:,}\")\n",
    "print(f\"\uD83D\uDCC9 Registros filtrados: {bronze_count - verification_count:,}\")\n",
    "print(f\"\uD83D\uDCC8 Tasa de retención: {(verification_count/bronze_count)*100:.2f}%\")\n",
    "print(f\"\uD83C\uDFF7️ Columnas añadidas: {len(df_silver.columns) - len(spark.read.format('delta').load(f'{bronze_path}uber_bronze').columns)}\")\n",
    "print(f\"\uD83D\uDCBE Formato de salida: Delta Lake\")\n",
    "print(f\"\uD83D\uDCCD Ubicación: {silver_path}uber_silver\")\n",
    "\n",
    "print(f\"\\n\uD83D\uDD27 Transformaciones aplicadas:\")\n",
    "print(f\"   ✅ Limpieza de datos y validación de tipos\")\n",
    "print(f\"   ✅ Filtros geográficos (NYC bounds)\")\n",
    "print(f\"   ✅ Filtros temporales (año 2014)\")\n",
    "print(f\"   ✅ Eliminación de valores nulos\")\n",
    "print(f\"   ✅ Ingeniería de características temporales\")\n",
    "print(f\"   ✅ Categorización de horarios y días\")\n",
    "print(f\"   ✅ Creación de identificadores únicos\")\n",
    "\n",
    "print(f\"\\n\uD83D\uDE80 Próximos pasos:\")\n",
    "print(f\"   \uD83D\uDCCB Ejecutar notebook '03_Uber_Gold_Layer' para crear agregaciones\")\n",
    "print(f\"   \uD83D\uDCCA Los datos están listos para análisis avanzado\")\n",
    "print(f\"   \uD83D\uDD0D Calidad de datos validada y documentada\")\n",
    "\n",
    "print(\"\\n✅ CAPA PLATA COMPLETADA EXITOSAMENTE\")"
   ]
  },
  {
   "cell_type": "code",
   "execution_count": 0,
   "metadata": {
    "application/vnd.databricks.v1+cell": {
     "cellMetadata": {
      "byteLimit": 2048000,
      "rowLimit": 10000
     },
     "inputWidgets": {},
     "nuid": "6e735384-9117-42d8-a450-aab43e3df6c0",
     "showTitle": false,
     "tableResultSettingsMap": {},
     "title": ""
    }
   },
   "outputs": [],
   "source": [
    "# COMMAND ----------\n",
    "\n",
    "# MAGIC %md\n",
    "# MAGIC ## 11. Registro de Vista Temporal\n",
    "\n",
    "# COMMAND ----------"
   ]
  },
  {
   "cell_type": "code",
   "execution_count": 0,
   "metadata": {
    "application/vnd.databricks.v1+cell": {
     "cellMetadata": {
      "byteLimit": 2048000,
      "rowLimit": 10000
     },
     "inputWidgets": {},
     "nuid": "cc6dd7f5-2181-4d9e-a69d-30aa3743e974",
     "showTitle": false,
     "tableResultSettingsMap": {},
     "title": ""
    }
   },
   "outputs": [
    {
     "output_type": "stream",
     "name": "stdout",
     "output_type": "stream",
     "text": [
      "\uD83D\uDCCB Tabla registrada como vista temporal: 'uber_silver_temp'\n\uD83D\uDCA1 Ejemplos de consultas SQL:\n   SELECT time_category, COUNT(*) FROM uber_silver_temp GROUP BY time_category;\n   SELECT base_code, pickup_month, COUNT(*) FROM uber_silver_temp GROUP BY base_code, pickup_month;\n   SELECT * FROM uber_silver_temp WHERE day_type = 'Weekend' LIMIT 10;\n\n\uD83C\uDF89 Datos Plata listos para la capa Oro\n"
     ]
    }
   ],
   "source": [
    "# Registrar como vista temporal para consultas\n",
    "df_silver.createOrReplaceTempView(\"uber_silver_temp\")\n",
    "\n",
    "print(\"\uD83D\uDCCB Tabla registrada como vista temporal: 'uber_silver_temp'\")\n",
    "print(\"\uD83D\uDCA1 Ejemplos de consultas SQL:\")\n",
    "print(\"   SELECT time_category, COUNT(*) FROM uber_silver_temp GROUP BY time_category;\")\n",
    "print(\"   SELECT base_code, pickup_month, COUNT(*) FROM uber_silver_temp GROUP BY base_code, pickup_month;\")\n",
    "print(\"   SELECT * FROM uber_silver_temp WHERE day_type = 'Weekend' LIMIT 10;\")\n",
    "\n",
    "print(\"\\n\uD83C\uDF89 Datos Plata listos para la capa Oro\")"
   ]
  },
  {
   "cell_type": "code",
   "execution_count": 0,
   "metadata": {
    "application/vnd.databricks.v1+cell": {
     "cellMetadata": {
      "byteLimit": 2048000,
      "implicitDf": true,
      "rowLimit": 10000
     },
     "inputWidgets": {},
     "nuid": "1ff5d829-9823-459d-b0ae-acb12689ff94",
     "showTitle": false,
     "tableResultSettingsMap": {},
     "title": ""
    }
   },
   "outputs": [
    {
     "output_type": "display_data",
     "data": {
      "text/html": [
       "<style scoped>\n",
       "  .table-result-container {\n",
       "    max-height: 300px;\n",
       "    overflow: auto;\n",
       "  }\n",
       "  table, th, td {\n",
       "    border: 1px solid black;\n",
       "    border-collapse: collapse;\n",
       "  }\n",
       "  th, td {\n",
       "    padding: 5px;\n",
       "  }\n",
       "  th {\n",
       "    text-align: left;\n",
       "  }\n",
       "</style><div class='table-result-container'><table class='table-result'><thead style='background-color: white'><tr><th>pickup_datetime</th><th>latitude</th><th>longitude</th><th>base_code</th><th>ingestion_timestamp</th><th>source_file</th><th>bronze_layer_version</th><th>pickup_hour</th><th>pickup_day_of_week</th><th>pickup_day_of_week_num</th><th>pickup_month</th><th>pickup_year</th><th>pickup_date</th><th>pickup_week_of_year</th><th>time_category</th><th>day_type</th><th>trip_id</th><th>silver_processing_timestamp</th><th>silver_layer_version</th></tr></thead><tbody><tr><td>2014-04-05T00:00:00.000Z</td><td>40.769</td><td>-73.9825</td><td>B02512</td><td>2025-07-28T17:06:30.446Z</td><td>uber-raw-data-apr14.csv</td><td>1.0</td><td>0</td><td>Saturday</td><td>7</td><td>4</td><td>2014</td><td>2014-04-05</td><td>14</td><td>Late Night/Early Morning</td><td>Weekend</td><td>B02512_20140405_000000_407690_-739825</td><td>2025-07-28T17:26:15.261Z</td><td>1.0</td></tr><tr><td>2014-04-05T00:00:00.000Z</td><td>40.7594</td><td>-73.9641</td><td>B02512</td><td>2025-07-28T17:06:30.446Z</td><td>uber-raw-data-apr14.csv</td><td>1.0</td><td>0</td><td>Saturday</td><td>7</td><td>4</td><td>2014</td><td>2014-04-05</td><td>14</td><td>Late Night/Early Morning</td><td>Weekend</td><td>B02512_20140405_000000_407594_-739641</td><td>2025-07-28T17:26:15.261Z</td><td>1.0</td></tr><tr><td>2014-04-05T00:01:00.000Z</td><td>40.7113</td><td>-74.0173</td><td>B02512</td><td>2025-07-28T17:06:30.446Z</td><td>uber-raw-data-apr14.csv</td><td>1.0</td><td>0</td><td>Saturday</td><td>7</td><td>4</td><td>2014</td><td>2014-04-05</td><td>14</td><td>Late Night/Early Morning</td><td>Weekend</td><td>B02512_20140405_000100_407113_-740173</td><td>2025-07-28T17:26:15.261Z</td><td>1.0</td></tr><tr><td>2014-04-05T00:02:00.000Z</td><td>40.806</td><td>-73.9652</td><td>B02512</td><td>2025-07-28T17:06:30.446Z</td><td>uber-raw-data-apr14.csv</td><td>1.0</td><td>0</td><td>Saturday</td><td>7</td><td>4</td><td>2014</td><td>2014-04-05</td><td>14</td><td>Late Night/Early Morning</td><td>Weekend</td><td>B02512_20140405_000200_408060_-739652</td><td>2025-07-28T17:26:15.261Z</td><td>1.0</td></tr><tr><td>2014-04-05T00:04:00.000Z</td><td>40.7211</td><td>-74.0042</td><td>B02512</td><td>2025-07-28T17:06:30.446Z</td><td>uber-raw-data-apr14.csv</td><td>1.0</td><td>0</td><td>Saturday</td><td>7</td><td>4</td><td>2014</td><td>2014-04-05</td><td>14</td><td>Late Night/Early Morning</td><td>Weekend</td><td>B02512_20140405_000400_407211_-740042</td><td>2025-07-28T17:26:15.261Z</td><td>1.0</td></tr><tr><td>2014-04-05T00:04:00.000Z</td><td>40.7073</td><td>-74.0088</td><td>B02512</td><td>2025-07-28T17:06:30.446Z</td><td>uber-raw-data-apr14.csv</td><td>1.0</td><td>0</td><td>Saturday</td><td>7</td><td>4</td><td>2014</td><td>2014-04-05</td><td>14</td><td>Late Night/Early Morning</td><td>Weekend</td><td>B02512_20140405_000400_407073_-740088</td><td>2025-07-28T17:26:15.261Z</td><td>1.0</td></tr><tr><td>2014-04-05T00:04:00.000Z</td><td>40.7566</td><td>-73.9975</td><td>B02512</td><td>2025-07-28T17:06:30.446Z</td><td>uber-raw-data-apr14.csv</td><td>1.0</td><td>0</td><td>Saturday</td><td>7</td><td>4</td><td>2014</td><td>2014-04-05</td><td>14</td><td>Late Night/Early Morning</td><td>Weekend</td><td>B02512_20140405_000400_407566_-739975</td><td>2025-07-28T17:26:15.261Z</td><td>1.0</td></tr><tr><td>2014-04-05T00:05:00.000Z</td><td>40.7594</td><td>-73.989</td><td>B02512</td><td>2025-07-28T17:06:30.446Z</td><td>uber-raw-data-apr14.csv</td><td>1.0</td><td>0</td><td>Saturday</td><td>7</td><td>4</td><td>2014</td><td>2014-04-05</td><td>14</td><td>Late Night/Early Morning</td><td>Weekend</td><td>B02512_20140405_000500_407594_-739890</td><td>2025-07-28T17:26:15.261Z</td><td>1.0</td></tr><tr><td>2014-04-05T00:05:00.000Z</td><td>40.6771</td><td>-73.9525</td><td>B02512</td><td>2025-07-28T17:06:30.446Z</td><td>uber-raw-data-apr14.csv</td><td>1.0</td><td>0</td><td>Saturday</td><td>7</td><td>4</td><td>2014</td><td>2014-04-05</td><td>14</td><td>Late Night/Early Morning</td><td>Weekend</td><td>B02512_20140405_000500_406771_-739525</td><td>2025-07-28T17:26:15.261Z</td><td>1.0</td></tr><tr><td>2014-04-05T00:07:00.000Z</td><td>40.7278</td><td>-73.9853</td><td>B02512</td><td>2025-07-28T17:06:30.446Z</td><td>uber-raw-data-apr14.csv</td><td>1.0</td><td>0</td><td>Saturday</td><td>7</td><td>4</td><td>2014</td><td>2014-04-05</td><td>14</td><td>Late Night/Early Morning</td><td>Weekend</td><td>B02512_20140405_000700_407278_-739853</td><td>2025-07-28T17:26:15.261Z</td><td>1.0</td></tr></tbody></table></div>"
      ]
     },
     "metadata": {
      "application/vnd.databricks.v1+output": {
       "addedWidgets": {},
       "aggData": [],
       "aggError": "",
       "aggOverflow": false,
       "aggSchema": [],
       "aggSeriesLimitReached": false,
       "aggType": "",
       "arguments": {},
       "columnCustomDisplayInfos": {},
       "data": [
        [
         "2014-04-05T00:00:00.000Z",
         40.769,
         -73.9825,
         "B02512",
         "2025-07-28T17:06:30.446Z",
         "uber-raw-data-apr14.csv",
         "1.0",
         0,
         "Saturday",
         7,
         4,
         2014,
         "2014-04-05",
         14,
         "Late Night/Early Morning",
         "Weekend",
         "B02512_20140405_000000_407690_-739825",
         "2025-07-28T17:26:15.261Z",
         "1.0"
        ],
        [
         "2014-04-05T00:00:00.000Z",
         40.7594,
         -73.9641,
         "B02512",
         "2025-07-28T17:06:30.446Z",
         "uber-raw-data-apr14.csv",
         "1.0",
         0,
         "Saturday",
         7,
         4,
         2014,
         "2014-04-05",
         14,
         "Late Night/Early Morning",
         "Weekend",
         "B02512_20140405_000000_407594_-739641",
         "2025-07-28T17:26:15.261Z",
         "1.0"
        ],
        [
         "2014-04-05T00:01:00.000Z",
         40.7113,
         -74.0173,
         "B02512",
         "2025-07-28T17:06:30.446Z",
         "uber-raw-data-apr14.csv",
         "1.0",
         0,
         "Saturday",
         7,
         4,
         2014,
         "2014-04-05",
         14,
         "Late Night/Early Morning",
         "Weekend",
         "B02512_20140405_000100_407113_-740173",
         "2025-07-28T17:26:15.261Z",
         "1.0"
        ],
        [
         "2014-04-05T00:02:00.000Z",
         40.806,
         -73.9652,
         "B02512",
         "2025-07-28T17:06:30.446Z",
         "uber-raw-data-apr14.csv",
         "1.0",
         0,
         "Saturday",
         7,
         4,
         2014,
         "2014-04-05",
         14,
         "Late Night/Early Morning",
         "Weekend",
         "B02512_20140405_000200_408060_-739652",
         "2025-07-28T17:26:15.261Z",
         "1.0"
        ],
        [
         "2014-04-05T00:04:00.000Z",
         40.7211,
         -74.0042,
         "B02512",
         "2025-07-28T17:06:30.446Z",
         "uber-raw-data-apr14.csv",
         "1.0",
         0,
         "Saturday",
         7,
         4,
         2014,
         "2014-04-05",
         14,
         "Late Night/Early Morning",
         "Weekend",
         "B02512_20140405_000400_407211_-740042",
         "2025-07-28T17:26:15.261Z",
         "1.0"
        ],
        [
         "2014-04-05T00:04:00.000Z",
         40.7073,
         -74.0088,
         "B02512",
         "2025-07-28T17:06:30.446Z",
         "uber-raw-data-apr14.csv",
         "1.0",
         0,
         "Saturday",
         7,
         4,
         2014,
         "2014-04-05",
         14,
         "Late Night/Early Morning",
         "Weekend",
         "B02512_20140405_000400_407073_-740088",
         "2025-07-28T17:26:15.261Z",
         "1.0"
        ],
        [
         "2014-04-05T00:04:00.000Z",
         40.7566,
         -73.9975,
         "B02512",
         "2025-07-28T17:06:30.446Z",
         "uber-raw-data-apr14.csv",
         "1.0",
         0,
         "Saturday",
         7,
         4,
         2014,
         "2014-04-05",
         14,
         "Late Night/Early Morning",
         "Weekend",
         "B02512_20140405_000400_407566_-739975",
         "2025-07-28T17:26:15.261Z",
         "1.0"
        ],
        [
         "2014-04-05T00:05:00.000Z",
         40.7594,
         -73.989,
         "B02512",
         "2025-07-28T17:06:30.446Z",
         "uber-raw-data-apr14.csv",
         "1.0",
         0,
         "Saturday",
         7,
         4,
         2014,
         "2014-04-05",
         14,
         "Late Night/Early Morning",
         "Weekend",
         "B02512_20140405_000500_407594_-739890",
         "2025-07-28T17:26:15.261Z",
         "1.0"
        ],
        [
         "2014-04-05T00:05:00.000Z",
         40.6771,
         -73.9525,
         "B02512",
         "2025-07-28T17:06:30.446Z",
         "uber-raw-data-apr14.csv",
         "1.0",
         0,
         "Saturday",
         7,
         4,
         2014,
         "2014-04-05",
         14,
         "Late Night/Early Morning",
         "Weekend",
         "B02512_20140405_000500_406771_-739525",
         "2025-07-28T17:26:15.261Z",
         "1.0"
        ],
        [
         "2014-04-05T00:07:00.000Z",
         40.7278,
         -73.9853,
         "B02512",
         "2025-07-28T17:06:30.446Z",
         "uber-raw-data-apr14.csv",
         "1.0",
         0,
         "Saturday",
         7,
         4,
         2014,
         "2014-04-05",
         14,
         "Late Night/Early Morning",
         "Weekend",
         "B02512_20140405_000700_407278_-739853",
         "2025-07-28T17:26:15.261Z",
         "1.0"
        ]
       ],
       "datasetInfos": [
        {
         "name": "_sqldf",
         "schema": {
          "fields": [
           {
            "metadata": {},
            "name": "pickup_datetime",
            "nullable": true,
            "type": "timestamp"
           },
           {
            "metadata": {},
            "name": "latitude",
            "nullable": true,
            "type": "double"
           },
           {
            "metadata": {},
            "name": "longitude",
            "nullable": true,
            "type": "double"
           },
           {
            "metadata": {},
            "name": "base_code",
            "nullable": true,
            "type": "string"
           },
           {
            "metadata": {},
            "name": "ingestion_timestamp",
            "nullable": true,
            "type": "timestamp"
           },
           {
            "metadata": {},
            "name": "source_file",
            "nullable": true,
            "type": "string"
           },
           {
            "metadata": {},
            "name": "bronze_layer_version",
            "nullable": true,
            "type": "string"
           },
           {
            "metadata": {},
            "name": "pickup_hour",
            "nullable": true,
            "type": "integer"
           },
           {
            "metadata": {},
            "name": "pickup_day_of_week",
            "nullable": true,
            "type": "string"
           },
           {
            "metadata": {},
            "name": "pickup_day_of_week_num",
            "nullable": true,
            "type": "integer"
           },
           {
            "metadata": {},
            "name": "pickup_month",
            "nullable": true,
            "type": "integer"
           },
           {
            "metadata": {},
            "name": "pickup_year",
            "nullable": true,
            "type": "integer"
           },
           {
            "metadata": {},
            "name": "pickup_date",
            "nullable": true,
            "type": "string"
           },
           {
            "metadata": {},
            "name": "pickup_week_of_year",
            "nullable": true,
            "type": "integer"
           },
           {
            "metadata": {},
            "name": "time_category",
            "nullable": false,
            "type": "string"
           },
           {
            "metadata": {},
            "name": "day_type",
            "nullable": false,
            "type": "string"
           },
           {
            "metadata": {},
            "name": "trip_id",
            "nullable": true,
            "type": "string"
           },
           {
            "metadata": {},
            "name": "silver_processing_timestamp",
            "nullable": false,
            "type": "timestamp"
           },
           {
            "metadata": {},
            "name": "silver_layer_version",
            "nullable": false,
            "type": "string"
           }
          ],
          "type": "struct"
         },
         "tableIdentifier": null,
         "typeStr": "pyspark.sql.connect.dataframe.DataFrame"
        }
       ],
       "dbfsResultPath": null,
       "isJsonSchema": true,
       "metadata": {
        "createTempViewForImplicitDf": true,
        "dataframeName": "_sqldf",
        "executionCount": 43
       },
       "overflow": false,
       "plotOptions": {
        "customPlotOptions": {},
        "displayType": "table",
        "pivotAggregation": null,
        "pivotColumns": null,
        "xColumns": null,
        "yColumns": null
       },
       "removedWidgets": [],
       "schema": [
        {
         "metadata": "{}",
         "name": "pickup_datetime",
         "type": "\"timestamp\""
        },
        {
         "metadata": "{}",
         "name": "latitude",
         "type": "\"double\""
        },
        {
         "metadata": "{}",
         "name": "longitude",
         "type": "\"double\""
        },
        {
         "metadata": "{}",
         "name": "base_code",
         "type": "\"string\""
        },
        {
         "metadata": "{}",
         "name": "ingestion_timestamp",
         "type": "\"timestamp\""
        },
        {
         "metadata": "{}",
         "name": "source_file",
         "type": "\"string\""
        },
        {
         "metadata": "{}",
         "name": "bronze_layer_version",
         "type": "\"string\""
        },
        {
         "metadata": "{}",
         "name": "pickup_hour",
         "type": "\"integer\""
        },
        {
         "metadata": "{}",
         "name": "pickup_day_of_week",
         "type": "\"string\""
        },
        {
         "metadata": "{}",
         "name": "pickup_day_of_week_num",
         "type": "\"integer\""
        },
        {
         "metadata": "{}",
         "name": "pickup_month",
         "type": "\"integer\""
        },
        {
         "metadata": "{}",
         "name": "pickup_year",
         "type": "\"integer\""
        },
        {
         "metadata": "{}",
         "name": "pickup_date",
         "type": "\"string\""
        },
        {
         "metadata": "{}",
         "name": "pickup_week_of_year",
         "type": "\"integer\""
        },
        {
         "metadata": "{}",
         "name": "time_category",
         "type": "\"string\""
        },
        {
         "metadata": "{}",
         "name": "day_type",
         "type": "\"string\""
        },
        {
         "metadata": "{}",
         "name": "trip_id",
         "type": "\"string\""
        },
        {
         "metadata": "{}",
         "name": "silver_processing_timestamp",
         "type": "\"timestamp\""
        },
        {
         "metadata": "{}",
         "name": "silver_layer_version",
         "type": "\"string\""
        }
       ],
       "type": "table"
      }
     },
     "output_type": "display_data"
    }
   ],
   "source": [
    "%sql\n",
    "SELECT * FROM uber_silver_temp WHERE day_type = 'Weekend' LIMIT 10;\n"
   ]
  }
 ],
 "metadata": {
  "application/vnd.databricks.v1+notebook": {
   "computePreferences": null,
   "dashboards": [],
   "environmentMetadata": {
    "base_environment": "",
    "environment_version": "2"
   },
   "inputWidgetPreferences": null,
   "language": "python",
   "notebookMetadata": {
    "mostRecentlyExecutedCommandWithImplicitDF": {
     "commandId": 7586369741939376,
     "dataframes": [
      "_sqldf"
     ]
    },
    "pythonIndentUnit": 4
   },
   "notebookName": "02_Uber_Silver_Layer",
   "widgets": {}
  },
  "language_info": {
   "name": "python"
  }
 },
 "nbformat": 4,
 "nbformat_minor": 0
}